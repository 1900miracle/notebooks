{
 "cells": [
  {
   "cell_type": "code",
   "execution_count": 2,
   "metadata": {},
   "outputs": [
    {
     "name": "stdout",
     "output_type": "stream",
     "text": [
      "Collecting deap\n",
      "  Downloading deap-1.2.2.tar.gz (936kB)\n",
      "\u001b[K    100% |████████████████████████████████| 942kB 1.1MB/s ta 0:00:01\n",
      "\u001b[?25hBuilding wheels for collected packages: deap\n",
      "  Running setup.py bdist_wheel for deap ... \u001b[?25ldone\n",
      "\u001b[?25h  Stored in directory: /home/jovyan/.cache/pip/wheels/82/aa/67/2c93e17c84646c86099fda53ee0b3329372dcf94dd8789fd13\n",
      "Successfully built deap\n",
      "Installing collected packages: deap\n",
      "Successfully installed deap-1.2.2\n"
     ]
    }
   ],
   "source": [
    "!pip install deap"
   ]
  },
  {
   "cell_type": "code",
   "execution_count": 3,
   "metadata": {},
   "outputs": [
    {
     "name": "stdout",
     "output_type": "stream",
     "text": [
      "gen\tnevals\tmax        \n",
      "0  \t400   \t0.000484774\n",
      "1  \t222   \t0.000656187\n",
      "2  \t246   \t0.00745961 \n",
      "3  \t239   \t0.00745961 \n",
      "4  \t240   \t0.0184182  \n",
      "5  \t216   \t0.0309736  \n",
      "6  \t237   \t0.06957    \n",
      "7  \t243   \t0.06957    \n",
      "8  \t231   \t0.224381   \n",
      "9  \t226   \t0.224381   \n",
      "10 \t247   \t0.224381   \n",
      "11 \t228   \t0.247313   \n",
      "12 \t241   \t0.28318    \n",
      "13 \t242   \t0.354144   \n",
      "14 \t246   \t0.46282    \n",
      "15 \t239   \t0.46282    \n",
      "16 \t266   \t0.480937   \n",
      "17 \t233   \t0.648529   \n",
      "18 \t266   \t0.703452   \n",
      "19 \t229   \t0.742139   \n",
      "20 \t249   \t0.791523   \n",
      "21 \t227   \t0.795744   \n",
      "22 \t241   \t0.856505   \n",
      "23 \t237   \t0.898701   \n",
      "24 \t242   \t0.949595   \n",
      "25 \t237   \t0.949595   \n",
      "26 \t249   \t0.950638   \n",
      "27 \t245   \t0.961397   \n",
      "28 \t226   \t0.974227   \n",
      "29 \t235   \t0.974227   \n",
      "30 \t239   \t0.99192    \n",
      "31 \t225   \t0.99192    \n",
      "32 \t252   \t0.99192    \n",
      "33 \t255   \t0.992183   \n",
      "34 \t234   \t0.995053   \n",
      "35 \t250   \t0.995053   \n",
      "36 \t228   \t0.995053   \n",
      "37 \t252   \t0.995466   \n",
      "38 \t228   \t0.996523   \n",
      "39 \t265   \t0.996992   \n",
      "40 \t221   \t0.99771    \n",
      "41 \t238   \t0.998339   \n",
      "42 \t248   \t0.997815   \n",
      "43 \t226   \t0.998156   \n",
      "44 \t236   \t0.998442   \n",
      "45 \t257   \t0.998442   \n",
      "46 \t247   \t0.998485   \n",
      "47 \t227   \t0.998564   \n",
      "48 \t243   \t0.998564   \n",
      "49 \t242   \t0.998692   \n",
      "50 \t237   \t0.998692   \n",
      "51 \t233   \t0.998692   \n",
      "52 \t240   \t0.998692   \n",
      "53 \t252   \t0.998692   \n",
      "54 \t245   \t0.998713   \n",
      "55 \t245   \t0.998713   \n",
      "56 \t239   \t0.998713   \n",
      "57 \t220   \t0.998713   \n",
      "58 \t239   \t0.998782   \n",
      "59 \t247   \t0.998838   \n",
      "60 \t238   \t0.998838   \n",
      "61 \t235   \t0.998838   \n",
      "62 \t248   \t0.998861   \n",
      "63 \t236   \t0.998861   \n",
      "64 \t240   \t0.998861   \n",
      "65 \t210   \t0.998861   \n",
      "66 \t240   \t0.998861   \n",
      "67 \t217   \t0.998861   \n",
      "68 \t239   \t0.998861   \n",
      "69 \t255   \t0.998861   \n",
      "70 \t228   \t0.998861   \n",
      "71 \t254   \t0.998861   \n",
      "72 \t211   \t0.998861   \n",
      "73 \t252   \t0.998861   \n",
      "74 \t250   \t0.998861   \n",
      "75 \t231   \t0.998861   \n",
      "76 \t230   \t0.998861   \n",
      "77 \t252   \t0.998861   \n",
      "78 \t232   \t0.998861   \n",
      "79 \t243   \t0.998861   \n",
      "80 \t235   \t0.998861   \n",
      "0.9988605380058289\n"
     ]
    },
    {
     "data": {
      "text/plain": [
       "<matplotlib.figure.Figure at 0x7f7f04606438>"
      ]
     },
     "metadata": {},
     "output_type": "display_data"
    }
   ],
   "source": [
    "import array\n",
    "import random\n",
    "import numpy as np\n",
    "from deap import algorithms\n",
    "from deap import base\n",
    "from deap import creator\n",
    "from deap import tools\n",
    "from scipy.stats import shapiro\n",
    "import matplotlib.pyplot as plt\n",
    "\n",
    "creator.create(\"FitnessMax\", base.Fitness, weights=(1.0,))\n",
    "creator.create(\"Individual\", array.array, typecode='d', \n",
    "fitness=creator.FitnessMax)\n",
    "\n",
    "toolbox = base.Toolbox()\n",
    "toolbox.register(\"attr_float\", random.random)\n",
    "toolbox.register(\"individual\", tools.initRepeat, \n",
    "creator.Individual, toolbox.attr_float, 200)\n",
    "toolbox.register(\"populate\", tools.initRepeat, list, \n",
    "toolbox.individual)\n",
    "\n",
    "def eval(individual):\n",
    "    return shapiro(individual)[1],\n",
    "\n",
    "toolbox.register(\"evaluate\", eval)\n",
    "toolbox.register(\"mate\", tools.cxTwoPoint)\n",
    "toolbox.register(\"mutate\", tools.mutFlipBit, indpb=0.1)\n",
    "toolbox.register(\"select\", tools.selTournament, tournsize=4)\n",
    "\n",
    "random.seed(42)\n",
    "\n",
    "pop = toolbox.populate(n=400)\n",
    "hof = tools.HallOfFame(1)\n",
    "stats = tools.Statistics(key=lambda ind: ind.fitness.values)\n",
    "stats.register(\"max\", np.max)\n",
    "\n",
    "algorithms.eaSimple(pop, toolbox, cxpb=0.5, mutpb=0.2, ngen=80, \n",
    "stats=stats, halloffame=hof)\n",
    "\n",
    "print(shapiro(hof[0])[1])\n",
    "plt.hist(hof[0])\n",
    "plt.grid(True)\n",
    "plt.show()"
   ]
  },
  {
   "cell_type": "code",
   "execution_count": null,
   "metadata": {},
   "outputs": [],
   "source": []
  }
 ],
 "metadata": {
  "kernelspec": {
   "display_name": "Python 3",
   "language": "python",
   "name": "python3"
  },
  "language_info": {
   "codemirror_mode": {
    "name": "ipython",
    "version": 3
   },
   "file_extension": ".py",
   "mimetype": "text/x-python",
   "name": "python",
   "nbconvert_exporter": "python",
   "pygments_lexer": "ipython3",
   "version": "3.6.3"
  }
 },
 "nbformat": 4,
 "nbformat_minor": 2
}
