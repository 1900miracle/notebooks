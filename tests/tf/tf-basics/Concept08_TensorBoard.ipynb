{
 "cells": [
  {
   "cell_type": "markdown",
   "metadata": {},
   "source": [
    "# Ch `02`: Concept `08`"
   ]
  },
  {
   "cell_type": "markdown",
   "metadata": {},
   "source": [
    "## Using TensorBoard"
   ]
  },
  {
   "cell_type": "markdown",
   "metadata": {},
   "source": [
    "TensorBoard is a great way to visualize what's happening behind the code. \n",
    "\n",
    "In this example, we'll loop through some numbers to improve our guess of the average value. Then we can visualize the results on TensorBoard. \n",
    "\n",
    "Let's just set ourselves up with some data to work with:"
   ]
  },
  {
   "cell_type": "code",
   "execution_count": 1,
   "metadata": {},
   "outputs": [],
   "source": [
    "import tensorflow as tf\n",
    "import numpy as np\n",
    "\n",
    "raw_data = np.random.normal(10, 1, 100)"
   ]
  },
  {
   "cell_type": "markdown",
   "metadata": {},
   "source": [
    "The moving average is defined as follows:"
   ]
  },
  {
   "cell_type": "code",
   "execution_count": 2,
   "metadata": {},
   "outputs": [],
   "source": [
    "alpha = tf.constant(0.05)\n",
    "curr_value = tf.placeholder(tf.float32)\n",
    "prev_avg = tf.Variable(0.)\n",
    "\n",
    "update_avg = alpha * curr_value + (1 - alpha) * prev_avg"
   ]
  },
  {
   "cell_type": "markdown",
   "metadata": {},
   "source": [
    "Here's what we care to visualize:"
   ]
  },
  {
   "cell_type": "code",
   "execution_count": 3,
   "metadata": {},
   "outputs": [],
   "source": [
    "avg_hist = tf.summary.scalar(\"running_average\", update_avg)\n",
    "value_hist = tf.summary.scalar(\"incoming_values\", curr_value)\n",
    "\n",
    "merged = tf.summary.merge_all()\n",
    "writer = tf.summary.FileWriter(\"./logs\")"
   ]
  },
  {
   "cell_type": "markdown",
   "metadata": {},
   "source": [
    "Time to compute the moving averages. We'll also run the `merged` op to track how the values change:"
   ]
  },
  {
   "cell_type": "code",
   "execution_count": 4,
   "metadata": {},
   "outputs": [
    {
     "name": "stdout",
     "output_type": "stream",
     "text": [
      "9.53332398608 0.476666\n",
      "11.3024706704 1.01796\n",
      "9.6983129873 1.45197\n",
      "10.2437962452 1.89157\n",
      "10.7329839858 2.33364\n",
      "9.01604705331 2.66776\n",
      "11.1323823108 3.09099\n",
      "10.5509868788 3.46399\n",
      "10.1965408892 3.80062\n",
      "10.474248262 4.1343\n",
      "9.01437067328 4.3783\n",
      "9.37242284802 4.62801\n",
      "8.50039220671 4.82163\n",
      "10.7077607969 5.11593\n",
      "9.69442427952 5.34486\n",
      "8.50551993774 5.50289\n",
      "9.27158188654 5.69133\n",
      "8.40578231821 5.82705\n",
      "12.0140204977 6.1364\n",
      "8.83480024006 6.27132\n",
      "10.3383375181 6.47467\n",
      "9.97322871269 6.6496\n",
      "11.07448214 6.87084\n",
      "9.16400839864 6.9855\n",
      "8.95936949071 7.08419\n",
      "9.98576851097 7.22927\n",
      "11.4075593136 7.43818\n",
      "10.4552301974 7.58904\n",
      "11.174988703 7.76833\n",
      "11.8469030263 7.97226\n",
      "9.57618366834 8.05246\n",
      "9.49182168708 8.12443\n",
      "9.93487115143 8.21495\n",
      "10.6743868688 8.33792\n",
      "10.7078097916 8.45641\n",
      "8.95065834878 8.48113\n",
      "11.0972034213 8.61193\n",
      "11.6897481359 8.76582\n",
      "11.137219102 8.88439\n",
      "9.10811479593 8.89558\n",
      "9.21461268976 8.91153\n",
      "10.8036421329 9.00613\n",
      "9.72646563391 9.04215\n",
      "11.4181773295 9.16095\n",
      "8.426538813 9.12423\n",
      "11.4258675824 9.23931\n",
      "9.06611380976 9.23065\n",
      "10.5226048818 9.29525\n",
      "10.7635946734 9.36867\n",
      "7.87326663436 9.2939\n",
      "10.1418194621 9.33629\n",
      "9.90008192142 9.36448\n",
      "8.60084267547 9.3263\n",
      "8.97586522387 9.30878\n",
      "9.27506801242 9.30709\n",
      "9.98117322078 9.34079\n",
      "9.71526344056 9.35952\n",
      "9.41918500849 9.3625\n",
      "9.64969753913 9.37686\n",
      "10.7550375993 9.44577\n",
      "10.2499170656 9.48598\n",
      "9.88328664539 9.50584\n",
      "10.347612334 9.54793\n",
      "7.75228376704 9.45815\n",
      "11.7357085076 9.57203\n",
      "11.2092064877 9.65388\n",
      "9.55189054861 9.64878\n",
      "8.45820405714 9.58926\n",
      "10.3171419149 9.62565\n",
      "9.5160678314 9.62017\n",
      "10.4319323792 9.66076\n",
      "9.88361146094 9.6719\n",
      "10.2483482431 9.70073\n",
      "10.0414104015 9.71776\n",
      "10.0588401229 9.73481\n",
      "10.5573305352 9.77594\n",
      "9.67353561796 9.77082\n",
      "10.1615463927 9.79035\n",
      "9.09392668961 9.75553\n",
      "9.37702159188 9.73661\n",
      "9.89169516849 9.74436\n",
      "9.05776629002 9.71003\n",
      "8.68688730076 9.65888\n",
      "8.64271816773 9.60807\n",
      "11.624356557 9.70888\n",
      "9.42724797103 9.6948\n",
      "10.4845703415 9.73429\n",
      "9.41830657982 9.71849\n",
      "9.88850338318 9.72699\n",
      "10.1844204466 9.74986\n",
      "11.310646022 9.8279\n",
      "10.9655526215 9.88478\n",
      "9.80033857304 9.88056\n",
      "11.2278095192 9.94792\n",
      "8.93535125168 9.89729\n",
      "8.69202192722 9.83703\n",
      "12.2726751598 9.95881\n",
      "11.7232278036 10.047\n",
      "8.4772279457 9.96854\n",
      "10.8412107692 10.0122\n"
     ]
    }
   ],
   "source": [
    "init = tf.global_variables_initializer()\n",
    "\n",
    "with tf.Session() as sess:\n",
    "    sess.run(init)\n",
    "    for i in range(len(raw_data)):\n",
    "        summary_str, curr_avg = sess.run([merged, update_avg], feed_dict={curr_value: raw_data[i]})\n",
    "        sess.run(tf.assign(prev_avg, curr_avg))\n",
    "        print(raw_data[i], curr_avg)\n",
    "        writer.add_summary(summary_str, i)"
   ]
  },
  {
   "cell_type": "markdown",
   "metadata": {},
   "source": [
    "Check out the visualization by running TensorBoard from the terminal:\n",
    "\n",
    "    $ tensorboard --logdir=path/to/logs"
   ]
  },
  {
   "cell_type": "code",
   "execution_count": null,
   "metadata": {},
   "outputs": [],
   "source": []
  },
  {
   "cell_type": "code",
   "execution_count": null,
   "metadata": {},
   "outputs": [],
   "source": []
  },
  {
   "cell_type": "code",
   "execution_count": null,
   "metadata": {},
   "outputs": [],
   "source": [
    "Test complete; Gopal"
   ]
  }
 ],
 "metadata": {
  "kernelspec": {
   "display_name": "Python 3",
   "language": "python",
   "name": "python3"
  },
  "language_info": {
   "codemirror_mode": {
    "name": "ipython",
    "version": 3
   },
   "file_extension": ".py",
   "mimetype": "text/x-python",
   "name": "python",
   "nbconvert_exporter": "python",
   "pygments_lexer": "ipython3",
   "version": "3.6.3"
  }
 },
 "nbformat": 4,
 "nbformat_minor": 1
}
