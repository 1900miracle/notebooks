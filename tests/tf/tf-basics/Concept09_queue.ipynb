{
 "cells": [
  {
   "cell_type": "markdown",
   "metadata": {},
   "source": [
    "# Ch `02`: Concept `09`"
   ]
  },
  {
   "cell_type": "markdown",
   "metadata": {},
   "source": [
    "## Using Queues"
   ]
  },
  {
   "cell_type": "markdown",
   "metadata": {},
   "source": [
    "If you have a lot of training data, you probably don't want to load it all into memory at once. The QueueRunner in TensorFlow is a tool to efficiently employ a queue data-structure in a multi-threaded way."
   ]
  },
  {
   "cell_type": "code",
   "execution_count": 1,
   "metadata": {},
   "outputs": [],
   "source": [
    "import tensorflow as tf\n",
    "import numpy as np"
   ]
  },
  {
   "cell_type": "markdown",
   "metadata": {},
   "source": [
    "We will be running multiple threads, so let's figure out the number of CPUs:"
   ]
  },
  {
   "cell_type": "code",
   "execution_count": 2,
   "metadata": {},
   "outputs": [],
   "source": [
    "import multiprocessing\n",
    "NUM_THREADS = multiprocessing.cpu_count()"
   ]
  },
  {
   "cell_type": "markdown",
   "metadata": {},
   "source": [
    "Generate some fake data to work with:"
   ]
  },
  {
   "cell_type": "code",
   "execution_count": 3,
   "metadata": {},
   "outputs": [],
   "source": [
    "xs = np.random.randn(100, 3)\n",
    "ys = np.random.randint(0, 2, size=100)"
   ]
  },
  {
   "cell_type": "markdown",
   "metadata": {},
   "source": [
    "Here's a couple concrete examples of our data:"
   ]
  },
  {
   "cell_type": "code",
   "execution_count": 4,
   "metadata": {},
   "outputs": [
    {
     "name": "stdout",
     "output_type": "stream",
     "text": [
      "Input [ 0.90767397  0.0632223   0.31398435]  --->  Output 1\n",
      "Input [ 0.16930178  1.56334734  1.32234303]  --->  Output 0\n",
      "Input [-1.25690393 -1.77570697  0.76984091]  --->  Output 1\n",
      "Input [-0.46448889  1.76256201 -0.96192379]  --->  Output 0\n",
      "Input [-0.20284244  1.64780812 -1.72736262]  --->  Output 1\n"
     ]
    }
   ],
   "source": [
    "xs_and_ys = zip(xs, ys)\n",
    "for _ in range(5):\n",
    "    x, y = next(xs_and_ys)\n",
    "    print('Input {}  --->  Output {}'.format(x, y))"
   ]
  },
  {
   "cell_type": "markdown",
   "metadata": {},
   "source": [
    "Define a queue:"
   ]
  },
  {
   "cell_type": "code",
   "execution_count": 5,
   "metadata": {},
   "outputs": [],
   "source": [
    "queue = tf.FIFOQueue(capacity=1000, dtypes=[tf.float32, tf.int32])"
   ]
  },
  {
   "cell_type": "markdown",
   "metadata": {},
   "source": [
    "Set up the enqueue and dequeue ops:"
   ]
  },
  {
   "cell_type": "code",
   "execution_count": 6,
   "metadata": {},
   "outputs": [],
   "source": [
    "enqueue_op = queue.enqueue_many([xs, ys])\n",
    "x_op, y_op = queue.dequeue()"
   ]
  },
  {
   "cell_type": "markdown",
   "metadata": {},
   "source": [
    "Define a QueueRunner:"
   ]
  },
  {
   "cell_type": "code",
   "execution_count": 7,
   "metadata": {},
   "outputs": [],
   "source": [
    "qr = tf.train.QueueRunner(queue, [enqueue_op] * 4)"
   ]
  },
  {
   "cell_type": "markdown",
   "metadata": {},
   "source": [
    "Now that all variables and ops have been defined, let's get started with a session:"
   ]
  },
  {
   "cell_type": "code",
   "execution_count": 8,
   "metadata": {},
   "outputs": [],
   "source": [
    "sess = tf.InteractiveSession()"
   ]
  },
  {
   "cell_type": "markdown",
   "metadata": {},
   "source": [
    "Create threads for the QueueRunner:"
   ]
  },
  {
   "cell_type": "code",
   "execution_count": 9,
   "metadata": {},
   "outputs": [],
   "source": [
    "coord = tf.train.Coordinator()\n",
    "enqueue_threads = qr.create_threads(sess, coord=coord, start=True)"
   ]
  },
  {
   "cell_type": "markdown",
   "metadata": {},
   "source": [
    "Test out dequeueing:"
   ]
  },
  {
   "cell_type": "code",
   "execution_count": 10,
   "metadata": {},
   "outputs": [
    {
     "name": "stdout",
     "output_type": "stream",
     "text": [
      "[ 0.90767395  0.0632223   0.31398433] 1\n",
      "[ 0.16930178  1.56334734  1.32234299] 0\n",
      "[-1.25690389 -1.77570701  0.7698409 ] 1\n",
      "[-0.46448889  1.76256204 -0.96192378] 0\n",
      "[-0.20284244  1.64780807 -1.72736263] 1\n",
      "[-0.12239845  0.13719925 -0.62309372] 1\n",
      "[-0.14866383  0.7648862  -0.19160978] 0\n",
      "[-1.22472143 -1.52581275  0.17922515] 0\n",
      "[-0.29043567 -0.56472284  0.44870189] 0\n",
      "[ 1.08143079  1.82799423  0.99836028] 0\n",
      "[ 0.20733543 -0.19474593 -0.31554851] 1\n",
      "[-0.63049948 -0.07175544 -0.5827803 ] 0\n",
      "[-0.79219991 -0.89796716  1.9700253 ] 1\n",
      "[-1.74615514 -0.62891144 -0.27554378] 1\n",
      "[-1.42315328 -1.4939872   0.04312736] 0\n",
      "[-0.07451641 -0.09488028 -0.60759407] 0\n",
      "[-0.35007033 -1.97407985 -0.25313482] 1\n",
      "[ 1.28755605 -1.49392152 -0.21323641] 1\n",
      "[-0.34860429  0.92558557  0.1552223 ] 1\n",
      "[-1.44849753 -1.60370064 -0.56467789] 1\n",
      "[ 0.59765565  1.08645952 -1.31306887] 0\n",
      "[ 0.74644458  1.90284467  1.40989971] 0\n",
      "[ 0.29432124  0.68280339 -1.13285708] 0\n",
      "[-0.44719821 -0.31519744  0.10421325] 0\n",
      "[ 1.66894114 -0.8937484  -0.21351063] 1\n",
      "[ 0.97635239  0.74634343 -0.66890037] 0\n",
      "[-0.05389734  0.49181297  1.03103459] 0\n",
      "[ 0.70086211 -0.37953639  0.42671928] 0\n",
      "[-1.13638699 -1.22695315  1.27696013] 0\n",
      "[-0.69586599 -1.12937176 -0.15896636] 1\n",
      "[ 0.61647886 -0.6993103   1.23557162] 1\n",
      "[-0.10616024  0.3711817  -0.86988479] 0\n",
      "[-0.40081874  1.56239986 -0.75956708] 1\n",
      "[-0.92885286 -0.68156165 -0.67679167] 1\n",
      "[-0.42627302  0.57314634  1.94412184] 1\n",
      "[-0.39385134 -0.33747429  0.53797203] 1\n",
      "[ 0.74799824  1.09372985 -0.09167203] 1\n",
      "[-0.91536784 -0.16986543 -0.79465312] 1\n",
      "[-0.85344917 -0.49052685 -1.78909469] 0\n",
      "[ 0.25827265  1.47528052  1.92341185] 0\n",
      "[ 0.17390285 -0.46407717 -1.41245794] 1\n",
      "[-0.6109423  -0.13000219  1.43721485] 0\n",
      "[-1.96863747  0.35473046 -0.37719858] 1\n",
      "[ 1.60823941  1.35069025 -2.36011314] 1\n",
      "[ 1.57504499  0.35537851  0.09897558] 0\n",
      "[-0.71089309 -0.08866894 -1.73173535] 1\n",
      "[ 0.72561282  0.70381385 -1.11109853] 1\n",
      "[-0.69162804  0.38596517  0.60050666] 1\n",
      "[-0.666583   -0.11706866  1.12675154] 0\n",
      "[ 0.79680341 -0.10145049 -1.23490858] 1\n",
      "[ 0.21043427 -1.05216134 -0.55562162] 0\n",
      "[-1.45432961  2.27245021 -1.08570862] 1\n",
      "[-1.18376124  1.04108858 -0.04426797] 0\n",
      "[ 0.1069922  -0.86027378 -0.69339085] 1\n",
      "[ 0.15722561  1.45518422  0.78746903] 0\n",
      "[-0.42903236  1.29597616 -0.91275823] 1\n",
      "[ 0.61002284 -0.08461137  0.3903102 ] 1\n",
      "[ 0.2160698  -1.05015862  0.26555127] 1\n",
      "[-0.01193494  0.75256681  0.90630132] 1\n",
      "[ 1.92019486  0.59363103 -0.48741004] 0\n",
      "[ 1.19831181  0.09208159 -0.01017249] 0\n",
      "[ 0.87293541  0.24562109  2.28845954] 1\n",
      "[ 0.88966912  0.9422065   0.2111205 ] 0\n",
      "[ 0.93359643  0.1648213  -1.59689629] 0\n",
      "[-0.50132734  0.93372244 -3.21132112] 0\n",
      "[-1.18366325  2.73656559 -0.01054452] 1\n",
      "[-1.79172564  0.76975626 -0.34224567] 1\n",
      "[ 1.2739985  -1.72718728  0.15992762] 0\n",
      "[ 0.54736537 -0.50872445 -1.02642   ] 1\n",
      "[ 0.72907138  0.74950647  0.66064459] 0\n",
      "[-1.03299868  0.36066437  0.19440439] 0\n",
      "[ 0.65307951  1.06171918  2.23117757] 0\n",
      "[ 0.5302518  -0.04388032 -1.77229977] 1\n",
      "[-0.28216314 -1.66364574 -2.89727449] 0\n",
      "[ 0.38966206  0.48537645 -0.66053581] 0\n",
      "[-0.40446076 -1.86174893  1.2038697 ] 0\n",
      "[-1.23781335  0.44469431  0.44263339] 0\n",
      "[ 1.4664644  -0.70063305 -1.70958054] 0\n",
      "[-1.14394808  0.19303448  1.35266304] 1\n",
      "[ 0.29145569  0.20032185 -0.79436707] 0\n",
      "[-0.14175563 -0.28508541 -0.49567455] 0\n",
      "[ 1.05221903 -0.92428148  0.19819126] 0\n",
      "[-0.85515589 -1.00851297  0.16717972] 1\n",
      "[ 0.04796389 -0.08867206 -0.36062175] 0\n",
      "[-1.36070907  0.24486837 -0.99949151] 0\n",
      "[ 0.5352636   0.4043929   0.00374221] 1\n",
      "[-0.02831275  0.77968872 -2.41578746] 1\n",
      "[ 1.04449439  0.62131941 -0.06612688] 0\n",
      "[ 0.5743252  -0.06508685 -0.56152868] 0\n",
      "[-0.84046865  0.1892928  -1.09774661] 0\n",
      "[ 0.80305749 -0.36532855  0.49682385] 0\n",
      "[-0.07519574  0.76056284 -1.24371111] 1\n",
      "[ 2.73373222 -0.46468484  0.52001417] 1\n",
      "[-0.01449967  1.15250623  0.23214799] 1\n",
      "[ 0.489268    0.08491747 -0.22967239] 1\n",
      "[ 0.31682265  1.66741753 -0.83464354] 0\n",
      "[-1.20714307 -1.05583847  0.09565151] 1\n",
      "[ 1.0927726   0.16759032 -0.24143411] 1\n",
      "[ 1.70148909 -0.21664876 -1.71764481] 1\n",
      "[-0.98554105  1.01214647 -1.07287586] 0\n"
     ]
    }
   ],
   "source": [
    "for _ in range(100):\n",
    "    if coord.should_stop():\n",
    "        break\n",
    "    x, y = sess.run([x_op, y_op])\n",
    "    print(x, y)\n",
    "coord.request_stop()\n",
    "coord.join(enqueue_threads)"
   ]
  },
  {
   "cell_type": "code",
   "execution_count": null,
   "metadata": {},
   "outputs": [],
   "source": []
  },
  {
   "cell_type": "code",
   "execution_count": null,
   "metadata": {},
   "outputs": [],
   "source": []
  },
  {
   "cell_type": "code",
   "execution_count": null,
   "metadata": {},
   "outputs": [],
   "source": []
  },
  {
   "cell_type": "code",
   "execution_count": null,
   "metadata": {},
   "outputs": [],
   "source": [
    "Test complete; Gopal"
   ]
  }
 ],
 "metadata": {
  "kernelspec": {
   "display_name": "Python 3",
   "language": "python",
   "name": "python3"
  },
  "language_info": {
   "codemirror_mode": {
    "name": "ipython",
    "version": 3
   },
   "file_extension": ".py",
   "mimetype": "text/x-python",
   "name": "python",
   "nbconvert_exporter": "python",
   "pygments_lexer": "ipython3",
   "version": "3.6.3"
  }
 },
 "nbformat": 4,
 "nbformat_minor": 2
}
