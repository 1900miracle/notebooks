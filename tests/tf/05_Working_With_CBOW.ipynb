{
 "cells": [
  {
   "cell_type": "markdown",
   "metadata": {},
   "source": [
    "# Word2Vec: CBOW Model (Continuous Bag of Words)\n",
    "-------------------------------------\n",
    "\n",
    "In this example, we will download and preprocess the movie review data.\n",
    "\n",
    "From this data set we will compute/fit the CBOW model of the Word2Vec Algorithm.\n",
    "\n",
    "We start by loading the necessary libraries."
   ]
  },
  {
   "cell_type": "code",
   "execution_count": 1,
   "metadata": {},
   "outputs": [
    {
     "name": "stderr",
     "output_type": "stream",
     "text": [
      "/usr/lib/python3.6/importlib/_bootstrap.py:219: RuntimeWarning: compiletime version 3.5 of module 'tensorflow.python.framework.fast_tensor_util' does not match runtime version 3.6\n",
      "  return f(*args, **kwds)\n"
     ]
    }
   ],
   "source": [
    "import tensorflow as tf\n",
    "import matplotlib.pyplot as plt\n",
    "import numpy as np\n",
    "import random\n",
    "import os\n",
    "import pickle\n",
    "import string\n",
    "import requests\n",
    "import collections\n",
    "import io\n",
    "import tarfile\n",
    "import urllib.request\n",
    "from nltk.corpus import stopwords\n",
    "from tensorflow.python.framework import ops\n",
    "ops.reset_default_graph()\n",
    "\n",
    "# Load text helpers\n",
    "import text_helpers"
   ]
  },
  {
   "cell_type": "markdown",
   "metadata": {},
   "source": [
    "Make a saving directory if it doesn't exist"
   ]
  },
  {
   "cell_type": "code",
   "execution_count": 2,
   "metadata": {},
   "outputs": [],
   "source": [
    "data_folder_name = 'temp'\n",
    "if not os.path.exists(data_folder_name):\n",
    "    os.makedirs(data_folder_name)"
   ]
  },
  {
   "cell_type": "markdown",
   "metadata": {},
   "source": [
    "Start a computational graph session."
   ]
  },
  {
   "cell_type": "code",
   "execution_count": 3,
   "metadata": {},
   "outputs": [],
   "source": [
    "sess = tf.Session()"
   ]
  },
  {
   "cell_type": "markdown",
   "metadata": {},
   "source": [
    "Declare model parameters.  Also note that we will save the model every 5000 iterations and print out the validation and loss at specified intervals."
   ]
  },
  {
   "cell_type": "code",
   "execution_count": 4,
   "metadata": {},
   "outputs": [],
   "source": [
    "batch_size = 200            # Model Batch Size\n",
    "embedding_size = 50        # word embedding size\n",
    "vocabulary_size = 2000      # Maximum vocabulary size\n",
    "generations = 50000         # number of iterations for training.\n",
    "model_learning_rate = 0.05   # Learning rate\n",
    "\n",
    "num_sampled = int(batch_size/2) # Number of negative examples to sample.\n",
    "window_size = 3                 # How many words to consider left and right.\n",
    "\n",
    "# Add checkpoints to training\n",
    "save_embeddings_every = 5000\n",
    "print_valid_every = 5000\n",
    "print_loss_every = 1000"
   ]
  },
  {
   "cell_type": "markdown",
   "metadata": {},
   "source": [
    "Now we declare stop words, test words, and normalize our text."
   ]
  },
  {
   "cell_type": "code",
   "execution_count": 5,
   "metadata": {},
   "outputs": [
    {
     "name": "stdout",
     "output_type": "stream",
     "text": [
      "Loading Data\n",
      "Normalizing Text Data\n",
      "Done.\n"
     ]
    }
   ],
   "source": [
    "# Declare stop words\n",
    "stops = stopwords.words('english')\n",
    "\n",
    "# We pick some test words. We are expecting synonyms to appear\n",
    "valid_words = ['love', 'hate', 'happy', 'sad', 'man', 'woman']\n",
    "# Later we will have to transform these into indices\n",
    "\n",
    "# Load the movie review data\n",
    "print('Loading Data')\n",
    "texts, target = text_helpers.load_movie_data()\n",
    "\n",
    "# Normalize text\n",
    "print('Normalizing Text Data')\n",
    "texts = text_helpers.normalize_text(texts, stops)\n",
    "\n",
    "# Texts must contain at least 3 words\n",
    "target = [target[ix] for ix, x in enumerate(texts) if len(x.split()) > 2]\n",
    "texts = [x for x in texts if len(x.split()) > 2]\n",
    "print('Done.')"
   ]
  },
  {
   "cell_type": "markdown",
   "metadata": {},
   "source": [
    "Now we build our dataset and word dictionaries."
   ]
  },
  {
   "cell_type": "code",
   "execution_count": 6,
   "metadata": {},
   "outputs": [
    {
     "name": "stdout",
     "output_type": "stream",
     "text": [
      "Creating Dictionary\n"
     ]
    }
   ],
   "source": [
    "# Build our data set and dictionaries\n",
    "print('Creating Dictionary')\n",
    "word_dictionary = text_helpers.build_dictionary(texts, vocabulary_size)\n",
    "word_dictionary_rev = dict(zip(word_dictionary.values(), word_dictionary.keys()))\n",
    "text_data = text_helpers.text_to_numbers(texts, word_dictionary)\n",
    "\n",
    "# Get validation word keys\n",
    "valid_examples = [word_dictionary[x] for x in valid_words]    "
   ]
  },
  {
   "cell_type": "markdown",
   "metadata": {},
   "source": [
    "We create the CBOW model here.  We also create the placeholders necessary for the CBOW."
   ]
  },
  {
   "cell_type": "code",
   "execution_count": 7,
   "metadata": {},
   "outputs": [
    {
     "name": "stdout",
     "output_type": "stream",
     "text": [
      "Creating Model\n"
     ]
    }
   ],
   "source": [
    "print('Creating Model')\n",
    "# Define Embeddings:\n",
    "embeddings = tf.Variable(tf.random_uniform([vocabulary_size, embedding_size], -1.0, 1.0))\n",
    "\n",
    "# NCE loss parameters\n",
    "nce_weights = tf.Variable(tf.truncated_normal([vocabulary_size, embedding_size],\n",
    "                                               stddev=1.0 / np.sqrt(embedding_size)))\n",
    "nce_biases = tf.Variable(tf.zeros([vocabulary_size]))\n",
    "\n",
    "# Create data/target placeholders\n",
    "x_inputs = tf.placeholder(tf.int32, shape=[batch_size, 2*window_size])\n",
    "y_target = tf.placeholder(tf.int32, shape=[batch_size, 1])\n",
    "valid_dataset = tf.constant(valid_examples, dtype=tf.int32)\n",
    "\n",
    "# Lookup the word embedding\n",
    "# Add together window embeddings:\n",
    "embed = tf.zeros([batch_size, embedding_size])\n",
    "for element in range(2*window_size):\n",
    "    embed += tf.nn.embedding_lookup(embeddings, x_inputs[:, element])"
   ]
  },
  {
   "cell_type": "markdown",
   "metadata": {},
   "source": [
    "Now we create the loss, optimization function, and the cosine similarity between word vectors."
   ]
  },
  {
   "cell_type": "code",
   "execution_count": 8,
   "metadata": {},
   "outputs": [],
   "source": [
    "# Get loss from prediction\n",
    "loss = tf.reduce_mean(tf.nn.nce_loss(weights=nce_weights,\n",
    "                                     biases=nce_biases,\n",
    "                                     labels=y_target,\n",
    "                                     inputs=embed,\n",
    "                                     num_sampled=num_sampled,\n",
    "                                     num_classes=vocabulary_size))\n",
    "\n",
    "# Create optimizer\n",
    "optimizer = tf.train.GradientDescentOptimizer(learning_rate=model_learning_rate).minimize(loss)\n",
    "\n",
    "# Cosine similarity between words\n",
    "norm = tf.sqrt(tf.reduce_sum(tf.square(embeddings), 1, keep_dims=True))\n",
    "normalized_embeddings = embeddings / norm\n",
    "valid_embeddings = tf.nn.embedding_lookup(normalized_embeddings, valid_dataset)\n",
    "similarity = tf.matmul(valid_embeddings, normalized_embeddings, transpose_b=True)"
   ]
  },
  {
   "cell_type": "markdown",
   "metadata": {},
   "source": [
    "Now we create a model saving operation and initialize the model variables."
   ]
  },
  {
   "cell_type": "code",
   "execution_count": 9,
   "metadata": {},
   "outputs": [],
   "source": [
    "# Create model saving operation\n",
    "saver = tf.train.Saver({\"embeddings\": embeddings})\n",
    "\n",
    "#Add variable initializer.\n",
    "init = tf.global_variables_initializer()\n",
    "sess.run(init)"
   ]
  },
  {
   "cell_type": "markdown",
   "metadata": {},
   "source": [
    "We need to make sure that all sentences have at least N words, where N is $(2 * WindowSize + 1)$.  So in this case, where window size is 3, we need to use sentences that have at least 7 words."
   ]
  },
  {
   "cell_type": "code",
   "execution_count": 10,
   "metadata": {},
   "outputs": [],
   "source": [
    "# Filter out sentences that aren't long enough:\n",
    "text_data = [x for x in text_data if len(x)>=(2*window_size+1)]"
   ]
  },
  {
   "cell_type": "markdown",
   "metadata": {},
   "source": [
    "Now we start the CBOW training."
   ]
  },
  {
   "cell_type": "code",
   "execution_count": 11,
   "metadata": {
    "scrolled": true
   },
   "outputs": [
    {
     "name": "stdout",
     "output_type": "stream",
     "text": [
      "Starting Training\n",
      "Loss at step 1000 : 7.859398365020752\n",
      "Loss at step 2000 : 5.849699020385742\n",
      "Loss at step 3000 : 5.742137908935547\n",
      "Loss at step 4000 : 5.351024150848389\n",
      "Loss at step 5000 : 5.0507025718688965\n",
      "Nearest to love: standard, took, audience, thats, written,\n",
      "Nearest to hate: sit, degree, odd, pieces, tough,\n",
      "Nearest to happy: close, attitude, community, change, looking,\n",
      "Nearest to sad: sophisticated, lead, length, example, good,\n",
      "Nearest to man: humanity, revolution, movies, help, typical,\n",
      "Nearest to woman: drama, animal, example, sum, provides,\n",
      "Model saved in file: /home/jovyan/tensorflow/tensorflow-cookbook/07_Natural_Language_Processing/05_Working_With_CBOW_Embeddings/temp/cbow_movie_embeddings.ckpt\n",
      "Loss at step 6000 : 4.8719162940979\n",
      "Loss at step 7000 : 5.04575777053833\n",
      "Loss at step 8000 : 4.9670491218566895\n",
      "Loss at step 9000 : 4.961996555328369\n",
      "Loss at step 10000 : 4.5171895027160645\n",
      "Nearest to love: standard, took, death, written, audience,\n",
      "Nearest to hate: sit, degree, odd, pieces, tough,\n",
      "Nearest to happy: close, change, attitude, community, looking,\n",
      "Nearest to sad: sophisticated, lead, length, example, wrong,\n",
      "Nearest to man: humanity, revolution, movies, creative, typical,\n",
      "Nearest to woman: drama, animal, example, sum, provides,\n",
      "Model saved in file: /home/jovyan/tensorflow/tensorflow-cookbook/07_Natural_Language_Processing/05_Working_With_CBOW_Embeddings/temp/cbow_movie_embeddings.ckpt\n",
      "Loss at step 11000 : 4.621706008911133\n",
      "Loss at step 12000 : 4.415968418121338\n",
      "Loss at step 13000 : 4.670459747314453\n",
      "Loss at step 14000 : 4.180150032043457\n",
      "Loss at step 15000 : 4.592331886291504\n",
      "Nearest to love: standard, took, death, god, written,\n",
      "Nearest to hate: sit, degree, odd, pieces, tough,\n",
      "Nearest to happy: close, change, attitude, community, looking,\n",
      "Nearest to sad: sophisticated, lead, example, wrong, length,\n",
      "Nearest to man: humanity, revolution, creative, typical, movies,\n",
      "Nearest to woman: drama, animal, example, sum, provides,\n",
      "Model saved in file: /home/jovyan/tensorflow/tensorflow-cookbook/07_Natural_Language_Processing/05_Working_With_CBOW_Embeddings/temp/cbow_movie_embeddings.ckpt\n",
      "Loss at step 16000 : 4.342422008514404\n",
      "Loss at step 17000 : 4.181337833404541\n",
      "Loss at step 18000 : 4.566439628601074\n",
      "Loss at step 19000 : 4.3279523849487305\n",
      "Loss at step 20000 : 4.319076061248779\n",
      "Nearest to love: took, standard, death, god, document,\n",
      "Nearest to hate: sit, degree, odd, pieces, tough,\n",
      "Nearest to happy: close, change, attitude, community, looking,\n",
      "Nearest to sad: sophisticated, lead, example, wrong, length,\n",
      "Nearest to man: humanity, revolution, creative, typical, movies,\n",
      "Nearest to woman: drama, example, animal, sum, check,\n",
      "Model saved in file: /home/jovyan/tensorflow/tensorflow-cookbook/07_Natural_Language_Processing/05_Working_With_CBOW_Embeddings/temp/cbow_movie_embeddings.ckpt\n",
      "Loss at step 21000 : 4.526124954223633\n",
      "Loss at step 22000 : 4.286654949188232\n",
      "Loss at step 23000 : 4.17185115814209\n",
      "Loss at step 24000 : 4.1715192794799805\n",
      "Loss at step 25000 : 4.213492393493652\n",
      "Nearest to love: took, standard, death, god, messages,\n",
      "Nearest to hate: sit, degree, odd, tough, pieces,\n",
      "Nearest to happy: close, change, attitude, community, looking,\n",
      "Nearest to sad: sophisticated, lead, example, wrong, length,\n",
      "Nearest to man: humanity, creative, revolution, typical, movies,\n",
      "Nearest to woman: drama, example, animal, sum, check,\n",
      "Model saved in file: /home/jovyan/tensorflow/tensorflow-cookbook/07_Natural_Language_Processing/05_Working_With_CBOW_Embeddings/temp/cbow_movie_embeddings.ckpt\n",
      "Loss at step 26000 : 4.169381618499756\n",
      "Loss at step 27000 : 4.272744655609131\n",
      "Loss at step 28000 : 4.109298229217529\n",
      "Loss at step 29000 : 4.094390392303467\n",
      "Loss at step 30000 : 4.134103775024414\n",
      "Nearest to love: took, standard, death, god, messages,\n",
      "Nearest to hate: sit, degree, odd, tough, pieces,\n",
      "Nearest to happy: close, change, attitude, community, looking,\n",
      "Nearest to sad: sophisticated, lead, example, wrong, sum,\n",
      "Nearest to man: humanity, creative, revolution, typical, movies,\n",
      "Nearest to woman: drama, animal, example, check, sum,\n",
      "Model saved in file: /home/jovyan/tensorflow/tensorflow-cookbook/07_Natural_Language_Processing/05_Working_With_CBOW_Embeddings/temp/cbow_movie_embeddings.ckpt\n",
      "Loss at step 31000 : 4.097827911376953\n",
      "Loss at step 32000 : 4.04693078994751\n",
      "Loss at step 33000 : 4.393509387969971\n",
      "Loss at step 34000 : 4.025285720825195\n",
      "Loss at step 35000 : 3.9341423511505127\n",
      "Nearest to love: took, standard, death, messages, god,\n",
      "Nearest to hate: sit, degree, odd, tough, pieces,\n",
      "Nearest to happy: close, change, attitude, community, makers,\n",
      "Nearest to sad: sophisticated, lead, example, wrong, sum,\n",
      "Nearest to man: humanity, creative, revolution, typical, help,\n",
      "Nearest to woman: drama, animal, example, check, sum,\n",
      "Model saved in file: /home/jovyan/tensorflow/tensorflow-cookbook/07_Natural_Language_Processing/05_Working_With_CBOW_Embeddings/temp/cbow_movie_embeddings.ckpt\n",
      "Loss at step 36000 : 3.7433180809020996\n",
      "Loss at step 37000 : 3.96915340423584\n",
      "Loss at step 38000 : 4.248715400695801\n",
      "Loss at step 39000 : 4.099787712097168\n",
      "Loss at step 40000 : 3.8990705013275146\n",
      "Nearest to love: took, standard, death, messages, god,\n",
      "Nearest to hate: sit, degree, odd, tough, pieces,\n",
      "Nearest to happy: close, change, attitude, community, makers,\n",
      "Nearest to sad: sophisticated, lead, example, sum, wrong,\n",
      "Nearest to man: humanity, creative, revolution, typical, help,\n",
      "Nearest to woman: drama, animal, example, check, sum,\n",
      "Model saved in file: /home/jovyan/tensorflow/tensorflow-cookbook/07_Natural_Language_Processing/05_Working_With_CBOW_Embeddings/temp/cbow_movie_embeddings.ckpt\n",
      "Loss at step 41000 : 3.9053804874420166\n",
      "Loss at step 42000 : 3.8729162216186523\n",
      "Loss at step 43000 : 3.9457976818084717\n",
      "Loss at step 44000 : 4.0162553787231445\n",
      "Loss at step 45000 : 3.6718811988830566\n",
      "Nearest to love: took, standard, death, messages, god,\n",
      "Nearest to hate: sit, degree, odd, tough, pieces,\n",
      "Nearest to happy: close, change, attitude, community, makers,\n",
      "Nearest to sad: sophisticated, lead, example, sum, wrong,\n",
      "Nearest to man: humanity, creative, revolution, typical, help,\n",
      "Nearest to woman: drama, animal, example, check, sum,\n",
      "Model saved in file: /home/jovyan/tensorflow/tensorflow-cookbook/07_Natural_Language_Processing/05_Working_With_CBOW_Embeddings/temp/cbow_movie_embeddings.ckpt\n",
      "Loss at step 46000 : 3.807769775390625\n",
      "Loss at step 47000 : 3.980248212814331\n",
      "Loss at step 48000 : 4.007013320922852\n",
      "Loss at step 49000 : 3.8816983699798584\n",
      "Loss at step 50000 : 3.7320196628570557\n",
      "Nearest to love: took, standard, death, messages, god,\n",
      "Nearest to hate: sit, degree, odd, tough, pieces,\n",
      "Nearest to happy: close, change, attitude, community, makers,\n",
      "Nearest to sad: sophisticated, lead, example, sum, wrong,\n",
      "Nearest to man: humanity, creative, revolution, typical, help,\n",
      "Nearest to woman: drama, animal, example, check, sum,\n",
      "Model saved in file: /home/jovyan/tensorflow/tensorflow-cookbook/07_Natural_Language_Processing/05_Working_With_CBOW_Embeddings/temp/cbow_movie_embeddings.ckpt\n"
     ]
    }
   ],
   "source": [
    "# Run the CBOW model.\n",
    "print('Starting Training')\n",
    "loss_vec = []\n",
    "loss_x_vec = []\n",
    "for i in range(generations):\n",
    "    batch_inputs, batch_labels = text_helpers.generate_batch_data(text_data, batch_size,\n",
    "                                                                  window_size, method='cbow')\n",
    "    feed_dict = {x_inputs : batch_inputs, y_target : batch_labels}\n",
    "\n",
    "    # Run the train step\n",
    "    sess.run(optimizer, feed_dict=feed_dict)\n",
    "\n",
    "    # Return the loss\n",
    "    if (i+1) % print_loss_every == 0:\n",
    "        loss_val = sess.run(loss, feed_dict=feed_dict)\n",
    "        loss_vec.append(loss_val)\n",
    "        loss_x_vec.append(i+1)\n",
    "        print('Loss at step {} : {}'.format(i+1, loss_val))\n",
    "      \n",
    "    # Validation: Print some random words and top 5 related words\n",
    "    if (i+1) % print_valid_every == 0:\n",
    "        sim = sess.run(similarity, feed_dict=feed_dict)\n",
    "        for j in range(len(valid_words)):\n",
    "            valid_word = word_dictionary_rev[valid_examples[j]]\n",
    "            top_k = 5 # number of nearest neighbors\n",
    "            nearest = (-sim[j, :]).argsort()[1:top_k+1]\n",
    "            log_str = \"Nearest to {}:\".format(valid_word)\n",
    "            for k in range(top_k):\n",
    "                close_word = word_dictionary_rev[nearest[k]]\n",
    "                log_str = '{} {},' .format(log_str, close_word)\n",
    "            print(log_str)\n",
    "            \n",
    "    # Save dictionary + embeddings\n",
    "    if (i+1) % save_embeddings_every == 0:\n",
    "        # Save vocabulary dictionary\n",
    "        with open(os.path.join(data_folder_name,'movie_vocab.pkl'), 'wb') as f:\n",
    "            pickle.dump(word_dictionary, f)\n",
    "        \n",
    "        # Save embeddings\n",
    "        model_checkpoint_path = os.path.join(os.getcwd(),data_folder_name,'cbow_movie_embeddings.ckpt')\n",
    "        save_path = saver.save(sess, model_checkpoint_path)\n",
    "        print('Model saved in file: {}'.format(save_path))"
   ]
  },
  {
   "cell_type": "markdown",
   "metadata": {},
   "source": [
    "Here is some matplotlib code to plot the training loss."
   ]
  },
  {
   "cell_type": "code",
   "execution_count": 12,
   "metadata": {},
   "outputs": [
    {
     "data": {
      "image/png": "[encoded data removed]",
      "text/plain": [
       "<matplotlib.figure.Figure at 0x7f2ba4787b70>"
      ]
     },
     "metadata": {},
     "output_type": "display_data"
    }
   ],
   "source": [
    "# Plot loss over time\n",
    "plt.plot(loss_x_vec, loss_vec, 'k-')\n",
    "plt.title('Training Loss per Generation')\n",
    "plt.xlabel('Generation')\n",
    "plt.ylabel('Loss')\n",
    "plt.show()"
   ]
  },
  {
   "cell_type": "code",
   "execution_count": null,
   "metadata": {},
   "outputs": [],
   "source": []
  },
  {
   "cell_type": "code",
   "execution_count": null,
   "metadata": {},
   "outputs": [],
   "source": []
  },
  {
   "cell_type": "code",
   "execution_count": null,
   "metadata": {},
   "outputs": [],
   "source": [
    "test complete; Gopal"
   ]
  }
 ],
 "metadata": {
  "kernelspec": {
   "display_name": "Python 3",
   "language": "python",
   "name": "python3"
  },
  "language_info": {
   "codemirror_mode": {
    "name": "ipython",
    "version": 3
   },
   "file_extension": ".py",
   "mimetype": "text/x-python",
   "name": "python",
   "nbconvert_exporter": "python",
   "pygments_lexer": "ipython3",
   "version": "3.6.3"
  }
 },
 "nbformat": 4,
 "nbformat_minor": 2
}
