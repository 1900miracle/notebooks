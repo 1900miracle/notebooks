{
 "cells": [
  {
   "cell_type": "markdown",
   "metadata": {},
   "source": [
    "# Ch `11`: Concept `01`\n",
    "\n",
    "## Multi RNN"
   ]
  },
  {
   "cell_type": "markdown",
   "metadata": {},
   "source": [
    "All we need is TensorFlow:"
   ]
  },
  {
   "cell_type": "code",
   "execution_count": 1,
   "metadata": {},
   "outputs": [],
   "source": [
    "import tensorflow as tf"
   ]
  },
  {
   "cell_type": "markdown",
   "metadata": {},
   "source": [
    "First, define the constants. \n",
    "\n",
    "Let's say we're dealing with 1-dimensional vectors, and a maximum sequence size of 3."
   ]
  },
  {
   "cell_type": "code",
   "execution_count": 2,
   "metadata": {},
   "outputs": [],
   "source": [
    "input_dim = 1\n",
    "seq_size = 3"
   ]
  },
  {
   "cell_type": "markdown",
   "metadata": {},
   "source": [
    "Next up, define the placeholder(s). \n",
    "\n",
    "We only need one for this simple example: the input placeholder."
   ]
  },
  {
   "cell_type": "code",
   "execution_count": 3,
   "metadata": {},
   "outputs": [],
   "source": [
    "input_placeholder = tf.placeholder(dtype=tf.float32, shape=[None, seq_size, input_dim])"
   ]
  },
  {
   "cell_type": "markdown",
   "metadata": {},
   "source": [
    "Now let's make a helper function to create LSTM cells"
   ]
  },
  {
   "cell_type": "code",
   "execution_count": 4,
   "metadata": {},
   "outputs": [],
   "source": [
    "def make_cell(state_dim):\n",
    "    return tf.contrib.rnn.LSTMCell(state_dim)"
   ]
  },
  {
   "cell_type": "markdown",
   "metadata": {},
   "source": [
    "Call the function and extract the cell outputs."
   ]
  },
  {
   "cell_type": "code",
   "execution_count": 5,
   "metadata": {},
   "outputs": [],
   "source": [
    "with tf.variable_scope(\"first_cell\") as scope:\n",
    "    cell = make_cell(state_dim=10)\n",
    "    outputs, states = tf.nn.dynamic_rnn(cell, input_placeholder, dtype=tf.float32)"
   ]
  },
  {
   "cell_type": "markdown",
   "metadata": {},
   "source": [
    "You know what? We can just keep stacking cells on top of each other. In a new variable scope, you can pipe the output of the previous cell to the input of the new cell. Check it out:"
   ]
  },
  {
   "cell_type": "code",
   "execution_count": 6,
   "metadata": {},
   "outputs": [],
   "source": [
    "with tf.variable_scope(\"second_cell\") as scope:\n",
    "    cell2 = make_cell(state_dim=10)\n",
    "    outputs2, states2 = tf.nn.dynamic_rnn(cell2, outputs, dtype=tf.float32)"
   ]
  },
  {
   "cell_type": "markdown",
   "metadata": {},
   "source": [
    "What if we wanted 5 layers of RNNs? \n",
    "\n",
    "There's a useful shortcut that the TensorFlow library supplies, called `MultiRNNCell`. Here's a helper function to use it:"
   ]
  },
  {
   "cell_type": "code",
   "execution_count": 7,
   "metadata": {},
   "outputs": [],
   "source": [
    "def make_multi_cell(state_dim, num_layers):\n",
    "    cells = [make_cell(state_dim) for _ in range(num_layers)]\n",
    "    return tf.contrib.rnn.MultiRNNCell(cells)"
   ]
  },
  {
   "cell_type": "markdown",
   "metadata": {},
   "source": [
    "Here's the helper function in action:"
   ]
  },
  {
   "cell_type": "code",
   "execution_count": 8,
   "metadata": {},
   "outputs": [],
   "source": [
    "multi_cell = make_multi_cell(state_dim=10, num_layers=5)\n",
    "outputs5, states5 = tf.nn.dynamic_rnn(multi_cell, input_placeholder, dtype=tf.float32)"
   ]
  },
  {
   "cell_type": "markdown",
   "metadata": {},
   "source": [
    "Before starting a session, let's prepare some simple input to the network."
   ]
  },
  {
   "cell_type": "code",
   "execution_count": 9,
   "metadata": {},
   "outputs": [],
   "source": [
    "input_seq = [[1], [2], [3]]\n",
    "\n"
   ]
  },
  {
   "cell_type": "markdown",
   "metadata": {},
   "source": [
    "Start the session, and initialize variables."
   ]
  },
  {
   "cell_type": "code",
   "execution_count": 10,
   "metadata": {},
   "outputs": [],
   "source": [
    "init_op = tf.global_variables_initializer()\n",
    "\n",
    "sess = tf.InteractiveSession()\n",
    "sess.run(init_op)"
   ]
  },
  {
   "cell_type": "markdown",
   "metadata": {},
   "source": [
    "We can run the outputs to verify that the code is sound."
   ]
  },
  {
   "cell_type": "code",
   "execution_count": 11,
   "metadata": {},
   "outputs": [
    {
     "name": "stdout",
     "output_type": "stream",
     "text": [
      "[[[ 0.00602144  0.06727848  0.07371299  0.06416295  0.02700892  0.06091323\n",
      "   -0.03733542  0.06125611 -0.00570762  0.0790968 ]\n",
      "  [ 0.00645602  0.15910272  0.18256614  0.14425874  0.05980282  0.16899352\n",
      "   -0.06741302  0.11707424 -0.01604485  0.22429703]\n",
      "  [-0.00278568  0.24429928  0.29506058  0.2097932   0.09408803  0.29937321\n",
      "   -0.07506574  0.14652503 -0.02838198  0.3997077 ]]]\n",
      "[[[-0.00114185  0.01877026 -0.00802656  0.00563118 -0.0099934   0.00646794\n",
      "    0.01063675  0.01212626  0.00042057 -0.0089953 ]\n",
      "  [-0.00487099  0.0619056  -0.02892846  0.01912905 -0.03425968  0.021543\n",
      "    0.03021425  0.0392614   0.00114621 -0.03532054]\n",
      "  [-0.01032095  0.12343872 -0.06061166  0.03980848 -0.07312173  0.04460217\n",
      "    0.05313258  0.07695859  0.00222872 -0.0810901 ]]]\n",
      "[[[  1.49714451e-05  -8.48045875e-06  -2.23337047e-05  -1.27269675e-06\n",
      "     1.93677497e-05   9.78385015e-06  -7.90530157e-06  -8.21368394e-06\n",
      "    -8.16238128e-07  -1.31351055e-06]\n",
      "  [  7.70601255e-05  -4.61157797e-05  -1.11549336e-04  -6.42599161e-06\n",
      "     1.10062269e-04   5.92238139e-05  -4.54226829e-05  -5.87191025e-05\n",
      "     3.61104503e-06  -1.26725545e-05]\n",
      "  [  2.20229325e-04  -1.36578834e-04  -3.08819232e-04  -1.74146771e-05\n",
      "     3.48224159e-04   1.94407854e-04  -1.45927785e-04  -2.18602741e-04\n",
      "     3.31318697e-05  -5.51837620e-05]]]\n"
     ]
    }
   ],
   "source": [
    "outputs_val, outputs2_val, outputs5_val = sess.run([outputs, outputs2, outputs5], \n",
    "                                                   feed_dict={input_placeholder: [input_seq]})\n",
    "print(outputs_val)\n",
    "print(outputs2_val)\n",
    "print(outputs5_val)"
   ]
  },
  {
   "cell_type": "code",
   "execution_count": null,
   "metadata": {},
   "outputs": [],
   "source": []
  },
  {
   "cell_type": "code",
   "execution_count": null,
   "metadata": {},
   "outputs": [],
   "source": []
  },
  {
   "cell_type": "code",
   "execution_count": null,
   "metadata": {},
   "outputs": [],
   "source": [
    "Tested; Gopal"
   ]
  }
 ],
 "metadata": {
  "kernelspec": {
   "display_name": "Python 3",
   "language": "python",
   "name": "python3"
  },
  "language_info": {
   "codemirror_mode": {
    "name": "ipython",
    "version": 3
   },
   "file_extension": ".py",
   "mimetype": "text/x-python",
   "name": "python",
   "nbconvert_exporter": "python",
   "pygments_lexer": "ipython3",
   "version": "3.6.3"
  }
 },
 "nbformat": 4,
 "nbformat_minor": 1
}
