{
 "cells": [
  {
   "cell_type": "markdown",
   "metadata": {},
   "source": [
    "# Ch `04`: Concept `04` "
   ]
  },
  {
   "cell_type": "markdown",
   "metadata": {},
   "source": [
    "## Softmax classification"
   ]
  },
  {
   "cell_type": "markdown",
   "metadata": {},
   "source": [
    "Import the usual libraries:"
   ]
  },
  {
   "cell_type": "code",
   "execution_count": 1,
   "metadata": {},
   "outputs": [],
   "source": [
    "%matplotlib inline\n",
    "import numpy as np\n",
    "import tensorflow as tf\n",
    "import matplotlib.pyplot as plt"
   ]
  },
  {
   "cell_type": "markdown",
   "metadata": {},
   "source": [
    "Generated some initial 2D data:"
   ]
  },
  {
   "cell_type": "code",
   "execution_count": 2,
   "metadata": {},
   "outputs": [
    {
     "data": {
      "image/png": "[encoded data removed]",
      "text/plain": [
       "<matplotlib.figure.Figure at 0x7fd6faa57eb8>"
      ]
     },
     "metadata": {},
     "output_type": "display_data"
    }
   ],
   "source": [
    "learning_rate = 0.01\n",
    "training_epochs = 1000\n",
    "num_labels = 3\n",
    "batch_size = 100\n",
    "\n",
    "x1_label0 = np.random.normal(1, 1, (100, 1))\n",
    "x2_label0 = np.random.normal(1, 1, (100, 1))\n",
    "x1_label1 = np.random.normal(5, 1, (100, 1))\n",
    "x2_label1 = np.random.normal(4, 1, (100, 1))\n",
    "x1_label2 = np.random.normal(8, 1, (100, 1))\n",
    "x2_label2 = np.random.normal(0, 1, (100, 1))\n",
    "\n",
    "plt.scatter(x1_label0, x2_label0, c='r', marker='o', s=60)\n",
    "plt.scatter(x1_label1, x2_label1, c='g', marker='x', s=60)\n",
    "plt.scatter(x1_label2, x2_label2, c='b', marker='_', s=60)\n",
    "plt.show()"
   ]
  },
  {
   "cell_type": "markdown",
   "metadata": {},
   "source": [
    "Define the labels and shuffle the data:"
   ]
  },
  {
   "cell_type": "code",
   "execution_count": 3,
   "metadata": {},
   "outputs": [],
   "source": [
    "xs_label0 = np.hstack((x1_label0, x2_label0))\n",
    "xs_label1 = np.hstack((x1_label1, x2_label1))\n",
    "xs_label2 = np.hstack((x1_label2, x2_label2))\n",
    "\n",
    "xs = np.vstack((xs_label0, xs_label1, xs_label2))\n",
    "labels = np.matrix([[1., 0., 0.]] * len(x1_label0) + [[0., 1., 0.]] * len(x1_label1) + [[0., 0., 1.]] * len(x1_label2))\n",
    "\n",
    "arr = np.arange(xs.shape[0])\n",
    "np.random.shuffle(arr)\n",
    "xs = xs[arr, :]\n",
    "labels = labels[arr, :]"
   ]
  },
  {
   "cell_type": "markdown",
   "metadata": {},
   "source": [
    "We'll get back to this later, but the following are test inputs that we'll use to evaluate the model:"
   ]
  },
  {
   "cell_type": "code",
   "execution_count": 4,
   "metadata": {},
   "outputs": [],
   "source": [
    "test_x1_label0 = np.random.normal(1, 1, (10, 1))\n",
    "test_x2_label0 = np.random.normal(1, 1, (10, 1))\n",
    "test_x1_label1 = np.random.normal(5, 1, (10, 1))\n",
    "test_x2_label1 = np.random.normal(4, 1, (10, 1))\n",
    "test_x1_label2 = np.random.normal(8, 1, (10, 1))\n",
    "test_x2_label2 = np.random.normal(0, 1, (10, 1))\n",
    "test_xs_label0 = np.hstack((test_x1_label0, test_x2_label0))\n",
    "test_xs_label1 = np.hstack((test_x1_label1, test_x2_label1))\n",
    "test_xs_label2 = np.hstack((test_x1_label2, test_x2_label2))\n",
    "\n",
    "test_xs = np.vstack((test_xs_label0, test_xs_label1, test_xs_label2))\n",
    "test_labels = np.matrix([[1., 0., 0.]] * 10 + [[0., 1., 0.]] * 10 + [[0., 0., 1.]] * 10)"
   ]
  },
  {
   "cell_type": "markdown",
   "metadata": {},
   "source": [
    "Again, define the placeholders, variables, model, and cost function:"
   ]
  },
  {
   "cell_type": "code",
   "execution_count": 5,
   "metadata": {},
   "outputs": [],
   "source": [
    "train_size, num_features = xs.shape\n",
    "\n",
    "X = tf.placeholder(\"float\", shape=[None, num_features])\n",
    "Y = tf.placeholder(\"float\", shape=[None, num_labels])\n",
    "\n",
    "W = tf.Variable(tf.zeros([num_features, num_labels]))\n",
    "b = tf.Variable(tf.zeros([num_labels]))\n",
    "y_model = tf.nn.softmax(tf.matmul(X, W) + b)\n",
    "\n",
    "cost = -tf.reduce_sum(Y * tf.log(y_model))\n",
    "train_op = tf.train.GradientDescentOptimizer(learning_rate).minimize(cost)\n",
    "\n",
    "correct_prediction = tf.equal(tf.argmax(y_model, 1), tf.argmax(Y, 1))\n",
    "accuracy = tf.reduce_mean(tf.cast(correct_prediction, \"float\"))"
   ]
  },
  {
   "cell_type": "markdown",
   "metadata": {},
   "source": [
    "Train the softmax classification model:"
   ]
  },
  {
   "cell_type": "code",
   "execution_count": 6,
   "metadata": {},
   "outputs": [
    {
     "name": "stdout",
     "output_type": "stream",
     "text": [
      "0 109.861\n",
      "100 4.8028\n",
      "200 3.63064\n",
      "300 4.03794\n",
      "400 2.71543\n",
      "500 2.61286\n",
      "600 3.07394\n",
      "700 2.26992\n",
      "800 2.23078\n",
      "900 2.59229\n",
      "1000 2.04522\n",
      "1100 2.00712\n",
      "1200 2.27854\n",
      "1300 1.9025\n",
      "1400 1.85243\n",
      "1500 2.05075\n",
      "1600 1.80112\n",
      "1700 1.73595\n",
      "1800 1.87496\n",
      "1900 1.72411\n",
      "2000 1.64368\n",
      "2100 1.73375\n",
      "2200 1.6629\n",
      "2300 1.56807\n",
      "2400 1.61701\n",
      "2500 1.61261\n",
      "2600 1.50457\n",
      "2700 1.51838\n",
      "2800 1.57025\n",
      "2900 1.45022\n",
      "w [[-2.46099234  0.2863698   2.17462468]\n",
      " [-0.04423856  2.31015849 -2.26592898]]\n",
      "b [ 10.16246128  -3.09434605  -7.06809473]\n",
      "accuracy 1.0\n"
     ]
    }
   ],
   "source": [
    "with tf.Session() as sess:\n",
    "    tf.global_variables_initializer().run()\n",
    "\n",
    "    for step in range(training_epochs * train_size // batch_size):\n",
    "        offset = (step * batch_size) % train_size\n",
    "        batch_xs = xs[offset:(offset + batch_size), :]\n",
    "        batch_labels = labels[offset:(offset + batch_size)]\n",
    "        err, _ = sess.run([cost, train_op], feed_dict={X: batch_xs, Y: batch_labels})\n",
    "        if step % 100 == 0:\n",
    "            print (step, err)\n",
    "\n",
    "    W_val = sess.run(W)\n",
    "    print('w', W_val)\n",
    "    b_val = sess.run(b)\n",
    "    print('b', b_val)\n",
    "    print(\"accuracy\", accuracy.eval(feed_dict={X: test_xs, Y: test_labels}))"
   ]
  },
  {
   "cell_type": "code",
   "execution_count": null,
   "metadata": {},
   "outputs": [],
   "source": []
  },
  {
   "cell_type": "code",
   "execution_count": null,
   "metadata": {},
   "outputs": [],
   "source": [
    "Tested; Gopal"
   ]
  }
 ],
 "metadata": {
  "kernelspec": {
   "display_name": "Python 3",
   "language": "python",
   "name": "python3"
  },
  "language_info": {
   "codemirror_mode": {
    "name": "ipython",
    "version": 3
   },
   "file_extension": ".py",
   "mimetype": "text/x-python",
   "name": "python",
   "nbconvert_exporter": "python",
   "pygments_lexer": "ipython3",
   "version": "3.6.3"
  }
 },
 "nbformat": 4,
 "nbformat_minor": 1
}
