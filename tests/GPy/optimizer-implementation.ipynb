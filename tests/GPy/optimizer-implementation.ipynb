{
 "cells": [
  {
   "cell_type": "code",
   "execution_count": 1,
   "metadata": {},
   "outputs": [
    {
     "name": "stdout",
     "output_type": "stream",
     "text": [
      "Gopala KR \n",
      "last updated: 2018-03-05 \n",
      "\n",
      "CPython 2.7.14\n",
      "IPython 5.4.1\n",
      "\n",
      "watermark 1.6.0\n",
      "numpy 1.11.3\n",
      "matplotlib 2.1.0\n"
     ]
    }
   ],
   "source": [
    "#load watermark\n",
    "%load_ext watermark\n",
    "%watermark -a 'Gopala KR' -u -d -v -p watermark,numpy,matplotlib"
   ]
  },
  {
   "cell_type": "code",
   "execution_count": 2,
   "metadata": {},
   "outputs": [],
   "source": [
    "import GPy\n",
    "from GPy.inference.optimization import Optimizer\n",
    "%matplotlib inline"
   ]
  },
  {
   "cell_type": "code",
   "execution_count": 3,
   "metadata": {},
   "outputs": [],
   "source": [
    "import climin"
   ]
  },
  {
   "cell_type": "markdown",
   "metadata": {},
   "source": [
    "In Paramz/GPy we can implement an own optimizer in a really simple way. We need to supply GPy with an implementation of the Optimizer class.\n",
    "The Optimizer has a name, which is the most important. \n",
    "\n",
    "It also provides an opt() method, which opitmizes the result given an optimization function and a starting point."
   ]
  },
  {
   "cell_type": "code",
   "execution_count": 4,
   "metadata": {},
   "outputs": [],
   "source": [
    "# Get the parameters for Rprop of climin:\n",
    "climin.Rprop?"
   ]
  },
  {
   "cell_type": "code",
   "execution_count": 5,
   "metadata": {},
   "outputs": [],
   "source": [
    "class RProp(Optimizer):\n",
    "    # We want the optimizer to know some things in the Optimizer implementation:\n",
    "    def __init__(self, step_shrink=0.5, step_grow=1.2, min_step=1e-06, max_step=1, changes_max=0.1, *args, **kwargs):\n",
    "        super(RProp, self).__init__(*args, **kwargs)\n",
    "        self.opt_name = 'RProp (climin)'\n",
    "        self.step_shrink = step_shrink\n",
    "        self.step_grow = step_grow\n",
    "        self.min_step = min_step\n",
    "        self.max_step = max_step\n",
    "        self.changes_max = changes_max\n",
    "        \n",
    "    def opt(self, x_init, f_fp=None, f=None, fp=None):\n",
    "        # We only need the gradient of the \n",
    "        assert not fp is None\n",
    "\n",
    "        # Do the optimization, giving previously stored parameters\n",
    "        opt = climin.rprop.Rprop(x_init, fp, \n",
    "                                 step_shrink=self.step_shrink, step_grow=self.step_grow, \n",
    "                                 min_step=self.min_step, max_step=self.max_step, \n",
    "                                 changes_max=self.changes_max)\n",
    "\n",
    "        # Get the optimized state and transform it into Paramz readable format by setting\n",
    "        # values on this object:\n",
    "        # Important ones are x_opt and status:\n",
    "        for info in opt:\n",
    "            if info['n_iter']>=self.max_iters:\n",
    "                self.x_opt =  opt.wrt\n",
    "                self.status = 'maximum number of function evaluations exceeded'\n",
    "                break"
   ]
  },
  {
   "cell_type": "markdown",
   "metadata": {},
   "source": [
    "This is all we need, GPy/Paramz will handle the rest for you : )"
   ]
  },
  {
   "cell_type": "code",
   "execution_count": 6,
   "metadata": {},
   "outputs": [
    {
     "name": "stdout",
     "output_type": "stream",
     "text": [
      "pods unavailable, see https://github.com/sods/ods for example datasets\n"
     ]
    }
   ],
   "source": [
    "m = GPy.examples.regression.toy_rbf_1d_50(optimize=False, plot=False)"
   ]
  },
  {
   "cell_type": "markdown",
   "metadata": {},
   "source": [
    "This is the model plot before optimization:"
   ]
  },
  {
   "cell_type": "markdown",
   "metadata": {},
   "source": [
    "And then the optimized state after running RProp:"
   ]
  },
  {
   "cell_type": "code",
   "execution_count": null,
   "metadata": {},
   "outputs": [],
   "source": []
  }
 ],
 "metadata": {
  "kernelspec": {
   "display_name": "Python 2",
   "language": "python",
   "name": "python2"
  },
  "language_info": {
   "codemirror_mode": {
    "name": "ipython",
    "version": 2
   },
   "file_extension": ".py",
   "mimetype": "text/x-python",
   "name": "python",
   "nbconvert_exporter": "python",
   "pygments_lexer": "ipython2",
   "version": "2.7.14"
  }
 },
 "nbformat": 4,
 "nbformat_minor": 1
}
