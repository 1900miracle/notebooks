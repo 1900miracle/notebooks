{
 "cells": [
  {
   "cell_type": "markdown",
   "metadata": {},
   "source": [
    "# Neural Network Fundamentals\n",
    "\n",
    "## Gradient Descent Introduction:\n",
    "https://www.youtube.com/watch?v=IxBYhjS295w"
   ]
  },
  {
   "cell_type": "code",
   "execution_count": 1,
   "metadata": {},
   "outputs": [],
   "source": [
    "import numpy as np\n",
    "import matplotlib.pyplot as plt\n",
    "from sklearn.linear_model import LinearRegression\n",
    "\n",
    "np.random.seed(1)\n",
    "\n",
    "%matplotlib inline\n",
    "np.random.seed(1)"
   ]
  },
  {
   "cell_type": "code",
   "execution_count": 2,
   "metadata": {},
   "outputs": [],
   "source": [
    "N = 100\n",
    "x = np.random.rand(N,1)*5\n",
    "# Let the following command be the true function\n",
    "y = 2.3 + 5.1*x\n",
    "# Get some noisy observations\n",
    "y_obs = y + 2*np.random.randn(N,1)"
   ]
  },
  {
   "cell_type": "code",
   "execution_count": 3,
   "metadata": {},
   "outputs": [
    {
     "data": {
      "image/png": "[encoded data removed]",
      "text/plain": [
       "<matplotlib.figure.Figure at 0x7fc63581d4e0>"
      ]
     },
     "metadata": {},
     "output_type": "display_data"
    }
   ],
   "source": [
    "plt.scatter(x,y_obs,label='Observations')\n",
    "plt.plot(x,y,c='r',label='True function')\n",
    "plt.legend()\n",
    "plt.show()"
   ]
  },
  {
   "cell_type": "markdown",
   "metadata": {},
   "source": [
    "## Gradient Descent\n",
    "\n",
    "We are trying to minimise $\\sum \\xi_i^2$.\n",
    "\n",
    "\\begin{align}\n",
    "\\mathcal{L} & = \\frac{1}{N}\\sum_{i=1}^N (y_i-f(x_i,w,b))^2 \\\\\n",
    "\\frac{\\delta\\mathcal{L}}{\\delta w} & = -\\frac{1}{N}\\sum_{i=1}^N 2(y_i-f(x_i,w,b))\\frac{\\delta f(x_i,w,b)}{\\delta w} \\\\ \n",
    "& = -\\frac{1}{N}\\sum_{i=1}^N 2\\xi_i\\frac{\\delta f(x_i,w,b)}{\\delta w}\n",
    "\\end{align}\n",
    "where $\\xi_i$ is the error term $y_i-f(x_i,w,b)$ and \n",
    "$$\n",
    "\\frac{\\delta f(x_i,w,b)}{\\delta w} = x_i\n",
    "$$\n",
    "\n",
    "Similar expression can be found for $\\frac{\\delta\\mathcal{L}}{\\delta b}$ (exercise).\n",
    "\n",
    "Finally the weights can be updated as $w_{new} = w_{current} - \\gamma \\frac{\\delta\\mathcal{L}}{\\delta w}$ where $\\gamma$ is a learning rate between 0 and 1."
   ]
  },
  {
   "cell_type": "code",
   "execution_count": 4,
   "metadata": {},
   "outputs": [],
   "source": [
    "# Helper functions\n",
    "def f(w,b):\n",
    "    return w*x+b\n",
    "\n",
    "def loss_function(e):\n",
    "    L = np.sum(np.square(e))/N\n",
    "    return L\n",
    "\n",
    "def dL_dw(e,w,b):\n",
    "    return -2*np.sum(e*df_dw(w,b))/N\n",
    "\n",
    "def df_dw(w,b):\n",
    "    return x\n",
    "\n",
    "def dL_db(e,w,b):\n",
    "    return -2*np.sum(e*df_db(w,b))/N\n",
    "\n",
    "def df_db(w,b):\n",
    "    return np.ones(x.shape)"
   ]
  },
  {
   "cell_type": "code",
   "execution_count": 5,
   "metadata": {},
   "outputs": [],
   "source": [
    "# The Actual Gradient Descent\n",
    "def gradient_descent(iter=100,gamma=0.1):\n",
    "    # get starting conditions\n",
    "    w = 10*np.random.randn()\n",
    "    b = 10*np.random.randn()\n",
    "    \n",
    "    params = []\n",
    "    loss = np.zeros((iter,1))\n",
    "    for i in range(iter):\n",
    "#         from IPython.core.debugger import Tracer; Tracer()()\n",
    "        params.append([w,b])\n",
    "        e = y_obs - f(w,b) # Really important that you use y_obs and not y (you do not have access to true y)\n",
    "        loss[i] = loss_function(e)\n",
    "\n",
    "        #update parameters\n",
    "        w_new = w - gamma*dL_dw(e,w,b)\n",
    "        b_new = b - gamma*dL_db(e,w,b)\n",
    "        w = w_new\n",
    "        b = b_new\n",
    "        \n",
    "    return params, loss\n",
    "        \n",
    "params, loss = gradient_descent()"
   ]
  },
  {
   "cell_type": "code",
   "execution_count": 6,
   "metadata": {},
   "outputs": [],
   "source": [
    "iter=100\n",
    "gamma = 0.1\n",
    "w = 10*np.random.randn()\n",
    "b = 10*np.random.randn()\n",
    "\n",
    "params = []\n",
    "loss = np.zeros((iter,1))\n",
    "for i in range(iter):\n",
    "#         from IPython.core.debugger import Tracer; Tracer()()\n",
    "    params.append([w,b])\n",
    "    e = y_obs - f(w,b) # Really important that you use y_obs and not y (you do not have access to true y)\n",
    "    loss[i] = loss_function(e)\n",
    "\n",
    "    #update parameters\n",
    "    w_new = w - gamma*dL_dw(e,w,b)\n",
    "    b_new = b - gamma*dL_db(e,w,b)\n",
    "    w = w_new\n",
    "    b = b_new"
   ]
  },
  {
   "cell_type": "code",
   "execution_count": 7,
   "metadata": {},
   "outputs": [
    {
     "data": {
      "text/plain": [
       "0.0078296405377948283"
      ]
     },
     "execution_count": 7,
     "metadata": {},
     "output_type": "execute_result"
    }
   ],
   "source": [
    "dL_dw(e,w,b)"
   ]
  },
  {
   "cell_type": "code",
   "execution_count": 8,
   "metadata": {},
   "outputs": [
    {
     "data": {
      "text/plain": [
       "[<matplotlib.lines.Line2D at 0x7fc6331e1c88>]"
      ]
     },
     "execution_count": 8,
     "metadata": {},
     "output_type": "execute_result"
    },
    {
     "data": {
      "image/png": "[encoded data removed]",
      "text/plain": [
       "<matplotlib.figure.Figure at 0x7fc6332514e0>"
      ]
     },
     "metadata": {},
     "output_type": "display_data"
    }
   ],
   "source": [
    "plt.plot(loss)"
   ]
  },
  {
   "cell_type": "code",
   "execution_count": 9,
   "metadata": {},
   "outputs": [
    {
     "data": {
      "image/png": "[encoded data removed]",
      "text/plain": [
       "<matplotlib.figure.Figure at 0x7fc6331d8710>"
      ]
     },
     "metadata": {},
     "output_type": "display_data"
    }
   ],
   "source": [
    "params = np.array(params)\n",
    "plt.plot(params[:,0],params[:,1])\n",
    "plt.title('Gradient descent')\n",
    "plt.xlabel('w')\n",
    "plt.ylabel('b')\n",
    "plt.show()"
   ]
  },
  {
   "cell_type": "code",
   "execution_count": 10,
   "metadata": {},
   "outputs": [
    {
     "data": {
      "text/plain": [
       "array([ 4.98991104,  2.72258102])"
      ]
     },
     "execution_count": 10,
     "metadata": {},
     "output_type": "execute_result"
    }
   ],
   "source": [
    "params[-1]"
   ]
  },
  {
   "cell_type": "markdown",
   "metadata": {},
   "source": [
    "## Multivariate case\n",
    "\n",
    "We are trying to minimise $\\sum \\xi_i^2$. This time $ f = Xw$ where $w$ is Dx1 and $X$ is NxD.\n",
    "\n",
    "\\begin{align}\n",
    "\\mathcal{L} & = \\frac{1}{N} (y-Xw)^T(y-Xw) \\\\\n",
    "\\frac{\\delta\\mathcal{L}}{\\delta w} & = -\\frac{1}{N} 2\\left(\\frac{\\delta f(X,w)}{\\delta w}\\right)^T(y-Xw) \\\\ \n",
    "& = -\\frac{2}{N} \\left(\\frac{\\delta f(X,w)}{\\delta w}\\right)^T\\xi\n",
    "\\end{align}\n",
    "where $\\xi_i$ is the error term $y_i-f(X,w)$ and \n",
    "$$\n",
    "\\frac{\\delta f(X,w)}{\\delta w} = X\n",
    "$$\n",
    "\n",
    "Finally the weights can be updated as $w_{new} = w_{current} - \\gamma \\frac{\\delta\\mathcal{L}}{\\delta w}$ where $\\gamma$ is a learning rate between 0 and 1."
   ]
  },
  {
   "cell_type": "code",
   "execution_count": 11,
   "metadata": {},
   "outputs": [],
   "source": [
    "N = 1000\n",
    "D = 5\n",
    "X = 5*np.random.randn(N,D)\n",
    "w = np.random.randn(D,1)\n",
    "y = X.dot(w)\n",
    "y_obs = y + np.random.randn(N,1)"
   ]
  },
  {
   "cell_type": "code",
   "execution_count": 12,
   "metadata": {},
   "outputs": [
    {
     "data": {
      "text/plain": [
       "array([[ 0.93774813],\n",
       "       [-2.62540124],\n",
       "       [ 0.74616483],\n",
       "       [ 0.67411002],\n",
       "       [ 1.0142675 ]])"
      ]
     },
     "execution_count": 12,
     "metadata": {},
     "output_type": "execute_result"
    }
   ],
   "source": [
    "w"
   ]
  },
  {
   "cell_type": "code",
   "execution_count": 13,
   "metadata": {},
   "outputs": [
    {
     "data": {
      "text/plain": [
       "(1000, 5)"
      ]
     },
     "execution_count": 13,
     "metadata": {},
     "output_type": "execute_result"
    }
   ],
   "source": [
    "X.shape"
   ]
  },
  {
   "cell_type": "code",
   "execution_count": 14,
   "metadata": {},
   "outputs": [
    {
     "data": {
      "text/plain": [
       "(5, 1)"
      ]
     },
     "execution_count": 14,
     "metadata": {},
     "output_type": "execute_result"
    }
   ],
   "source": [
    "w.shape"
   ]
  },
  {
   "cell_type": "code",
   "execution_count": 15,
   "metadata": {},
   "outputs": [
    {
     "data": {
      "text/plain": [
       "(1000, 5)"
      ]
     },
     "execution_count": 15,
     "metadata": {},
     "output_type": "execute_result"
    }
   ],
   "source": [
    "(X*w.T).shape"
   ]
  },
  {
   "cell_type": "code",
   "execution_count": 16,
   "metadata": {},
   "outputs": [],
   "source": [
    "# Helper functions\n",
    "def f(w):\n",
    "    return X.dot(w)\n",
    "\n",
    "def loss_function(e):\n",
    "    L = e.T.dot(e)/N\n",
    "    return L\n",
    "\n",
    "def dL_dw(e,w):\n",
    "    return -2*X.T.dot(e)/N "
   ]
  },
  {
   "cell_type": "code",
   "execution_count": 17,
   "metadata": {},
   "outputs": [],
   "source": [
    "def gradient_descent(iter=100,gamma=1e-3):\n",
    "    # get starting conditions\n",
    "    w = np.random.randn(D,1)\n",
    "    params = []\n",
    "    loss = np.zeros((iter,1))\n",
    "    for i in range(iter):\n",
    "        params.append(w)\n",
    "        e = y_obs - f(w) # Really important that you use y_obs and not y (you do not have access to true y)\n",
    "        loss[i] = loss_function(e)\n",
    "\n",
    "        #update parameters\n",
    "        w = w - gamma*dL_dw(e,w)\n",
    "        \n",
    "    return params, loss\n",
    "        \n",
    "params, loss = gradient_descent()"
   ]
  },
  {
   "cell_type": "code",
   "execution_count": 18,
   "metadata": {},
   "outputs": [
    {
     "data": {
      "text/plain": [
       "[<matplotlib.lines.Line2D at 0x7fc6330f0c50>]"
      ]
     },
     "execution_count": 18,
     "metadata": {},
     "output_type": "execute_result"
    },
    {
     "data": {
      "image/png": "[encoded data removed]",
      "text/plain": [
       "<matplotlib.figure.Figure at 0x7fc633272ef0>"
      ]
     },
     "metadata": {},
     "output_type": "display_data"
    }
   ],
   "source": [
    "plt.plot(loss)"
   ]
  },
  {
   "cell_type": "code",
   "execution_count": 19,
   "metadata": {},
   "outputs": [
    {
     "data": {
      "text/plain": [
       "array([[ 0.94792987],\n",
       "       [-2.60989696],\n",
       "       [ 0.72929842],\n",
       "       [ 0.65272494],\n",
       "       [ 1.01038855]])"
      ]
     },
     "execution_count": 19,
     "metadata": {},
     "output_type": "execute_result"
    }
   ],
   "source": [
    "params[-1]"
   ]
  },
  {
   "cell_type": "code",
   "execution_count": 20,
   "metadata": {},
   "outputs": [
    {
     "data": {
      "text/plain": [
       "array([[ 0.93774813],\n",
       "       [-2.62540124],\n",
       "       [ 0.74616483],\n",
       "       [ 0.67411002],\n",
       "       [ 1.0142675 ]])"
      ]
     },
     "execution_count": 20,
     "metadata": {},
     "output_type": "execute_result"
    }
   ],
   "source": [
    "model = LinearRegression(fit_intercept=False)\n",
    "model.fit(X,y)\n",
    "model.coef_.T"
   ]
  },
  {
   "cell_type": "code",
   "execution_count": 21,
   "metadata": {},
   "outputs": [
    {
     "data": {
      "text/plain": [
       "array([[ 0.94792987,  0.93774813],\n",
       "       [-2.60989696, -2.62540124],\n",
       "       [ 0.72929842,  0.74616483],\n",
       "       [ 0.65272494,  0.67411002],\n",
       "       [ 1.01038855,  1.0142675 ]])"
      ]
     },
     "execution_count": 21,
     "metadata": {},
     "output_type": "execute_result"
    }
   ],
   "source": [
    "# compare parameters side by side\n",
    "np.hstack([params[-1],model.coef_.T])"
   ]
  },
  {
   "cell_type": "markdown",
   "metadata": {},
   "source": [
    "## Stochastic Gradient Descent"
   ]
  },
  {
   "cell_type": "code",
   "execution_count": 22,
   "metadata": {},
   "outputs": [],
   "source": [
    "def dL_dw(X,e,w):\n",
    "    return -2*X.T.dot(e)/len(X)\n",
    "\n",
    "def gradient_descent(gamma=1e-3, n_epochs=100, batch_size=20, decay=0.9):\n",
    "    epoch_run = int(len(X)/batch_size)\n",
    "    \n",
    "    # get starting conditions\n",
    "    w = np.random.randn(D,1)\n",
    "    params = []\n",
    "    loss = np.zeros((n_epochs,1))\n",
    "    for i in range(n_epochs):\n",
    "        params.append(w)\n",
    "        \n",
    "        for j in range(epoch_run):\n",
    "            idx = np.random.choice(len(X),batch_size,replace=False)\n",
    "            e = y_obs[idx] - X[idx].dot(w) # Really important that you use y_obs and not y (you do not have access to true y)\n",
    "            #update parameters\n",
    "            w = w - gamma*dL_dw(X[idx],e,w)\n",
    "        loss[i] = e.T.dot(e)/len(e)    \n",
    "        gamma = gamma*decay #decay the learning parameter\n",
    "        \n",
    "    return params, loss\n",
    "        \n",
    "params, loss = gradient_descent()"
   ]
  },
  {
   "cell_type": "code",
   "execution_count": 23,
   "metadata": {},
   "outputs": [
    {
     "data": {
      "text/plain": [
       "[<matplotlib.lines.Line2D at 0x7fc6330952b0>]"
      ]
     },
     "execution_count": 23,
     "metadata": {},
     "output_type": "execute_result"
    },
    {
     "data": {
      "image/png": "[encoded data removed]",
      "text/plain": [
       "<matplotlib.figure.Figure at 0x7fc633125d30>"
      ]
     },
     "metadata": {},
     "output_type": "display_data"
    }
   ],
   "source": [
    "plt.plot(loss)"
   ]
  },
  {
   "cell_type": "code",
   "execution_count": 24,
   "metadata": {},
   "outputs": [
    {
     "data": {
      "text/plain": [
       "array([[ 0.94494132,  0.93774813],\n",
       "       [-2.6276984 , -2.62540124],\n",
       "       [ 0.74654537,  0.74616483],\n",
       "       [ 0.66766209,  0.67411002],\n",
       "       [ 1.00760747,  1.0142675 ]])"
      ]
     },
     "execution_count": 24,
     "metadata": {},
     "output_type": "execute_result"
    }
   ],
   "source": [
    "np.hstack([params[-1],model.coef_.T])"
   ]
  },
  {
   "cell_type": "code",
   "execution_count": null,
   "metadata": {},
   "outputs": [],
   "source": []
  },
  {
   "cell_type": "code",
   "execution_count": null,
   "metadata": {},
   "outputs": [],
   "source": []
  },
  {
   "cell_type": "code",
   "execution_count": null,
   "metadata": {},
   "outputs": [],
   "source": [
    "tested"
   ]
  }
 ],
 "metadata": {
  "anaconda-cloud": {},
  "kernelspec": {
   "display_name": "Python 3",
   "language": "python",
   "name": "python3"
  },
  "language_info": {
   "codemirror_mode": {
    "name": "ipython",
    "version": 3
   },
   "file_extension": ".py",
   "mimetype": "text/x-python",
   "name": "python",
   "nbconvert_exporter": "python",
   "pygments_lexer": "ipython3",
   "version": "3.6.3"
  },
  "latex_envs": {
   "bibliofile": "biblio.bib",
   "cite_by": "apalike",
   "current_citInitial": 1,
   "eqLabelWithNumbers": true,
   "eqNumInitial": 0
  }
 },
 "nbformat": 4,
 "nbformat_minor": 1
}
