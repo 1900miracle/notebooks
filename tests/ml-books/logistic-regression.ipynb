{
 "cells": [
  {
   "cell_type": "markdown",
   "metadata": {},
   "source": [
    "*Accompanying code examples of the book \"Introduction to Artificial Neural Networks and Deep Learning: A Practical Guide with Applications in Python\" by [Sebastian Raschka](https://sebastianraschka.com). All code examples are released under the [MIT license](https://github.com/rasbt/deep-learning-book/blob/master/LICENSE). If you find this content useful, please consider supporting the work by buying a [copy of the book](https://leanpub.com/ann-and-deeplearning).*\n",
    "  \n",
    "Other code examples and content are available on [GitHub](https://github.com/rasbt/deep-learning-book). The PDF and ebook versions of the book are available through [Leanpub](https://leanpub.com/ann-and-deeplearning)."
   ]
  },
  {
   "cell_type": "code",
   "execution_count": 1,
   "metadata": {},
   "outputs": [
    {
     "name": "stderr",
     "output_type": "stream",
     "text": [
      "/srv/venv/lib/python3.6/site-packages/h5py/__init__.py:36: FutureWarning: Conversion of the second argument of issubdtype from `float` to `np.floating` is deprecated. In future, it will be treated as `np.float64 == np.dtype(float).type`.\n",
      "  from ._conv import register_converters as _register_converters\n",
      "WARNING (theano.tensor.blas): Using NumPy C-API based implementation for BLAS functions.\n",
      "Using TensorFlow backend.\n",
      "/srv/venv/lib/python3.6/site-packages/tensorflow/python/util/tf_inspect.py:45: DeprecationWarning: inspect.getargspec() is deprecated, use inspect.signature() or inspect.getfullargspec()\n",
      "  if d.decorator_argspec is not None), _inspect.getargspec(target))\n"
     ]
    },
    {
     "name": "stdout",
     "output_type": "stream",
     "text": [
      "Gopala KR \n",
      "last updated: 2018-02-28 \n",
      "\n",
      "CPython 3.6.3\n",
      "IPython 6.2.1\n",
      "\n",
      "watermark 1.6.0\n",
      "numpy 1.14.1\n",
      "matplotlib 2.1.2\n",
      "nltk 3.2.5\n",
      "sklearn 0.19.1\n",
      "tensorflow 1.5.0\n",
      "theano 1.0.1\n",
      "mxnet 1.1.0\n",
      "chainer 3.4.0\n",
      "seaborn 0.8.1\n",
      "keras 2.1.4\n",
      "tflearn n\u0007\n",
      "bokeh 0.12.14\n",
      "gensim 3.3.0\n"
     ]
    },
    {
     "name": "stderr",
     "output_type": "stream",
     "text": [
      "/srv/venv/lib/python3.6/site-packages/scipy/sparse/sparsetools.py:20: DeprecationWarning: `scipy.sparse.sparsetools` is deprecated!\n",
      "scipy.sparse.sparsetools is a private module for scipy.sparse, and should not be used.\n",
      "  _deprecated()\n"
     ]
    }
   ],
   "source": [
    "#load watermark\n",
    "%load_ext watermark\n",
    "%watermark -a 'Gopala KR' -u -d -v -p watermark,numpy,matplotlib,nltk,sklearn,tensorflow,theano,mxnet,chainer,seaborn,keras,tflearn,bokeh,gensim"
   ]
  },
  {
   "cell_type": "markdown",
   "metadata": {},
   "source": [
    "# Model Zoo -- Logistic Regression"
   ]
  },
  {
   "cell_type": "markdown",
   "metadata": {},
   "source": [
    "Implementation of *classic* logistic regression for binary class labels."
   ]
  },
  {
   "cell_type": "code",
   "execution_count": 2,
   "metadata": {},
   "outputs": [
    {
     "data": {
      "image/png": "[encoded data removed]",
      "text/plain": [
       "<matplotlib.figure.Figure at 0x7f456e438320>"
      ]
     },
     "metadata": {},
     "output_type": "display_data"
    }
   ],
   "source": [
    "%matplotlib inline\n",
    "import matplotlib.pyplot as plt\n",
    "import numpy as np\n",
    "from io import BytesIO\n",
    "\n",
    "##########################\n",
    "### DATASET\n",
    "##########################\n",
    "\n",
    "ds = np.lib.DataSource()\n",
    "fp = ds.open('https://archive.ics.uci.edu/ml/machine-learning-databases/iris/iris.data')\n",
    "\n",
    "x = np.genfromtxt(BytesIO(fp.read().encode()), delimiter=',', usecols=range(2), max_rows=100)\n",
    "y = np.zeros(100)\n",
    "y[50:] = 1\n",
    "\n",
    "np.random.seed(1)\n",
    "idx = np.arange(y.shape[0])\n",
    "np.random.shuffle(idx)\n",
    "x_test, y_test = x[idx[:25]], y[idx[:25]]\n",
    "x_train, y_train = x[idx[25:]], y[idx[25:]]\n",
    "mu, std = np.mean(x_train, axis=0), np.std(x_train, axis=0)\n",
    "x_train, x_test = (x_train - mu) / std, (x_test - mu) / std\n",
    "\n",
    "fig, ax = plt.subplots(1, 2, figsize=(7, 2.5))\n",
    "ax[0].scatter(x_train[y_train == 1, 0], x_train[y_train == 1, 1])\n",
    "ax[0].scatter(x_train[y_train == 0, 0], x_train[y_train == 0, 1])\n",
    "ax[1].scatter(x_test[y_test == 1, 0], x_test[y_test == 1, 1])\n",
    "ax[1].scatter(x_test[y_test == 0, 0], x_test[y_test == 0, 1])\n",
    "plt.show()"
   ]
  },
  {
   "cell_type": "code",
   "execution_count": 3,
   "metadata": {},
   "outputs": [],
   "source": [
    "##########################\n",
    "### HELPER FUNCTIONS\n",
    "##########################\n",
    "\n",
    "def iterate_minibatches(arrays, batch_size, shuffle=False, seed=None):\n",
    "    rgen = np.random.RandomState(seed)\n",
    "    indices = np.arange(arrays[0].shape[0])\n",
    "\n",
    "    if shuffle:\n",
    "        rgen.shuffle(indices)\n",
    "\n",
    "    for start_idx in range(0, indices.shape[0] - batch_size + 1, batch_size):\n",
    "        index_slice = indices[start_idx:start_idx + batch_size]\n",
    "\n",
    "        yield (ary[index_slice] for ary in arrays)"
   ]
  },
  {
   "cell_type": "code",
   "execution_count": 4,
   "metadata": {},
   "outputs": [
    {
     "name": "stderr",
     "output_type": "stream",
     "text": [
      "/srv/venv/lib/python3.6/site-packages/tensorflow/python/util/tf_inspect.py:45: DeprecationWarning: inspect.getargspec() is deprecated, use inspect.signature() or inspect.getfullargspec()\n",
      "  if d.decorator_argspec is not None), _inspect.getargspec(target))\n",
      "/srv/venv/lib/python3.6/site-packages/tensorflow/python/framework/tensor_util.py:539: DeprecationWarning: The binary mode of fromstring is deprecated, as it behaves surprisingly on unicode inputs. Use frombuffer instead\n",
      "  return np.fromstring(tensor.tensor_content, dtype=dtype).reshape(shape)\n"
     ]
    },
    {
     "name": "stdout",
     "output_type": "stream",
     "text": [
      "Epoch: 000 | AvgCost: nan | Train/Valid ACC: 0.53/0.40\n",
      "Epoch: 001 | AvgCost: 4.221 | Train/Valid ACC: 1.00/1.00\n",
      "Epoch: 002 | AvgCost: 1.225 | Train/Valid ACC: 1.00/1.00\n",
      "Epoch: 003 | AvgCost: 0.610 | Train/Valid ACC: 1.00/1.00\n",
      "Epoch: 004 | AvgCost: 0.376 | Train/Valid ACC: 1.00/1.00\n",
      "Epoch: 005 | AvgCost: 0.259 | Train/Valid ACC: 1.00/1.00\n",
      "Epoch: 006 | AvgCost: 0.191 | Train/Valid ACC: 1.00/1.00\n",
      "Epoch: 007 | AvgCost: 0.148 | Train/Valid ACC: 1.00/1.00\n",
      "Epoch: 008 | AvgCost: 0.119 | Train/Valid ACC: 1.00/1.00\n",
      "Epoch: 009 | AvgCost: 0.098 | Train/Valid ACC: 1.00/1.00\n",
      "Epoch: 010 | AvgCost: 0.082 | Train/Valid ACC: 1.00/1.00\n",
      "Epoch: 011 | AvgCost: 0.070 | Train/Valid ACC: 1.00/1.00\n",
      "Epoch: 012 | AvgCost: 0.061 | Train/Valid ACC: 1.00/1.00\n",
      "Epoch: 013 | AvgCost: 0.053 | Train/Valid ACC: 1.00/1.00\n",
      "Epoch: 014 | AvgCost: 0.047 | Train/Valid ACC: 1.00/1.00\n",
      "\n",
      "Weights:\n",
      " [[ 3.3117669]\n",
      " [-2.408087 ]]\n",
      "\n",
      "Bias:\n",
      " [[-0.01001291]]\n"
     ]
    }
   ],
   "source": [
    "import tensorflow as tf\n",
    "\n",
    "\n",
    "##########################\n",
    "### SETTINGS\n",
    "##########################\n",
    "\n",
    "n_features = x.shape[1]\n",
    "n_samples = x.shape[0]\n",
    "learning_rate = 0.05\n",
    "training_epochs = 15\n",
    "batch_size = 10\n",
    "\n",
    "\n",
    "##########################\n",
    "### GRAPH DEFINITION\n",
    "##########################\n",
    "\n",
    "g = tf.Graph()\n",
    "with g.as_default() as g:\n",
    "\n",
    "   # Input data\n",
    "    tf_x = tf.placeholder(dtype=tf.float32,\n",
    "                          shape=[None, n_features], name='inputs')\n",
    "    tf_y = tf.placeholder(dtype=tf.float32,\n",
    "                          shape=[None], name='targets')\n",
    "    \n",
    "    # Model parameters\n",
    "    params = {\n",
    "        'weights': tf.Variable(tf.zeros(shape=[n_features, 1],\n",
    "                                               dtype=tf.float32), name='weights'),\n",
    "        'bias': tf.Variable([[0.]], dtype=tf.float32, name='bias')}\n",
    "\n",
    "    # Logistic Regression\n",
    "    linear = tf.matmul(tf_x, params['weights']) + params['bias']\n",
    "    pred_proba = tf.sigmoid(linear, name='predict_probas')\n",
    "\n",
    "    # Loss and optimizer\n",
    "    r = tf.reshape(pred_proba, [-1])\n",
    "    cost = tf.reduce_mean(tf.reduce_sum((-tf_y * tf.log(r)) - \n",
    "                                        ((1. - tf_y) * tf.log(1. - r))), name='cost')\n",
    "    optimizer = tf.train.GradientDescentOptimizer(learning_rate=learning_rate)\n",
    "    train = optimizer.minimize(cost, name='train')\n",
    "                                                  \n",
    "    # Class prediction\n",
    "    pred_labels = tf.round(tf.reshape(pred_proba, [-1]), name='predict_labels')\n",
    "    correct_prediction = tf.equal(tf_y, pred_labels)\n",
    "    accuracy = tf.reduce_mean(tf.cast(correct_prediction, tf.float32), name='accuracy')\n",
    "\n",
    "\n",
    "##########################\n",
    "### TRAINING & EVALUATION\n",
    "##########################\n",
    "    \n",
    "with tf.Session(graph=g) as sess:\n",
    "    sess.run(tf.global_variables_initializer())\n",
    "    \n",
    "    avg_cost = np.nan\n",
    "    count = 1\n",
    "    \n",
    "    for epoch in range(training_epochs):\n",
    "\n",
    "        train_acc = sess.run('accuracy:0', feed_dict={tf_x: x_train,\n",
    "                                                      tf_y: y_train})\n",
    "        valid_acc = sess.run('accuracy:0', feed_dict={tf_x: x_test,\n",
    "                                                      tf_y: y_test}) \n",
    "\n",
    "        print(\"Epoch: %03d | AvgCost: %.3f\" % (epoch, avg_cost / count), end=\"\")\n",
    "        print(\" | Train/Valid ACC: %.2f/%.2f\" % (train_acc, valid_acc))\n",
    "        \n",
    "        avg_cost = 0.\n",
    "        for x_batch, y_batch in iterate_minibatches(arrays=[x_train, y_train],\n",
    "                                                    batch_size=batch_size, \n",
    "                                                    shuffle=True, seed=123):\n",
    "            \n",
    "            feed_dict = {'inputs:0': x_batch,\n",
    "                         'targets:0': y_batch}\n",
    "            _, c = sess.run(['train', 'cost:0'], feed_dict=feed_dict)\n",
    "\n",
    "            avg_cost += c\n",
    "            count += 1\n",
    "\n",
    "    weights, bias = sess.run(['weights:0', 'bias:0'])\n",
    "    print('\\nWeights:\\n', weights)\n",
    "    print('\\nBias:\\n', bias)"
   ]
  },
  {
   "cell_type": "code",
   "execution_count": null,
   "metadata": {},
   "outputs": [],
   "source": []
  }
 ],
 "metadata": {
  "kernelspec": {
   "display_name": "Python 3",
   "language": "python",
   "name": "python3"
  },
  "language_info": {
   "codemirror_mode": {
    "name": "ipython",
    "version": 3
   },
   "file_extension": ".py",
   "mimetype": "text/x-python",
   "name": "python",
   "nbconvert_exporter": "python",
   "pygments_lexer": "ipython3",
   "version": "3.6.3"
  }
 },
 "nbformat": 4,
 "nbformat_minor": 2
}
