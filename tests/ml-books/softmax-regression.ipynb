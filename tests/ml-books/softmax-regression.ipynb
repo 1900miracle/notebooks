{
 "cells": [
  {
   "cell_type": "markdown",
   "metadata": {},
   "source": [
    "*Accompanying code examples of the book \"Introduction to Artificial Neural Networks and Deep Learning: A Practical Guide with Applications in Python\" by [Sebastian Raschka](https://sebastianraschka.com). All code examples are released under the [MIT license](https://github.com/rasbt/deep-learning-book/blob/master/LICENSE). If you find this content useful, please consider supporting the work by buying a [copy of the book](https://leanpub.com/ann-and-deeplearning).*\n",
    "  \n",
    "Other code examples and content are available on [GitHub](https://github.com/rasbt/deep-learning-book). The PDF and ebook versions of the book are available through [Leanpub](https://leanpub.com/ann-and-deeplearning)."
   ]
  },
  {
   "cell_type": "code",
   "execution_count": 1,
   "metadata": {},
   "outputs": [
    {
     "name": "stderr",
     "output_type": "stream",
     "text": [
      "/srv/venv/lib/python3.6/site-packages/h5py/__init__.py:36: FutureWarning: Conversion of the second argument of issubdtype from `float` to `np.floating` is deprecated. In future, it will be treated as `np.float64 == np.dtype(float).type`.\n",
      "  from ._conv import register_converters as _register_converters\n",
      "WARNING (theano.tensor.blas): Using NumPy C-API based implementation for BLAS functions.\n",
      "Using TensorFlow backend.\n",
      "/srv/venv/lib/python3.6/site-packages/tensorflow/python/util/tf_inspect.py:45: DeprecationWarning: inspect.getargspec() is deprecated, use inspect.signature() or inspect.getfullargspec()\n",
      "  if d.decorator_argspec is not None), _inspect.getargspec(target))\n"
     ]
    },
    {
     "name": "stdout",
     "output_type": "stream",
     "text": [
      "Gopala KR \n",
      "last updated: 2018-02-28 \n",
      "\n",
      "CPython 3.6.3\n",
      "IPython 6.2.1\n",
      "\n",
      "watermark 1.6.0\n",
      "numpy 1.14.1\n",
      "matplotlib 2.1.2\n",
      "nltk 3.2.5\n",
      "sklearn 0.19.1\n",
      "tensorflow 1.5.0\n",
      "theano 1.0.1\n",
      "mxnet 1.1.0\n",
      "chainer 3.4.0\n",
      "seaborn 0.8.1\n",
      "keras 2.1.4\n",
      "tflearn n\u0007\n",
      "bokeh 0.12.14\n",
      "gensim 3.3.0\n"
     ]
    },
    {
     "name": "stderr",
     "output_type": "stream",
     "text": [
      "/srv/venv/lib/python3.6/site-packages/scipy/sparse/sparsetools.py:20: DeprecationWarning: `scipy.sparse.sparsetools` is deprecated!\n",
      "scipy.sparse.sparsetools is a private module for scipy.sparse, and should not be used.\n",
      "  _deprecated()\n"
     ]
    }
   ],
   "source": [
    "#load watermark\n",
    "%load_ext watermark\n",
    "%watermark -a 'Gopala KR' -u -d -v -p watermark,numpy,matplotlib,nltk,sklearn,tensorflow,theano,mxnet,chainer,seaborn,keras,tflearn,bokeh,gensim"
   ]
  },
  {
   "cell_type": "markdown",
   "metadata": {},
   "source": [
    "# Model Zoo -- Softmax Regression"
   ]
  },
  {
   "cell_type": "markdown",
   "metadata": {},
   "source": [
    "Implementation of softmax regression (multinomial logistic regression)."
   ]
  },
  {
   "cell_type": "code",
   "execution_count": 2,
   "metadata": {},
   "outputs": [
    {
     "name": "stdout",
     "output_type": "stream",
     "text": [
      "Extracting ./train-images-idx3-ubyte.gz\n",
      "Extracting ./train-labels-idx1-ubyte.gz\n",
      "Extracting ./t10k-images-idx3-ubyte.gz\n",
      "Extracting ./t10k-labels-idx1-ubyte.gz\n"
     ]
    },
    {
     "name": "stderr",
     "output_type": "stream",
     "text": [
      "/srv/venv/lib/python3.6/site-packages/tensorflow/python/util/tf_inspect.py:45: DeprecationWarning: inspect.getargspec() is deprecated, use inspect.signature() or inspect.getfullargspec()\n",
      "  if d.decorator_argspec is not None), _inspect.getargspec(target))\n"
     ]
    },
    {
     "name": "stdout",
     "output_type": "stream",
     "text": [
      "WARNING:tensorflow:From <ipython-input-2-116fa7c2c95a>:49: softmax_cross_entropy_with_logits (from tensorflow.python.ops.nn_ops) is deprecated and will be removed in a future version.\n",
      "Instructions for updating:\n",
      "\n",
      "Future major versions of TensorFlow will allow gradients to flow\n",
      "into the labels input on backprop by default.\n",
      "\n",
      "See tf.nn.softmax_cross_entropy_with_logits_v2.\n",
      "\n"
     ]
    },
    {
     "name": "stderr",
     "output_type": "stream",
     "text": [
      "/srv/venv/lib/python3.6/site-packages/tensorflow/python/framework/tensor_util.py:539: DeprecationWarning: The binary mode of fromstring is deprecated, as it behaves surprisingly on unicode inputs. Use frombuffer instead\n",
      "  return np.fromstring(tensor.tensor_content, dtype=dtype).reshape(shape)\n"
     ]
    },
    {
     "name": "stdout",
     "output_type": "stream",
     "text": [
      "Epoch: 001 | AvgCost: 0.476 | Train/Valid ACC: 0.900/0.907\n",
      "Epoch: 002 | AvgCost: 0.341 | Train/Valid ACC: 0.910/0.915\n",
      "Epoch: 003 | AvgCost: 0.320 | Train/Valid ACC: 0.911/0.918\n",
      "Epoch: 004 | AvgCost: 0.307 | Train/Valid ACC: 0.916/0.921\n",
      "Epoch: 005 | AvgCost: 0.301 | Train/Valid ACC: 0.919/0.924\n",
      "Epoch: 006 | AvgCost: 0.297 | Train/Valid ACC: 0.919/0.923\n",
      "Epoch: 007 | AvgCost: 0.291 | Train/Valid ACC: 0.922/0.925\n",
      "Epoch: 008 | AvgCost: 0.289 | Train/Valid ACC: 0.920/0.924\n",
      "Epoch: 009 | AvgCost: 0.285 | Train/Valid ACC: 0.923/0.926\n",
      "Epoch: 010 | AvgCost: 0.284 | Train/Valid ACC: 0.923/0.924\n",
      "Epoch: 011 | AvgCost: 0.281 | Train/Valid ACC: 0.922/0.926\n",
      "Epoch: 012 | AvgCost: 0.279 | Train/Valid ACC: 0.924/0.925\n",
      "Epoch: 013 | AvgCost: 0.278 | Train/Valid ACC: 0.926/0.925\n",
      "Epoch: 014 | AvgCost: 0.276 | Train/Valid ACC: 0.926/0.926\n",
      "Epoch: 015 | AvgCost: 0.274 | Train/Valid ACC: 0.925/0.927\n",
      "Epoch: 016 | AvgCost: 0.275 | Train/Valid ACC: 0.926/0.930\n",
      "Epoch: 017 | AvgCost: 0.273 | Train/Valid ACC: 0.927/0.926\n",
      "Epoch: 018 | AvgCost: 0.272 | Train/Valid ACC: 0.926/0.927\n",
      "Epoch: 019 | AvgCost: 0.271 | Train/Valid ACC: 0.927/0.928\n",
      "Epoch: 020 | AvgCost: 0.269 | Train/Valid ACC: 0.927/0.928\n",
      "Epoch: 021 | AvgCost: 0.269 | Train/Valid ACC: 0.927/0.929\n",
      "Epoch: 022 | AvgCost: 0.268 | Train/Valid ACC: 0.927/0.927\n",
      "Epoch: 023 | AvgCost: 0.267 | Train/Valid ACC: 0.928/0.926\n",
      "Epoch: 024 | AvgCost: 0.265 | Train/Valid ACC: 0.926/0.926\n",
      "Epoch: 025 | AvgCost: 0.265 | Train/Valid ACC: 0.929/0.928\n",
      "Epoch: 026 | AvgCost: 0.263 | Train/Valid ACC: 0.929/0.928\n",
      "Epoch: 027 | AvgCost: 0.267 | Train/Valid ACC: 0.929/0.927\n",
      "Epoch: 028 | AvgCost: 0.263 | Train/Valid ACC: 0.929/0.927\n",
      "Epoch: 029 | AvgCost: 0.263 | Train/Valid ACC: 0.929/0.928\n",
      "Epoch: 030 | AvgCost: 0.263 | Train/Valid ACC: 0.929/0.927\n",
      "Test ACC: 0.924\n"
     ]
    }
   ],
   "source": [
    "import tensorflow as tf\n",
    "from tensorflow.examples.tutorials.mnist import input_data\n",
    "\n",
    "\n",
    "##########################\n",
    "### DATASET\n",
    "##########################\n",
    "\n",
    "mnist = input_data.read_data_sets(\"./\", one_hot=True)\n",
    "\n",
    "\n",
    "##########################\n",
    "### SETTINGS\n",
    "##########################\n",
    "\n",
    "# Hyperparameters\n",
    "learning_rate = 0.5\n",
    "training_epochs = 30\n",
    "batch_size = 256\n",
    "\n",
    "# Architecture\n",
    "n_features = 784\n",
    "n_classes = 10\n",
    "\n",
    "\n",
    "##########################\n",
    "### GRAPH DEFINITION\n",
    "##########################\n",
    "\n",
    "g = tf.Graph()\n",
    "with g.as_default():\n",
    "\n",
    "    # Input data\n",
    "    tf_x = tf.placeholder(tf.float32, [None, n_features])\n",
    "    tf_y = tf.placeholder(tf.float32, [None, n_classes])\n",
    "\n",
    "    # Model parameters\n",
    "    params = {\n",
    "        'weights': tf.Variable(tf.zeros(shape=[n_features, n_classes],\n",
    "                                               dtype=tf.float32), name='weights'),\n",
    "        'bias': tf.Variable([[n_classes]], dtype=tf.float32, name='bias')}\n",
    "\n",
    "    # Softmax regression\n",
    "    linear = tf.matmul(tf_x, params['weights']) + params['bias']\n",
    "    pred_proba = tf.nn.softmax(linear, name='predict_probas')\n",
    "    \n",
    "    # Loss and optimizer\n",
    "    cost = tf.reduce_mean(tf.nn.softmax_cross_entropy_with_logits(\n",
    "        logits=linear, labels=tf_y), name='cost')\n",
    "    optimizer = tf.train.GradientDescentOptimizer(learning_rate=learning_rate)\n",
    "    train = optimizer.minimize(cost, name='train')\n",
    "\n",
    "    # Class prediction\n",
    "    pred_labels = tf.argmax(pred_proba, 1, name='predict_labels')\n",
    "    correct_prediction = tf.equal(tf.argmax(tf_y, 1), pred_labels)\n",
    "    accuracy = tf.reduce_mean(tf.cast(correct_prediction, tf.float32), name='accuracy')\n",
    "\n",
    "    \n",
    "##########################\n",
    "### TRAINING & EVALUATION\n",
    "##########################\n",
    "\n",
    "with tf.Session(graph=g) as sess:\n",
    "    sess.run(tf.global_variables_initializer())\n",
    "\n",
    "    for epoch in range(training_epochs):\n",
    "        avg_cost = 0.\n",
    "        total_batch = mnist.train.num_examples // batch_size\n",
    "\n",
    "        for i in range(total_batch):\n",
    "            batch_x, batch_y = mnist.train.next_batch(batch_size)\n",
    "            _, c = sess.run(['train', 'cost:0'], feed_dict={tf_x: batch_x,\n",
    "                                                            tf_y: batch_y})\n",
    "            avg_cost += c\n",
    "        \n",
    "        train_acc = sess.run('accuracy:0', feed_dict={tf_x: mnist.train.images,\n",
    "                                                      tf_y: mnist.train.labels})\n",
    "        valid_acc = sess.run('accuracy:0', feed_dict={tf_x: mnist.validation.images,\n",
    "                                                      tf_y: mnist.validation.labels})  \n",
    "        \n",
    "        print(\"Epoch: %03d | AvgCost: %.3f\" % (epoch + 1, avg_cost / (i + 1)), end=\"\")\n",
    "        print(\" | Train/Valid ACC: %.3f/%.3f\" % (train_acc, valid_acc))\n",
    "        \n",
    "    test_acc = sess.run(accuracy, feed_dict={tf_x: mnist.test.images,\n",
    "                                             tf_y: mnist.test.labels})\n",
    "    print('Test ACC: %.3f' % test_acc)"
   ]
  },
  {
   "cell_type": "code",
   "execution_count": null,
   "metadata": {},
   "outputs": [],
   "source": []
  },
  {
   "cell_type": "code",
   "execution_count": null,
   "metadata": {},
   "outputs": [],
   "source": []
  },
  {
   "cell_type": "code",
   "execution_count": null,
   "metadata": {},
   "outputs": [],
   "source": []
  }
 ],
 "metadata": {
  "kernelspec": {
   "display_name": "Python 3",
   "language": "python",
   "name": "python3"
  },
  "language_info": {
   "codemirror_mode": {
    "name": "ipython",
    "version": 3
   },
   "file_extension": ".py",
   "mimetype": "text/x-python",
   "name": "python",
   "nbconvert_exporter": "python",
   "pygments_lexer": "ipython3",
   "version": "3.6.3"
  }
 },
 "nbformat": 4,
 "nbformat_minor": 2
}
