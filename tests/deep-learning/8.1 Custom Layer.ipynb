{
 "cells": [
  {
   "cell_type": "markdown",
   "metadata": {},
   "source": [
    "# Custom Keras Layer"
   ]
  },
  {
   "cell_type": "markdown",
   "metadata": {},
   "source": [
    "## Idea:\n",
    "\n",
    "We build a custom activation layer called **Antirectifier**,\n",
    "which modifies the shape of the tensor that passes through it.\n",
    "\n",
    "We need to specify two methods: `get_output_shape_for` and `call`.\n",
    "\n",
    "Note that the same result can also be achieved via a `Lambda` layer (`keras.layer.core.Lambda`)."
   ]
  },
  {
   "cell_type": "markdown",
   "metadata": {},
   "source": [
    "```python\n",
    "\n",
    "keras.layers.core.Lambda(function, output_shape=None, arguments=None)\n",
    "\n",
    "```"
   ]
  },
  {
   "cell_type": "markdown",
   "metadata": {},
   "source": [
    "Because our custom layer is written with primitives from the Keras backend (`K`), our code can run both on TensorFlow and Theano."
   ]
  },
  {
   "cell_type": "code",
   "execution_count": 1,
   "metadata": {},
   "outputs": [
    {
     "name": "stderr",
     "output_type": "stream",
     "text": [
      "Using TensorFlow backend.\n"
     ]
    }
   ],
   "source": [
    "from keras.models import Sequential\n",
    "from keras.layers import Dense, Dropout, Layer, Activation\n",
    "from keras.datasets import mnist\n",
    "from keras import backend as K\n",
    "from keras.utils import np_utils"
   ]
  },
  {
   "cell_type": "markdown",
   "metadata": {},
   "source": [
    "## AntiRectifier Layer"
   ]
  },
  {
   "cell_type": "code",
   "execution_count": 2,
   "metadata": {},
   "outputs": [],
   "source": [
    "class Antirectifier(Layer):\n",
    "    '''This is the combination of a sample-wise\n",
    "    L2 normalization with the concatenation of the\n",
    "    positive part of the input with the negative part\n",
    "    of the input. The result is a tensor of samples that are\n",
    "    twice as large as the input samples.\n",
    "\n",
    "    It can be used in place of a ReLU.\n",
    "\n",
    "    # Input shape\n",
    "        2D tensor of shape (samples, n)\n",
    "\n",
    "    # Output shape\n",
    "        2D tensor of shape (samples, 2*n)\n",
    "\n",
    "    # Theoretical justification\n",
    "        When applying ReLU, assuming that the distribution\n",
    "        of the previous output is approximately centered around 0.,\n",
    "        you are discarding half of your input. This is inefficient.\n",
    "\n",
    "        Antirectifier allows to return all-positive outputs like ReLU,\n",
    "        without discarding any data.\n",
    "\n",
    "        Tests on MNIST show that Antirectifier allows to train networks\n",
    "        with twice less parameters yet with comparable\n",
    "        classification accuracy as an equivalent ReLU-based network.\n",
    "    '''\n",
    "\n",
    "    def compute_output_shape(self, input_shape):\n",
    "        shape = list(input_shape)\n",
    "        assert len(shape) == 2  # only valid for 2D tensors\n",
    "        shape[-1] *= 2\n",
    "        return tuple(shape)\n",
    "\n",
    "    def call(self, inputs):\n",
    "        inputs -= K.mean(inputs, axis=1, keepdims=True)\n",
    "        inputs = K.l2_normalize(inputs, axis=1)\n",
    "        pos = K.relu(inputs)\n",
    "        neg = K.relu(-inputs)\n",
    "        return K.concatenate([pos, neg], axis=1)"
   ]
  },
  {
   "cell_type": "markdown",
   "metadata": {},
   "source": [
    "### Parametrs and Settings"
   ]
  },
  {
   "cell_type": "code",
   "execution_count": 3,
   "metadata": {},
   "outputs": [],
   "source": [
    "# global parameters\n",
    "batch_size = 128\n",
    "nb_classes = 10\n",
    "nb_epoch = 10"
   ]
  },
  {
   "cell_type": "markdown",
   "metadata": {},
   "source": [
    "## Data Preparation"
   ]
  },
  {
   "cell_type": "code",
   "execution_count": 4,
   "metadata": {},
   "outputs": [
    {
     "name": "stdout",
     "output_type": "stream",
     "text": [
      "60000 train samples\n",
      "10000 test samples\n"
     ]
    }
   ],
   "source": [
    "# the data, shuffled and split between train and test sets\n",
    "(X_train, y_train), (X_test, y_test) = mnist.load_data()\n",
    "\n",
    "X_train = X_train.reshape(60000, 784)\n",
    "X_test = X_test.reshape(10000, 784)\n",
    "X_train = X_train.astype('float32')\n",
    "X_test = X_test.astype('float32')\n",
    "X_train /= 255\n",
    "X_test /= 255\n",
    "print(X_train.shape[0], 'train samples')\n",
    "print(X_test.shape[0], 'test samples')\n",
    "\n",
    "# convert class vectors to binary class matrices\n",
    "Y_train = np_utils.to_categorical(y_train, nb_classes)\n",
    "Y_test = np_utils.to_categorical(y_test, nb_classes)"
   ]
  },
  {
   "cell_type": "markdown",
   "metadata": {},
   "source": [
    "## Model with Custom Layer"
   ]
  },
  {
   "cell_type": "code",
   "execution_count": 5,
   "metadata": {
    "scrolled": true
   },
   "outputs": [
    {
     "name": "stdout",
     "output_type": "stream",
     "text": [
      "Train on 60000 samples, validate on 10000 samples\n",
      "Epoch 1/10\n",
      "60000/60000 [==============================] - 14s 235us/step - loss: 0.5989 - acc: 0.9158 - val_loss: 0.1514 - val_acc: 0.9621\n",
      "Epoch 2/10\n",
      "60000/60000 [==============================] - 9s 152us/step - loss: 0.1247 - acc: 0.9662 - val_loss: 0.0943 - val_acc: 0.9718\n",
      "Epoch 3/10\n",
      "60000/60000 [==============================] - 9s 153us/step - loss: 0.0819 - acc: 0.9766 - val_loss: 0.0900 - val_acc: 0.9723\n",
      "Epoch 4/10\n",
      "60000/60000 [==============================] - 9s 155us/step - loss: 0.0624 - acc: 0.9816 - val_loss: 0.0690 - val_acc: 0.9796\n",
      "Epoch 5/10\n",
      "60000/60000 [==============================] - 9s 150us/step - loss: 0.0511 - acc: 0.9847 - val_loss: 0.0712 - val_acc: 0.9776\n",
      "Epoch 6/10\n",
      "60000/60000 [==============================] - 9s 148us/step - loss: 0.0430 - acc: 0.9869 - val_loss: 0.0777 - val_acc: 0.9768\n",
      "Epoch 7/10\n",
      "60000/60000 [==============================] - 9s 145us/step - loss: 0.0365 - acc: 0.9885 - val_loss: 0.0645 - val_acc: 0.9803\n",
      "Epoch 8/10\n",
      "60000/60000 [==============================] - 9s 148us/step - loss: 0.0315 - acc: 0.9904 - val_loss: 0.0645 - val_acc: 0.9811\n",
      "Epoch 9/10\n",
      "60000/60000 [==============================] - 9s 153us/step - loss: 0.0273 - acc: 0.9916 - val_loss: 0.0652 - val_acc: 0.9809\n",
      "Epoch 10/10\n",
      "60000/60000 [==============================] - 9s 151us/step - loss: 0.0245 - acc: 0.9926 - val_loss: 0.0724 - val_acc: 0.9772\n"
     ]
    },
    {
     "data": {
      "text/plain": [
       "<keras.callbacks.History at 0x7f52c4ce5c50>"
      ]
     },
     "execution_count": 5,
     "metadata": {},
     "output_type": "execute_result"
    }
   ],
   "source": [
    "# build the model\n",
    "model = Sequential()\n",
    "model.add(Dense(256, input_shape=(784,)))\n",
    "model.add(Antirectifier())\n",
    "model.add(Dropout(0.1))\n",
    "model.add(Dense(256))\n",
    "model.add(Antirectifier())\n",
    "model.add(Dropout(0.1))\n",
    "model.add(Dense(10))\n",
    "model.add(Activation('softmax'))\n",
    "\n",
    "# compile the model\n",
    "model.compile(loss='categorical_crossentropy',\n",
    "              optimizer='rmsprop',\n",
    "              metrics=['accuracy'])\n",
    "\n",
    "# train the model\n",
    "model.fit(X_train, Y_train,\n",
    "          batch_size=batch_size, epochs=nb_epoch,\n",
    "          verbose=1, validation_data=(X_test, Y_test))"
   ]
  },
  {
   "cell_type": "markdown",
   "metadata": {},
   "source": [
    "# Excercise"
   ]
  },
  {
   "cell_type": "markdown",
   "metadata": {},
   "source": [
    "Compare with an equivalent network that is **2x bigger** (in terms of Dense layers) + **ReLU**)"
   ]
  },
  {
   "cell_type": "code",
   "execution_count": 6,
   "metadata": {},
   "outputs": [],
   "source": [
    "## your code here"
   ]
  },
  {
   "cell_type": "markdown",
   "metadata": {},
   "source": [
    "test complete; Gopal"
   ]
  },
  {
   "cell_type": "code",
   "execution_count": null,
   "metadata": {},
   "outputs": [],
   "source": []
  }
 ],
 "metadata": {
  "kernelspec": {
   "display_name": "Python 3",
   "language": "python",
   "name": "python3"
  },
  "language_info": {
   "codemirror_mode": {
    "name": "ipython",
    "version": 3
   },
   "file_extension": ".py",
   "mimetype": "text/x-python",
   "name": "python",
   "nbconvert_exporter": "python",
   "pygments_lexer": "ipython3",
   "version": "3.6.3"
  }
 },
 "nbformat": 4,
 "nbformat_minor": 2
}
