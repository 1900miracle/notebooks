{
 "cells": [
  {
   "cell_type": "markdown",
   "metadata": {},
   "source": [
    "# Fully Connected Feed-Forward Network\n",
    "\n",
    "In this notebook we will play with Feed-Forward FC-NN (Fully Connected Neural Network) for a *classification task*: \n",
    "\n",
    "Image Classification on MNIST Dataset\n",
    "\n",
    "**RECALL**\n",
    "\n",
    "In the FC-NN, the output of each layer is computed using the activations from the previous one, as follows:\n",
    "\n",
    "$$h_{i} = \\sigma(W_i h_{i-1} + b_i)$$\n",
    "\n",
    "where ${h}_i$ is the activation vector from the $i$-th layer (or the input data for $i=0$), ${W}_i$ and ${b}_i$ are  the weight matrix and the bias vector for the $i$-th layer, respectively. \n",
    "<br><rb>\n",
    "$\\sigma(\\cdot)$ is the activation function. In our example, we will use the *ReLU* activation function for the hidden layers and *softmax* for the last layer.\n",
    "\n",
    "To regularize the model, we will also insert a Dropout layer between consecutive hidden layers. \n",
    "\n",
    "Dropout works by “dropping out” some unit activations in a given layer, that is setting them to zero with a given probability.\n",
    "\n",
    "Our loss function will be the **categorical crossentropy**."
   ]
  },
  {
   "cell_type": "markdown",
   "metadata": {},
   "source": [
    "## Model definition\n",
    "Keras supports two different kind of models: the [Sequential](http://keras.io/models/#sequential) model and the [Graph](http://keras.io/models/#graph) model. The former is used to build linear stacks of layer (so each layer has one input and one output), and the latter supports any kind of connection graph.\n",
    "\n",
    "In our case we build a Sequential model with three [Dense](http://keras.io/layers/core/#dense) (aka fully connected) layers, with some [Dropout](http://keras.io/layers/core/#dropout). Notice that the output layer has the softmax activation function. \n",
    "\n",
    "The resulting model is actually a `function` of its own inputs implemented using the Keras backend. \n",
    "\n",
    "We apply the binary crossentropy loss and choose SGD as the optimizer. \n",
    "\n",
    "Please remind that Keras supports a variety of different [optimizers](http://keras.io/optimizers/) and [loss functions](http://keras.io/objectives/), which you may want to check out. "
   ]
  },
  {
   "cell_type": "code",
   "execution_count": 1,
   "metadata": {},
   "outputs": [],
   "source": [
    "import numpy as np\n",
    "import matplotlib.pyplot as plt\n",
    "\n",
    "%matplotlib inline"
   ]
  },
  {
   "cell_type": "markdown",
   "metadata": {},
   "source": [
    "## Introducing ReLU"
   ]
  },
  {
   "cell_type": "markdown",
   "metadata": {},
   "source": [
    "The **ReLu** function is defined as $f(x) = \\max(0, x),$ [1]\n",
    "\n",
    "A smooth approximation to the rectifier is the *analytic function*: $f(x) = \\ln(1 + e^x)$\n",
    "\n",
    "which is called the **softplus** function.\n",
    "\n",
    "The derivative of softplus is $f'(x) = e^x / (e^x + 1) = 1 / (1 + e^{-x})$, i.e. the **logistic function**.\n",
    "\n",
    "[1] [http://www.cs.toronto.edu/~fritz/absps/reluICML.pdf]() by G. E. Hinton "
   ]
  },
  {
   "cell_type": "markdown",
   "metadata": {},
   "source": [
    "### Note: Keep in mind this function as it is heavily used in CNN"
   ]
  },
  {
   "cell_type": "code",
   "execution_count": 2,
   "metadata": {},
   "outputs": [
    {
     "name": "stderr",
     "output_type": "stream",
     "text": [
      "Using TensorFlow backend.\n"
     ]
    }
   ],
   "source": [
    "from keras.models import Sequential\n",
    "from keras.layers.core import Dense\n",
    "from keras.optimizers import SGD\n",
    "\n",
    "nb_classes = 10\n",
    "\n",
    "# FC@512+relu -> FC@512+relu -> FC@nb_classes+softmax\n",
    "# ... your Code Here"
   ]
  },
  {
   "cell_type": "code",
   "execution_count": 3,
   "metadata": {},
   "outputs": [],
   "source": [
    "# %load ../solutions/sol_321.py"
   ]
  },
  {
   "cell_type": "code",
   "execution_count": 4,
   "metadata": {},
   "outputs": [],
   "source": [
    "from keras.models import Sequential\n",
    "from keras.layers.core import Dense\n",
    "from keras.optimizers import SGD\n",
    "\n",
    "model = Sequential()\n",
    "model.add(Dense(512, activation='relu', input_shape=(784,)))\n",
    "model.add(Dense(512, activation='relu'))\n",
    "model.add(Dense(10, activation='softmax'))\n",
    "\n",
    "model.compile(loss='categorical_crossentropy', optimizer=SGD(lr=0.001), \n",
    "              metrics=['accuracy'])"
   ]
  },
  {
   "cell_type": "markdown",
   "metadata": {},
   "source": [
    "## Data preparation (`keras.dataset`)\n",
    "\n",
    "We will train our model on the MNIST dataset, which consists of 60,000 28x28 grayscale images of the 10 digits, along with a test set of 10,000 images. \n",
    "\n",
    "![](../imgs/mnist.png)\n",
    "\n",
    "Since this dataset is **provided** with Keras, we just ask the `keras.dataset` model for training and test data.\n",
    "\n",
    "We will:\n",
    "\n",
    "* download the data\n",
    "* reshape data to be in vectorial form (original data are images)\n",
    "* normalize between 0 and 1.\n",
    "\n",
    "The `binary_crossentropy` loss expects a **one-hot-vector** as input, therefore we apply the `to_categorical` function from `keras.utilis` to convert integer labels to **one-hot-vectors**."
   ]
  },
  {
   "cell_type": "code",
   "execution_count": 5,
   "metadata": {},
   "outputs": [],
   "source": [
    "from keras.datasets import mnist\n",
    "from keras.utils import np_utils\n",
    "\n",
    "(X_train, y_train), (X_test, y_test) = mnist.load_data()"
   ]
  },
  {
   "cell_type": "code",
   "execution_count": 6,
   "metadata": {},
   "outputs": [
    {
     "data": {
      "text/plain": [
       "(60000, 28, 28)"
      ]
     },
     "execution_count": 6,
     "metadata": {},
     "output_type": "execute_result"
    }
   ],
   "source": [
    "X_train.shape"
   ]
  },
  {
   "cell_type": "code",
   "execution_count": 7,
   "metadata": {},
   "outputs": [],
   "source": [
    "X_train = X_train.reshape(60000, 784)\n",
    "X_test = X_test.reshape(10000, 784)\n",
    "X_train = X_train.astype(\"float32\")\n",
    "X_test = X_test.astype(\"float32\")\n",
    "\n",
    "# Put everything on grayscale\n",
    "X_train /= 255\n",
    "X_test /= 255\n",
    "\n",
    "# convert class vectors to binary class matrices\n",
    "Y_train = np_utils.to_categorical(y_train, 10)\n",
    "Y_test = np_utils.to_categorical(y_test, 10)"
   ]
  },
  {
   "cell_type": "markdown",
   "metadata": {},
   "source": [
    "#### Split Training and Validation Data"
   ]
  },
  {
   "cell_type": "code",
   "execution_count": 8,
   "metadata": {},
   "outputs": [],
   "source": [
    "from sklearn.model_selection import train_test_split\n",
    "\n",
    "X_train, X_val, Y_train, Y_val = train_test_split(X_train, Y_train)"
   ]
  },
  {
   "cell_type": "code",
   "execution_count": 9,
   "metadata": {},
   "outputs": [
    {
     "data": {
      "text/plain": [
       "(784,)"
      ]
     },
     "execution_count": 9,
     "metadata": {},
     "output_type": "execute_result"
    }
   ],
   "source": [
    "X_train[0].shape"
   ]
  },
  {
   "cell_type": "code",
   "execution_count": 10,
   "metadata": {},
   "outputs": [
    {
     "data": {
      "text/plain": [
       "<matplotlib.image.AxesImage at 0x7f582026b278>"
      ]
     },
     "execution_count": 10,
     "metadata": {},
     "output_type": "execute_result"
    },
    {
     "data": {
      "image/png": "[encoded data removed]",
      "text/plain": [
       "<matplotlib.figure.Figure at 0x7f580ef4f358>"
      ]
     },
     "metadata": {},
     "output_type": "display_data"
    }
   ],
   "source": [
    "plt.imshow(X_train[0].reshape(28, 28))"
   ]
  },
  {
   "cell_type": "code",
   "execution_count": 11,
   "metadata": {},
   "outputs": [
    {
     "name": "stdout",
     "output_type": "stream",
     "text": [
      "[0 1 2 3 4 5 6 7 8 9]\n",
      "[0 0 0 1 0 0 0 0 0 0]\n"
     ]
    }
   ],
   "source": [
    "print(np.asarray(range(10)))\n",
    "print(Y_train[0].astype('int'))"
   ]
  },
  {
   "cell_type": "code",
   "execution_count": 12,
   "metadata": {},
   "outputs": [
    {
     "data": {
      "text/plain": [
       "<matplotlib.image.AxesImage at 0x7f581a9c37f0>"
      ]
     },
     "execution_count": 12,
     "metadata": {},
     "output_type": "execute_result"
    },
    {
     "data": {
      "image/png": "[encoded data removed]",
      "text/plain": [
       "<matplotlib.figure.Figure at 0x7f580eaa85f8>"
      ]
     },
     "metadata": {},
     "output_type": "display_data"
    }
   ],
   "source": [
    "plt.imshow(X_val[0].reshape(28, 28))"
   ]
  },
  {
   "cell_type": "code",
   "execution_count": 13,
   "metadata": {},
   "outputs": [
    {
     "name": "stdout",
     "output_type": "stream",
     "text": [
      "[0 1 2 3 4 5 6 7 8 9]\n",
      "[0 1 0 0 0 0 0 0 0 0]\n"
     ]
    }
   ],
   "source": [
    "print(np.asarray(range(10)))\n",
    "print(Y_val[0].astype('int'))"
   ]
  },
  {
   "cell_type": "markdown",
   "metadata": {},
   "source": [
    "## Training\n",
    "Having defined and compiled the model, it can be trained using the `fit` function. We also specify a validation dataset to monitor validation loss and accuracy."
   ]
  },
  {
   "cell_type": "code",
   "execution_count": 14,
   "metadata": {
    "scrolled": true
   },
   "outputs": [
    {
     "name": "stdout",
     "output_type": "stream",
     "text": [
      "Train on 45000 samples, validate on 15000 samples\n",
      "Epoch 1/2\n",
      "45000/45000 [==============================] - 9s 208us/step - loss: 2.2318 - acc: 0.2139 - val_loss: 2.1027 - val_acc: 0.4302\n",
      "Epoch 2/2\n",
      "45000/45000 [==============================] - 10s 222us/step - loss: 1.9801 - acc: 0.5709 - val_loss: 1.8574 - val_acc: 0.6583\n"
     ]
    }
   ],
   "source": [
    "network_history = model.fit(X_train, Y_train, batch_size=128, \n",
    "                            epochs=2, verbose=1, validation_data=(X_val, Y_val))"
   ]
  },
  {
   "cell_type": "markdown",
   "metadata": {},
   "source": [
    "### Plotting Network Performance Trend\n",
    "The return value of the `fit` function is a `keras.callbacks.History` object which contains the entire history of training/validation loss and accuracy, for each epoch. We can therefore plot the behaviour of loss and accuracy during the training phase."
   ]
  },
  {
   "cell_type": "code",
   "execution_count": 15,
   "metadata": {},
   "outputs": [
    {
     "data": {
      "image/png": "[encoded data removed]",
      "text/plain": [
       "<matplotlib.figure.Figure at 0x7f5860461668>"
      ]
     },
     "metadata": {},
     "output_type": "display_data"
    },
    {
     "data": {
      "image/png": "[encoded data removed]",
      "text/plain": [
       "<matplotlib.figure.Figure at 0x7f581564aba8>"
      ]
     },
     "metadata": {},
     "output_type": "display_data"
    }
   ],
   "source": [
    "import matplotlib.pyplot as plt\n",
    "%matplotlib inline\n",
    "\n",
    "def plot_history(network_history):\n",
    "    plt.figure()\n",
    "    plt.xlabel('Epochs')\n",
    "    plt.ylabel('Loss')\n",
    "    plt.plot(network_history.history['loss'])\n",
    "    plt.plot(network_history.history['val_loss'])\n",
    "    plt.legend(['Training', 'Validation'])\n",
    "\n",
    "    plt.figure()\n",
    "    plt.xlabel('Epochs')\n",
    "    plt.ylabel('Accuracy')\n",
    "    plt.plot(network_history.history['acc'])\n",
    "    plt.plot(network_history.history['val_acc'])\n",
    "    plt.legend(['Training', 'Validation'], loc='lower right')\n",
    "    plt.show()\n",
    "\n",
    "plot_history(network_history)"
   ]
  },
  {
   "cell_type": "markdown",
   "metadata": {},
   "source": [
    "After `2` epochs, we get a `~88%` validation accuracy. \n",
    "\n",
    "* If you increase the number of epochs, you will get definitely better results."
   ]
  },
  {
   "cell_type": "markdown",
   "metadata": {},
   "source": [
    "### Quick Exercise: \n",
    "\n",
    "Try increasing the number of epochs (if you're hardware allows to)\n"
   ]
  },
  {
   "cell_type": "code",
   "execution_count": 16,
   "metadata": {},
   "outputs": [
    {
     "name": "stdout",
     "output_type": "stream",
     "text": [
      "Train on 45000 samples, validate on 15000 samples\n",
      "Epoch 1/2\n",
      "45000/45000 [==============================] - 10s 211us/step - loss: 1.7307 - acc: 0.6979 - val_loss: 1.6058 - val_acc: 0.7329\n",
      "Epoch 2/2\n",
      "45000/45000 [==============================] - 9s 203us/step - loss: 1.4825 - acc: 0.7452 - val_loss: 1.3668 - val_acc: 0.7642\n"
     ]
    }
   ],
   "source": [
    "# Your code here\n",
    "model.compile(loss='categorical_crossentropy', optimizer=SGD(lr=0.001), \n",
    "              metrics=['accuracy'])\n",
    "network_history = model.fit(X_train, Y_train, batch_size=128, \n",
    "                            epochs=2, verbose=1, validation_data=(X_val, Y_val))"
   ]
  },
  {
   "cell_type": "markdown",
   "metadata": {},
   "source": [
    "## Introducing the Dropout Layer"
   ]
  },
  {
   "cell_type": "markdown",
   "metadata": {},
   "source": [
    "The **dropout layers** have the very specific function to *drop out* a random set of activations in that layers by setting them to zero in the forward pass. Simple as that. \n",
    "\n",
    "It allows to avoid *overfitting* but has to be used **only** at training time and **not** at test time. "
   ]
  },
  {
   "cell_type": "markdown",
   "metadata": {},
   "source": [
    "```python\n",
    "\n",
    "keras.layers.core.Dropout(rate, noise_shape=None, seed=None)\n",
    "```\n",
    "\n",
    "Applies Dropout to the input.\n",
    "\n",
    "Dropout consists in randomly setting a fraction rate of input units to 0 at each update during training time, which helps prevent overfitting.\n",
    "\n",
    "Arguments\n",
    "\n",
    "* rate: float between 0 and 1. Fraction of the input units to drop.\n",
    "* noise_shape: 1D integer tensor representing the shape of the binary dropout mask that will be multiplied with the input. For instance, if your inputs have shape  (batch_size, timesteps, features) and you want the dropout mask to be the same for all timesteps, you can use noise_shape=(batch_size, 1, features).\n",
    "* seed: A Python integer to use as random seed."
   ]
  },
  {
   "cell_type": "markdown",
   "metadata": {},
   "source": [
    "**Note** Keras guarantess automatically that this layer is **not** used in **Inference** (i.e. Prediction) phase\n",
    "(thus only used in **training** as it should be!)\n",
    "\n",
    "See `keras.backend.in_train_phase` function"
   ]
  },
  {
   "cell_type": "code",
   "execution_count": 17,
   "metadata": {},
   "outputs": [],
   "source": [
    "from keras.layers.core import Dropout\n",
    "\n",
    "## Pls note **where** the `K.in_train_phase` is actually called!!\n",
    "Dropout??"
   ]
  },
  {
   "cell_type": "code",
   "execution_count": 18,
   "metadata": {},
   "outputs": [],
   "source": [
    "from keras import backend as K\n",
    "\n",
    "K.in_train_phase?"
   ]
  },
  {
   "cell_type": "markdown",
   "metadata": {},
   "source": [
    "### Exercise:\n",
    "\n",
    "Try modifying the previous example network adding a Dropout layer:"
   ]
  },
  {
   "cell_type": "code",
   "execution_count": 19,
   "metadata": {},
   "outputs": [],
   "source": [
    "from keras.layers.core import Dropout\n",
    "\n",
    "# FC@512+relu -> DropOut(0.2) -> FC@512+relu -> DropOut(0.2) -> FC@nb_classes+softmax\n",
    "# ... your Code Here"
   ]
  },
  {
   "cell_type": "code",
   "execution_count": 20,
   "metadata": {},
   "outputs": [],
   "source": [
    "# %load ../solutions/sol_312.py"
   ]
  },
  {
   "cell_type": "code",
   "execution_count": 21,
   "metadata": {},
   "outputs": [
    {
     "name": "stdout",
     "output_type": "stream",
     "text": [
      "Train on 45000 samples, validate on 15000 samples\n",
      "Epoch 1/4\n",
      "45000/45000 [==============================] - 9s 205us/step - loss: 1.2600 - acc: 0.7742 - val_loss: 1.1640 - val_acc: 0.7930\n",
      "Epoch 2/4\n",
      "45000/45000 [==============================] - 9s 209us/step - loss: 1.0792 - acc: 0.7983 - val_loss: 1.0053 - val_acc: 0.8143\n",
      "Epoch 3/4\n",
      "45000/45000 [==============================] - 9s 211us/step - loss: 0.9404 - acc: 0.8174 - val_loss: 0.8852 - val_acc: 0.8259\n",
      "Epoch 4/4\n",
      "45000/45000 [==============================] - 10s 225us/step - loss: 0.8357 - acc: 0.8300 - val_loss: 0.7941 - val_acc: 0.8393\n"
     ]
    },
    {
     "data": {
      "image/png": "[encoded data removed]",
      "text/plain": [
       "<matplotlib.figure.Figure at 0x7f5815672908>"
      ]
     },
     "metadata": {},
     "output_type": "display_data"
    },
    {
     "data": {
      "image/png": "[encoded data removed]",
      "text/plain": [
       "<matplotlib.figure.Figure at 0x7f57c08380b8>"
      ]
     },
     "metadata": {},
     "output_type": "display_data"
    }
   ],
   "source": [
    "network_history = model.fit(X_train, Y_train, batch_size=128, \n",
    "                            epochs=4, verbose=1, validation_data=(X_val, Y_val))\n",
    "plot_history(network_history)"
   ]
  },
  {
   "cell_type": "markdown",
   "metadata": {},
   "source": [
    "* If you continue training, at some point the validation loss will start to increase: that is when the model starts to **overfit**. \n",
    "\n",
    "It is always necessary to monitor training and validation loss during the training of any kind of Neural Network, either to detect overfitting or to evaluate the behaviour of the model **(any clue on how to do it??)**"
   ]
  },
  {
   "cell_type": "code",
   "execution_count": 22,
   "metadata": {},
   "outputs": [
    {
     "name": "stdout",
     "output_type": "stream",
     "text": [
      "Train on 45000 samples, validate on 10000 samples\n",
      "Epoch 1/100\n",
      "45000/45000 [==============================] - 10s 230us/step - loss: 1.4171 - acc: 0.6368 - val_loss: 0.6766 - val_acc: 0.8471\n",
      "Epoch 2/100\n",
      "45000/45000 [==============================] - 10s 231us/step - loss: 0.6255 - acc: 0.8288 - val_loss: 0.4334 - val_acc: 0.8859\n",
      "Epoch 3/100\n",
      "45000/45000 [==============================] - 10s 219us/step - loss: 0.4802 - acc: 0.8630 - val_loss: 0.3611 - val_acc: 0.8995\n",
      "Epoch 4/100\n",
      "45000/45000 [==============================] - 10s 220us/step - loss: 0.4175 - acc: 0.8785 - val_loss: 0.3224 - val_acc: 0.9106\n",
      "Epoch 5/100\n",
      "45000/45000 [==============================] - 10s 231us/step - loss: 0.3799 - acc: 0.8907 - val_loss: 0.2983 - val_acc: 0.9155\n",
      "Epoch 6/100\n",
      "45000/45000 [==============================] - 10s 233us/step - loss: 0.3537 - acc: 0.8960 - val_loss: 0.2811 - val_acc: 0.9193\n",
      "Epoch 7/100\n",
      "45000/45000 [==============================] - 11s 253us/step - loss: 0.3321 - acc: 0.9017 - val_loss: 0.2658 - val_acc: 0.9251\n",
      "Epoch 8/100\n",
      "45000/45000 [==============================] - 11s 237us/step - loss: 0.3159 - acc: 0.9091 - val_loss: 0.2556 - val_acc: 0.9280\n",
      "Epoch 9/100\n",
      "45000/45000 [==============================] - 10s 233us/step - loss: 0.2990 - acc: 0.9130 - val_loss: 0.2427 - val_acc: 0.9314\n",
      "Epoch 10/100\n",
      "45000/45000 [==============================] - 11s 235us/step - loss: 0.2837 - acc: 0.9186 - val_loss: 0.2328 - val_acc: 0.9330\n",
      "Epoch 11/100\n",
      "45000/45000 [==============================] - 10s 232us/step - loss: 0.2738 - acc: 0.9219 - val_loss: 0.2266 - val_acc: 0.9334\n",
      "Epoch 12/100\n",
      "45000/45000 [==============================] - 11s 237us/step - loss: 0.2640 - acc: 0.9235 - val_loss: 0.2165 - val_acc: 0.9379\n",
      "Epoch 13/100\n",
      "45000/45000 [==============================] - 11s 241us/step - loss: 0.2528 - acc: 0.9267 - val_loss: 0.2089 - val_acc: 0.9402\n",
      "Epoch 14/100\n",
      "45000/45000 [==============================] - 11s 237us/step - loss: 0.2467 - acc: 0.9281 - val_loss: 0.2034 - val_acc: 0.9400\n",
      "Epoch 15/100\n",
      "45000/45000 [==============================] - 10s 232us/step - loss: 0.2355 - acc: 0.9311 - val_loss: 0.1977 - val_acc: 0.9425\n",
      "Epoch 16/100\n",
      "45000/45000 [==============================] - 10s 232us/step - loss: 0.2278 - acc: 0.9335 - val_loss: 0.1913 - val_acc: 0.9435\n",
      "Epoch 17/100\n",
      "45000/45000 [==============================] - 10s 212us/step - loss: 0.2228 - acc: 0.9355 - val_loss: 0.1875 - val_acc: 0.9444\n",
      "Epoch 18/100\n",
      "45000/45000 [==============================] - 11s 251us/step - loss: 0.2167 - acc: 0.9380 - val_loss: 0.1814 - val_acc: 0.9464\n",
      "Epoch 19/100\n",
      "45000/45000 [==============================] - 10s 232us/step - loss: 0.2092 - acc: 0.9402 - val_loss: 0.1760 - val_acc: 0.9487\n",
      "Epoch 20/100\n",
      "45000/45000 [==============================] - 10s 233us/step - loss: 0.2011 - acc: 0.9420 - val_loss: 0.1721 - val_acc: 0.9492\n",
      "Epoch 21/100\n",
      "45000/45000 [==============================] - 10s 229us/step - loss: 0.1980 - acc: 0.9429 - val_loss: 0.1678 - val_acc: 0.9507\n",
      "Epoch 22/100\n",
      "45000/45000 [==============================] - 10s 229us/step - loss: 0.1918 - acc: 0.9462 - val_loss: 0.1633 - val_acc: 0.9523\n",
      "Epoch 23/100\n",
      "45000/45000 [==============================] - 10s 233us/step - loss: 0.1875 - acc: 0.9457 - val_loss: 0.1604 - val_acc: 0.9535\n",
      "Epoch 24/100\n",
      "45000/45000 [==============================] - 11s 234us/step - loss: 0.1824 - acc: 0.9474 - val_loss: 0.1562 - val_acc: 0.9535\n",
      "Epoch 25/100\n",
      "45000/45000 [==============================] - 11s 239us/step - loss: 0.1783 - acc: 0.9474 - val_loss: 0.1529 - val_acc: 0.9543\n",
      "Epoch 26/100\n",
      "45000/45000 [==============================] - 11s 244us/step - loss: 0.1735 - acc: 0.9505 - val_loss: 0.1502 - val_acc: 0.9549\n",
      "Epoch 27/100\n",
      "45000/45000 [==============================] - 11s 251us/step - loss: 0.1694 - acc: 0.9506 - val_loss: 0.1472 - val_acc: 0.9555\n",
      "Epoch 28/100\n",
      "45000/45000 [==============================] - 10s 231us/step - loss: 0.1654 - acc: 0.9518 - val_loss: 0.1441 - val_acc: 0.9568\n",
      "Epoch 29/100\n",
      "45000/45000 [==============================] - 11s 238us/step - loss: 0.1617 - acc: 0.9537 - val_loss: 0.1423 - val_acc: 0.9571\n",
      "Epoch 30/100\n",
      "45000/45000 [==============================] - 10s 220us/step - loss: 0.1589 - acc: 0.9535 - val_loss: 0.1388 - val_acc: 0.9582\n",
      "Epoch 31/100\n",
      "45000/45000 [==============================] - 10s 225us/step - loss: 0.1552 - acc: 0.9544 - val_loss: 0.1362 - val_acc: 0.9588\n",
      "Epoch 32/100\n",
      "45000/45000 [==============================] - 11s 237us/step - loss: 0.1532 - acc: 0.9556 - val_loss: 0.1341 - val_acc: 0.9592\n",
      "Epoch 33/100\n",
      "45000/45000 [==============================] - 11s 242us/step - loss: 0.1491 - acc: 0.9558 - val_loss: 0.1316 - val_acc: 0.9599\n",
      "Epoch 34/100\n",
      "45000/45000 [==============================] - 11s 235us/step - loss: 0.1454 - acc: 0.9572 - val_loss: 0.1302 - val_acc: 0.9601\n",
      "Epoch 35/100\n",
      "45000/45000 [==============================] - 11s 241us/step - loss: 0.1433 - acc: 0.9586 - val_loss: 0.1279 - val_acc: 0.9615\n",
      "Epoch 36/100\n",
      "45000/45000 [==============================] - 11s 242us/step - loss: 0.1401 - acc: 0.9595 - val_loss: 0.1264 - val_acc: 0.9615\n",
      "Epoch 37/100\n",
      "45000/45000 [==============================] - 11s 237us/step - loss: 0.1393 - acc: 0.9593 - val_loss: 0.1242 - val_acc: 0.9620\n",
      "Epoch 38/100\n",
      "45000/45000 [==============================] - 10s 232us/step - loss: 0.1353 - acc: 0.9598 - val_loss: 0.1223 - val_acc: 0.9627\n",
      "Epoch 39/100\n",
      "45000/45000 [==============================] - 10s 230us/step - loss: 0.1345 - acc: 0.9605 - val_loss: 0.1202 - val_acc: 0.9637\n",
      "Epoch 40/100\n",
      "45000/45000 [==============================] - 11s 235us/step - loss: 0.1314 - acc: 0.9622 - val_loss: 0.1188 - val_acc: 0.9637\n",
      "Epoch 41/100\n",
      "45000/45000 [==============================] - 10s 233us/step - loss: 0.1281 - acc: 0.9618 - val_loss: 0.1171 - val_acc: 0.9636\n",
      "Epoch 42/100\n",
      "45000/45000 [==============================] - 11s 238us/step - loss: 0.1246 - acc: 0.9628 - val_loss: 0.1160 - val_acc: 0.9643\n",
      "Epoch 43/100\n",
      "45000/45000 [==============================] - 11s 245us/step - loss: 0.1238 - acc: 0.9635 - val_loss: 0.1140 - val_acc: 0.9651\n",
      "Epoch 44/100\n",
      "45000/45000 [==============================] - 10s 226us/step - loss: 0.1238 - acc: 0.9635 - val_loss: 0.1132 - val_acc: 0.9643\n",
      "Epoch 45/100\n",
      "45000/45000 [==============================] - 11s 254us/step - loss: 0.1188 - acc: 0.9654 - val_loss: 0.1114 - val_acc: 0.9646\n",
      "Epoch 46/100\n",
      "45000/45000 [==============================] - 13s 279us/step - loss: 0.1168 - acc: 0.9655 - val_loss: 0.1105 - val_acc: 0.9653\n",
      "Epoch 47/100\n",
      "45000/45000 [==============================] - 12s 266us/step - loss: 0.1152 - acc: 0.9663 - val_loss: 0.1091 - val_acc: 0.9659\n",
      "Epoch 48/100\n",
      "45000/45000 [==============================] - 12s 260us/step - loss: 0.1149 - acc: 0.9667 - val_loss: 0.1072 - val_acc: 0.9665\n",
      "Epoch 49/100\n",
      "45000/45000 [==============================] - 11s 243us/step - loss: 0.1113 - acc: 0.9672 - val_loss: 0.1063 - val_acc: 0.9669\n",
      "Epoch 50/100\n",
      "45000/45000 [==============================] - 11s 243us/step - loss: 0.1110 - acc: 0.9677 - val_loss: 0.1059 - val_acc: 0.9671\n",
      "Epoch 51/100\n",
      "45000/45000 [==============================] - 12s 257us/step - loss: 0.1087 - acc: 0.9678 - val_loss: 0.1043 - val_acc: 0.9673\n",
      "Epoch 52/100\n",
      "45000/45000 [==============================] - 12s 261us/step - loss: 0.1071 - acc: 0.9682 - val_loss: 0.1038 - val_acc: 0.9670\n",
      "Epoch 53/100\n",
      "45000/45000 [==============================] - 12s 262us/step - loss: 0.1051 - acc: 0.9693 - val_loss: 0.1020 - val_acc: 0.9677\n",
      "Epoch 54/100\n",
      "45000/45000 [==============================] - 13s 278us/step - loss: 0.1037 - acc: 0.9695 - val_loss: 0.1013 - val_acc: 0.9680\n",
      "Epoch 55/100\n",
      "45000/45000 [==============================] - 12s 277us/step - loss: 0.1015 - acc: 0.9700 - val_loss: 0.1009 - val_acc: 0.9689\n",
      "Epoch 56/100\n",
      "45000/45000 [==============================] - 12s 268us/step - loss: 0.1012 - acc: 0.9701 - val_loss: 0.0995 - val_acc: 0.9689\n",
      "Epoch 57/100\n",
      "45000/45000 [==============================] - 12s 264us/step - loss: 0.0990 - acc: 0.9711 - val_loss: 0.0988 - val_acc: 0.9679\n",
      "Epoch 58/100\n",
      "45000/45000 [==============================] - 12s 260us/step - loss: 0.0983 - acc: 0.9712 - val_loss: 0.0979 - val_acc: 0.9688\n"
     ]
    },
    {
     "name": "stdout",
     "output_type": "stream",
     "text": [
      "Epoch 59/100\n",
      "45000/45000 [==============================] - 13s 281us/step - loss: 0.0965 - acc: 0.9718 - val_loss: 0.0970 - val_acc: 0.9690\n",
      "Epoch 60/100\n",
      "45000/45000 [==============================] - 12s 269us/step - loss: 0.0960 - acc: 0.9718 - val_loss: 0.0961 - val_acc: 0.9699\n",
      "Epoch 61/100\n",
      "45000/45000 [==============================] - 15s 343us/step - loss: 0.0927 - acc: 0.9733 - val_loss: 0.0953 - val_acc: 0.9695\n",
      "Epoch 62/100\n",
      "45000/45000 [==============================] - 15s 327us/step - loss: 0.0916 - acc: 0.9730 - val_loss: 0.0944 - val_acc: 0.9693\n",
      "Epoch 63/100\n",
      "45000/45000 [==============================] - 12s 269us/step - loss: 0.0909 - acc: 0.9732 - val_loss: 0.0937 - val_acc: 0.9704\n",
      "Epoch 64/100\n",
      "45000/45000 [==============================] - 13s 283us/step - loss: 0.0906 - acc: 0.9729 - val_loss: 0.0930 - val_acc: 0.9707\n",
      "Epoch 65/100\n",
      "45000/45000 [==============================] - 17s 377us/step - loss: 0.0885 - acc: 0.9741 - val_loss: 0.0923 - val_acc: 0.9710\n",
      "Epoch 66/100\n",
      "45000/45000 [==============================] - 16s 361us/step - loss: 0.0892 - acc: 0.9740 - val_loss: 0.0917 - val_acc: 0.9712\n",
      "Epoch 67/100\n",
      "45000/45000 [==============================] - 15s 344us/step - loss: 0.0866 - acc: 0.9744 - val_loss: 0.0909 - val_acc: 0.9715\n",
      "Epoch 68/100\n",
      "45000/45000 [==============================] - 11s 255us/step - loss: 0.0848 - acc: 0.9753 - val_loss: 0.0904 - val_acc: 0.9712\n",
      "Epoch 69/100\n",
      "45000/45000 [==============================] - 11s 236us/step - loss: 0.0848 - acc: 0.9744 - val_loss: 0.0896 - val_acc: 0.9713\n",
      "Epoch 70/100\n",
      "45000/45000 [==============================] - 11s 244us/step - loss: 0.0846 - acc: 0.9758 - val_loss: 0.0891 - val_acc: 0.9718\n",
      "Epoch 71/100\n",
      "45000/45000 [==============================] - 11s 237us/step - loss: 0.0815 - acc: 0.9759 - val_loss: 0.0882 - val_acc: 0.9721\n",
      "Epoch 72/100\n",
      "45000/45000 [==============================] - 10s 219us/step - loss: 0.0806 - acc: 0.9768 - val_loss: 0.0876 - val_acc: 0.9722\n",
      "Epoch 73/100\n",
      "45000/45000 [==============================] - 11s 239us/step - loss: 0.0806 - acc: 0.9770 - val_loss: 0.0868 - val_acc: 0.9726\n",
      "Epoch 74/100\n",
      "45000/45000 [==============================] - 11s 241us/step - loss: 0.0789 - acc: 0.9768 - val_loss: 0.0867 - val_acc: 0.9725\n",
      "Epoch 75/100\n",
      "45000/45000 [==============================] - 11s 238us/step - loss: 0.0768 - acc: 0.9773 - val_loss: 0.0862 - val_acc: 0.9724\n",
      "Epoch 76/100\n",
      "45000/45000 [==============================] - 11s 243us/step - loss: 0.0756 - acc: 0.9776 - val_loss: 0.0858 - val_acc: 0.9725\n",
      "Epoch 77/100\n",
      "45000/45000 [==============================] - 11s 240us/step - loss: 0.0755 - acc: 0.9779 - val_loss: 0.0850 - val_acc: 0.9728\n",
      "Epoch 78/100\n",
      "45000/45000 [==============================] - 11s 247us/step - loss: 0.0750 - acc: 0.9783 - val_loss: 0.0846 - val_acc: 0.9728\n",
      "Epoch 79/100\n",
      "45000/45000 [==============================] - 11s 253us/step - loss: 0.0737 - acc: 0.9788 - val_loss: 0.0839 - val_acc: 0.9730\n",
      "Epoch 80/100\n",
      "45000/45000 [==============================] - 10s 228us/step - loss: 0.0735 - acc: 0.9783 - val_loss: 0.0836 - val_acc: 0.9733\n",
      "Epoch 81/100\n",
      "45000/45000 [==============================] - 11s 241us/step - loss: 0.0730 - acc: 0.9791 - val_loss: 0.0833 - val_acc: 0.9730\n",
      "Epoch 82/100\n",
      "45000/45000 [==============================] - 11s 241us/step - loss: 0.0719 - acc: 0.9791 - val_loss: 0.0827 - val_acc: 0.9732\n",
      "Epoch 83/100\n",
      "45000/45000 [==============================] - 11s 241us/step - loss: 0.0705 - acc: 0.9787 - val_loss: 0.0822 - val_acc: 0.9736\n",
      "Epoch 84/100\n",
      "45000/45000 [==============================] - 11s 235us/step - loss: 0.0691 - acc: 0.9797 - val_loss: 0.0817 - val_acc: 0.9738\n",
      "Epoch 85/100\n",
      "45000/45000 [==============================] - 10s 222us/step - loss: 0.0689 - acc: 0.9793 - val_loss: 0.0812 - val_acc: 0.9741\n",
      "Epoch 86/100\n",
      "45000/45000 [==============================] - 11s 234us/step - loss: 0.0687 - acc: 0.9794 - val_loss: 0.0807 - val_acc: 0.9741\n",
      "Epoch 87/100\n",
      "45000/45000 [==============================] - 11s 241us/step - loss: 0.0679 - acc: 0.9801 - val_loss: 0.0804 - val_acc: 0.9739\n",
      "Epoch 88/100\n",
      "45000/45000 [==============================] - 12s 256us/step - loss: 0.0667 - acc: 0.9810 - val_loss: 0.0797 - val_acc: 0.9744\n",
      "Epoch 89/100\n",
      "45000/45000 [==============================] - 11s 240us/step - loss: 0.0664 - acc: 0.9802 - val_loss: 0.0793 - val_acc: 0.9746\n",
      "Epoch 90/100\n",
      "45000/45000 [==============================] - 11s 238us/step - loss: 0.0648 - acc: 0.9808 - val_loss: 0.0794 - val_acc: 0.9751\n",
      "Epoch 91/100\n",
      "45000/45000 [==============================] - 11s 238us/step - loss: 0.0650 - acc: 0.9813 - val_loss: 0.0788 - val_acc: 0.9753\n",
      "Epoch 92/100\n",
      "45000/45000 [==============================] - 14s 310us/step - loss: 0.0636 - acc: 0.9813 - val_loss: 0.0784 - val_acc: 0.9757\n",
      "Epoch 93/100\n",
      "45000/45000 [==============================] - 15s 344us/step - loss: 0.0622 - acc: 0.9814 - val_loss: 0.0785 - val_acc: 0.9752\n",
      "Epoch 94/100\n",
      "45000/45000 [==============================] - 15s 336us/step - loss: 0.0625 - acc: 0.9822 - val_loss: 0.0778 - val_acc: 0.9752\n",
      "Epoch 95/100\n",
      "45000/45000 [==============================] - 12s 267us/step - loss: 0.0601 - acc: 0.9827 - val_loss: 0.0775 - val_acc: 0.9756\n",
      "Epoch 96/100\n",
      "45000/45000 [==============================] - 10s 231us/step - loss: 0.0609 - acc: 0.9819 - val_loss: 0.0774 - val_acc: 0.9754\n",
      "Epoch 97/100\n",
      "45000/45000 [==============================] - 13s 293us/step - loss: 0.0601 - acc: 0.9816 - val_loss: 0.0771 - val_acc: 0.9760\n",
      "Epoch 98/100\n",
      "45000/45000 [==============================] - 16s 359us/step - loss: 0.0591 - acc: 0.9828 - val_loss: 0.0768 - val_acc: 0.9759\n",
      "Epoch 99/100\n",
      "45000/45000 [==============================] - 15s 335us/step - loss: 0.0584 - acc: 0.9832 - val_loss: 0.0764 - val_acc: 0.9760\n",
      "Epoch 100/100\n",
      "45000/45000 [==============================] - 16s 344us/step - loss: 0.0590 - acc: 0.9824 - val_loss: 0.0758 - val_acc: 0.9767\n"
     ]
    },
    {
     "data": {
      "text/plain": [
       "<keras.callbacks.History at 0x7f581a784940>"
      ]
     },
     "execution_count": 22,
     "metadata": {},
     "output_type": "execute_result"
    }
   ],
   "source": [
    "# %load solutions/sol23.py\n",
    "from keras.callbacks import EarlyStopping\n",
    "\n",
    "early_stop = EarlyStopping(monitor='val_loss', patience=4, verbose=1)\n",
    "\n",
    "model = Sequential()\n",
    "model.add(Dense(512, activation='relu', input_shape=(784,)))\n",
    "model.add(Dropout(0.2))\n",
    "model.add(Dense(512, activation='relu'))\n",
    "model.add(Dropout(0.2))\n",
    "model.add(Dense(10, activation='softmax'))\n",
    "\n",
    "model.compile(loss='categorical_crossentropy', optimizer=SGD(), \n",
    "              metrics=['accuracy'])\n",
    "    \n",
    "model.fit(X_train, Y_train, validation_data = (X_test, Y_test), epochs=100, \n",
    "          batch_size=128, verbose=True, callbacks=[early_stop]) "
   ]
  },
  {
   "cell_type": "markdown",
   "metadata": {},
   "source": [
    "---"
   ]
  },
  {
   "cell_type": "markdown",
   "metadata": {},
   "source": [
    "# Inspecting Layers"
   ]
  },
  {
   "cell_type": "code",
   "execution_count": 23,
   "metadata": {},
   "outputs": [
    {
     "name": "stdout",
     "output_type": "stream",
     "text": [
      "_________________________________________________________________\n",
      "Layer (type)                 Output Shape              Param #   \n",
      "=================================================================\n",
      "dense_4 (Dense)              (None, 512)               401920    \n",
      "_________________________________________________________________\n",
      "dropout_1 (Dropout)          (None, 512)               0         \n",
      "_________________________________________________________________\n",
      "dense_5 (Dense)              (None, 512)               262656    \n",
      "_________________________________________________________________\n",
      "dropout_2 (Dropout)          (None, 512)               0         \n",
      "_________________________________________________________________\n",
      "dense_6 (Dense)              (None, 10)                5130      \n",
      "=================================================================\n",
      "Total params: 669,706\n",
      "Trainable params: 669,706\n",
      "Non-trainable params: 0\n",
      "_________________________________________________________________\n"
     ]
    }
   ],
   "source": [
    "# We already used `summary`\n",
    "model.summary()"
   ]
  },
  {
   "cell_type": "markdown",
   "metadata": {},
   "source": [
    "### `model.layers` is iterable"
   ]
  },
  {
   "cell_type": "code",
   "execution_count": 24,
   "metadata": {},
   "outputs": [
    {
     "name": "stdout",
     "output_type": "stream",
     "text": [
      "Model Input Tensors:  Tensor(\"dense_4_input:0\", shape=(?, 784), dtype=float32)\n",
      "\n",
      "Layers - Network Configuration:\n",
      "\n",
      "dense_4 True\n",
      "Layer Configuration:\n",
      "{'name': 'dense_4', 'trainable': True, 'batch_input_shape': (None, 784), 'dtype': 'float32', 'units': 512, 'activation': 'relu', 'use_bias': True, 'kernel_initializer': {'class_name': 'VarianceScaling', 'config': {'scale': 1.0, 'mode': 'fan_avg', 'distribution': 'uniform', 'seed': None}}, 'bias_initializer': {'class_name': 'Zeros', 'config': {}}, 'kernel_regularizer': None, 'bias_regularizer': None, 'activity_regularizer': None, 'kernel_constraint': None, 'bias_constraint': None}\n",
      "----------------------------------------\n",
      "dropout_1 True\n",
      "Layer Configuration:\n",
      "{'name': 'dropout_1', 'trainable': True, 'rate': 0.2, 'noise_shape': None, 'seed': None}\n",
      "----------------------------------------\n",
      "dense_5 True\n",
      "Layer Configuration:\n",
      "{'name': 'dense_5', 'trainable': True, 'units': 512, 'activation': 'relu', 'use_bias': True, 'kernel_initializer': {'class_name': 'VarianceScaling', 'config': {'scale': 1.0, 'mode': 'fan_avg', 'distribution': 'uniform', 'seed': None}}, 'bias_initializer': {'class_name': 'Zeros', 'config': {}}, 'kernel_regularizer': None, 'bias_regularizer': None, 'activity_regularizer': None, 'kernel_constraint': None, 'bias_constraint': None}\n",
      "----------------------------------------\n",
      "dropout_2 True\n",
      "Layer Configuration:\n",
      "{'name': 'dropout_2', 'trainable': True, 'rate': 0.2, 'noise_shape': None, 'seed': None}\n",
      "----------------------------------------\n",
      "dense_6 True\n",
      "Layer Configuration:\n",
      "{'name': 'dense_6', 'trainable': True, 'units': 10, 'activation': 'softmax', 'use_bias': True, 'kernel_initializer': {'class_name': 'VarianceScaling', 'config': {'scale': 1.0, 'mode': 'fan_avg', 'distribution': 'uniform', 'seed': None}}, 'bias_initializer': {'class_name': 'Zeros', 'config': {}}, 'kernel_regularizer': None, 'bias_regularizer': None, 'activity_regularizer': None, 'kernel_constraint': None, 'bias_constraint': None}\n",
      "----------------------------------------\n",
      "Model Output Tensors:  Tensor(\"dense_6/Softmax:0\", shape=(?, 10), dtype=float32)\n"
     ]
    }
   ],
   "source": [
    "print('Model Input Tensors: ', model.input, end='\\n\\n')\n",
    "print('Layers - Network Configuration:', end='\\n\\n')\n",
    "for layer in model.layers:\n",
    "    print(layer.name, layer.trainable)\n",
    "    print('Layer Configuration:')\n",
    "    print(layer.get_config(), end='\\n{}\\n'.format('----'*10))\n",
    "print('Model Output Tensors: ', model.output)"
   ]
  },
  {
   "cell_type": "markdown",
   "metadata": {},
   "source": [
    "## Extract hidden layer representation of the given data"
   ]
  },
  {
   "cell_type": "markdown",
   "metadata": {},
   "source": [
    "One **simple** way to do it is to use the weights of your model to build a new model that's truncated at the layer you want to read. \n",
    "\n",
    "Then you can run the `._predict(X_batch)` method to get the activations for a batch of inputs."
   ]
  },
  {
   "cell_type": "code",
   "execution_count": 25,
   "metadata": {},
   "outputs": [],
   "source": [
    "model_truncated = Sequential()\n",
    "model_truncated.add(Dense(512, activation='relu', input_shape=(784,)))\n",
    "model_truncated.add(Dropout(0.2))\n",
    "model_truncated.add(Dense(512, activation='relu'))\n",
    "\n",
    "for i, layer in enumerate(model_truncated.layers):\n",
    "    layer.set_weights(model.layers[i].get_weights())\n",
    "\n",
    "model_truncated.compile(loss='categorical_crossentropy', optimizer=SGD(), \n",
    "              metrics=['accuracy'])"
   ]
  },
  {
   "cell_type": "code",
   "execution_count": 26,
   "metadata": {},
   "outputs": [
    {
     "data": {
      "text/plain": [
       "True"
      ]
     },
     "execution_count": 26,
     "metadata": {},
     "output_type": "execute_result"
    }
   ],
   "source": [
    "# Check\n",
    "np.all(model_truncated.layers[0].get_weights()[0] == model.layers[0].get_weights()[0])"
   ]
  },
  {
   "cell_type": "code",
   "execution_count": 27,
   "metadata": {},
   "outputs": [],
   "source": [
    "hidden_features = model_truncated.predict(X_train)"
   ]
  },
  {
   "cell_type": "code",
   "execution_count": 28,
   "metadata": {},
   "outputs": [
    {
     "data": {
      "text/plain": [
       "(45000, 512)"
      ]
     },
     "execution_count": 28,
     "metadata": {},
     "output_type": "execute_result"
    }
   ],
   "source": [
    "hidden_features.shape"
   ]
  },
  {
   "cell_type": "code",
   "execution_count": 29,
   "metadata": {},
   "outputs": [
    {
     "data": {
      "text/plain": [
       "(45000, 784)"
      ]
     },
     "execution_count": 29,
     "metadata": {},
     "output_type": "execute_result"
    }
   ],
   "source": [
    "X_train.shape"
   ]
  },
  {
   "cell_type": "markdown",
   "metadata": {},
   "source": [
    "#### Hint: Alternative Method to get activations \n",
    "\n",
    "(Using `keras.backend` `function` on Tensors)"
   ]
  },
  {
   "cell_type": "markdown",
   "metadata": {
    "collapsed": true
   },
   "source": [
    "```python\n",
    "def get_activations(model, layer, X_batch):\n",
    "    activations_f = K.function([model.layers[0].input, K.learning_phase()], [layer.output,])\n",
    "    activations = activations_f((X_batch, False))\n",
    "    return activations\n",
    "```"
   ]
  },
  {
   "cell_type": "markdown",
   "metadata": {},
   "source": [
    "---"
   ]
  },
  {
   "cell_type": "markdown",
   "metadata": {},
   "source": [
    "### Generate the Embedding of Hidden Features"
   ]
  },
  {
   "cell_type": "code",
   "execution_count": 30,
   "metadata": {},
   "outputs": [],
   "source": [
    "from sklearn.manifold import TSNE\n",
    "\n",
    "tsne = TSNE(n_components=2)\n",
    "X_tsne = tsne.fit_transform(hidden_features[:1000]) ## Reduced for computational issues"
   ]
  },
  {
   "cell_type": "code",
   "execution_count": 31,
   "metadata": {},
   "outputs": [],
   "source": [
    "colors_map = np.argmax(Y_train, axis=1)"
   ]
  },
  {
   "cell_type": "code",
   "execution_count": 32,
   "metadata": {},
   "outputs": [
    {
     "data": {
      "text/plain": [
       "(1000, 2)"
      ]
     },
     "execution_count": 32,
     "metadata": {},
     "output_type": "execute_result"
    }
   ],
   "source": [
    "X_tsne.shape"
   ]
  },
  {
   "cell_type": "code",
   "execution_count": 33,
   "metadata": {},
   "outputs": [
    {
     "data": {
      "text/plain": [
       "10"
      ]
     },
     "execution_count": 33,
     "metadata": {},
     "output_type": "execute_result"
    }
   ],
   "source": [
    "nb_classes"
   ]
  },
  {
   "cell_type": "code",
   "execution_count": 34,
   "metadata": {},
   "outputs": [
    {
     "data": {
      "text/plain": [
       "(array([   37,    61,    71, ..., 44936, 44972, 44987]),)"
      ]
     },
     "execution_count": 34,
     "metadata": {},
     "output_type": "execute_result"
    }
   ],
   "source": [
    "np.where(colors_map==6)"
   ]
  },
  {
   "cell_type": "code",
   "execution_count": 35,
   "metadata": {},
   "outputs": [
    {
     "data": {
      "image/png": "[encoded data removed]",
      "text/plain": [
       "<matplotlib.figure.Figure at 0x7f57b1b68828>"
      ]
     },
     "metadata": {},
     "output_type": "display_data"
    }
   ],
   "source": [
    "colors = np.array([x for x in 'b-g-r-c-m-y-k-purple-coral-lime'.split('-')])\n",
    "colors_map = colors_map[:1000]\n",
    "plt.figure(figsize=(10,10))\n",
    "for cl in range(nb_classes):\n",
    "    indices = np.where(colors_map==cl)\n",
    "    plt.scatter(X_tsne[indices,0], X_tsne[indices, 1], c=colors[cl], label=cl)\n",
    "plt.legend()\n",
    "plt.show()"
   ]
  },
  {
   "cell_type": "markdown",
   "metadata": {},
   "source": [
    "## Using Bokeh (Interactive Chart)"
   ]
  },
  {
   "cell_type": "code",
   "execution_count": 37,
   "metadata": {},
   "outputs": [
    {
     "data": {
      "text/html": [
       "\n",
       "    <div class=\"bk-root\">\n",
       "        <a href=\"https://bokeh.pydata.org\" target=\"_blank\" class=\"bk-logo bk-logo-small bk-logo-notebook\"></a>\n",
       "        <span id=\"e4fbbf2b-23da-4081-bce3-00f7fe26336b\">Loading BokehJS ...</span>\n",
       "    </div>"
      ]
     },
     "metadata": {},
     "output_type": "display_data"
    },
    {
     "data": {
      "application/javascript": [
       "\n",
       "(function(root) {\n",
       "  function now() {\n",
       "    return new Date();\n",
       "  }\n",
       "\n",
       "  var force = true;\n",
       "\n",
       "  if (typeof (root._bokeh_onload_callbacks) === \"undefined\" || force === true) {\n",
       "    root._bokeh_onload_callbacks = [];\n",
       "    root._bokeh_is_loading = undefined;\n",
       "  }\n",
       "\n",
       "  var JS_MIME_TYPE = 'application/javascript';\n",
       "  var HTML_MIME_TYPE = 'text/html';\n",
       "  var EXEC_MIME_TYPE = 'application/vnd.bokehjs_exec.v0+json';\n",
       "  var CLASS_NAME = 'output_bokeh rendered_html';\n",
       "\n",
       "  /**\n",
       "   * Render data to the DOM node\n",
       "   */\n",
       "  function render(props, node) {\n",
       "    var script = document.createElement(\"script\");\n",
       "    node.appendChild(script);\n",
       "  }\n",
       "\n",
       "  /**\n",
       "   * Handle when an output is cleared or removed\n",
       "   */\n",
       "  function handleClearOutput(event, handle) {\n",
       "    var cell = handle.cell;\n",
       "\n",
       "    var id = cell.output_area._bokeh_element_id;\n",
       "    var server_id = cell.output_area._bokeh_server_id;\n",
       "    // Clean up Bokeh references\n",
       "    if (id !== undefined) {\n",
       "      Bokeh.index[id].model.document.clear();\n",
       "      delete Bokeh.index[id];\n",
       "    }\n",
       "\n",
       "    if (server_id !== undefined) {\n",
       "      // Clean up Bokeh references\n",
       "      var cmd = \"from bokeh.io.state import curstate; print(curstate().uuid_to_server['\" + server_id + \"'].get_sessions()[0].document.roots[0]._id)\";\n",
       "      cell.notebook.kernel.execute(cmd, {\n",
       "        iopub: {\n",
       "          output: function(msg) {\n",
       "            var element_id = msg.content.text.trim();\n",
       "            Bokeh.index[element_id].model.document.clear();\n",
       "            delete Bokeh.index[element_id];\n",
       "          }\n",
       "        }\n",
       "      });\n",
       "      // Destroy server and session\n",
       "      var cmd = \"import bokeh.io.notebook as ion; ion.destroy_server('\" + server_id + \"')\";\n",
       "      cell.notebook.kernel.execute(cmd);\n",
       "    }\n",
       "  }\n",
       "\n",
       "  /**\n",
       "   * Handle when a new output is added\n",
       "   */\n",
       "  function handleAddOutput(event, handle) {\n",
       "    var output_area = handle.output_area;\n",
       "    var output = handle.output;\n",
       "\n",
       "    // limit handleAddOutput to display_data with EXEC_MIME_TYPE content only\n",
       "    if ((output.output_type != \"display_data\") || (!output.data.hasOwnProperty(EXEC_MIME_TYPE))) {\n",
       "      return\n",
       "    }\n",
       "\n",
       "    var toinsert = output_area.element.find(\".\" + CLASS_NAME.split(' ')[0]);\n",
       "\n",
       "    if (output.metadata[EXEC_MIME_TYPE][\"id\"] !== undefined) {\n",
       "      toinsert[0].firstChild.textContent = output.data[JS_MIME_TYPE];\n",
       "      // store reference to embed id on output_area\n",
       "      output_area._bokeh_element_id = output.metadata[EXEC_MIME_TYPE][\"id\"];\n",
       "    }\n",
       "    if (output.metadata[EXEC_MIME_TYPE][\"server_id\"] !== undefined) {\n",
       "      var bk_div = document.createElement(\"div\");\n",
       "      bk_div.innerHTML = output.data[HTML_MIME_TYPE];\n",
       "      var script_attrs = bk_div.children[0].attributes;\n",
       "      for (var i = 0; i < script_attrs.length; i++) {\n",
       "        toinsert[0].firstChild.setAttribute(script_attrs[i].name, script_attrs[i].value);\n",
       "      }\n",
       "      // store reference to server id on output_area\n",
       "      output_area._bokeh_server_id = output.metadata[EXEC_MIME_TYPE][\"server_id\"];\n",
       "    }\n",
       "  }\n",
       "\n",
       "  function register_renderer(events, OutputArea) {\n",
       "\n",
       "    function append_mime(data, metadata, element) {\n",
       "      // create a DOM node to render to\n",
       "      var toinsert = this.create_output_subarea(\n",
       "        metadata,\n",
       "        CLASS_NAME,\n",
       "        EXEC_MIME_TYPE\n",
       "      );\n",
       "      this.keyboard_manager.register_events(toinsert);\n",
       "      // Render to node\n",
       "      var props = {data: data, metadata: metadata[EXEC_MIME_TYPE]};\n",
       "      render(props, toinsert[0]);\n",
       "      element.append(toinsert);\n",
       "      return toinsert\n",
       "    }\n",
       "\n",
       "    /* Handle when an output is cleared or removed */\n",
       "    events.on('clear_output.CodeCell', handleClearOutput);\n",
       "    events.on('delete.Cell', handleClearOutput);\n",
       "\n",
       "    /* Handle when a new output is added */\n",
       "    events.on('output_added.OutputArea', handleAddOutput);\n",
       "\n",
       "    /**\n",
       "     * Register the mime type and append_mime function with output_area\n",
       "     */\n",
       "    OutputArea.prototype.register_mime_type(EXEC_MIME_TYPE, append_mime, {\n",
       "      /* Is output safe? */\n",
       "      safe: true,\n",
       "      /* Index of renderer in `output_area.display_order` */\n",
       "      index: 0\n",
       "    });\n",
       "  }\n",
       "\n",
       "  // register the mime type if in Jupyter Notebook environment and previously unregistered\n",
       "  if (root.Jupyter !== undefined) {\n",
       "    var events = require('base/js/events');\n",
       "    var OutputArea = require('notebook/js/outputarea').OutputArea;\n",
       "\n",
       "    if (OutputArea.prototype.mime_types().indexOf(EXEC_MIME_TYPE) == -1) {\n",
       "      register_renderer(events, OutputArea);\n",
       "    }\n",
       "  }\n",
       "\n",
       "  \n",
       "  if (typeof (root._bokeh_timeout) === \"undefined\" || force === true) {\n",
       "    root._bokeh_timeout = Date.now() + 5000;\n",
       "    root._bokeh_failed_load = false;\n",
       "  }\n",
       "\n",
       "  var NB_LOAD_WARNING = {'data': {'text/html':\n",
       "     \"<div style='background-color: #fdd'>\\n\"+\n",
       "     \"<p>\\n\"+\n",
       "     \"BokehJS does not appear to have successfully loaded. If loading BokehJS from CDN, this \\n\"+\n",
       "     \"may be due to a slow or bad network connection. Possible fixes:\\n\"+\n",
       "     \"</p>\\n\"+\n",
       "     \"<ul>\\n\"+\n",
       "     \"<li>re-rerun `output_notebook()` to attempt to load from CDN again, or</li>\\n\"+\n",
       "     \"<li>use INLINE resources instead, as so:</li>\\n\"+\n",
       "     \"</ul>\\n\"+\n",
       "     \"<code>\\n\"+\n",
       "     \"from bokeh.resources import INLINE\\n\"+\n",
       "     \"output_notebook(resources=INLINE)\\n\"+\n",
       "     \"</code>\\n\"+\n",
       "     \"</div>\"}};\n",
       "\n",
       "  function display_loaded() {\n",
       "    var el = document.getElementById(\"e4fbbf2b-23da-4081-bce3-00f7fe26336b\");\n",
       "    if (el != null) {\n",
       "      el.textContent = \"BokehJS is loading...\";\n",
       "    }\n",
       "    if (root.Bokeh !== undefined) {\n",
       "      if (el != null) {\n",
       "        el.textContent = \"BokehJS \" + root.Bokeh.version + \" successfully loaded.\";\n",
       "      }\n",
       "    } else if (Date.now() < root._bokeh_timeout) {\n",
       "      setTimeout(display_loaded, 100)\n",
       "    }\n",
       "  }\n",
       "\n",
       "\n",
       "  function run_callbacks() {\n",
       "    try {\n",
       "      root._bokeh_onload_callbacks.forEach(function(callback) { callback() });\n",
       "    }\n",
       "    finally {\n",
       "      delete root._bokeh_onload_callbacks\n",
       "    }\n",
       "    console.info(\"Bokeh: all callbacks have finished\");\n",
       "  }\n",
       "\n",
       "  function load_libs(js_urls, callback) {\n",
       "    root._bokeh_onload_callbacks.push(callback);\n",
       "    if (root._bokeh_is_loading > 0) {\n",
       "      console.log(\"Bokeh: BokehJS is being loaded, scheduling callback at\", now());\n",
       "      return null;\n",
       "    }\n",
       "    if (js_urls == null || js_urls.length === 0) {\n",
       "      run_callbacks();\n",
       "      return null;\n",
       "    }\n",
       "    console.log(\"Bokeh: BokehJS not loaded, scheduling load and callback at\", now());\n",
       "    root._bokeh_is_loading = js_urls.length;\n",
       "    for (var i = 0; i < js_urls.length; i++) {\n",
       "      var url = js_urls[i];\n",
       "      var s = document.createElement('script');\n",
       "      s.src = url;\n",
       "      s.async = false;\n",
       "      s.onreadystatechange = s.onload = function() {\n",
       "        root._bokeh_is_loading--;\n",
       "        if (root._bokeh_is_loading === 0) {\n",
       "          console.log(\"Bokeh: all BokehJS libraries loaded\");\n",
       "          run_callbacks()\n",
       "        }\n",
       "      };\n",
       "      s.onerror = function() {\n",
       "        console.warn(\"failed to load library \" + url);\n",
       "      };\n",
       "      console.log(\"Bokeh: injecting script tag for BokehJS library: \", url);\n",
       "      document.getElementsByTagName(\"head\")[0].appendChild(s);\n",
       "    }\n",
       "  };var element = document.getElementById(\"e4fbbf2b-23da-4081-bce3-00f7fe26336b\");\n",
       "  if (element == null) {\n",
       "    console.log(\"Bokeh: ERROR: autoload.js configured with elementid 'e4fbbf2b-23da-4081-bce3-00f7fe26336b' but no matching script tag was found. \")\n",
       "    return false;\n",
       "  }\n",
       "\n",
       "  var js_urls = [\"https://cdn.pydata.org/bokeh/release/bokeh-0.12.13.min.js\", \"https://cdn.pydata.org/bokeh/release/bokeh-widgets-0.12.13.min.js\", \"https://cdn.pydata.org/bokeh/release/bokeh-tables-0.12.13.min.js\", \"https://cdn.pydata.org/bokeh/release/bokeh-gl-0.12.13.min.js\"];\n",
       "\n",
       "  var inline_js = [\n",
       "    function(Bokeh) {\n",
       "      Bokeh.set_log_level(\"info\");\n",
       "    },\n",
       "    \n",
       "    function(Bokeh) {\n",
       "      \n",
       "    },\n",
       "    function(Bokeh) {\n",
       "      console.log(\"Bokeh: injecting CSS: https://cdn.pydata.org/bokeh/release/bokeh-0.12.13.min.css\");\n",
       "      Bokeh.embed.inject_css(\"https://cdn.pydata.org/bokeh/release/bokeh-0.12.13.min.css\");\n",
       "      console.log(\"Bokeh: injecting CSS: https://cdn.pydata.org/bokeh/release/bokeh-widgets-0.12.13.min.css\");\n",
       "      Bokeh.embed.inject_css(\"https://cdn.pydata.org/bokeh/release/bokeh-widgets-0.12.13.min.css\");\n",
       "      console.log(\"Bokeh: injecting CSS: https://cdn.pydata.org/bokeh/release/bokeh-tables-0.12.13.min.css\");\n",
       "      Bokeh.embed.inject_css(\"https://cdn.pydata.org/bokeh/release/bokeh-tables-0.12.13.min.css\");\n",
       "    }\n",
       "  ];\n",
       "\n",
       "  function run_inline_js() {\n",
       "    \n",
       "    if ((root.Bokeh !== undefined) || (force === true)) {\n",
       "      for (var i = 0; i < inline_js.length; i++) {\n",
       "        inline_js[i].call(root, root.Bokeh);\n",
       "      }if (force === true) {\n",
       "        display_loaded();\n",
       "      }} else if (Date.now() < root._bokeh_timeout) {\n",
       "      setTimeout(run_inline_js, 100);\n",
       "    } else if (!root._bokeh_failed_load) {\n",
       "      console.log(\"Bokeh: BokehJS failed to load within specified timeout.\");\n",
       "      root._bokeh_failed_load = true;\n",
       "    } else if (force !== true) {\n",
       "      var cell = $(document.getElementById(\"e4fbbf2b-23da-4081-bce3-00f7fe26336b\")).parents('.cell').data().cell;\n",
       "      cell.output_area.append_execute_result(NB_LOAD_WARNING)\n",
       "    }\n",
       "\n",
       "  }\n",
       "\n",
       "  if (root._bokeh_is_loading === 0) {\n",
       "    console.log(\"Bokeh: BokehJS loaded, going straight to plotting\");\n",
       "    run_inline_js();\n",
       "  } else {\n",
       "    load_libs(js_urls, function() {\n",
       "      console.log(\"Bokeh: BokehJS plotting callback run at\", now());\n",
       "      run_inline_js();\n",
       "    });\n",
       "  }\n",
       "}(window));"
      ],
      "application/vnd.bokehjs_load.v0+json": "\n(function(root) {\n  function now() {\n    return new Date();\n  }\n\n  var force = true;\n\n  if (typeof (root._bokeh_onload_callbacks) === \"undefined\" || force === true) {\n    root._bokeh_onload_callbacks = [];\n    root._bokeh_is_loading = undefined;\n  }\n\n  \n\n  \n  if (typeof (root._bokeh_timeout) === \"undefined\" || force === true) {\n    root._bokeh_timeout = Date.now() + 5000;\n    root._bokeh_failed_load = false;\n  }\n\n  var NB_LOAD_WARNING = {'data': {'text/html':\n     \"<div style='background-color: #fdd'>\\n\"+\n     \"<p>\\n\"+\n     \"BokehJS does not appear to have successfully loaded. If loading BokehJS from CDN, this \\n\"+\n     \"may be due to a slow or bad network connection. Possible fixes:\\n\"+\n     \"</p>\\n\"+\n     \"<ul>\\n\"+\n     \"<li>re-rerun `output_notebook()` to attempt to load from CDN again, or</li>\\n\"+\n     \"<li>use INLINE resources instead, as so:</li>\\n\"+\n     \"</ul>\\n\"+\n     \"<code>\\n\"+\n     \"from bokeh.resources import INLINE\\n\"+\n     \"output_notebook(resources=INLINE)\\n\"+\n     \"</code>\\n\"+\n     \"</div>\"}};\n\n  function display_loaded() {\n    var el = document.getElementById(\"e4fbbf2b-23da-4081-bce3-00f7fe26336b\");\n    if (el != null) {\n      el.textContent = \"BokehJS is loading...\";\n    }\n    if (root.Bokeh !== undefined) {\n      if (el != null) {\n        el.textContent = \"BokehJS \" + root.Bokeh.version + \" successfully loaded.\";\n      }\n    } else if (Date.now() < root._bokeh_timeout) {\n      setTimeout(display_loaded, 100)\n    }\n  }\n\n\n  function run_callbacks() {\n    try {\n      root._bokeh_onload_callbacks.forEach(function(callback) { callback() });\n    }\n    finally {\n      delete root._bokeh_onload_callbacks\n    }\n    console.info(\"Bokeh: all callbacks have finished\");\n  }\n\n  function load_libs(js_urls, callback) {\n    root._bokeh_onload_callbacks.push(callback);\n    if (root._bokeh_is_loading > 0) {\n      console.log(\"Bokeh: BokehJS is being loaded, scheduling callback at\", now());\n      return null;\n    }\n    if (js_urls == null || js_urls.length === 0) {\n      run_callbacks();\n      return null;\n    }\n    console.log(\"Bokeh: BokehJS not loaded, scheduling load and callback at\", now());\n    root._bokeh_is_loading = js_urls.length;\n    for (var i = 0; i < js_urls.length; i++) {\n      var url = js_urls[i];\n      var s = document.createElement('script');\n      s.src = url;\n      s.async = false;\n      s.onreadystatechange = s.onload = function() {\n        root._bokeh_is_loading--;\n        if (root._bokeh_is_loading === 0) {\n          console.log(\"Bokeh: all BokehJS libraries loaded\");\n          run_callbacks()\n        }\n      };\n      s.onerror = function() {\n        console.warn(\"failed to load library \" + url);\n      };\n      console.log(\"Bokeh: injecting script tag for BokehJS library: \", url);\n      document.getElementsByTagName(\"head\")[0].appendChild(s);\n    }\n  };var element = document.getElementById(\"e4fbbf2b-23da-4081-bce3-00f7fe26336b\");\n  if (element == null) {\n    console.log(\"Bokeh: ERROR: autoload.js configured with elementid 'e4fbbf2b-23da-4081-bce3-00f7fe26336b' but no matching script tag was found. \")\n    return false;\n  }\n\n  var js_urls = [\"https://cdn.pydata.org/bokeh/release/bokeh-0.12.13.min.js\", \"https://cdn.pydata.org/bokeh/release/bokeh-widgets-0.12.13.min.js\", \"https://cdn.pydata.org/bokeh/release/bokeh-tables-0.12.13.min.js\", \"https://cdn.pydata.org/bokeh/release/bokeh-gl-0.12.13.min.js\"];\n\n  var inline_js = [\n    function(Bokeh) {\n      Bokeh.set_log_level(\"info\");\n    },\n    \n    function(Bokeh) {\n      \n    },\n    function(Bokeh) {\n      console.log(\"Bokeh: injecting CSS: https://cdn.pydata.org/bokeh/release/bokeh-0.12.13.min.css\");\n      Bokeh.embed.inject_css(\"https://cdn.pydata.org/bokeh/release/bokeh-0.12.13.min.css\");\n      console.log(\"Bokeh: injecting CSS: https://cdn.pydata.org/bokeh/release/bokeh-widgets-0.12.13.min.css\");\n      Bokeh.embed.inject_css(\"https://cdn.pydata.org/bokeh/release/bokeh-widgets-0.12.13.min.css\");\n      console.log(\"Bokeh: injecting CSS: https://cdn.pydata.org/bokeh/release/bokeh-tables-0.12.13.min.css\");\n      Bokeh.embed.inject_css(\"https://cdn.pydata.org/bokeh/release/bokeh-tables-0.12.13.min.css\");\n    }\n  ];\n\n  function run_inline_js() {\n    \n    if ((root.Bokeh !== undefined) || (force === true)) {\n      for (var i = 0; i < inline_js.length; i++) {\n        inline_js[i].call(root, root.Bokeh);\n      }if (force === true) {\n        display_loaded();\n      }} else if (Date.now() < root._bokeh_timeout) {\n      setTimeout(run_inline_js, 100);\n    } else if (!root._bokeh_failed_load) {\n      console.log(\"Bokeh: BokehJS failed to load within specified timeout.\");\n      root._bokeh_failed_load = true;\n    } else if (force !== true) {\n      var cell = $(document.getElementById(\"e4fbbf2b-23da-4081-bce3-00f7fe26336b\")).parents('.cell').data().cell;\n      cell.output_area.append_execute_result(NB_LOAD_WARNING)\n    }\n\n  }\n\n  if (root._bokeh_is_loading === 0) {\n    console.log(\"Bokeh: BokehJS loaded, going straight to plotting\");\n    run_inline_js();\n  } else {\n    load_libs(js_urls, function() {\n      console.log(\"Bokeh: BokehJS plotting callback run at\", now());\n      run_inline_js();\n    });\n  }\n}(window));"
     },
     "metadata": {},
     "output_type": "display_data"
    }
   ],
   "source": [
    "from bokeh.plotting import figure, output_notebook, show\n",
    "\n",
    "output_notebook()"
   ]
  },
  {
   "cell_type": "code",
   "execution_count": 38,
   "metadata": {},
   "outputs": [
    {
     "data": {
      "text/html": [
       "\n",
       "<div class=\"bk-root\">\n",
       "    <div class=\"bk-plotdiv\" id=\"9117ec5c-8115-4aa2-b678-00c67a383162\"></div>\n",
       "</div>"
      ]
     },
     "metadata": {},
     "output_type": "display_data"
    },
    {
     "data": {
      "application/javascript": [
       "(function(root) {\n",
       "  function embed_document(root) {\n",
       "    \n",
       "  var docs_json = {\"5a6de539-d1e6-4364-b42a-704612c6a6d8\":{\"roots\":{\"references\":[{\"attributes\":{\"below\":[{\"id\":\"6ad332c3-6053-48ff-8ee8-81c4bf84ea29\",\"type\":\"LinearAxis\"}],\"left\":[{\"id\":\"4c619126-43e5-4db1-a6dc-4dc76c4f6bd9\",\"type\":\"LinearAxis\"}],\"renderers\":[{\"id\":\"6ad332c3-6053-48ff-8ee8-81c4bf84ea29\",\"type\":\"LinearAxis\"},{\"id\":\"e94bd930-3aa4-4c36-86fb-74a8fa11797d\",\"type\":\"Grid\"},{\"id\":\"4c619126-43e5-4db1-a6dc-4dc76c4f6bd9\",\"type\":\"LinearAxis\"},{\"id\":\"59f2dd72-7e4a-496d-aeae-1929c874484e\",\"type\":\"Grid\"},{\"id\":\"1b1b44a8-43b7-4cf8-b62a-2715218abaf0\",\"type\":\"BoxAnnotation\"},{\"id\":\"7d24930f-a260-418b-b46e-dbced8ee8321\",\"type\":\"Legend\"},{\"id\":\"a0af4ec1-e627-46fe-8b5e-589e632c8b52\",\"type\":\"GlyphRenderer\"},{\"id\":\"29d583f1-ef38-4610-a959-413818a8a1b3\",\"type\":\"GlyphRenderer\"},{\"id\":\"8c62faf1-5a4b-403e-8da3-7b7d75f39223\",\"type\":\"GlyphRenderer\"},{\"id\":\"1b38d332-139e-4fd8-aec6-8a1f8290f475\",\"type\":\"GlyphRenderer\"},{\"id\":\"7c0ac7d5-eba7-483a-af20-97e637da61de\",\"type\":\"GlyphRenderer\"},{\"id\":\"71fce76f-7663-4728-b2cf-2c5fdd8d2464\",\"type\":\"GlyphRenderer\"},{\"id\":\"adbe5efc-bfd6-4bb0-a0b7-01771c4b6694\",\"type\":\"GlyphRenderer\"},{\"id\":\"c000406b-89bf-46f6-8e1a-9af6b206ad48\",\"type\":\"GlyphRenderer\"},{\"id\":\"72234dde-ba06-4f5c-b096-5468a03b65f6\",\"type\":\"GlyphRenderer\"},{\"id\":\"2b4bdad4-56d2-45b4-95f3-92f1c80c8578\",\"type\":\"GlyphRenderer\"}],\"title\":{\"id\":\"a64ba59b-78b2-4359-b569-fa9504ec7c33\",\"type\":\"Title\"},\"toolbar\":{\"id\":\"6069b794-e3f7-4341-9ba0-9cf550790335\",\"type\":\"Toolbar\"},\"x_range\":{\"id\":\"c60832e3-056c-4a75-b3ff-f48fa2050c27\",\"type\":\"DataRange1d\"},\"x_scale\":{\"id\":\"1367cc64-f1f6-4a0b-8204-c995a845af60\",\"type\":\"LinearScale\"},\"y_range\":{\"id\":\"ea05fabb-781c-43d6-8ff5-b325868b98f5\",\"type\":\"DataRange1d\"},\"y_scale\":{\"id\":\"887f2933-8f11-4bac-9156-78720b92ac90\",\"type\":\"LinearScale\"}},\"id\":\"4a173f0f-efd7-4799-b742-2a618e5d3f94\",\"subtype\":\"Figure\",\"type\":\"Plot\"},{\"attributes\":{},\"id\":\"41b8a971-751c-4272-8476-afbb2fdc98a0\",\"type\":\"BasicTickFormatter\"},{\"attributes\":{\"source\":{\"id\":\"6754988c-e3c6-497e-9ca8-50468d94181f\",\"type\":\"ColumnDataSource\"}},\"id\":\"be8c142b-e2ea-43fe-903b-466359c25c8b\",\"type\":\"CDSView\"},{\"attributes\":{\"label\":{\"value\":\"5\"},\"renderers\":[{\"id\":\"71fce76f-7663-4728-b2cf-2c5fdd8d2464\",\"type\":\"GlyphRenderer\"}]},\"id\":\"3c698fbc-b48d-4ed5-b7af-895d780aeb18\",\"type\":\"LegendItem\"},{\"attributes\":{\"active_drag\":\"auto\",\"active_inspect\":\"auto\",\"active_scroll\":\"auto\",\"active_tap\":\"auto\",\"tools\":[{\"id\":\"b065c388-b350-4d58-9b39-c4f053724fa1\",\"type\":\"PanTool\"},{\"id\":\"4a0a7080-c4d9-4cd9-ad49-52c8fa3a442a\",\"type\":\"WheelZoomTool\"},{\"id\":\"c6dad210-59fc-42fd-98d1-5d6547331a9e\",\"type\":\"BoxZoomTool\"},{\"id\":\"afb09291-d46d-4cdb-8b27-ffa224987f43\",\"type\":\"SaveTool\"},{\"id\":\"97ef30c2-fc55-44e4-80bc-91c88937b254\",\"type\":\"ResetTool\"},{\"id\":\"d039adb8-4003-47aa-89cd-75ea3aa8e114\",\"type\":\"HelpTool\"}]},\"id\":\"6069b794-e3f7-4341-9ba0-9cf550790335\",\"type\":\"Toolbar\"},{\"attributes\":{\"data_source\":{\"id\":\"211a24e9-1821-4ccc-9e0b-455d6d013d40\",\"type\":\"ColumnDataSource\"},\"glyph\":{\"id\":\"402cd209-1c2c-4621-8047-b6ff2308f57e\",\"type\":\"Circle\"},\"hover_glyph\":null,\"muted_glyph\":null,\"nonselection_glyph\":{\"id\":\"10096f44-c102-4a82-97c9-8acd5ca7a8f8\",\"type\":\"Circle\"},\"selection_glyph\":null,\"view\":{\"id\":\"1ad7f65f-ce95-4678-b245-4a301e74e072\",\"type\":\"CDSView\"}},\"id\":\"adbe5efc-bfd6-4bb0-a0b7-01771c4b6694\",\"type\":\"GlyphRenderer\"},{\"attributes\":{},\"id\":\"1367cc64-f1f6-4a0b-8204-c995a845af60\",\"type\":\"LinearScale\"},{\"attributes\":{\"fill_alpha\":{\"value\":0.1},\"fill_color\":{\"value\":\"#1f77b4\"},\"line_alpha\":{\"value\":0.1},\"line_color\":{\"value\":\"#1f77b4\"},\"size\":{\"units\":\"screen\",\"value\":7},\"x\":{\"field\":\"x\"},\"y\":{\"field\":\"y\"}},\"id\":\"10096f44-c102-4a82-97c9-8acd5ca7a8f8\",\"type\":\"Circle\"},{\"attributes\":{\"label\":{\"value\":\"0\"},\"renderers\":[{\"id\":\"a0af4ec1-e627-46fe-8b5e-589e632c8b52\",\"type\":\"GlyphRenderer\"}]},\"id\":\"c84f5e3f-5ee0-4ce3-936d-0040f3cc5fe0\",\"type\":\"LegendItem\"},{\"attributes\":{\"source\":{\"id\":\"aee0f9a8-b8c7-4b80-96c6-17e7c8de1785\",\"type\":\"ColumnDataSource\"}},\"id\":\"fb6a0c86-7504-4f99-b5f4-75bb9c6f5e26\",\"type\":\"CDSView\"},{\"attributes\":{\"fill_alpha\":{\"value\":0.4},\"fill_color\":{\"value\":\"black\"},\"line_alpha\":{\"value\":0.4},\"size\":{\"units\":\"screen\",\"value\":7},\"x\":{\"field\":\"x\"},\"y\":{\"field\":\"y\"}},\"id\":\"402cd209-1c2c-4621-8047-b6ff2308f57e\",\"type\":\"Circle\"},{\"attributes\":{},\"id\":\"887f2933-8f11-4bac-9156-78720b92ac90\",\"type\":\"LinearScale\"},{\"attributes\":{\"label\":{\"value\":\"6\"},\"renderers\":[{\"id\":\"adbe5efc-bfd6-4bb0-a0b7-01771c4b6694\",\"type\":\"GlyphRenderer\"}]},\"id\":\"974535a5-f3d3-4d23-9cc0-0a98d8ebd665\",\"type\":\"LegendItem\"},{\"attributes\":{\"formatter\":{\"id\":\"41b8a971-751c-4272-8476-afbb2fdc98a0\",\"type\":\"BasicTickFormatter\"},\"plot\":{\"id\":\"4a173f0f-efd7-4799-b742-2a618e5d3f94\",\"subtype\":\"Figure\",\"type\":\"Plot\"},\"ticker\":{\"id\":\"075bc9be-1c75-4531-b447-6a5365298df6\",\"type\":\"BasicTicker\"}},\"id\":\"6ad332c3-6053-48ff-8ee8-81c4bf84ea29\",\"type\":\"LinearAxis\"},{\"attributes\":{\"fill_alpha\":{\"value\":0.4},\"fill_color\":{\"value\":\"blue\"},\"line_alpha\":{\"value\":0.4},\"line_color\":{\"value\":\"blue\"},\"size\":{\"units\":\"screen\",\"value\":7},\"x\":{\"field\":\"x\"},\"y\":{\"field\":\"y\"}},\"id\":\"7678f573-3b09-4a66-b5cb-a326385cc9e3\",\"type\":\"Circle\"},{\"attributes\":{\"callback\":null,\"column_names\":[\"x\",\"y\"],\"data\":{\"x\":{\"__ndarray__\":\"c4dKwdb/jsFiknfBxKB5wf3+hMEzp07BCvN+wZYlcsEuNFPBFYyAwSQ5a8Ga21jBnIs/wZVyTcFZQ2fBa0p5wSavPcFi84TBKGB7wS/ORMHLfUbBvmhZwWVpS8HZli3B755TwaUwisFXdIvBAm0pwQi9WsE9QjzBsNsqwSLzXsEh+GTBMDJbwbv+WMHbJ3fBobFVwZhGb8E/rWrBNTJDwS9QUcEwYjzBcJVvwUnpRMHbBzHBUSEswbe9RcGs2HrBbTo9wf3PUsGC11bB+XyFwdViWcERcF/B/mApwXanMsHrlGbBEh5lwbybKcGBh4nBVyp0wYpQT8EwekjBrCR1wTj/OMEjflLBNaV4wXkFXMG6OFPBxZxywVOHXMFvNVvBrRw0wSWRZsGI8ynBE1JswQ==\",\"dtype\":\"float32\",\"shape\":[76]},\"y\":{\"__ndarray__\":\"I93KwQyCr8GUIrnBSp2HwbyVzMHneKDBQLa3wS9zmcHAWcLBXmbcwX/py8FpgN7Bb/OswTyI4MHq3ObBEP7MwQt9m8H8s9bByD3TwYRBqcEYoMHBGNmvwcDHvMEEoanBkT+WwRBJyMFCNn/B2lfgwSXv4cFx77PBiwXYwep86sF5y7TBMT3twV4C2MHRWZHBnZKuwZtIrMFAJsHBKvyUwY99j8ETGJHBuzybwd5ol8HiMbrBdg/dwSeK1ME/tqHBZbu7wSPvicExhsPB9EOSwTOvusFyCJXBIZjKwTUBscEa5eLBs57hwYzrscHdBsrBgpiWwdsLr8HjK9fBDFDPwVCH3cFh8p7B8ArnwXAXxcEMQKHB+AXDwfNR1MGBwKjBD9HmwcyVxMHmEKTB/tCswQ==\",\"dtype\":\"float32\",\"shape\":[76]}}},\"id\":\"211a24e9-1821-4ccc-9e0b-455d6d013d40\",\"type\":\"ColumnDataSource\"},{\"attributes\":{},\"id\":\"075bc9be-1c75-4531-b447-6a5365298df6\",\"type\":\"BasicTicker\"},{\"attributes\":{\"source\":{\"id\":\"211a24e9-1821-4ccc-9e0b-455d6d013d40\",\"type\":\"ColumnDataSource\"}},\"id\":\"1ad7f65f-ce95-4678-b245-4a301e74e072\",\"type\":\"CDSView\"},{\"attributes\":{\"plot\":{\"id\":\"4a173f0f-efd7-4799-b742-2a618e5d3f94\",\"subtype\":\"Figure\",\"type\":\"Plot\"},\"ticker\":{\"id\":\"075bc9be-1c75-4531-b447-6a5365298df6\",\"type\":\"BasicTicker\"}},\"id\":\"e94bd930-3aa4-4c36-86fb-74a8fa11797d\",\"type\":\"Grid\"},{\"attributes\":{\"data_source\":{\"id\":\"aee0f9a8-b8c7-4b80-96c6-17e7c8de1785\",\"type\":\"ColumnDataSource\"},\"glyph\":{\"id\":\"7678f573-3b09-4a66-b5cb-a326385cc9e3\",\"type\":\"Circle\"},\"hover_glyph\":null,\"muted_glyph\":null,\"nonselection_glyph\":{\"id\":\"a1efe5fd-8dc2-4df2-812f-93b84455a20d\",\"type\":\"Circle\"},\"selection_glyph\":null,\"view\":{\"id\":\"fb6a0c86-7504-4f99-b5f4-75bb9c6f5e26\",\"type\":\"CDSView\"}},\"id\":\"a0af4ec1-e627-46fe-8b5e-589e632c8b52\",\"type\":\"GlyphRenderer\"},{\"attributes\":{\"fill_alpha\":{\"value\":0.4},\"fill_color\":{\"value\":\"purple\"},\"line_alpha\":{\"value\":0.4},\"line_color\":{\"value\":\"purple\"},\"size\":{\"units\":\"screen\",\"value\":7},\"x\":{\"field\":\"x\"},\"y\":{\"field\":\"y\"}},\"id\":\"ac403a07-29be-4653-ac20-63b490be254a\",\"type\":\"Circle\"},{\"attributes\":{\"formatter\":{\"id\":\"023440ba-fed2-43b0-9038-95db0e441c4d\",\"type\":\"BasicTickFormatter\"},\"plot\":{\"id\":\"4a173f0f-efd7-4799-b742-2a618e5d3f94\",\"subtype\":\"Figure\",\"type\":\"Plot\"},\"ticker\":{\"id\":\"ac76d057-da36-4bb3-b991-2bff9393de3b\",\"type\":\"BasicTicker\"}},\"id\":\"4c619126-43e5-4db1-a6dc-4dc76c4f6bd9\",\"type\":\"LinearAxis\"},{\"attributes\":{\"label\":{\"value\":\"7\"},\"renderers\":[{\"id\":\"c000406b-89bf-46f6-8e1a-9af6b206ad48\",\"type\":\"GlyphRenderer\"}]},\"id\":\"e1d79b8b-d10d-470c-9283-fccb9640730b\",\"type\":\"LegendItem\"},{\"attributes\":{},\"id\":\"ac76d057-da36-4bb3-b991-2bff9393de3b\",\"type\":\"BasicTicker\"},{\"attributes\":{\"callback\":null,\"column_names\":[\"x\",\"y\"],\"data\":{\"x\":{\"__ndarray__\":\"32zNQb/o7kFfoQZC+p3kQSYb0EH0cchBvC7+QXlmt0HnI9dBUW/wQU5mxkG1LtFBJNPXQZpA/UEnT8pBxwb5QT4IC0JFDcJBI8fsQQyW4kGIagBCbRvOQVMg70G3BfpBA5nyQT3R70ESVvZB2ev1QcP780Eb6QFCxT7sQR88y0EnSfJBzyXnQdlbtUGVYgJCpx77QV6wCEL1o9FBEW8GQjRqCUJzFO9BusvuQfwHtkF//f9B/absQVhu0kHQ275Bf/XoQe+++0HVwQhCmC7DQYnPBkJkl+JBU2wIQjaZx0GFBrxBpRi5QZ7h6kHRvvZBwvcEQuvuAUIJogZCMFPeQQJx+UFPa8FBQ4gAQvmI0kGEIOdBP2vMQYrs/kEi8f1BiHYBQuuOA0L5dgJCs6sEQlWH/kEKhAFCzLXiQYL3t0FLpQZCbHMHQgJd3EGy2fdB5k4CQkGH2UHTkwFCEGLzQeAi/0FWffNBeacJQo289UEX49xBSjEBQgc3CUIYjfRBa+QDQkIe3EGrO9NBEgbWQYTL1kFwzwlCpKH5QSAWvEEXc9JBMkXmQb2j90Gl3/1BnubdQUGqAUKUoQNC\",\"dtype\":\"float32\",\"shape\":[111]},\"y\":{\"__ndarray__\":\"FBtnQas3WEHZPeRAjvAzQEMkqb7XsIs/ICswQOEwNr+NcbRArSLaQPzkskBRMKu/US52QD37gUDw0S1A1fsvQL/4H0F417dAjEWWQLg/hECOr1lBjmJYQPjVXkEM4BpALiDcQP48XUGgPlFB9+c9QRhYfj8X4jJBi3PSP7LQZj5vLKpAqGVKQBwYo0DHvQ5BbEsOQVwsYUH7GlA/QKAXQXi0KkFyWzNBMx7QQEzdKcBEC7M/4Q9wQP2U1D//FhM/F1wJQAypBUBPcD9BEO1IQFrDL0HhdyxBIxdeQXrmS0DidSQ/CqgTQWDW7z7p+yhBpxMJQSXkJ0FUSbNA7iexQMB66kCd8Gy+XR0JPwJPUUCyo+ZANGRLP5jjGUHoQk9Btt5iQRFxAEHueTNBYZZMQeyNB0GgvCRA8lrsvojA0z7hDEpBdYkFQbWp1T9W8tc/TFC6QHxqO0ACwMRA0HfgPyW26kAP8BNASVvQQMN3077fBABAS/9VvdawnkCy1yVByoYtQVtPZT9nY52/CL5vQIeexkCi3/RAvw00PuYdBUFR2/A/sWIuQaQvxkA+15BAF5vQPo68REHyQj9A\",\"dtype\":\"float32\",\"shape\":[111]}}},\"id\":\"6125b72e-3b30-416a-bee8-44b325fbcc74\",\"type\":\"ColumnDataSource\"},{\"attributes\":{\"dimension\":1,\"plot\":{\"id\":\"4a173f0f-efd7-4799-b742-2a618e5d3f94\",\"subtype\":\"Figure\",\"type\":\"Plot\"},\"ticker\":{\"id\":\"ac76d057-da36-4bb3-b991-2bff9393de3b\",\"type\":\"BasicTicker\"}},\"id\":\"59f2dd72-7e4a-496d-aeae-1929c874484e\",\"type\":\"Grid\"},{\"attributes\":{},\"id\":\"023440ba-fed2-43b0-9038-95db0e441c4d\",\"type\":\"BasicTickFormatter\"},{\"attributes\":{\"bottom_units\":\"screen\",\"fill_alpha\":{\"value\":0.5},\"fill_color\":{\"value\":\"lightgrey\"},\"left_units\":\"screen\",\"level\":\"overlay\",\"line_alpha\":{\"value\":1.0},\"line_color\":{\"value\":\"black\"},\"line_dash\":[4,4],\"line_width\":{\"value\":2},\"plot\":null,\"render_mode\":\"css\",\"right_units\":\"screen\",\"top_units\":\"screen\"},\"id\":\"1b1b44a8-43b7-4cf8-b62a-2715218abaf0\",\"type\":\"BoxAnnotation\"},{\"attributes\":{\"source\":{\"id\":\"6125b72e-3b30-416a-bee8-44b325fbcc74\",\"type\":\"ColumnDataSource\"}},\"id\":\"a723722f-7f43-488d-908c-f827f730516b\",\"type\":\"CDSView\"},{\"attributes\":{\"data_source\":{\"id\":\"6125b72e-3b30-416a-bee8-44b325fbcc74\",\"type\":\"ColumnDataSource\"},\"glyph\":{\"id\":\"ac403a07-29be-4653-ac20-63b490be254a\",\"type\":\"Circle\"},\"hover_glyph\":null,\"muted_glyph\":null,\"nonselection_glyph\":{\"id\":\"0df5d4e4-9aaa-4101-9618-2667bd5d1ff0\",\"type\":\"Circle\"},\"selection_glyph\":null,\"view\":{\"id\":\"a723722f-7f43-488d-908c-f827f730516b\",\"type\":\"CDSView\"}},\"id\":\"c000406b-89bf-46f6-8e1a-9af6b206ad48\",\"type\":\"GlyphRenderer\"},{\"attributes\":{\"fill_alpha\":{\"value\":0.1},\"fill_color\":{\"value\":\"#1f77b4\"},\"line_alpha\":{\"value\":0.1},\"line_color\":{\"value\":\"#1f77b4\"},\"size\":{\"units\":\"screen\",\"value\":7},\"x\":{\"field\":\"x\"},\"y\":{\"field\":\"y\"}},\"id\":\"0df5d4e4-9aaa-4101-9618-2667bd5d1ff0\",\"type\":\"Circle\"},{\"attributes\":{\"data_source\":{\"id\":\"ee58b062-78a1-4e3a-8307-5e5ac51dc505\",\"type\":\"ColumnDataSource\"},\"glyph\":{\"id\":\"63167ad6-b442-41e7-8d1b-da771051063c\",\"type\":\"Circle\"},\"hover_glyph\":null,\"muted_glyph\":null,\"nonselection_glyph\":{\"id\":\"72baeb3b-3f92-436a-890e-a757f18aa139\",\"type\":\"Circle\"},\"selection_glyph\":null,\"view\":{\"id\":\"9257f8d6-be10-4446-9c62-e155c4073423\",\"type\":\"CDSView\"}},\"id\":\"72234dde-ba06-4f5c-b096-5468a03b65f6\",\"type\":\"GlyphRenderer\"},{\"attributes\":{},\"id\":\"b065c388-b350-4d58-9b39-c4f053724fa1\",\"type\":\"PanTool\"},{\"attributes\":{\"fill_alpha\":{\"value\":0.1},\"fill_color\":{\"value\":\"#1f77b4\"},\"line_alpha\":{\"value\":0.1},\"line_color\":{\"value\":\"#1f77b4\"},\"size\":{\"units\":\"screen\",\"value\":7},\"x\":{\"field\":\"x\"},\"y\":{\"field\":\"y\"}},\"id\":\"72baeb3b-3f92-436a-890e-a757f18aa139\",\"type\":\"Circle\"},{\"attributes\":{\"fill_alpha\":{\"value\":0.4},\"fill_color\":{\"value\":\"coral\"},\"line_alpha\":{\"value\":0.4},\"line_color\":{\"value\":\"coral\"},\"size\":{\"units\":\"screen\",\"value\":7},\"x\":{\"field\":\"x\"},\"y\":{\"field\":\"y\"}},\"id\":\"63167ad6-b442-41e7-8d1b-da771051063c\",\"type\":\"Circle\"},{\"attributes\":{},\"id\":\"4a0a7080-c4d9-4cd9-ad49-52c8fa3a442a\",\"type\":\"WheelZoomTool\"},{\"attributes\":{\"overlay\":{\"id\":\"1b1b44a8-43b7-4cf8-b62a-2715218abaf0\",\"type\":\"BoxAnnotation\"}},\"id\":\"c6dad210-59fc-42fd-98d1-5d6547331a9e\",\"type\":\"BoxZoomTool\"},{\"attributes\":{\"label\":{\"value\":\"8\"},\"renderers\":[{\"id\":\"72234dde-ba06-4f5c-b096-5468a03b65f6\",\"type\":\"GlyphRenderer\"}]},\"id\":\"75abb58d-6503-49c5-ba4c-1f0f1ea1e178\",\"type\":\"LegendItem\"},{\"attributes\":{},\"id\":\"afb09291-d46d-4cdb-8b27-ffa224987f43\",\"type\":\"SaveTool\"},{\"attributes\":{\"callback\":null,\"column_names\":[\"x\",\"y\"],\"data\":{\"x\":{\"__ndarray__\":\"sAw1wZLeNsGBw4PAHkGSwFk5ssBEDoXA0vppwZ5tRcHiVF/BEpwWwSNOt8D9ZsLA56w8wDlIWMExlZ3Atx4Cwboc5MDV7RPBXAgtwYivH8GDZz3BCdQ+wSK7NsHNvjrBdUY9wetMDcGqlC3B2gsFQmJbtcA5bobAl2PuwCcOzr/jgwPBJcUJwZgoA8EGIS7Bz+urwHxvQMH6ErvAPshWweU4FsBsfuvANfTbvxGOI8GMwBzBanU8wW/pWMEZ3cDAk4jKv9GUC8E8U07AXSwQwUmL9sCSxBPBkP0ZwU5dFMCMJFnBGN/7wPpEVcFJISPBhHx4wIG+GcDE9uDAv3b9wCDbG8GCyZbAnqwswbKgyMDljRjBpNFhwY2FLsFu9irBlN7OwKXY0MAG6AzBduVUwc78R8AkYQnBtRdKwUK008Bn/v/AAZHLwD9r5MDeqAlBSG/6wKiukcDVjkrBvEBZwTnVucAqacvAezEPwSuMLcG6P53A8WMrweSLxsDtSw3BTqCCQSGy4sCCFaLAthvNwA==\",\"dtype\":\"float32\",\"shape\":[100]},\"y\":{\"__ndarray__\":\"2ZB2QH/POkA0RuVArgFFQK/AST86JalA+lBsQHz8/j9fR4xA+ibiQNLF2EDtfKpAfjyOQNtOukCDArpAvSz+QMVx2kD3Mke/xY64QCxep0BMg9bAZUjfQGodgj91p5w/luHUwCEAMEBTw0FAUJ4YwvvEy0A6PqO+VPfUQLVlTUH1RuQ+JfPIQD7rRT56+ERAe33hP99DdUDdaqBAyaNcP+dS30B7MLVAnx1FQE3TDUCkxDtAZEEqv9OICEEIaf1AYeNNQbyWhkDeTQ1A/zgJQAW9aUAF24e/YqggwIjb30BtCgJBAqcWQIT7FUGxvlg/ClN1QC7TFECIMxtA3vmFP/ZbGsD88SRAjbxdP9hkMD8MgcFA5tx4QP9s4760iI9ADHAHQBHE1EDBJOhAGcG+v2y8k0AUNDY/MZ3PP7W5X0BcmZhAHeh1QHUPC8Cr5ANC/veVQI4V/kBrleRA3OjFQAWtV0AF/5E+pHKYQAcZm0Codt1AUQ+avnk+7D/+IXlASQkpwDumDkCcSa9ARvgAQQ==\",\"dtype\":\"float32\",\"shape\":[100]}}},\"id\":\"ee58b062-78a1-4e3a-8307-5e5ac51dc505\",\"type\":\"ColumnDataSource\"},{\"attributes\":{},\"id\":\"97ef30c2-fc55-44e4-80bc-91c88937b254\",\"type\":\"ResetTool\"},{\"attributes\":{\"source\":{\"id\":\"ee58b062-78a1-4e3a-8307-5e5ac51dc505\",\"type\":\"ColumnDataSource\"}},\"id\":\"9257f8d6-be10-4446-9c62-e155c4073423\",\"type\":\"CDSView\"},{\"attributes\":{},\"id\":\"d039adb8-4003-47aa-89cd-75ea3aa8e114\",\"type\":\"HelpTool\"},{\"attributes\":{\"fill_alpha\":{\"value\":0.4},\"fill_color\":{\"value\":\"lime\"},\"line_alpha\":{\"value\":0.4},\"line_color\":{\"value\":\"lime\"},\"size\":{\"units\":\"screen\",\"value\":7},\"x\":{\"field\":\"x\"},\"y\":{\"field\":\"y\"}},\"id\":\"c5d65938-327b-402d-81f5-44b4489c2cb6\",\"type\":\"Circle\"},{\"attributes\":{\"label\":{\"value\":\"9\"},\"renderers\":[{\"id\":\"2b4bdad4-56d2-45b4-95f3-92f1c80c8578\",\"type\":\"GlyphRenderer\"}]},\"id\":\"2539310b-6a5a-42f6-8844-b2fc9493f4dc\",\"type\":\"LegendItem\"},{\"attributes\":{\"callback\":null,\"column_names\":[\"x\",\"y\"],\"data\":{\"x\":{\"__ndarray__\":\"1KWpQcIqn0FONYVBUs2zQd9EjEFIoKhBPAl3QSrBkkEf/J5B07x3QWTsBEIlopxBvAOqQQbvckFGtZpBYkq0QSpFK0GGLHrBY8uOQYpCpEGIyCVB8GF7QfMwoUHncKpBBOBRQd53c0FLToRBmECBQYCrLUEH6BRBUTKTQfnaKUHeYJ9BicelQVNipEF5GYdBRNOEQQbejkE5z35BFTN8QRbNmEEa9UdBq3ayQU/8n0Gh7KhBRdcgQb9rnkGzYpBBDIWPQZB8SEHFS5lBHi0mQcZPmUHl2JBBtXphQTcebkGAsWVBufCsQSPcsEHIwbNBeUi6QWIBaEFQSppBmj+hQWGmO0ESTZ5B+MuSQTZ0hEGmhpxBSk6BQbcdi0EKvI1B+8iRQRPzpkH+FzBBrdN2QeR1jUFxAhFB6k4iQfCOmUF3K2JBrguFQSeFN0E2fixBGlZtQeQdfEFu3bJBERCrQRGjokF15ZBBH+iNQZG3aUE=\",\"dtype\":\"float32\",\"shape\":[92]},\"y\":{\"__ndarray__\":\"O/zYQahZ5kHOQLdBQWPjQYg2vkHiw8hBkMTRQd64nkHG2rBBN+TCQcDqHMLaRchBMhPQQaWet0GOOt1B6nLcQbPTx0HW+4VA6VzrQUe2t0HNz91BqxzZQXyb2UEXVp5BasTSQac1ukHTo7lBQ2/TQd0U1UEJo9NBT/vFQWNc10EwytNBD+vEQbbF1EFFW75B8NSeQTlb50EOQONBlUarQdjZvUEIIdlBIzDmQQCFw0HRnN9BL73WQd3GzEGYT6ZBm/ikQZDfvUH3189BprzYQcla0UHV7LJBileyQerh3UHTf9BBMfDqQfhrvEE1otJBRKAKQQ2btkGh6tdB0ym4QSRPv0FWIu5BkAzbQZtAwUGWTOFBlvjKQa8B0EG6lM5B/zjjQRLn5EG4pKdBNAbCQf/Pt0HGB95B8njHQWzms0EL58VBJKvMQSROwEE1UsxB9o3KQX9IsUHrPtZBBzydQb6m4UGX0q9B2MTAQZNg1UE=\",\"dtype\":\"float32\",\"shape\":[92]}}},\"id\":\"29c681da-0796-47dc-9dc2-196d970ca480\",\"type\":\"ColumnDataSource\"},{\"attributes\":{\"source\":{\"id\":\"29c681da-0796-47dc-9dc2-196d970ca480\",\"type\":\"ColumnDataSource\"}},\"id\":\"7f1a3b64-51de-4962-aa1f-6059327fb95d\",\"type\":\"CDSView\"},{\"attributes\":{\"data_source\":{\"id\":\"29c681da-0796-47dc-9dc2-196d970ca480\",\"type\":\"ColumnDataSource\"},\"glyph\":{\"id\":\"c5d65938-327b-402d-81f5-44b4489c2cb6\",\"type\":\"Circle\"},\"hover_glyph\":null,\"muted_glyph\":null,\"nonselection_glyph\":{\"id\":\"49aa04cd-df15-40c9-9dbb-c50866127f12\",\"type\":\"Circle\"},\"selection_glyph\":null,\"view\":{\"id\":\"7f1a3b64-51de-4962-aa1f-6059327fb95d\",\"type\":\"CDSView\"}},\"id\":\"2b4bdad4-56d2-45b4-95f3-92f1c80c8578\",\"type\":\"GlyphRenderer\"},{\"attributes\":{\"fill_alpha\":{\"value\":0.1},\"fill_color\":{\"value\":\"#1f77b4\"},\"line_alpha\":{\"value\":0.1},\"line_color\":{\"value\":\"#1f77b4\"},\"size\":{\"units\":\"screen\",\"value\":7},\"x\":{\"field\":\"x\"},\"y\":{\"field\":\"y\"}},\"id\":\"49aa04cd-df15-40c9-9dbb-c50866127f12\",\"type\":\"Circle\"},{\"attributes\":{\"callback\":null,\"column_names\":[\"x\",\"y\"],\"data\":{\"x\":{\"__ndarray__\":\"Kmwhwhf4FMInsnXBC8MmwifnF8JrQnfBgccywk0hF8LPYnbB8tQlwkEFG8LoNxHCx/AswvBHGcIYbyHCNOYVwvezL8KbojXClP82witBC8JWAyXCuRwlwkLbJMLipyfCHbIxwg/LKcL00hnC7JYhwrl+GsLqFDfCMoQYwguIJcLd/SXCkncjwh8/H8Iq+SvCbBEjwoV3JcIPxhXCcCUfwoJ0E8KRgi/C62owwvHrLMJpISnCR/cjwhF3HMKzFDPCBPEtwpy1GMJo1iDCPW0dwhQhDcLSkCvC1GErwuBIG8Jd/xTCjuEowpXEJsLglhLCJRU1wtJFD8J4si3C9Zs4wqpFLcIulSnCjjorwhO0F8J1NiXCGtYwwk87LsJ+ThLCbIMzwgTtH8LT6DLCk10UwpiCHcLTchvCd/AewsmoOMIL9C/Cxz0nwmGeNMIElRfCTEAxwqn4HcIYERfCs5EwwpjiHcISYC/C3uUWwqC1EcIUlyTCxIkjwnjIM8Lr/ifC7XcrwvLjDsJ6yx3C2VU4wg==\",\"dtype\":\"float32\",\"shape\":[100]},\"y\":{\"__ndarray__\":\"cAqZwWT6ysEV423BCcujwQTakcEAHGrBHo7hwXl+r8ETenPBh+uXwQLbs8GuaaHBLMTCwfG9s8GN7+TBeT3gwaret8HcZrfBVEfkwXCBu8Efcp3BNIuTwSJ4zsEbBdTBv5zIwZE9rMHKb6TBWuvbwcjrusHPn9vB0wu9wasyzcEiaI/BJK3rwb/pksE8f6nBbtqewRv72MFAF7vBJBawwYem7ME00tnBvRLpwbaKuME4ULPB5wy+wQbDvsEMAtbBNb+ywfHxkcH8XNfBIY3qwTYQusEGoOjBWyPAwceApsHr4K7BC5eVwZNWlMGG9czBmDvtwewOtsHRZ+HBf7DMwSWFzsH1Xq3Bq7Tfwca2nsHiiK7BUlG7wYqp5MG3stLBo1TqwT9Ds8Gc08rB2hSdwY8cqcGf0cbBQSHVwRPOyMFxTNPB7MLjweWh38HpFOnBptTewWj3usHuguXBgdLfwUnDmMHjTMHBVzKNwfmDycEDz8/BfGSWwa0A1sGRPsXBtiHTwYqMtMHCJ6TB0rbFwQ==\",\"dtype\":\"float32\",\"shape\":[100]}}},\"id\":\"aee0f9a8-b8c7-4b80-96c6-17e7c8de1785\",\"type\":\"ColumnDataSource\"},{\"attributes\":{\"label\":{\"value\":\"1\"},\"renderers\":[{\"id\":\"29d583f1-ef38-4610-a959-413818a8a1b3\",\"type\":\"GlyphRenderer\"}]},\"id\":\"6ff2bbff-dcbb-46e1-8623-5403ce1f1dcb\",\"type\":\"LegendItem\"},{\"attributes\":{\"data_source\":{\"id\":\"1ceeab8b-767d-41a4-b81f-bf800894d44b\",\"type\":\"ColumnDataSource\"},\"glyph\":{\"id\":\"3e77e6f0-19df-4a31-b618-82fe42473a4e\",\"type\":\"Circle\"},\"hover_glyph\":null,\"muted_glyph\":null,\"nonselection_glyph\":{\"id\":\"da83c2be-a820-4970-9dec-1e108ceeea48\",\"type\":\"Circle\"},\"selection_glyph\":null,\"view\":{\"id\":\"b3c6f580-d712-4b09-aa9f-3b6f7b6a5092\",\"type\":\"CDSView\"}},\"id\":\"29d583f1-ef38-4610-a959-413818a8a1b3\",\"type\":\"GlyphRenderer\"},{\"attributes\":{\"plot\":null,\"text\":\"\"},\"id\":\"a64ba59b-78b2-4359-b569-fa9504ec7c33\",\"type\":\"Title\"},{\"attributes\":{\"callback\":null,\"column_names\":[\"x\",\"y\"],\"data\":{\"x\":{\"__ndarray__\":\"LZ+9QZRGx0HKAfFB1hO8Qctb2EFUhbFBfE3dQdTU0UFhsMxBbqHFQZd/vkEMMb5BwPXuQX3D/EGzJt1BMLGDQfp8s0Hb6MVBzXzmQft46EEfcptBymbYQaZl+UEnnbxB4D/NQYdss0GtIbRBh0jAQWOK20FYPdpBHqy5QcJavEEcYf9Buk3CQQztw0HFgstB+zTwQVkjrkFeHPZBGF/FQZYv6kFB7qFB25boQSb/1EEGo+BB6S0BQpSxAkKYOKRBoGcCQgw160H1wABC1cmwQXEy30EXLcVBVU3JQXYkuUGmjNhByPn4QSFA7EFr2rtBGsjiQVPH0EEyGftBwoX2QcZs+UEsxsFBkNfaQfGor0GgqNlBYP3iQRJF4EGfM+FBlc/0QV0rtEFqA/lBZCaeQXOM+0GLzL5BsAfIQbdK7UEBIaVBB/PYQQCqq0FteeZBPDfjQSwt4UGcs81B2sDOQR0wz0HGfs1BkavmQTAi2UF0Ae5Bf1nzQebCqkFNKMFBGyjeQbhiuEHNcthB/K0BQt549kEXcttBDz3GQVZ6/EFf07hBYvHCQQWavkHfo7pBfsPJQXwfq0FLFrhB8UbNQSGNq0G6gatBzuTZQet5tEHUmrVB+zTnQRoPx0HxIdNBtLfCQS/onUE9fdhBk5fKQTwE4EEveOZBfqmlQSlyAkJ32d9BSHGbQQ==\",\"dtype\":\"float32\",\"shape\":[130]},\"y\":{\"__ndarray__\":\"hcf3wcGvA8KoCCzCzcDFweDRJ8LmCPTBWO0kwoNzH8LaU8XBmifpwX+97sFDUAbCaJgVwqSRKMJ+fAXC0a5mwYYDBcIiBfvBdz0kwnKfK8JEwdrBmesfwn5tH8KWw/XBstQdwtU+4sGH8erBq2/IwTV/CcIGEBLCyTEHwj9Rz8EEiTDC0k0Jwoo28cHpphrCiF0zwvBL7sEMhBvCjk/4wdeSJMI98ebBMnYRwmNtBsIV1CnCL3MzwkKKKcLeLeHBS4wvwq3xAsI19xzCsJwEwhZcCcLm2gPCPJkRwhQWA8J7rP/BH5UZwgJ4GMIdGMHBJ74lwhbkFcJTAjDCM54iwkYdLcKBAO3BF7gGwh/q5MFSCSvC4IoGwoHAJ8IJ8wvCf8crwrhz3sGoBybCryDiwYE9KsKhVM7BERAawlmuMcKJ9PTBcLMWwj/OEMKHYBTCwnQJwhYrGMIyCwbCPp7wwa5fDcLihfHBaDYmws2HFML0Kh3C22kkwreNFMI19QHCehsdwtKF68HBb+zBOwwywvyFIMKHcCXCXxwRwt+hKMKgbf3BwBbewRPz1MHV99vBcjnkwY8LEMIP79/ByaESwmdL3sHRXszBGn4vwhQDzsEOF//BmY0Xwi2lycGg2grCtfThwUZm48F2zvDB/x7swVKWIsJi+CfCROnQwXZjLcKkeRzCKUjdwQ==\",\"dtype\":\"float32\",\"shape\":[130]}}},\"id\":\"1ceeab8b-767d-41a4-b81f-bf800894d44b\",\"type\":\"ColumnDataSource\"},{\"attributes\":{\"source\":{\"id\":\"1ceeab8b-767d-41a4-b81f-bf800894d44b\",\"type\":\"ColumnDataSource\"}},\"id\":\"b3c6f580-d712-4b09-aa9f-3b6f7b6a5092\",\"type\":\"CDSView\"},{\"attributes\":{\"fill_alpha\":{\"value\":0.4},\"fill_color\":{\"value\":\"green\"},\"line_alpha\":{\"value\":0.4},\"line_color\":{\"value\":\"green\"},\"size\":{\"units\":\"screen\",\"value\":7},\"x\":{\"field\":\"x\"},\"y\":{\"field\":\"y\"}},\"id\":\"3e77e6f0-19df-4a31-b618-82fe42473a4e\",\"type\":\"Circle\"},{\"attributes\":{\"fill_alpha\":{\"value\":0.1},\"fill_color\":{\"value\":\"#1f77b4\"},\"line_alpha\":{\"value\":0.1},\"line_color\":{\"value\":\"#1f77b4\"},\"size\":{\"units\":\"screen\",\"value\":7},\"x\":{\"field\":\"x\"},\"y\":{\"field\":\"y\"}},\"id\":\"da83c2be-a820-4970-9dec-1e108ceeea48\",\"type\":\"Circle\"},{\"attributes\":{\"data_source\":{\"id\":\"fce9c5a8-2126-400a-b357-3901dbce8d16\",\"type\":\"ColumnDataSource\"},\"glyph\":{\"id\":\"c81596ca-20f0-4976-b2e3-c9a5ccc35c7f\",\"type\":\"Circle\"},\"hover_glyph\":null,\"muted_glyph\":null,\"nonselection_glyph\":{\"id\":\"10d06805-2dca-4c68-b0a2-390bb694e877\",\"type\":\"Circle\"},\"selection_glyph\":null,\"view\":{\"id\":\"29ff5bba-9f95-464e-a473-85de2984cd61\",\"type\":\"CDSView\"}},\"id\":\"8c62faf1-5a4b-403e-8da3-7b7d75f39223\",\"type\":\"GlyphRenderer\"},{\"attributes\":{\"fill_alpha\":{\"value\":0.1},\"fill_color\":{\"value\":\"#1f77b4\"},\"line_alpha\":{\"value\":0.1},\"line_color\":{\"value\":\"#1f77b4\"},\"size\":{\"units\":\"screen\",\"value\":7},\"x\":{\"field\":\"x\"},\"y\":{\"field\":\"y\"}},\"id\":\"10d06805-2dca-4c68-b0a2-390bb694e877\",\"type\":\"Circle\"},{\"attributes\":{\"fill_alpha\":{\"value\":0.4},\"fill_color\":{\"value\":\"red\"},\"line_alpha\":{\"value\":0.4},\"line_color\":{\"value\":\"red\"},\"size\":{\"units\":\"screen\",\"value\":7},\"x\":{\"field\":\"x\"},\"y\":{\"field\":\"y\"}},\"id\":\"c81596ca-20f0-4976-b2e3-c9a5ccc35c7f\",\"type\":\"Circle\"},{\"attributes\":{\"label\":{\"value\":\"2\"},\"renderers\":[{\"id\":\"8c62faf1-5a4b-403e-8da3-7b7d75f39223\",\"type\":\"GlyphRenderer\"}]},\"id\":\"533d247a-a9df-4f91-ab99-c2dd18a3bca7\",\"type\":\"LegendItem\"},{\"attributes\":{\"callback\":null,\"column_names\":[\"x\",\"y\"],\"data\":{\"x\":{\"__ndarray__\":\"njpOQSxgF0HdrhxBMl8kQZkES0F04llBWhodQTi2v0Bwbp5A/PMmQfBVlUBiw1BBG7meQPv8CkHZEktAw+RVQUxyaUGiBqFBvPo1QRhHikHoiBFBdueBQbBbAkFVD4tB7P7OQFJqEkGH3XxBOhGjQHWIA0F1+BhBhMwOQCmqKUBaGovB3EbxQMRfZEFEv1tBSXiHQVg9QEH3bApBOOHMQI10tEAqGG5AdtCFQKKYfUFzjqJB4vaBQe5bfkGXOaVAtEVYv7TWIEEQNYlBZXEZQRMsrkC4gjFBOol3QZzMakE4EjNBjRCrQI1UsUCEA7FA8TknQJFNXUBHBT5BYqt5QHTyDkGmsA5BP7m3Qd9RUkEjsaZAC35uQcDBqEGprm1BY2EBQR2CbcG8/cxAHFwFQUahgUErNmVB3tuRQOqyJUEQu3xBG6/1QLn6p0D3s25BWQmEQSEO4UAHdBNBh7wMQWnoWkGGU4lBJGShQGZJKUF+s6RAb6xmQedpNUFMGVZBCaZJQeqXRUH9GjdBIBFLQfO0b0GA9oJBQtnmQCZcrz/JAjdBowm+QMxtV0EkiMlB\",\"dtype\":\"float32\",\"shape\":[108]},\"y\":{\"__ndarray__\":\"4I4OwRopIMFe007BzSElwTsKksAH5FvBo8P/wGaLB8Ef6hLBACQPwdO9d8GgVxHB6gkWwXLbV8EoAnTB5LZgwVCYScFHMx7AwAglwS4sNMBficzAGdoPwa6+GsF7U0jBvHo/wUhI+8BkJ0jBflLxwFvrUcHBXlXBfV8jwYM0LMH3rG7B9DYvwaWQPMGkeg/Bz6UrwU4M98BmcRnBqShwwaAgIMFVRFvB8eQswZQGG8GckhjA6qdrwb72J8E7KQPBElQdwWg6VMEFCUnBgHnNwF6whMEIE2fBRBk6wXIPNMHWRGjBM14qwSIvhcFprDLBlqElwaK1dsGAgz3Bj9ogwQL0QMEITtXA4T24wTpg4MDFN0nB+J9GwbNuvL/5gE7Bcgp6wZ14X8GeXGzBbPwGweg6YMH/lunA47NQwYBEAsFaQkjBeG9EwQcNBMFjkDbB7GotwQyXTsE/5B3Bvgh3wQBPPcHmlQzBLjEtwa50PMEpJUHBgpIDwWic4sCyYWbBRvUgwVuUj8BPQBbBKI4dwXzSIMEmKzDBSL0owaDbHcEnAkTBdulBwQLQ4sDZ17nB\",\"dtype\":\"float32\",\"shape\":[108]}}},\"id\":\"fce9c5a8-2126-400a-b357-3901dbce8d16\",\"type\":\"ColumnDataSource\"},{\"attributes\":{\"source\":{\"id\":\"fce9c5a8-2126-400a-b357-3901dbce8d16\",\"type\":\"ColumnDataSource\"}},\"id\":\"29ff5bba-9f95-464e-a473-85de2984cd61\",\"type\":\"CDSView\"},{\"attributes\":{\"callback\":null},\"id\":\"ea05fabb-781c-43d6-8ff5-b325868b98f5\",\"type\":\"DataRange1d\"},{\"attributes\":{\"fill_alpha\":{\"value\":0.4},\"fill_color\":{\"value\":\"cyan\"},\"line_alpha\":{\"value\":0.4},\"line_color\":{\"value\":\"cyan\"},\"size\":{\"units\":\"screen\",\"value\":7},\"x\":{\"field\":\"x\"},\"y\":{\"field\":\"y\"}},\"id\":\"675722bb-86ae-4488-8d5f-39b414a6f8dc\",\"type\":\"Circle\"},{\"attributes\":{\"label\":{\"value\":\"3\"},\"renderers\":[{\"id\":\"1b38d332-139e-4fd8-aec6-8a1f8290f475\",\"type\":\"GlyphRenderer\"}]},\"id\":\"12d1b58e-6468-4144-ac17-b0f21af3f4c7\",\"type\":\"LegendItem\"},{\"attributes\":{\"callback\":null,\"column_names\":[\"x\",\"y\"],\"data\":{\"x\":{\"__ndarray__\":\"WRmmwY+BvcEEIeHB8Mbbwf1StcFXB9vBmQbnwSYDz8FnGuzBDru9wWYNtcFC8+/BZRbVwfr+rsHDN+3BM7/BwcE328E0Pd3BIQvQwXHw18EdGJfBbz6bwZGPxcEwc+PBykCnwVau38FN2bPB94K4wREg3cGrZ83B0ba9wTEA0MHpKefB5CidwfVw0sHBnaHBZJTjwXqhtME8T9PB5BscwUosrMFYJs/BZEy3wcCXsMFfCtHBZPffwWic68FLOtXBXLLNwQdt1cHkYuTBg9SqweSswcHKELLBh26+wWe9BUL3aK3Bkxm/waC948EvX7HBtOfiwRWt0cGZM87BhImtwbqMwcH8iufBw/m8wbIpycEn+cbByFa9wccdtsE9gbvBtO7Gwfirw8G/FdnBlArDwWOyrMEWhrzBuzHJwekv0sEPncXBbsusQeEZ2MEwwrPBWQXawcdQ0MHArOfBRyqlweyMvMGLA+7Bp2K/wTXA18G8AMjBmuzQwRHxucH7ddHBA0LIwS+i2cEO28vBGcGkwQXXyMEz0bzBPrLlwSxWqsE=\",\"dtype\":\"float32\",\"shape\":[104]},\"y\":{\"__ndarray__\":\"kSCbQahHY0EpO9RBkouDQSQkrUGKMYxBOuSsQWyMp0HI5IpBeB2EQTtpr0F4IrBBDU6FQSExrkG4T6xBIZt8QYw0pEEBzJ5BEU+8QYj1ekHiGKpB35qnQW80uEG3nb1Bkn2oQYAZT0F2cL1B6C6aQT6Oo0Eon5dBh6tVQSq1UkGDWMdB+FSfQR7exkG0K71BPF3AQX0ZekFv8GdBoB0XQSWbpkGfRk5BEFGjQVsYqkH/y01AoMVPQfGajUHp9L9BD5qoQdl6pkFGDE1BlV+MQc4PxEEanptB/0eVQeiiikDGu5tBN0FnQftrvEFZ3rpBim60QQKZjUGyFsdBCCZ3QSFdzEEfgE9BvxoWPtomd0Hco7JByBxzQTNstUESr7tBMVo3QWJXpEEH8sxBKP6IQbdavUHvAalBbetpQV8Km0Et+49BIbaHv12zrEENkpVBcLd8QexejUH5BpRBTLmzQYAgukE1F6hBG6GyQTmMmUG9zpNBli2dQYXOxkF902lBG788QRnmxEHu5IFBmdOWQTBPwkFTOKZBgB/MQbgQsEE=\",\"dtype\":\"float32\",\"shape\":[104]}}},\"id\":\"00bdd54b-1caa-4e87-bb74-9e547e044707\",\"type\":\"ColumnDataSource\"},{\"attributes\":{\"data_source\":{\"id\":\"6754988c-e3c6-497e-9ca8-50468d94181f\",\"type\":\"ColumnDataSource\"},\"glyph\":{\"id\":\"7e2f4a6d-dd94-41ee-8b22-1691b2202d69\",\"type\":\"Circle\"},\"hover_glyph\":null,\"muted_glyph\":null,\"nonselection_glyph\":{\"id\":\"3e9212c1-9647-4fe7-beda-cb380c9beb33\",\"type\":\"Circle\"},\"selection_glyph\":null,\"view\":{\"id\":\"be8c142b-e2ea-43fe-903b-466359c25c8b\",\"type\":\"CDSView\"}},\"id\":\"71fce76f-7663-4728-b2cf-2c5fdd8d2464\",\"type\":\"GlyphRenderer\"},{\"attributes\":{\"items\":[{\"id\":\"c84f5e3f-5ee0-4ce3-936d-0040f3cc5fe0\",\"type\":\"LegendItem\"},{\"id\":\"6ff2bbff-dcbb-46e1-8623-5403ce1f1dcb\",\"type\":\"LegendItem\"},{\"id\":\"533d247a-a9df-4f91-ab99-c2dd18a3bca7\",\"type\":\"LegendItem\"},{\"id\":\"12d1b58e-6468-4144-ac17-b0f21af3f4c7\",\"type\":\"LegendItem\"},{\"id\":\"c3a52265-4d7b-48b4-9bc1-4a6a53773a68\",\"type\":\"LegendItem\"},{\"id\":\"3c698fbc-b48d-4ed5-b7af-895d780aeb18\",\"type\":\"LegendItem\"},{\"id\":\"974535a5-f3d3-4d23-9cc0-0a98d8ebd665\",\"type\":\"LegendItem\"},{\"id\":\"e1d79b8b-d10d-470c-9283-fccb9640730b\",\"type\":\"LegendItem\"},{\"id\":\"75abb58d-6503-49c5-ba4c-1f0f1ea1e178\",\"type\":\"LegendItem\"},{\"id\":\"2539310b-6a5a-42f6-8844-b2fc9493f4dc\",\"type\":\"LegendItem\"}],\"location\":\"bottom_right\",\"plot\":{\"id\":\"4a173f0f-efd7-4799-b742-2a618e5d3f94\",\"subtype\":\"Figure\",\"type\":\"Plot\"}},\"id\":\"7d24930f-a260-418b-b46e-dbced8ee8321\",\"type\":\"Legend\"},{\"attributes\":{\"source\":{\"id\":\"00bdd54b-1caa-4e87-bb74-9e547e044707\",\"type\":\"ColumnDataSource\"}},\"id\":\"795172be-be4b-4dfe-bbfb-b52170eebc9d\",\"type\":\"CDSView\"},{\"attributes\":{\"data_source\":{\"id\":\"00bdd54b-1caa-4e87-bb74-9e547e044707\",\"type\":\"ColumnDataSource\"},\"glyph\":{\"id\":\"675722bb-86ae-4488-8d5f-39b414a6f8dc\",\"type\":\"Circle\"},\"hover_glyph\":null,\"muted_glyph\":null,\"nonselection_glyph\":{\"id\":\"9d6789d4-eed6-473a-87e5-e76a882d5477\",\"type\":\"Circle\"},\"selection_glyph\":null,\"view\":{\"id\":\"795172be-be4b-4dfe-bbfb-b52170eebc9d\",\"type\":\"CDSView\"}},\"id\":\"1b38d332-139e-4fd8-aec6-8a1f8290f475\",\"type\":\"GlyphRenderer\"},{\"attributes\":{\"fill_alpha\":{\"value\":0.1},\"fill_color\":{\"value\":\"#1f77b4\"},\"line_alpha\":{\"value\":0.1},\"line_color\":{\"value\":\"#1f77b4\"},\"size\":{\"units\":\"screen\",\"value\":7},\"x\":{\"field\":\"x\"},\"y\":{\"field\":\"y\"}},\"id\":\"9d6789d4-eed6-473a-87e5-e76a882d5477\",\"type\":\"Circle\"},{\"attributes\":{\"data_source\":{\"id\":\"f56dbf28-0a49-4bb9-80c7-3f9d654c03dd\",\"type\":\"ColumnDataSource\"},\"glyph\":{\"id\":\"d6b16d11-a792-428e-b9b7-edfb8b75de32\",\"type\":\"Circle\"},\"hover_glyph\":null,\"muted_glyph\":null,\"nonselection_glyph\":{\"id\":\"92c4f817-8033-42c1-a7ed-609064e476ff\",\"type\":\"Circle\"},\"selection_glyph\":null,\"view\":{\"id\":\"e34b6fd2-6f0a-4a0b-bfa4-5427e4e00f56\",\"type\":\"CDSView\"}},\"id\":\"7c0ac7d5-eba7-483a-af20-97e637da61de\",\"type\":\"GlyphRenderer\"},{\"attributes\":{\"fill_alpha\":{\"value\":0.1},\"fill_color\":{\"value\":\"#1f77b4\"},\"line_alpha\":{\"value\":0.1},\"line_color\":{\"value\":\"#1f77b4\"},\"size\":{\"units\":\"screen\",\"value\":7},\"x\":{\"field\":\"x\"},\"y\":{\"field\":\"y\"}},\"id\":\"92c4f817-8033-42c1-a7ed-609064e476ff\",\"type\":\"Circle\"},{\"attributes\":{\"fill_alpha\":{\"value\":0.1},\"fill_color\":{\"value\":\"#1f77b4\"},\"line_alpha\":{\"value\":0.1},\"line_color\":{\"value\":\"#1f77b4\"},\"size\":{\"units\":\"screen\",\"value\":7},\"x\":{\"field\":\"x\"},\"y\":{\"field\":\"y\"}},\"id\":\"a1efe5fd-8dc2-4df2-812f-93b84455a20d\",\"type\":\"Circle\"},{\"attributes\":{\"fill_alpha\":{\"value\":0.4},\"fill_color\":{\"value\":\"magenta\"},\"line_alpha\":{\"value\":0.4},\"line_color\":{\"value\":\"magenta\"},\"size\":{\"units\":\"screen\",\"value\":7},\"x\":{\"field\":\"x\"},\"y\":{\"field\":\"y\"}},\"id\":\"d6b16d11-a792-428e-b9b7-edfb8b75de32\",\"type\":\"Circle\"},{\"attributes\":{\"callback\":null},\"id\":\"c60832e3-056c-4a75-b3ff-f48fa2050c27\",\"type\":\"DataRange1d\"},{\"attributes\":{\"label\":{\"value\":\"4\"},\"renderers\":[{\"id\":\"7c0ac7d5-eba7-483a-af20-97e637da61de\",\"type\":\"GlyphRenderer\"}]},\"id\":\"c3a52265-4d7b-48b4-9bc1-4a6a53773a68\",\"type\":\"LegendItem\"},{\"attributes\":{\"callback\":null,\"column_names\":[\"x\",\"y\"],\"data\":{\"x\":{\"__ndarray__\":\"riwSQDbkP0CChVBApqmpQHs+GkHe/hBARm74QDdutkD5SQtB9tIhQJDnbEAQnONANyffQAhqEUGcjrJAKxN7QE2trEDMqRBBGcaYP4Qs4kBdRexA6RBNQL7PrEC2+xBAIPFVQBYRyECM7PNAMUg9QDO1NUHSiaBAhSrSQP9R7UAfXg1Bc5f/QDnXGkGHSDtBhwEYwtYO3UDK/4VAfAvvQEl4DUGUCMhAoEjjQMymv0DdXzdAfEA8QUjFlUC83SdAKOQPQS9aKEEyoK5AK8uoQJkzxkAY8yZBxaAFQflTkEAu3BRBuX6WQINL0UCH3CpA8HDZQOIrokBUw55AEWuLQOC5FkFnTaZA8Fo7QU5Ah0AMwR5Bkj74P84yw0A+9ahAtpStQP61AUJxEA1Bw+oEQeR5yEDqn1ZAOFOiQMFTkUDTNkBA5cQDQWr44D+Z7ABA2ywIQSuohkCvgCFByFnmQAtirkA68SJApa0OQSWH5j/wqnZAX86cP26OzUA=\",\"dtype\":\"float32\",\"shape\":[95]},\"y\":{\"__ndarray__\":\"j+4WQtMbKUJSPQ5Cl9olQoyNJELTSTFCCq8uQhLGCUJZbR5ClvMVQr+hHULvezJC6iwcQvzqLkK5ljNCkPkjQtNjE0KRuyVC7fopQi+4FEJdjjdClTIaQhhGC0I7nCtCK6gJQrFRL0KbdSBCYnAjQqnTHEKW5ydC6/s0QuWAI0KVJyVCNGwpQottFEI5yh9Cn6rswciFDUIBaiFCTUs3QpaGIEL5mitClfopQodDLEL1zxhCmrAUQoVyDkJHRihCHtEnQq9pK0JPMzlCsJ0tQiHHHUJIaCVCBYUiQth1DULSshJCkvkRQkL6FkIPNgpCtTskQgFtIkJECB9CQOcVQoHTKkJV7wVCZbIUQimbC0I0HBZCI78lQsWhGkK3aRtCcdUjQpsAb0GwAS9C1D8PQgOoMUK/pyFC4C0VQo18LkIiNx9Cbk84QlDuGUKWejFCRFocQgBuM0JYIRxCiMkqQt2tOELruzFCBNAsQsnFIEKtJjhCVaceQihPEEI=\",\"dtype\":\"float32\",\"shape\":[95]}}},\"id\":\"f56dbf28-0a49-4bb9-80c7-3f9d654c03dd\",\"type\":\"ColumnDataSource\"},{\"attributes\":{\"source\":{\"id\":\"f56dbf28-0a49-4bb9-80c7-3f9d654c03dd\",\"type\":\"ColumnDataSource\"}},\"id\":\"e34b6fd2-6f0a-4a0b-bfa4-5427e4e00f56\",\"type\":\"CDSView\"},{\"attributes\":{\"fill_alpha\":{\"value\":0.4},\"fill_color\":{\"value\":\"yellow\"},\"line_alpha\":{\"value\":0.4},\"line_color\":{\"value\":\"yellow\"},\"size\":{\"units\":\"screen\",\"value\":7},\"x\":{\"field\":\"x\"},\"y\":{\"field\":\"y\"}},\"id\":\"7e2f4a6d-dd94-41ee-8b22-1691b2202d69\",\"type\":\"Circle\"},{\"attributes\":{\"callback\":null,\"column_names\":[\"x\",\"y\"],\"data\":{\"x\":{\"__ndarray__\":\"n+G/wci7A8K43gnCpS8BwnOFAcJW4gjC0XABwmjYvcHqLQ7CQG4AwvvN+MHZ0QPCoSjmwUlq5cHd8wjCwjXQwXTI7sGSqvrBzTH6wb2rDMKE4vHBdnfZwcflCcLtlfTBZIIJwt4dDsLbGOjBjZQBwhpB2ME8iefB087YwcWzBMLT1NrBu7/xwRGBC8LWQAjC96Hrwb5u8MGtXvTBgdP8wani9cF+bQXCU4rXwe7RA8JNdQjClqbowcqn4MEPdf/Bj0wHwnC9/MERVgbCrGUIwpMq2sG9IdfBnCfvwfqu8sHc08zBlnIEwnINAcJ+c9nBGqPvwXq9AMKZar7BuyQJws1v48HwrcLBfCXrwRZYCMITLuvBJnPPweZZ48EEjgHCAmUDwghU9MHrt9rBviv3wRYaycE/y8rB/gbOwfdr7sH7Gr7BGyIGwsFu8cFMC+HB\",\"dtype\":\"float32\",\"shape\":[84]},\"y\":{\"__ndarray__\":\"RkedQHkZ+0ACBlRAbRPbQHuNuz69efhABh6xQHM36T1on85AhljJQKhV5UDYqn1A7IuGP42k8b++/glB0A3Av9u440AvonxATY4oviSVtkD2adc+bEJ0QCXfiECgXwBAUUO9QI3W2kDizk1AtYkWQQUmPr+y6L5A+TbFQO5Es0AFiBI+/mcxQd/w9ECgf3w/gvHwQHqGGb/cbbZAXzmFP2LKBEGDfcW+cYfvQNhtYkDY2c1Azit+QCVVxT6CoTRAsiqwP6BfZkBckRNBa6cHQVYuoD9ZUDm/Z4bcQAAcsEBHe+pAjFYJQcIqer0LCdI//AugP5im3UA4DNVAnsyzQJq1mL/AKr5AXXECQTr6AEHpJnO+oeHjv2u4yT8hDxlBGEvbQLMCCECq6H5A6U/TQNraZ77PSTXA0svvQKlIrD+L3dZA2m3lP/2zJUFt4Gm/\",\"dtype\":\"float32\",\"shape\":[84]}}},\"id\":\"6754988c-e3c6-497e-9ca8-50468d94181f\",\"type\":\"ColumnDataSource\"},{\"attributes\":{\"fill_alpha\":{\"value\":0.1},\"fill_color\":{\"value\":\"#1f77b4\"},\"line_alpha\":{\"value\":0.1},\"line_color\":{\"value\":\"#1f77b4\"},\"size\":{\"units\":\"screen\",\"value\":7},\"x\":{\"field\":\"x\"},\"y\":{\"field\":\"y\"}},\"id\":\"3e9212c1-9647-4fe7-beda-cb380c9beb33\",\"type\":\"Circle\"}],\"root_ids\":[\"4a173f0f-efd7-4799-b742-2a618e5d3f94\"]},\"title\":\"Bokeh Application\",\"version\":\"0.12.13\"}};\n",
       "  var render_items = [{\"docid\":\"5a6de539-d1e6-4364-b42a-704612c6a6d8\",\"elementid\":\"9117ec5c-8115-4aa2-b678-00c67a383162\",\"modelid\":\"4a173f0f-efd7-4799-b742-2a618e5d3f94\"}];\n",
       "  root.Bokeh.embed.embed_items_notebook(docs_json, render_items);\n",
       "\n",
       "  }\n",
       "  if (root.Bokeh !== undefined) {\n",
       "    embed_document(root);\n",
       "  } else {\n",
       "    var attempts = 0;\n",
       "    var timer = setInterval(function(root) {\n",
       "      if (root.Bokeh !== undefined) {\n",
       "        embed_document(root);\n",
       "        clearInterval(timer);\n",
       "      }\n",
       "      attempts++;\n",
       "      if (attempts > 100) {\n",
       "        console.log(\"Bokeh: ERROR: Unable to run BokehJS code because BokehJS library is missing\")\n",
       "        clearInterval(timer);\n",
       "      }\n",
       "    }, 10, root)\n",
       "  }\n",
       "})(window);"
      ],
      "application/vnd.bokehjs_exec.v0+json": ""
     },
     "metadata": {
      "application/vnd.bokehjs_exec.v0+json": {
       "id": "4a173f0f-efd7-4799-b742-2a618e5d3f94"
      }
     },
     "output_type": "display_data"
    }
   ],
   "source": [
    "p = figure(plot_width=600, plot_height=600)\n",
    "\n",
    "colors = [x for x in 'blue-green-red-cyan-magenta-yellow-black-purple-coral-lime'.split('-')]\n",
    "colors_map = colors_map[:1000]\n",
    "for cl in range(nb_classes):\n",
    "    indices = np.where(colors_map==cl)\n",
    "    p.circle(X_tsne[indices, 0].ravel(), X_tsne[indices, 1].ravel(), size=7, \n",
    "             color=colors[cl], alpha=0.4, legend=str(cl))\n",
    "\n",
    "# show the results\n",
    "p.legend.location = 'bottom_right'\n",
    "show(p)"
   ]
  },
  {
   "cell_type": "markdown",
   "metadata": {},
   "source": [
    "#### Note: We used `default` TSNE parameters. Better results can be achieved by tuning TSNE Hyper-parameters"
   ]
  },
  {
   "cell_type": "markdown",
   "metadata": {},
   "source": [
    "## Exercise 1: \n",
    "\n",
    "### Try with a different algorithm to create the manifold"
   ]
  },
  {
   "cell_type": "code",
   "execution_count": 39,
   "metadata": {},
   "outputs": [],
   "source": [
    "from sklearn.manifold import MDS"
   ]
  },
  {
   "cell_type": "code",
   "execution_count": 40,
   "metadata": {},
   "outputs": [],
   "source": [
    "## Your code here"
   ]
  },
  {
   "cell_type": "markdown",
   "metadata": {},
   "source": [
    "## Exercise 2: \n",
    "\n",
    "### Try extracting the Hidden features of the First and the Last layer of the model"
   ]
  },
  {
   "cell_type": "code",
   "execution_count": 41,
   "metadata": {},
   "outputs": [],
   "source": [
    "## Your code here"
   ]
  },
  {
   "cell_type": "code",
   "execution_count": 42,
   "metadata": {},
   "outputs": [],
   "source": [
    "## Try using the `get_activations` function relying on keras backend\n",
    "def get_activations(model, layer, X_batch):\n",
    "    activations_f = K.function([model.layers[0].input, K.learning_phase()], [layer.output,])\n",
    "    activations = activations_f((X_batch, False))\n",
    "    return activations"
   ]
  },
  {
   "cell_type": "code",
   "execution_count": null,
   "metadata": {},
   "outputs": [],
   "source": []
  },
  {
   "cell_type": "code",
   "execution_count": null,
   "metadata": {},
   "outputs": [],
   "source": [
    "testing complete; Gopal"
   ]
  }
 ],
 "metadata": {
  "kernelspec": {
   "display_name": "Python 3",
   "language": "python",
   "name": "python3"
  },
  "language_info": {
   "codemirror_mode": {
    "name": "ipython",
    "version": 3
   },
   "file_extension": ".py",
   "mimetype": "text/x-python",
   "name": "python",
   "nbconvert_exporter": "python",
   "pygments_lexer": "ipython3",
   "version": "3.6.3"
  }
 },
 "nbformat": 4,
 "nbformat_minor": 1
}
