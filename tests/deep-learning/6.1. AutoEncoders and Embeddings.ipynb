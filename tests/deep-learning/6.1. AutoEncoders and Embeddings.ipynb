{
 "cells": [
  {
   "cell_type": "markdown",
   "metadata": {},
   "source": [
    "# Unsupervised learning"
   ]
  },
  {
   "cell_type": "markdown",
   "metadata": {},
   "source": [
    "### AutoEncoders  "
   ]
  },
  {
   "cell_type": "markdown",
   "metadata": {},
   "source": [
    "An autoencoder, is an artificial neural network used for learning efficient codings. \n",
    "\n",
    "The aim of an autoencoder is to learn a representation (encoding) for a set of data, typically for the purpose of dimensionality reduction. "
   ]
  },
  {
   "cell_type": "markdown",
   "metadata": {},
   "source": [
    "<img src=\"../imgs/autoencoder.png\" width=\"25%\">"
   ]
  },
  {
   "cell_type": "markdown",
   "metadata": {},
   "source": [
    "Unsupervised learning is a type of machine learning algorithm used to draw inferences from datasets consisting of input data without labeled responses. The most common unsupervised learning method is cluster analysis, which is used for exploratory data analysis to find hidden patterns or grouping in data."
   ]
  },
  {
   "cell_type": "markdown",
   "metadata": {},
   "source": [
    "### Reference\n",
    "\n",
    "Based on [https://blog.keras.io/building-autoencoders-in-keras.html](https://blog.keras.io/building-autoencoders-in-keras.html)"
   ]
  },
  {
   "cell_type": "markdown",
   "metadata": {},
   "source": [
    "## Introducing _Keras Functional API_"
   ]
  },
  {
   "cell_type": "markdown",
   "metadata": {},
   "source": [
    "The Keras functional API is the way to go for defining complex models, such as multi-output models, directed acyclic graphs, or models with shared layers."
   ]
  },
  {
   "cell_type": "markdown",
   "metadata": {},
   "source": [
    "All the Functional API relies on the fact that each `keras.Layer` object is a _callable_ object!\n",
    "\n",
    "See [8.2 Multi-Modal Networks](../8. Extra/8.2 Multi-Modal Networks.ipynb) for further details."
   ]
  },
  {
   "cell_type": "markdown",
   "metadata": {},
   "source": [
    "---"
   ]
  },
  {
   "cell_type": "code",
   "execution_count": 1,
   "metadata": {},
   "outputs": [
    {
     "name": "stderr",
     "output_type": "stream",
     "text": [
      "Using TensorFlow backend.\n"
     ]
    }
   ],
   "source": [
    "from keras.layers import Input, Dense\n",
    "from keras.models import Model\n",
    "\n",
    "from keras.datasets import mnist\n",
    "\n",
    "import numpy as np"
   ]
  },
  {
   "cell_type": "code",
   "execution_count": 2,
   "metadata": {},
   "outputs": [],
   "source": [
    "# this is the size of our encoded representations\n",
    "encoding_dim = 32  # 32 floats -> compression of factor 24.5, assuming the input is 784 floats\n",
    "\n",
    "# this is our input placeholder\n",
    "input_img = Input(shape=(784,))\n",
    "# \"encoded\" is the encoded representation of the input\n",
    "encoded = Dense(encoding_dim, activation='relu')(input_img)\n",
    "\n",
    "# \"decoded\" is the lossy reconstruction of the input\n",
    "decoded = Dense(784, activation='sigmoid')(encoded)\n",
    "\n",
    "# this model maps an input to its reconstruction\n",
    "autoencoder = Model(input_img, decoded)"
   ]
  },
  {
   "cell_type": "code",
   "execution_count": 3,
   "metadata": {},
   "outputs": [],
   "source": [
    "# this model maps an input to its encoded representation\n",
    "encoder = Model(input_img, encoded)"
   ]
  },
  {
   "cell_type": "code",
   "execution_count": 4,
   "metadata": {},
   "outputs": [],
   "source": [
    "# create a placeholder for an encoded (32-dimensional) input\n",
    "encoded_input = Input(shape=(encoding_dim,))\n",
    "# retrieve the last layer of the autoencoder model\n",
    "decoder_layer = autoencoder.layers[-1]\n",
    "# create the decoder model\n",
    "decoder = Model(encoded_input, decoder_layer(encoded_input))"
   ]
  },
  {
   "cell_type": "code",
   "execution_count": 5,
   "metadata": {},
   "outputs": [],
   "source": [
    "autoencoder.compile(optimizer='adadelta', loss='binary_crossentropy')"
   ]
  },
  {
   "cell_type": "code",
   "execution_count": 6,
   "metadata": {
    "scrolled": false
   },
   "outputs": [
    {
     "name": "stdout",
     "output_type": "stream",
     "text": [
      "Downloading data from https://s3.amazonaws.com/img-datasets/mnist.npz\n",
      "11493376/11490434 [==============================] - 2s 0us/step\n"
     ]
    }
   ],
   "source": [
    "(x_train, _), (x_test, _) = mnist.load_data()\n",
    "\n",
    "x_train = x_train.astype('float32') / 255.\n",
    "x_test = x_test.astype('float32') / 255.\n",
    "x_train = x_train.reshape((len(x_train), np.prod(x_train.shape[1:])))\n",
    "x_test = x_test.reshape((len(x_test), np.prod(x_test.shape[1:])))"
   ]
  },
  {
   "cell_type": "code",
   "execution_count": 7,
   "metadata": {},
   "outputs": [
    {
     "name": "stdout",
     "output_type": "stream",
     "text": [
      "Train on 60000 samples, validate on 10000 samples\n",
      "Epoch 1/50\n",
      "60000/60000 [==============================] - 4s 65us/step - loss: 0.3650 - val_loss: 0.2715\n",
      "Epoch 2/50\n",
      "60000/60000 [==============================] - 4s 60us/step - loss: 0.2651 - val_loss: 0.2548\n",
      "Epoch 3/50\n",
      "60000/60000 [==============================] - 4s 62us/step - loss: 0.2444 - val_loss: 0.2312\n",
      "Epoch 4/50\n",
      "60000/60000 [==============================] - 4s 61us/step - loss: 0.2229 - val_loss: 0.2122\n",
      "Epoch 5/50\n",
      "60000/60000 [==============================] - 4s 62us/step - loss: 0.2069 - val_loss: 0.1990\n",
      "Epoch 6/50\n",
      "60000/60000 [==============================] - 4s 63us/step - loss: 0.1957 - val_loss: 0.1896\n",
      "Epoch 7/50\n",
      "60000/60000 [==============================] - 4s 61us/step - loss: 0.1872 - val_loss: 0.1820\n",
      "Epoch 8/50\n",
      "60000/60000 [==============================] - 4s 63us/step - loss: 0.1804 - val_loss: 0.1758\n",
      "Epoch 9/50\n",
      "60000/60000 [==============================] - 4s 61us/step - loss: 0.1746 - val_loss: 0.1705\n",
      "Epoch 10/50\n",
      "60000/60000 [==============================] - 4s 60us/step - loss: 0.1694 - val_loss: 0.1655\n",
      "Epoch 11/50\n",
      "60000/60000 [==============================] - 4s 61us/step - loss: 0.1646 - val_loss: 0.1609\n",
      "Epoch 12/50\n",
      "60000/60000 [==============================] - 4s 61us/step - loss: 0.1602 - val_loss: 0.1568\n",
      "Epoch 13/50\n",
      "60000/60000 [==============================] - 4s 60us/step - loss: 0.1562 - val_loss: 0.1529\n",
      "Epoch 14/50\n",
      "60000/60000 [==============================] - 4s 60us/step - loss: 0.1525 - val_loss: 0.1493\n",
      "Epoch 15/50\n",
      "60000/60000 [==============================] - 4s 62us/step - loss: 0.1491 - val_loss: 0.1461\n",
      "Epoch 16/50\n",
      "60000/60000 [==============================] - 4s 62us/step - loss: 0.1460 - val_loss: 0.1430\n",
      "Epoch 17/50\n",
      "60000/60000 [==============================] - 4s 59us/step - loss: 0.1431 - val_loss: 0.1402\n",
      "Epoch 18/50\n",
      "60000/60000 [==============================] - 4s 61us/step - loss: 0.1404 - val_loss: 0.1376\n",
      "Epoch 19/50\n",
      "60000/60000 [==============================] - 4s 63us/step - loss: 0.1379 - val_loss: 0.1352\n",
      "Epoch 20/50\n",
      "60000/60000 [==============================] - 4s 61us/step - loss: 0.1356 - val_loss: 0.1329\n",
      "Epoch 21/50\n",
      "60000/60000 [==============================] - 4s 60us/step - loss: 0.1334 - val_loss: 0.1308\n",
      "Epoch 22/50\n",
      "60000/60000 [==============================] - 4s 60us/step - loss: 0.1313 - val_loss: 0.1288\n",
      "Epoch 23/50\n",
      "60000/60000 [==============================] - 4s 61us/step - loss: 0.1293 - val_loss: 0.1269\n",
      "Epoch 24/50\n",
      "60000/60000 [==============================] - 4s 65us/step - loss: 0.1274 - val_loss: 0.1250\n",
      "Epoch 25/50\n",
      "60000/60000 [==============================] - 4s 60us/step - loss: 0.1256 - val_loss: 0.1232\n",
      "Epoch 26/50\n",
      "60000/60000 [==============================] - 4s 60us/step - loss: 0.1239 - val_loss: 0.1217\n",
      "Epoch 27/50\n",
      "60000/60000 [==============================] - 4s 61us/step - loss: 0.1223 - val_loss: 0.1200\n",
      "Epoch 28/50\n",
      "60000/60000 [==============================] - 4s 61us/step - loss: 0.1208 - val_loss: 0.1185\n",
      "Epoch 29/50\n",
      "60000/60000 [==============================] - 4s 61us/step - loss: 0.1193 - val_loss: 0.1171\n",
      "Epoch 30/50\n",
      "60000/60000 [==============================] - 4s 60us/step - loss: 0.1180 - val_loss: 0.1159\n",
      "Epoch 31/50\n",
      "60000/60000 [==============================] - 4s 65us/step - loss: 0.1167 - val_loss: 0.1146\n",
      "Epoch 32/50\n",
      "60000/60000 [==============================] - 4s 66us/step - loss: 0.1155 - val_loss: 0.1134\n",
      "Epoch 33/50\n",
      "60000/60000 [==============================] - 4s 59us/step - loss: 0.1144 - val_loss: 0.1123\n",
      "Epoch 34/50\n",
      "60000/60000 [==============================] - 4s 61us/step - loss: 0.1133 - val_loss: 0.1113\n",
      "Epoch 35/50\n",
      "60000/60000 [==============================] - 4s 63us/step - loss: 0.1123 - val_loss: 0.1103\n",
      "Epoch 36/50\n",
      "60000/60000 [==============================] - 4s 64us/step - loss: 0.1114 - val_loss: 0.1094\n",
      "Epoch 37/50\n",
      "60000/60000 [==============================] - 4s 62us/step - loss: 0.1105 - val_loss: 0.1086\n",
      "Epoch 38/50\n",
      "60000/60000 [==============================] - 4s 62us/step - loss: 0.1097 - val_loss: 0.1077\n",
      "Epoch 39/50\n",
      "60000/60000 [==============================] - 4s 61us/step - loss: 0.1089 - val_loss: 0.1070\n",
      "Epoch 40/50\n",
      "60000/60000 [==============================] - 4s 62us/step - loss: 0.1082 - val_loss: 0.1063\n",
      "Epoch 41/50\n",
      "60000/60000 [==============================] - 4s 65us/step - loss: 0.1075 - val_loss: 0.1057\n",
      "Epoch 42/50\n",
      "60000/60000 [==============================] - 4s 64us/step - loss: 0.1069 - val_loss: 0.1051\n",
      "Epoch 43/50\n",
      "60000/60000 [==============================] - 4s 62us/step - loss: 0.1063 - val_loss: 0.1045\n",
      "Epoch 44/50\n",
      "60000/60000 [==============================] - 4s 62us/step - loss: 0.1058 - val_loss: 0.1039\n",
      "Epoch 45/50\n",
      "60000/60000 [==============================] - 4s 62us/step - loss: 0.1052 - val_loss: 0.1034\n",
      "Epoch 46/50\n",
      "60000/60000 [==============================] - 4s 62us/step - loss: 0.1047 - val_loss: 0.1030\n",
      "Epoch 47/50\n",
      "60000/60000 [==============================] - 4s 62us/step - loss: 0.1043 - val_loss: 0.1025\n",
      "Epoch 48/50\n",
      "60000/60000 [==============================] - 4s 61us/step - loss: 0.1038 - val_loss: 0.1021\n",
      "Epoch 49/50\n",
      "60000/60000 [==============================] - 4s 62us/step - loss: 0.1034 - val_loss: 0.1017\n",
      "Epoch 50/50\n",
      "60000/60000 [==============================] - 4s 63us/step - loss: 0.1030 - val_loss: 0.1013\n"
     ]
    },
    {
     "data": {
      "text/plain": [
       "<keras.callbacks.History at 0x7f72411d18d0>"
      ]
     },
     "execution_count": 7,
     "metadata": {},
     "output_type": "execute_result"
    }
   ],
   "source": [
    "#note: x_train, x_train :) \n",
    "autoencoder.fit(x_train, x_train,\n",
    "                epochs=50,\n",
    "                batch_size=256,\n",
    "                shuffle=True,\n",
    "                validation_data=(x_test, x_test))"
   ]
  },
  {
   "cell_type": "markdown",
   "metadata": {},
   "source": [
    "#### Testing the Autoencoder "
   ]
  },
  {
   "cell_type": "code",
   "execution_count": 8,
   "metadata": {},
   "outputs": [],
   "source": [
    "from matplotlib import pyplot as plt\n",
    "\n",
    "%matplotlib inline"
   ]
  },
  {
   "cell_type": "code",
   "execution_count": 9,
   "metadata": {
    "scrolled": true
   },
   "outputs": [
    {
     "data": {
      "image/png": "[encoded data removed]",
      "text/plain": [
       "<matplotlib.figure.Figure at 0x7f7241498828>"
      ]
     },
     "metadata": {},
     "output_type": "display_data"
    }
   ],
   "source": [
    "encoded_imgs = encoder.predict(x_test)\n",
    "decoded_imgs = decoder.predict(encoded_imgs)\n",
    "\n",
    "n = 10 \n",
    "plt.figure(figsize=(20, 4))\n",
    "for i in range(n):\n",
    "    # original\n",
    "    ax = plt.subplot(2, n, i + 1)\n",
    "    plt.imshow(x_test[i].reshape(28, 28))\n",
    "    plt.gray()\n",
    "    ax.get_xaxis().set_visible(False)\n",
    "    ax.get_yaxis().set_visible(False)\n",
    "\n",
    "    # reconstruction\n",
    "    ax = plt.subplot(2, n, i + 1 + n)\n",
    "    plt.imshow(decoded_imgs[i].reshape(28, 28))\n",
    "    plt.gray()\n",
    "    ax.get_xaxis().set_visible(False)\n",
    "    ax.get_yaxis().set_visible(False)\n",
    "plt.show()"
   ]
  },
  {
   "cell_type": "markdown",
   "metadata": {},
   "source": [
    "### Sample generation with Autoencoder "
   ]
  },
  {
   "cell_type": "code",
   "execution_count": 10,
   "metadata": {},
   "outputs": [
    {
     "data": {
      "image/png": "[encoded data removed]",
      "text/plain": [
       "<matplotlib.figure.Figure at 0x7f71e1c55240>"
      ]
     },
     "metadata": {},
     "output_type": "display_data"
    }
   ],
   "source": [
    "encoded_imgs = np.random.rand(10,32)\n",
    "decoded_imgs = decoder.predict(encoded_imgs)\n",
    "\n",
    "n = 10 \n",
    "plt.figure(figsize=(20, 4))\n",
    "for i in range(n):\n",
    "    # generation\n",
    "    ax = plt.subplot(2, n, i + 1 + n)\n",
    "    plt.imshow(decoded_imgs[i].reshape(28, 28))\n",
    "    plt.gray()\n",
    "    ax.get_xaxis().set_visible(False)\n",
    "    ax.get_yaxis().set_visible(False)\n",
    "plt.show()"
   ]
  },
  {
   "cell_type": "markdown",
   "metadata": {},
   "source": [
    "---\n",
    "\n",
    "## Convolutional AutoEncoder"
   ]
  },
  {
   "cell_type": "markdown",
   "metadata": {},
   "source": [
    "Since our inputs are images, it makes sense to use convolutional neural networks (`convnets`) as encoders and decoders. \n",
    "\n",
    "In practical settings, autoencoders applied to images are always convolutional autoencoders --they simply perform much better.\n",
    "\n",
    "The encoder will consist in a stack of `Conv2D` and `MaxPooling2D` layers (max pooling being used for spatial down-sampling), while the decoder will consist in a stack of `Conv2D` and `UpSampling2D` layers.\n",
    "\n"
   ]
  },
  {
   "cell_type": "code",
   "execution_count": 11,
   "metadata": {},
   "outputs": [],
   "source": [
    "from keras.layers import Input, Dense, Conv2D, MaxPooling2D, UpSampling2D\n",
    "from keras.models import Model\n",
    "from keras import backend as K\n",
    "\n",
    "input_img = Input(shape=(28, 28, 1))  # adapt this if using `channels_first` image data format\n",
    "\n",
    "x = Conv2D(16, (3, 3), activation='relu', padding='same')(input_img)\n",
    "x = MaxPooling2D((2, 2), padding='same')(x)\n",
    "x = Conv2D(8, (3, 3), activation='relu', padding='same')(x)\n",
    "x = MaxPooling2D((2, 2), padding='same')(x)\n",
    "x = Conv2D(8, (3, 3), activation='relu', padding='same')(x)\n",
    "encoded = MaxPooling2D((2, 2), padding='same')(x)\n",
    "\n",
    "# at this point the representation is (4, 4, 8) i.e. 128-dimensional\n",
    "\n",
    "x = Conv2D(8, (3, 3), activation='relu', padding='same')(encoded)\n",
    "x = UpSampling2D((2, 2))(x)\n",
    "x = Conv2D(8, (3, 3), activation='relu', padding='same')(x)\n",
    "x = UpSampling2D((2, 2))(x)\n",
    "x = Conv2D(16, (3, 3), activation='relu')(x)\n",
    "x = UpSampling2D((2, 2))(x)\n",
    "decoded = Conv2D(1, (3, 3), activation='sigmoid', padding='same')(x)\n",
    "\n",
    "conv_autoencoder = Model(input_img, decoded)\n",
    "conv_autoencoder.compile(optimizer='adadelta', loss='binary_crossentropy')"
   ]
  },
  {
   "cell_type": "code",
   "execution_count": 12,
   "metadata": {},
   "outputs": [],
   "source": [
    "from keras import backend as K\n",
    "\n",
    "if K.image_data_format() == 'channels_last':\n",
    "    shape_ord = (28, 28, 1)\n",
    "else:\n",
    "    shape_ord = (1, 28, 28)\n",
    "    \n",
    "(x_train, _), (x_test, _) = mnist.load_data()\n",
    "\n",
    "x_train = x_train.astype('float32') / 255.\n",
    "x_test = x_test.astype('float32') / 255.\n",
    "\n",
    "x_train = np.reshape(x_train, ((x_train.shape[0],) + shape_ord))  \n",
    "x_test = np.reshape(x_test, ((x_test.shape[0],) + shape_ord)) "
   ]
  },
  {
   "cell_type": "code",
   "execution_count": 13,
   "metadata": {},
   "outputs": [
    {
     "data": {
      "text/plain": [
       "(60000, 28, 28, 1)"
      ]
     },
     "execution_count": 13,
     "metadata": {},
     "output_type": "execute_result"
    }
   ],
   "source": [
    "x_train.shape"
   ]
  },
  {
   "cell_type": "code",
   "execution_count": 14,
   "metadata": {},
   "outputs": [],
   "source": [
    "from keras.callbacks import TensorBoard"
   ]
  },
  {
   "cell_type": "code",
   "execution_count": 15,
   "metadata": {},
   "outputs": [
    {
     "name": "stdout",
     "output_type": "stream",
     "text": [
      "Train on 60000 samples, validate on 10000 samples\n",
      "Epoch 1/50\n",
      "60000/60000 [==============================] - 56s 932us/step - loss: 0.2233 - val_loss: 0.1751\n",
      "Epoch 2/50\n",
      "60000/60000 [==============================] - 56s 940us/step - loss: 0.1617 - val_loss: 0.1472\n",
      "Epoch 3/50\n",
      "60000/60000 [==============================] - 56s 942us/step - loss: 0.1433 - val_loss: 0.1354\n",
      "Epoch 4/50\n",
      "60000/60000 [==============================] - 57s 955us/step - loss: 0.1336 - val_loss: 0.1244\n",
      "Epoch 5/50\n",
      "60000/60000 [==============================] - 57s 943us/step - loss: 0.1281 - val_loss: 0.1267\n",
      "Epoch 6/50\n",
      "60000/60000 [==============================] - 57s 955us/step - loss: 0.1243 - val_loss: 0.1206\n",
      "Epoch 7/50\n",
      "60000/60000 [==============================] - 59s 977us/step - loss: 0.1211 - val_loss: 0.1173\n",
      "Epoch 8/50\n",
      "60000/60000 [==============================] - 74s 1ms/step - loss: 0.1193 - val_loss: 0.1203\n",
      "Epoch 9/50\n",
      "60000/60000 [==============================] - 77s 1ms/step - loss: 0.1171 - val_loss: 0.1150\n",
      "Epoch 10/50\n",
      "60000/60000 [==============================] - 60s 992us/step - loss: 0.1155 - val_loss: 0.1163\n",
      "Epoch 11/50\n",
      "60000/60000 [==============================] - 62s 1ms/step - loss: 0.1142 - val_loss: 0.1125\n",
      "Epoch 12/50\n",
      "60000/60000 [==============================] - 57s 954us/step - loss: 0.1129 - val_loss: 0.1103\n",
      "Epoch 13/50\n",
      "60000/60000 [==============================] - 58s 967us/step - loss: 0.1123 - val_loss: 0.1111\n",
      "Epoch 14/50\n",
      "60000/60000 [==============================] - 59s 989us/step - loss: 0.1111 - val_loss: 0.1089\n",
      "Epoch 15/50\n",
      "60000/60000 [==============================] - 60s 1ms/step - loss: 0.1102 - val_loss: 0.1097\n",
      "Epoch 16/50\n",
      "60000/60000 [==============================] - 68s 1ms/step - loss: 0.1096 - val_loss: 0.1087\n",
      "Epoch 17/50\n",
      "60000/60000 [==============================] - 57s 951us/step - loss: 0.1091 - val_loss: 0.1069\n",
      "Epoch 18/50\n",
      "60000/60000 [==============================] - 57s 957us/step - loss: 0.1084 - val_loss: 0.1047\n",
      "Epoch 19/50\n",
      "60000/60000 [==============================] - 64s 1ms/step - loss: 0.1078 - val_loss: 0.1045\n",
      "Epoch 20/50\n",
      "60000/60000 [==============================] - 58s 959us/step - loss: 0.1074 - val_loss: 0.1049\n",
      "Epoch 21/50\n",
      "60000/60000 [==============================] - 58s 967us/step - loss: 0.1070 - val_loss: 0.1085\n",
      "Epoch 22/50\n",
      "60000/60000 [==============================] - 58s 975us/step - loss: 0.1063 - val_loss: 0.1068\n",
      "Epoch 23/50\n",
      "60000/60000 [==============================] - 71s 1ms/step - loss: 0.1059 - val_loss: 0.1015\n",
      "Epoch 24/50\n",
      "60000/60000 [==============================] - 58s 970us/step - loss: 0.1057 - val_loss: 0.1047\n",
      "Epoch 25/50\n",
      "60000/60000 [==============================] - 59s 976us/step - loss: 0.1055 - val_loss: 0.1041\n",
      "Epoch 26/50\n",
      "60000/60000 [==============================] - 59s 978us/step - loss: 0.1052 - val_loss: 0.1017\n",
      "Epoch 27/50\n",
      "60000/60000 [==============================] - 59s 982us/step - loss: 0.1048 - val_loss: 0.1021\n",
      "Epoch 28/50\n",
      "60000/60000 [==============================] - 58s 975us/step - loss: 0.1044 - val_loss: 0.1028\n",
      "Epoch 29/50\n",
      "60000/60000 [==============================] - 58s 969us/step - loss: 0.1038 - val_loss: 0.1020\n",
      "Epoch 30/50\n",
      "60000/60000 [==============================] - 59s 985us/step - loss: 0.1036 - val_loss: 0.1039\n",
      "Epoch 31/50\n",
      "60000/60000 [==============================] - 58s 974us/step - loss: 0.1035 - val_loss: 0.1021\n",
      "Epoch 32/50\n",
      "60000/60000 [==============================] - 59s 991us/step - loss: 0.1031 - val_loss: 0.1075\n",
      "Epoch 33/50\n",
      "60000/60000 [==============================] - 59s 985us/step - loss: 0.1030 - val_loss: 0.0986\n",
      "Epoch 34/50\n",
      "60000/60000 [==============================] - 59s 983us/step - loss: 0.1027 - val_loss: 0.1013\n",
      "Epoch 35/50\n",
      "60000/60000 [==============================] - 61s 1ms/step - loss: 0.1026 - val_loss: 0.1011\n",
      "Epoch 36/50\n",
      "60000/60000 [==============================] - 60s 994us/step - loss: 0.1023 - val_loss: 0.1003\n",
      "Epoch 37/50\n",
      "60000/60000 [==============================] - 59s 986us/step - loss: 0.1023 - val_loss: 0.1010\n",
      "Epoch 38/50\n",
      "60000/60000 [==============================] - 60s 994us/step - loss: 0.1020 - val_loss: 0.0989\n",
      "Epoch 39/50\n",
      "60000/60000 [==============================] - 59s 984us/step - loss: 0.1017 - val_loss: 0.1013\n",
      "Epoch 40/50\n",
      "60000/60000 [==============================] - 59s 984us/step - loss: 0.1013 - val_loss: 0.0995\n",
      "Epoch 41/50\n",
      "60000/60000 [==============================] - 58s 973us/step - loss: 0.1015 - val_loss: 0.0974\n",
      "Epoch 42/50\n",
      "60000/60000 [==============================] - 60s 996us/step - loss: 0.1012 - val_loss: 0.0998\n",
      "Epoch 43/50\n",
      "60000/60000 [==============================] - 59s 989us/step - loss: 0.1012 - val_loss: 0.1041\n",
      "Epoch 44/50\n",
      "60000/60000 [==============================] - 60s 1ms/step - loss: 0.1010 - val_loss: 0.1002\n",
      "Epoch 45/50\n",
      "60000/60000 [==============================] - 60s 1ms/step - loss: 0.1006 - val_loss: 0.0995\n",
      "Epoch 46/50\n",
      "60000/60000 [==============================] - 59s 984us/step - loss: 0.1003 - val_loss: 0.1006\n",
      "Epoch 47/50\n",
      "60000/60000 [==============================] - 59s 982us/step - loss: 0.1006 - val_loss: 0.0985\n",
      "Epoch 48/50\n",
      "60000/60000 [==============================] - 58s 969us/step - loss: 0.1003 - val_loss: 0.0983\n",
      "Epoch 49/50\n",
      "60000/60000 [==============================] - 60s 992us/step - loss: 0.0998 - val_loss: 0.0995\n",
      "Epoch 50/50\n",
      "60000/60000 [==============================] - 59s 987us/step - loss: 0.1000 - val_loss: 0.0980\n"
     ]
    },
    {
     "data": {
      "text/plain": [
       "<keras.callbacks.History at 0x7f7222fdf748>"
      ]
     },
     "execution_count": 15,
     "metadata": {},
     "output_type": "execute_result"
    }
   ],
   "source": [
    "batch_size=128\n",
    "steps_per_epoch = np.int(np.floor(x_train.shape[0] / batch_size))\n",
    "conv_autoencoder.fit(x_train, x_train, epochs=50, batch_size=128,\n",
    "                     shuffle=True, validation_data=(x_test, x_test),\n",
    "                     callbacks=[TensorBoard(log_dir='./tf_autoencoder_logs')])"
   ]
  },
  {
   "cell_type": "code",
   "execution_count": 16,
   "metadata": {},
   "outputs": [
    {
     "data": {
      "image/png": "[encoded data removed]",
      "text/plain": [
       "<matplotlib.figure.Figure at 0x7f7222fcc208>"
      ]
     },
     "metadata": {},
     "output_type": "display_data"
    }
   ],
   "source": [
    "decoded_imgs = conv_autoencoder.predict(x_test)\n",
    "\n",
    "n = 10\n",
    "plt.figure(figsize=(20, 4))\n",
    "for i in range(n):\n",
    "    # display original\n",
    "    ax = plt.subplot(2, n, i+1)\n",
    "    plt.imshow(x_test[i].reshape(28, 28))\n",
    "    plt.gray()\n",
    "    ax.get_xaxis().set_visible(False)\n",
    "    ax.get_yaxis().set_visible(False)\n",
    "\n",
    "    # display reconstruction\n",
    "    ax = plt.subplot(2, n, i + n + 1)\n",
    "    plt.imshow(decoded_imgs[i].reshape(28, 28))\n",
    "    plt.gray()\n",
    "    ax.get_xaxis().set_visible(False)\n",
    "    ax.get_yaxis().set_visible(False)\n",
    "plt.show()"
   ]
  },
  {
   "cell_type": "markdown",
   "metadata": {},
   "source": [
    "We coudl also have a look at the `128-`dimensional encoded middle representation"
   ]
  },
  {
   "cell_type": "code",
   "execution_count": 17,
   "metadata": {},
   "outputs": [
    {
     "data": {
      "image/png": "[encoded data removed]",
      "text/plain": [
       "<matplotlib.figure.Figure at 0x7f71dc222ba8>"
      ]
     },
     "metadata": {},
     "output_type": "display_data"
    }
   ],
   "source": [
    "conv_encoder = Model(input_img, encoded)\n",
    "encoded_imgs = conv_encoder.predict(x_test)\n",
    "\n",
    "n = 10\n",
    "plt.figure(figsize=(20, 8))\n",
    "for i in range(n):\n",
    "    ax = plt.subplot(1, n, i+1)\n",
    "    plt.imshow(encoded_imgs[i].reshape(4, 4 * 8).T)\n",
    "    plt.gray()\n",
    "    ax.get_xaxis().set_visible(False)\n",
    "    ax.get_yaxis().set_visible(False)\n",
    "plt.show()"
   ]
  },
  {
   "cell_type": "markdown",
   "metadata": {},
   "source": [
    "## Pretraining encoders "
   ]
  },
  {
   "cell_type": "markdown",
   "metadata": {},
   "source": [
    "One of the powerful tools of auto-encoders is using the encoder to generate meaningful representation from the feature vectors."
   ]
  },
  {
   "cell_type": "code",
   "execution_count": 18,
   "metadata": {},
   "outputs": [],
   "source": [
    "# Use the encoder to pretrain a classifier "
   ]
  },
  {
   "cell_type": "markdown",
   "metadata": {},
   "source": [
    "---"
   ]
  },
  {
   "cell_type": "markdown",
   "metadata": {},
   "source": [
    "## Application to Image Denoising"
   ]
  },
  {
   "cell_type": "markdown",
   "metadata": {},
   "source": [
    "Let's put our convolutional autoencoder to work on an image denoising problem. It's simple: we will train the autoencoder to map noisy digits images to clean digits images.\n",
    "\n",
    "Here's how we will generate synthetic noisy digits: we just apply a gaussian noise matrix and clip the images between 0 and 1."
   ]
  },
  {
   "cell_type": "code",
   "execution_count": 19,
   "metadata": {},
   "outputs": [],
   "source": [
    "from keras.datasets import mnist\n",
    "import numpy as np\n",
    "\n",
    "(x_train, _), (x_test, _) = mnist.load_data()\n",
    "\n",
    "x_train = x_train.astype('float32') / 255.\n",
    "x_test = x_test.astype('float32') / 255.\n",
    "x_train = np.reshape(x_train, (len(x_train), 28, 28, 1))  # adapt this if using `channels_first` image data format\n",
    "x_test = np.reshape(x_test, (len(x_test), 28, 28, 1))  # adapt this if using `channels_first` image data format\n",
    "\n",
    "noise_factor = 0.5\n",
    "x_train_noisy = x_train + noise_factor * np.random.normal(loc=0.0, scale=1.0, size=x_train.shape) \n",
    "x_test_noisy = x_test + noise_factor * np.random.normal(loc=0.0, scale=1.0, size=x_test.shape) \n",
    "\n",
    "x_train_noisy = np.clip(x_train_noisy, 0., 1.)\n",
    "x_test_noisy = np.clip(x_test_noisy, 0., 1.)"
   ]
  },
  {
   "cell_type": "markdown",
   "metadata": {},
   "source": [
    "Here's how the noisy digits look like:"
   ]
  },
  {
   "cell_type": "code",
   "execution_count": 20,
   "metadata": {},
   "outputs": [
    {
     "data": {
      "image/png": "[encoded data removed]",
      "text/plain": [
       "<matplotlib.figure.Figure at 0x7f71e1cbb400>"
      ]
     },
     "metadata": {},
     "output_type": "display_data"
    }
   ],
   "source": [
    "n = 10\n",
    "plt.figure(figsize=(20, 2))\n",
    "for i in range(n):\n",
    "    ax = plt.subplot(1, n, i+1)\n",
    "    plt.imshow(x_test_noisy[i].reshape(28, 28))\n",
    "    plt.gray()\n",
    "    ax.get_xaxis().set_visible(False)\n",
    "    ax.get_yaxis().set_visible(False)\n",
    "plt.show()"
   ]
  },
  {
   "cell_type": "markdown",
   "metadata": {},
   "source": [
    "### Question\n",
    "\n",
    "If you squint you can still recognize them, but barely. \n",
    "\n",
    "**Can our autoencoder learn to recover the original digits? Let's find out.**"
   ]
  },
  {
   "cell_type": "markdown",
   "metadata": {},
   "source": [
    "Compared to the previous convolutional autoencoder, in order to improve the quality of the reconstructed, we'll use a slightly different model with more filters per layer:"
   ]
  },
  {
   "cell_type": "code",
   "execution_count": 21,
   "metadata": {},
   "outputs": [],
   "source": [
    "from keras.layers import Input, Dense, Conv2D, MaxPooling2D, UpSampling2D\n",
    "from keras.models import Model\n",
    "\n",
    "from keras.callbacks import TensorBoard"
   ]
  },
  {
   "cell_type": "code",
   "execution_count": null,
   "metadata": {},
   "outputs": [],
   "source": [
    "input_img = Input(shape=(28, 28, 1))  # adapt this if using `channels_first` image data format\n",
    "\n",
    "x = Conv2D(32, (3, 3), activation='relu', padding='same')(input_img)\n",
    "x = MaxPooling2D((2, 2), padding='same')(x)\n",
    "x = Conv2D(32, (3, 3), activation='relu', padding='same')(x)\n",
    "encoded = MaxPooling2D((2, 2), padding='same')(x)\n",
    "\n",
    "# at this point the representation is (7, 7, 32)\n",
    "\n",
    "x = Conv2D(32, (3, 3), activation='relu', padding='same')(encoded)\n",
    "x = UpSampling2D((2, 2))(x)\n",
    "x = Conv2D(32, (3, 3), activation='relu', padding='same')(x)\n",
    "x = UpSampling2D((2, 2))(x)\n",
    "decoded = Conv2D(1, (3, 3), activation='sigmoid', padding='same')(x)\n",
    "\n",
    "autoencoder = Model(input_img, decoded)\n",
    "autoencoder.compile(optimizer='adadelta', loss='binary_crossentropy')"
   ]
  },
  {
   "cell_type": "markdown",
   "metadata": {},
   "source": [
    "Let's train the AutoEncoder for `100` epochs"
   ]
  },
  {
   "cell_type": "code",
   "execution_count": null,
   "metadata": {},
   "outputs": [
    {
     "name": "stdout",
     "output_type": "stream",
     "text": [
      "Train on 60000 samples, validate on 10000 samples\n",
      "Epoch 1/100\n",
      "60000/60000 [==============================] - 141s 2ms/step - loss: 0.1806 - val_loss: 0.1257\n",
      "Epoch 2/100\n",
      "60000/60000 [==============================] - 161s 3ms/step - loss: 0.1190 - val_loss: 0.1111\n",
      "Epoch 3/100\n",
      "60000/60000 [==============================] - 167s 3ms/step - loss: 0.1111 - val_loss: 0.1065\n",
      "Epoch 4/100\n",
      "60000/60000 [==============================] - 161s 3ms/step - loss: 0.1072 - val_loss: 0.1035\n",
      "Epoch 5/100\n",
      "60000/60000 [==============================] - 161s 3ms/step - loss: 0.1048 - val_loss: 0.1051\n",
      "Epoch 6/100\n",
      "60000/60000 [==============================] - 161s 3ms/step - loss: 0.1035 - val_loss: 0.1038\n",
      "Epoch 7/100\n",
      "60000/60000 [==============================] - 160s 3ms/step - loss: 0.1024 - val_loss: 0.1002\n",
      "Epoch 8/100\n",
      "60000/60000 [==============================] - 160s 3ms/step - loss: 0.1016 - val_loss: 0.1001\n",
      "Epoch 9/100\n",
      "60000/60000 [==============================] - 159s 3ms/step - loss: 0.1010 - val_loss: 0.0994\n",
      "Epoch 10/100\n",
      "60000/60000 [==============================] - 113s 2ms/step - loss: 0.1004 - val_loss: 0.0995\n",
      "Epoch 11/100\n",
      "60000/60000 [==============================] - 110s 2ms/step - loss: 0.1001 - val_loss: 0.0982\n",
      "Epoch 12/100\n",
      "60000/60000 [==============================] - 113s 2ms/step - loss: 0.0996 - val_loss: 0.0985\n",
      "Epoch 13/100\n",
      "60000/60000 [==============================] - 128s 2ms/step - loss: 0.0993 - val_loss: 0.0982\n",
      "Epoch 14/100\n",
      "60000/60000 [==============================] - 128s 2ms/step - loss: 0.0991 - val_loss: 0.0977\n",
      "Epoch 15/100\n",
      "60000/60000 [==============================] - 111s 2ms/step - loss: 0.0988 - val_loss: 0.0978\n",
      "Epoch 16/100\n",
      "60000/60000 [==============================] - 110s 2ms/step - loss: 0.0986 - val_loss: 0.0972\n",
      "Epoch 17/100\n",
      "60000/60000 [==============================] - 110s 2ms/step - loss: 0.0984 - val_loss: 0.0973\n",
      "Epoch 18/100\n",
      "60000/60000 [==============================] - 112s 2ms/step - loss: 0.0981 - val_loss: 0.0978\n",
      "Epoch 19/100\n",
      "60000/60000 [==============================] - 113s 2ms/step - loss: 0.0979 - val_loss: 0.0976\n",
      "Epoch 20/100\n",
      "60000/60000 [==============================] - 113s 2ms/step - loss: 0.0977 - val_loss: 0.0968\n",
      "Epoch 21/100\n",
      "60000/60000 [==============================] - 113s 2ms/step - loss: 0.0977 - val_loss: 0.0964\n",
      "Epoch 22/100\n",
      "60000/60000 [==============================] - 112s 2ms/step - loss: 0.0974 - val_loss: 0.0964\n",
      "Epoch 23/100\n",
      "60000/60000 [==============================] - 112s 2ms/step - loss: 0.0973 - val_loss: 0.0963\n",
      "Epoch 24/100\n",
      "60000/60000 [==============================] - 111s 2ms/step - loss: 0.0971 - val_loss: 0.0969\n",
      "Epoch 25/100\n",
      "60000/60000 [==============================] - 153s 3ms/step - loss: 0.0971 - val_loss: 0.0958\n",
      "Epoch 26/100\n",
      "60000/60000 [==============================] - 125s 2ms/step - loss: 0.0968 - val_loss: 0.0957\n",
      "Epoch 27/100\n",
      "60000/60000 [==============================] - 112s 2ms/step - loss: 0.0968 - val_loss: 0.0962\n",
      "Epoch 28/100\n",
      "60000/60000 [==============================] - 113s 2ms/step - loss: 0.0967 - val_loss: 0.0963\n",
      "Epoch 29/100\n",
      "60000/60000 [==============================] - 157s 3ms/step - loss: 0.0965 - val_loss: 0.0957\n",
      "Epoch 30/100\n",
      "60000/60000 [==============================] - 121s 2ms/step - loss: 0.0965 - val_loss: 0.0977\n",
      "Epoch 31/100\n",
      "60000/60000 [==============================] - 112s 2ms/step - loss: 0.0965 - val_loss: 0.0953\n",
      "Epoch 32/100\n",
      "60000/60000 [==============================] - 110s 2ms/step - loss: 0.0963 - val_loss: 0.0967\n",
      "Epoch 33/100\n",
      "60000/60000 [==============================] - 110s 2ms/step - loss: 0.0962 - val_loss: 0.0959\n",
      "Epoch 34/100\n",
      "60000/60000 [==============================] - 110s 2ms/step - loss: 0.0962 - val_loss: 0.0957\n",
      "Epoch 35/100\n",
      "60000/60000 [==============================] - 116s 2ms/step - loss: 0.0961 - val_loss: 0.0953\n",
      "Epoch 36/100\n",
      "60000/60000 [==============================] - 116s 2ms/step - loss: 0.0960 - val_loss: 0.0959\n",
      "Epoch 37/100\n",
      "60000/60000 [==============================] - 128s 2ms/step - loss: 0.0960 - val_loss: 0.0951\n",
      "Epoch 38/100\n",
      "60000/60000 [==============================] - 142s 2ms/step - loss: 0.0958 - val_loss: 0.0953\n",
      "Epoch 39/100\n",
      "60000/60000 [==============================] - 143s 2ms/step - loss: 0.0959 - val_loss: 0.0963\n",
      "Epoch 40/100\n",
      "60000/60000 [==============================] - 145s 2ms/step - loss: 0.0957 - val_loss: 0.0948\n",
      "Epoch 41/100\n",
      "60000/60000 [==============================] - 166s 3ms/step - loss: 0.0957 - val_loss: 0.0950\n",
      "Epoch 42/100\n",
      "60000/60000 [==============================] - 178s 3ms/step - loss: 0.0956 - val_loss: 0.0957\n",
      "Epoch 43/100\n",
      "60000/60000 [==============================] - 145s 2ms/step - loss: 0.0957 - val_loss: 0.0958\n",
      "Epoch 44/100\n",
      "60000/60000 [==============================] - 169s 3ms/step - loss: 0.0955 - val_loss: 0.0949\n",
      "Epoch 45/100\n",
      "60000/60000 [==============================] - 138s 2ms/step - loss: 0.0954 - val_loss: 0.0962\n",
      "Epoch 46/100\n",
      "60000/60000 [==============================] - 116s 2ms/step - loss: 0.0954 - val_loss: 0.0951\n",
      "Epoch 47/100\n",
      "60000/60000 [==============================] - 133s 2ms/step - loss: 0.0954 - val_loss: 0.0946\n",
      "Epoch 48/100\n",
      "60000/60000 [==============================] - 119s 2ms/step - loss: 0.0953 - val_loss: 0.0958\n",
      "Epoch 49/100\n",
      "51584/60000 [========================>.....] - ETA: 15s - loss: 0.0953"
     ]
    }
   ],
   "source": [
    "autoencoder.fit(x_train_noisy, x_train,\n",
    "                epochs=100,\n",
    "                batch_size=128,\n",
    "                shuffle=True,\n",
    "                validation_data=(x_test_noisy, x_test),\n",
    "                callbacks=[TensorBoard(log_dir='/tmp/autoencoder_denoise', \n",
    "                                       histogram_freq=0, write_graph=False)])"
   ]
  },
  {
   "cell_type": "markdown",
   "metadata": {},
   "source": [
    "### Now Let's Take a look...."
   ]
  },
  {
   "cell_type": "code",
   "execution_count": null,
   "metadata": {},
   "outputs": [],
   "source": [
    "decoded_imgs = autoencoder.predict(x_test_noisy)\n",
    "\n",
    "n = 10\n",
    "plt.figure(figsize=(20, 4))\n",
    "for i in range(n):\n",
    "    # display original\n",
    "    ax = plt.subplot(2, n, i+1)\n",
    "    plt.imshow(x_test[i].reshape(28, 28))\n",
    "    plt.gray()\n",
    "    ax.get_xaxis().set_visible(False)\n",
    "    ax.get_yaxis().set_visible(False)\n",
    "\n",
    "    # display reconstruction\n",
    "    ax = plt.subplot(2, n, i + n + 1)\n",
    "    plt.imshow(decoded_imgs[i].reshape(28, 28))\n",
    "    plt.gray()\n",
    "    ax.get_xaxis().set_visible(False)\n",
    "    ax.get_yaxis().set_visible(False)\n",
    "plt.show()"
   ]
  },
  {
   "cell_type": "markdown",
   "metadata": {},
   "source": [
    "# Variational AutoEncoder"
   ]
  },
  {
   "cell_type": "markdown",
   "metadata": {},
   "source": [
    "_(Reference [https://blog.keras.io/building-autoencoders-in-keras.html](https://blog.keras.io/building-autoencoders-in-keras.html))_\n",
    "\n",
    "Variational autoencoders are a slightly more modern and interesting take on autoencoding.\n",
    "\n",
    "### What is a variational autoencoder ? \n",
    "\n",
    "It's a type of autoencoder with added constraints on the encoded representations being learned. \n",
    "\n",
    "More precisely, it is an autoencoder that learns a [latent variable model](https://en.wikipedia.org/wiki/Latent_variable_model) for its input data. \n",
    "\n",
    "So instead of letting your neural network learn an arbitrary function, you are learning the parameters of a probability distribution modeling your data. \n",
    "\n",
    "If you sample points from this distribution, you can generate new input data samples: \n",
    "a **VAE** is a **\"generative model\"**.\n",
    "\n",
    "### How does a variational autoencoder work?\n",
    "\n",
    "First, an encoder network turns the input samples $x$ into two parameters in a latent space, which we will note $z_{\\mu}$ and $z_{log_{\\sigma}}$. \n",
    "\n",
    "Then, we randomly sample similar points $z$ from the _latent normal distribution_ that is assumed to generate the data, via $z = z_{\\mu} + \\exp(z_{log_{\\sigma}}) * \\epsilon$, where $\\epsilon$ is a random normal tensor. \n",
    "\n",
    "Finally, a decoder network maps these latent space points back to the original input data.\n",
    "\n",
    "The parameters of the model are trained via two loss functions: \n",
    "\n",
    "* a **reconstruction loss** forcing the decoded samples to match the initial inputs (just like in our previous autoencoders);\n",
    "* and the **KL divergence** between the learned latent distribution and the prior distribution, acting as a regularization term. \n",
    "\n",
    "You could actually get rid of this latter term entirely, although it does help in learning well-formed latent spaces and reducing overfitting to the training data."
   ]
  },
  {
   "cell_type": "markdown",
   "metadata": {},
   "source": [
    "## Encoder Network"
   ]
  },
  {
   "cell_type": "code",
   "execution_count": null,
   "metadata": {},
   "outputs": [],
   "source": [
    "batch_size = 100\n",
    "original_dim = 784\n",
    "latent_dim = 2\n",
    "intermediate_dim = 256\n",
    "epochs = 50\n",
    "epsilon_std = 1.0"
   ]
  },
  {
   "cell_type": "code",
   "execution_count": null,
   "metadata": {},
   "outputs": [],
   "source": [
    "x = Input(batch_shape=(batch_size, original_dim))\n",
    "h = Dense(intermediate_dim, activation='relu')(x)\n",
    "z_mean = Dense(latent_dim)(h)\n",
    "z_log_sigma = Dense(latent_dim)(h)"
   ]
  },
  {
   "cell_type": "markdown",
   "metadata": {},
   "source": [
    "We can use these parameters to sample new similar points from the latent space:"
   ]
  },
  {
   "cell_type": "code",
   "execution_count": null,
   "metadata": {},
   "outputs": [],
   "source": [
    "from keras.layers.core import Lambda\n",
    "from keras import backend as K"
   ]
  },
  {
   "cell_type": "code",
   "execution_count": null,
   "metadata": {},
   "outputs": [],
   "source": [
    "def sampling(args):\n",
    "    z_mean, z_log_sigma = args\n",
    "    epsilon = K.random_normal(shape=(batch_size, latent_dim),\n",
    "                              mean=0., stddev=epsilon_std)\n",
    "    return z_mean + K.exp(z_log_sigma) * epsilon\n",
    "\n",
    "# note that \"output_shape\" isn't necessary with the TensorFlow backend\n",
    "# so you could write `Lambda(sampling)([z_mean, z_log_sigma])`\n",
    "z = Lambda(sampling, output_shape=(latent_dim,))([z_mean, z_log_sigma])"
   ]
  },
  {
   "cell_type": "markdown",
   "metadata": {},
   "source": [
    "## Decoder Network"
   ]
  },
  {
   "cell_type": "markdown",
   "metadata": {},
   "source": [
    "Finally, we can map these sampled latent points back to reconstructed inputs:"
   ]
  },
  {
   "cell_type": "code",
   "execution_count": null,
   "metadata": {},
   "outputs": [],
   "source": [
    "decoder_h = Dense(intermediate_dim, activation='relu')\n",
    "decoder_mean = Dense(original_dim, activation='sigmoid')\n",
    "h_decoded = decoder_h(z)\n",
    "x_decoded_mean = decoder_mean(h_decoded)"
   ]
  },
  {
   "cell_type": "markdown",
   "metadata": {},
   "source": [
    "What we've done so far allows us to instantiate 3 models:\n",
    "\n",
    "- an end-to-end autoencoder mapping inputs to reconstructions\n",
    "- an encoder mapping inputs to the latent space\n",
    "- a generator that can take points on the latent space and will output the corresponding reconstructed samples."
   ]
  },
  {
   "cell_type": "code",
   "execution_count": null,
   "metadata": {},
   "outputs": [],
   "source": [
    "# end-to-end autoencoder\n",
    "vae = Model(x, x_decoded_mean)\n",
    "\n",
    "# encoder, from inputs to latent space\n",
    "encoder = Model(x, z_mean)\n",
    "\n",
    "# generator, from latent space to reconstructed inputs\n",
    "decoder_input = Input(shape=(latent_dim,))\n",
    "_h_decoded = decoder_h(decoder_input)\n",
    "_x_decoded_mean = decoder_mean(_h_decoded)\n",
    "generator = Model(decoder_input, _x_decoded_mean)"
   ]
  },
  {
   "cell_type": "markdown",
   "metadata": {},
   "source": [
    "### Let's Visualise the VAE Model"
   ]
  },
  {
   "cell_type": "code",
   "execution_count": null,
   "metadata": {},
   "outputs": [],
   "source": [
    "from IPython.display import SVG\n",
    "from keras.utils.vis_utils import model_to_dot\n",
    "\n",
    "SVG(model_to_dot(vae).create(prog='dot', format='svg'))"
   ]
  },
  {
   "cell_type": "code",
   "execution_count": null,
   "metadata": {},
   "outputs": [],
   "source": [
    "## Exercise: Let's Do the Same for `encoder` and `generator` Model(s)\n",
    "\n"
   ]
  },
  {
   "cell_type": "markdown",
   "metadata": {},
   "source": [
    "### VAE on MNIST"
   ]
  },
  {
   "cell_type": "markdown",
   "metadata": {},
   "source": [
    "We train the model using the end-to-end model, with a custom loss function: the sum of a reconstruction term, and the KL divergence regularization term."
   ]
  },
  {
   "cell_type": "code",
   "execution_count": null,
   "metadata": {},
   "outputs": [],
   "source": [
    "from keras.objectives import binary_crossentropy\n",
    "\n",
    "def vae_loss(x, x_decoded_mean):\n",
    "    xent_loss = binary_crossentropy(x, x_decoded_mean)\n",
    "    kl_loss = - 0.5 * K.mean(1 + z_log_sigma - K.square(z_mean) - K.exp(z_log_sigma), axis=-1)\n",
    "    return xent_loss + kl_loss\n",
    "\n",
    "vae.compile(optimizer='rmsprop', loss=vae_loss)"
   ]
  },
  {
   "cell_type": "markdown",
   "metadata": {},
   "source": [
    "Traing on MNIST Digits"
   ]
  },
  {
   "cell_type": "code",
   "execution_count": null,
   "metadata": {},
   "outputs": [],
   "source": [
    "from keras.datasets import mnist\n",
    "import numpy as np\n",
    "\n",
    "(x_train, y_train), (x_test, y_test) = mnist.load_data()\n",
    "\n",
    "x_train = x_train.astype('float32') / 255.\n",
    "x_test = x_test.astype('float32') / 255.\n",
    "x_train = x_train.reshape((len(x_train), np.prod(x_train.shape[1:])))\n",
    "x_test = x_test.reshape((len(x_test), np.prod(x_test.shape[1:])))\n",
    "\n",
    "vae.fit(x_train, x_train,\n",
    "        shuffle=True,\n",
    "        epochs=epochs,\n",
    "        batch_size=batch_size,\n",
    "        validation_data=(x_test, x_test))"
   ]
  },
  {
   "cell_type": "markdown",
   "metadata": {},
   "source": [
    "Because our latent space is two-dimensional, there are a few cool visualizations that can be done at this point. \n",
    "\n",
    "One is to look at the neighborhoods of different classes on the latent 2D plane:"
   ]
  },
  {
   "cell_type": "code",
   "execution_count": null,
   "metadata": {},
   "outputs": [],
   "source": [
    "x_test_encoded = encoder.predict(x_test, batch_size=batch_size)"
   ]
  },
  {
   "cell_type": "code",
   "execution_count": null,
   "metadata": {},
   "outputs": [],
   "source": [
    "plt.figure(figsize=(6, 6))\n",
    "plt.scatter(x_test_encoded[:, 0], x_test_encoded[:, 1], c=y_test)\n",
    "plt.colorbar()\n",
    "plt.show()"
   ]
  },
  {
   "cell_type": "markdown",
   "metadata": {},
   "source": [
    "Each of these colored clusters is a type of digit. Close clusters are digits that are structurally similar (i.e. digits that share information in the latent space).\n"
   ]
  },
  {
   "cell_type": "markdown",
   "metadata": {},
   "source": [
    "Because the VAE is a generative model, we can also use it to generate new digits! Here we will scan the latent plane, sampling latent points at regular intervals, and generating the corresponding digit for each of these points. This gives us a visualization of the latent manifold that \"generates\" the MNIST digits."
   ]
  },
  {
   "cell_type": "code",
   "execution_count": null,
   "metadata": {},
   "outputs": [],
   "source": [
    "# display a 2D manifold of the digits\n",
    "n = 15  # figure with 15x15 digits\n",
    "digit_size = 28\n",
    "figure = np.zeros((digit_size * n, digit_size * n))\n",
    "# we will sample n points within [-15, 15] standard deviations\n",
    "grid_x = np.linspace(-15, 15, n)\n",
    "grid_y = np.linspace(-15, 15, n)\n",
    "\n",
    "for i, yi in enumerate(grid_x):\n",
    "    for j, xi in enumerate(grid_y):\n",
    "        z_sample = np.array([[xi, yi]]) * epsilon_std\n",
    "        x_decoded = generator.predict(z_sample)\n",
    "        digit = x_decoded[0].reshape(digit_size, digit_size)\n",
    "        figure[i * digit_size: (i + 1) * digit_size,\n",
    "               j * digit_size: (j + 1) * digit_size] = digit\n",
    "\n",
    "plt.figure(figsize=(10, 10))\n",
    "plt.imshow(figure)\n",
    "plt.show()"
   ]
  },
  {
   "cell_type": "code",
   "execution_count": null,
   "metadata": {},
   "outputs": [],
   "source": []
  },
  {
   "cell_type": "code",
   "execution_count": null,
   "metadata": {},
   "outputs": [],
   "source": []
  },
  {
   "cell_type": "code",
   "execution_count": null,
   "metadata": {},
   "outputs": [],
   "source": []
  }
 ],
 "metadata": {
  "anaconda-cloud": {},
  "kernelspec": {
   "display_name": "Python 3",
   "language": "python",
   "name": "python3"
  },
  "language_info": {
   "codemirror_mode": {
    "name": "ipython",
    "version": 3
   },
   "file_extension": ".py",
   "mimetype": "text/x-python",
   "name": "python",
   "nbconvert_exporter": "python",
   "pygments_lexer": "ipython3",
   "version": "3.6.3"
  }
 },
 "nbformat": 4,
 "nbformat_minor": 1
}
