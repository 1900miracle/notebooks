{
 "cells": [
  {
   "cell_type": "markdown",
   "metadata": {},
   "source": [
    "*Sebastian Raschka*  \n",
    "last modified: 03/31/2014"
   ]
  },
  {
   "cell_type": "markdown",
   "metadata": {},
   "source": [
    "<hr>\n",
    "I am really looking forward to your comments and suggestions to improve and extend this tutorial! Just send me a quick note   \n",
    "via Twitter: [@rasbt](https://twitter.com/rasbt)  \n",
    "or Email: [bluewoodtree@gmail.com](mailto:bluewoodtree@gmail.com)\n",
    "<hr>"
   ]
  },
  {
   "cell_type": "markdown",
   "metadata": {},
   "source": [
    "### Problem Category\n",
    "- Statistical Pattern Recognition   \n",
    "- Supervised Learning  \n",
    "- Parametric Learning  \n",
    "- Bayes Decision Theory  \n",
    "- Univariate data  \n",
    "- 2-class problem\n",
    "- different variances\n",
    "- different priors\n",
    "- Gaussian model (2 parameters)\n",
    "- With conditional Risk (loss functions)\n",
    "<hr>"
   ]
  },
  {
   "cell_type": "markdown",
   "metadata": {},
   "source": [
    "<p><a name=\"sections\"></a>\n",
    "<br></p>\n",
    "\n",
    "# Sections\n",
    "\n",
    "\n",
    "<p>&#8226; <a href=\"#given\">Given information</a><br>\n",
    "&#8226; <a href=\"#deriving_db\">Deriving the decision boundary</a><br>\n",
    "&#8226; <a href=\"#plotting_db\">Plotting the posterior probabilities and decision boundary</a><br>\n",
    "&#8226; <a href=\"#classify_rand\">Classifying some random example data</a><br>\n",
    "&#8226; <a href=\"#emp_err\">Calculating the empirical error rate</a><br>\n",
    "\n",
    "  \n",
    "\n",
    "  \n",
    "  \n",
    "\n",
    "\n",
    "\n",
    "<hr>"
   ]
  },
  {
   "cell_type": "markdown",
   "metadata": {},
   "source": [
    "<p><a name=\"given\"></a>\n",
    "<br></p>\n",
    "\n",
    "## Given information:\n",
    "\n",
    "[<a href=\"#sections\">back to top</a>] <br>\n",
    "\n",
    "\n",
    "####model: continuous univariate normal (Gaussian) model for the class-conditional densities\n",
    "\n",
    "\n",
    "$ p(x | \\omega_j) \\sim N(\\mu|\\sigma^2) $ \n",
    "$ p(x | \\omega_j) \\sim \\frac{1}{\\sqrt{2\\pi\\sigma^2}} \\exp{ \\bigg[-\\frac{1}{2}\\bigg( \\frac{x-\\mu}{\\sigma}\\bigg)^2 \\bigg] } $\n",
    "\n",
    "\n",
    "####Prior probabilities:\n",
    "\n",
    "\n",
    "$ P(\\omega_1) = \\frac{2}{3}, \\quad P(\\omega_2) = \\frac{1}{3} $\n",
    "\n",
    "\n",
    "####Loss functions:\n",
    "\n",
    "where \n",
    "\n",
    "$ \\lambda(\\alpha_i|\\omega_j) = \\lambda_{ij}$,  \n",
    "\n",
    "the loss occured if $action_i$ is taken if the actual true class is $ \\omega_j$ (assuming that $action_i$ classifies sample as $\\omega_i$)\n",
    "\n",
    "\\begin{equation}\n",
    "\\lambda = \\begin{pmatrix}\n",
    "\\lambda_{11} \\quad \\lambda_{12} \\\\\n",
    "\\lambda_{21} \\quad \\lambda_{22}\n",
    "\\end{pmatrix}\n",
    "= \\begin{pmatrix}\n",
    "0 \\quad 1 \\\\\n",
    "2 \\quad 0 \\\\\n",
    "\\end{pmatrix}\\\\\n",
    "\\end{equation}\n",
    "\n",
    "#### Variances of the sample distributions\n",
    "\n",
    "$ \\sigma_1^2 = 0.25, \\quad \\sigma_2^2 = 0.04 $\n",
    "\n",
    "#### Means of the sample distributions\n",
    "\n",
    "$ \\mu_1 = 2, \\quad \\mu_2 = 1.5 $\n",
    "\n",
    "\n",
    "<br>"
   ]
  },
  {
   "cell_type": "markdown",
   "metadata": {},
   "source": [
    "<p><a name=\"deriving_db\"></a>\n",
    "<br></p>\n",
    "\n",
    "## Deriving the decision boundary\n",
    "[<a href=\"#sections\">back to top</a>] <br>\n",
    "\n",
    "### Bayes' Rule:\n",
    "\n",
    "\n",
    "$ P(\\omega_j|x) = \\frac{p(x|\\omega_j) * P(\\omega_j)}{p(x)}$ \n"
   ]
  },
  {
   "cell_type": "markdown",
   "metadata": {},
   "source": [
    "### Risk Functions:\n",
    "\n",
    "$ R(\\alpha_1|x) = \\lambda_{11}P(\\omega_1|x) + \\lambda_{12}P(\\omega_2|x) $\n",
    "\n",
    "$ R(\\alpha_2|x) = \\lambda_{21}P(\\omega_1|x) + \\lambda_{22}P(\\omega_2|x) $\n",
    "\n"
   ]
  },
  {
   "cell_type": "markdown",
   "metadata": {},
   "source": [
    "###Decision Rule:\n",
    "\n",
    "Decide $ \\omega_1 $ if $ R(\\alpha_2|x) > R(\\alpha_1|x) $ else decide $ \\omega_2 $."
   ]
  },
  {
   "cell_type": "markdown",
   "metadata": {},
   "source": [
    "$ \\Rightarrow \\lambda_{21}P(\\omega_1|x) + \\lambda_{22}P(\\omega_2|x) > \\lambda_{11}P(\\omega_1|x) + \\lambda_{12}P(\\omega_2|x) $\n",
    "\n",
    "$ \\Rightarrow (\\lambda_{21} - \\lambda_{11}) \\; P(\\omega_1|x) > (\\lambda_{12} - \\lambda_{22}) \\; P(\\omega_2|x) $\n",
    "\n",
    "$ \\Rightarrow \\frac{P(\\omega_1|x)}{P(\\omega_2|x)} > \\frac{(\\lambda_{12} - \\lambda_{22})}{(\\lambda_{21} - \\lambda_{11})} $\n",
    "\n",
    "$ \\Rightarrow \\frac{p(x|\\omega_1) \\; P{(\\omega_1)}}{p(x|\\omega_2) \\; P{(\\omega_2)}} > \\frac{(\\lambda_{12} - \\lambda_{22})}{(\\lambda_{21} - \\lambda_{11})} $\n",
    "\n",
    "$ \\Rightarrow \\frac{p(x|\\omega_1)}{p(x|\\omega_2)} > \\frac{(\\lambda_{12} - \\lambda_{22}) \\; P{(\\omega_2)}}{(\\lambda_{21} - \\lambda_{11}) \\; P{(\\omega_1)}} $\n"
   ]
  },
  {
   "cell_type": "markdown",
   "metadata": {},
   "source": [
    "\n",
    "$ \\Rightarrow \\frac{p(x|\\omega_1)}{P(x|\\omega_2)} > \\frac{(1 - 0) \\; (1/3)}{(2 - 0) \\; (2/3)} $\n",
    "\n",
    "$ \\Rightarrow \\frac{p(x|\\omega_1)}{P(x|\\omega_2)} > \\frac{1}{4} $\n"
   ]
  },
  {
   "cell_type": "markdown",
   "metadata": {},
   "source": [
    "\n",
    "<br>\n",
    "\n",
    "\n",
    "$ \\Rightarrow  \\Bigg( \\frac{1}{\\sqrt{2\\pi\\sigma_1^2}} \\exp{ \\bigg[-\\frac{1}{2}\\bigg( \\frac{x-\\mu_1}{\\sigma_1}\\bigg)^2 \\bigg] } \\Bigg) \\Bigg/  \\Bigg( \\frac{1}{\\sqrt{2\\pi\\sigma_2^2}}  \\exp{ \\bigg[-\\frac{1}{2}\\bigg( \\frac{x-\\mu_2}{\\sigma_2}\\bigg)^2 \\bigg] } \\Bigg)> \\frac{1}{4} \\quad \\bigg| \\quad \\sigma_1^2 = 0.25, \\quad \\sigma_2^2 = 0.04, \\quad \\mu_1 = 2, \\quad \\mu_2 = 1.5 $"
   ]
  },
  {
   "cell_type": "markdown",
   "metadata": {},
   "source": [
    "$ \\Rightarrow  \\Bigg( \\frac{1}{\\sqrt{2\\pi0.25}} \\exp{ \\bigg[-\\frac{1}{2}\\bigg( \\frac{x-2}{0.5}\\bigg)^2 \\bigg] } \\Bigg) \\Bigg/  \\Bigg( \\frac{1}{\\sqrt{2\\pi0.04}}  \\exp{ \\bigg[-\\frac{1}{2}\\bigg( \\frac{x-1.5}{0.2}\\bigg)^2 \\bigg] } \\Bigg)> \\frac{1}{4}  $"
   ]
  },
  {
   "cell_type": "markdown",
   "metadata": {},
   "source": [
    "$ \\Rightarrow  \\Bigg( 2 \\; \\cdot \\;\\frac{1}{\\sqrt{2\\pi}} \\exp{ \\bigg[-2 \\; \\cdot \\; (x-2)^2 \\bigg] } \\Bigg) \\Bigg/  \\Bigg( 5 \\; \\cdot \\; \\frac{1}{\\sqrt{2\\pi}}  \\exp{ \\bigg[-12.5 \\; \\cdot \\; (x-1.5)^2 \\bigg] } \\Bigg)> \\frac{1}{4}  $"
   ]
  },
  {
   "cell_type": "markdown",
   "metadata": {},
   "source": [
    "$ \\Rightarrow \\frac{2}{5} \\Bigg( \\exp{ \\bigg[-2 \\; \\cdot \\; (x-2)^2 \\bigg] } \\Bigg) \\Bigg/ \\Bigg( \\exp{ \\bigg[-12.5 \\; \\cdot \\; (x-1.5)^2 \\bigg] } \\Bigg) \\Bigg) > \\frac{1}{4} \\quad \\bigg| \\quad ln $"
   ]
  },
  {
   "cell_type": "markdown",
   "metadata": {},
   "source": [
    "$ \\Rightarrow \\bigg(-2(x-2)^2 \\bigg) - \\bigg(-12.5 (x-1.5)^2 \\bigg) > ln(\\frac{5}{8}) $"
   ]
  },
  {
   "cell_type": "markdown",
   "metadata": {},
   "source": [
    "$ \\Rightarrow -2(x-2)^2 + 12.5 (x-1.5)^2  - 0.47 > 0 $"
   ]
  },
  {
   "cell_type": "markdown",
   "metadata": {},
   "source": [
    "$ \\Rightarrow -2x^2 + 8x -8 + 12.5x^2 - 37.5x + 27.655 > 0 $"
   ]
  },
  {
   "cell_type": "markdown",
   "metadata": {},
   "source": [
    "$ \\Rightarrow 10.5 x^2-29.5 x+19.655 > 0$"
   ]
  },
  {
   "cell_type": "markdown",
   "metadata": {},
   "source": [
    "$ \\Rightarrow x = 1.08625 \\quad and \\quad x = 1.72328 $"
   ]
  },
  {
   "cell_type": "markdown",
   "metadata": {},
   "source": [
    "<p><a name=\"plotting_db\"></a>\n",
    "<br></p>\n",
    "\n",
    "## Plotting the class posterior probabilities and decision boundary\n",
    "\n",
    "[<a href=\"#sections\">back to top</a>] <br>"
   ]
  },
  {
   "cell_type": "code",
   "execution_count": 1,
   "metadata": {},
   "outputs": [
    {
     "name": "stdout",
     "output_type": "stream",
     "text": [
      "Populating the interactive namespace from numpy and matplotlib\n"
     ]
    },
    {
     "data": {
      "image/png": "[encoded data removed]",
      "text/plain": [
       "<matplotlib.figure.Figure at 0x7fec4ce82198>"
      ]
     },
     "metadata": {},
     "output_type": "display_data"
    }
   ],
   "source": [
    "%pylab inline\n",
    "\n",
    "import numpy as np\n",
    "from matplotlib import pyplot as plt\n",
    "\n",
    "def pdf(x, mu, sigma_sqr):\n",
    "    \"\"\"\n",
    "    Calculates the normal distribution's probability density \n",
    "    function (PDF).  \n",
    "        \n",
    "    \"\"\"\n",
    "    term1 = 1.0 / ( math.sqrt(2*np.pi * sigma_sqr))\n",
    "    term2 = np.exp( (-1/2.0) * ( ((x-mu)**2 / sigma_sqr) ))\n",
    "    return term1 * term2\n",
    "\n",
    "# generating some sample data\n",
    "x = np.arange(0, 50, 0.05)\n",
    "\n",
    "def posterior(likelihood, prior):\n",
    "    \"\"\"\n",
    "    Calculates the posterior probability (after Bayes Rule) without\n",
    "    the scale factor p(x) (=evidence).  \n",
    "        \n",
    "    \"\"\"\n",
    "    return likelihood * prior\n",
    "\n",
    "# probability density functions\n",
    "posterior1 = posterior(pdf(x, mu=2, sigma_sqr=0.25), prior=2/3.0)\n",
    "posterior2 = posterior(pdf(x, mu=1.5, sigma_sqr=0.04), prior=1/3.0)\n",
    "\n",
    "# Class conditional densities (likelihoods)\n",
    "plt.plot(x, posterior1)\n",
    "plt.plot(x, posterior2)\n",
    "plt.title('Posterior Probabilities w. Decision Boundary')\n",
    "plt.ylabel('P(w)')\n",
    "plt.xlabel('random variable x')\n",
    "plt.legend(['P(w_1|x)', 'p(w_2|x)'], loc='upper right')\n",
    "plt.ylim([0,1])\n",
    "plt.xlim([0,4])\n",
    "plt.axvline(1.08625, color='r', alpha=0.8, linestyle=':', linewidth=2)\n",
    "plt.axvline(1.72328, color='r', alpha=0.8, linestyle=':', linewidth=2)\n",
    "plt.annotate('R1', xy=(0.5, 0.8), xytext=(0.5, 0.8))\n",
    "plt.annotate('R2', xy=(1.3, 0.8), xytext=(1.3, 0.8))\n",
    "plt.annotate('R1', xy=(2.3, 0.8), xytext=(2.3, 0.8))\n",
    "plt.show()"
   ]
  },
  {
   "cell_type": "markdown",
   "metadata": {},
   "source": [
    "<p><a name=\"classify_rand\"></a>\n",
    "<br></p>\n",
    "\n",
    "## Classifying some random example data\n",
    "\n",
    "[<a href=\"#sections\">back to top</a>] <br>"
   ]
  },
  {
   "cell_type": "code",
   "execution_count": 2,
   "metadata": {},
   "outputs": [
    {
     "data": {
      "image/png": "[encoded data removed]",
      "text/plain": [
       "<matplotlib.figure.Figure at 0x7fec4869c588>"
      ]
     },
     "metadata": {},
     "output_type": "display_data"
    }
   ],
   "source": [
    "# Parameters\n",
    "mu_1 = 2\n",
    "mu_2 = 1.5\n",
    "sigma_1_sqr = 0.25\n",
    "sigma_2_sqr = 0.04\n",
    "\n",
    "# Generating 10 random samples drawn from a Normal Distribution for class 1 & 2\n",
    "x1_samples = sigma_1_sqr**0.5 * np.random.randn(10) + mu_1\n",
    "x2_samples = sigma_1_sqr**0.5 * np.random.randn(10) + mu_2\n",
    "y = [0 for i in range(10)]\n",
    "\n",
    "# Plotting sample data with a decision boundary\n",
    "\n",
    "plt.scatter(x1_samples, y, marker='o', color='green', s=40, alpha=0.5)\n",
    "plt.scatter(x2_samples, y, marker='^', color='blue', s=40, alpha=0.5)\n",
    "plt.title('Classifying random example data from 2 classes')\n",
    "plt.ylabel('P(x)')\n",
    "plt.xlabel('random variable x')\n",
    "plt.legend(['w_1', 'w_2'], loc='upper right')\n",
    "plt.ylim([-1,1])\n",
    "plt.xlim([0,4])\n",
    "plt.axvline(1.08625, color='r', alpha=0.8, linestyle=':', linewidth=2)\n",
    "plt.axvline(1.72328, color='r', alpha=0.8, linestyle=':', linewidth=2)\n",
    "plt.annotate('R1', xy=(0.5, 0.8), xytext=(0.5, 0.8))\n",
    "plt.annotate('R2', xy=(1.3, 0.8), xytext=(1.3, 0.8))\n",
    "plt.annotate('R1', xy=(2.3, 0.8), xytext=(2.3, 0.8))\n",
    "plt.show()"
   ]
  },
  {
   "cell_type": "markdown",
   "metadata": {},
   "source": [
    "<p><a name=\"emp_err\"></a>\n",
    "<br></p>\n",
    "\n",
    "## Calculating the empirical error rate\n",
    "\n",
    "[<a href=\"#sections\">back to top</a>] <br>"
   ]
  },
  {
   "cell_type": "code",
   "execution_count": 3,
   "metadata": {},
   "outputs": [
    {
     "name": "stdout",
     "output_type": "stream",
     "text": [
      "Empirical Error: 15.0%\n"
     ]
    }
   ],
   "source": [
    "w1_as_w2, w2_as_w1 = 0, 0\n",
    "for x1,x2 in zip(x1_samples, x2_samples):\n",
    "    if x1 > 1.08625 and x1 < 1.72328:\n",
    "        w1_as_w2 += 1\n",
    "    if x2 <= 1.08625 and x2 >= 1.72328:\n",
    "        w2_as_w1 += 1\n",
    "  \n",
    "emp_err =  (w1_as_w2 + w2_as_w1) / float(len(x1_samples) + len(x2_samples))\n",
    "    \n",
    "print('Empirical Error: {}%'.format(emp_err * 100))"
   ]
  },
  {
   "cell_type": "code",
   "execution_count": null,
   "metadata": {},
   "outputs": [],
   "source": []
  },
  {
   "cell_type": "code",
   "execution_count": null,
   "metadata": {},
   "outputs": [],
   "source": []
  },
  {
   "cell_type": "code",
   "execution_count": null,
   "metadata": {},
   "outputs": [],
   "source": []
  },
  {
   "cell_type": "code",
   "execution_count": null,
   "metadata": {},
   "outputs": [],
   "source": []
  },
  {
   "cell_type": "code",
   "execution_count": null,
   "metadata": {},
   "outputs": [],
   "source": [
    "test complete; Gopal"
   ]
  }
 ],
 "metadata": {
  "kernelspec": {
   "display_name": "Python 3",
   "language": "python",
   "name": "python3"
  },
  "language_info": {
   "codemirror_mode": {
    "name": "ipython",
    "version": 3
   },
   "file_extension": ".py",
   "mimetype": "text/x-python",
   "name": "python",
   "nbconvert_exporter": "python",
   "pygments_lexer": "ipython3",
   "version": "3.6.3"
  }
 },
 "nbformat": 4,
 "nbformat_minor": 1
}
