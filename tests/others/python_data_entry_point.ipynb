{
 "cells": [
  {
   "cell_type": "markdown",
   "metadata": {},
   "source": [
    "[Sebastian Raschka](http://sebastianraschka.com)  \n",
    "\n",
    "- [Open in IPython nbviewer](http://nbviewer.ipython.org/github/rasbt/python_reference/blob/master/tutorials/python_data_entry_point.ipynb?create=1) \n",
    "\n",
    "- [Link to this IPython notebook on Github](https://github.com/rasbt/python_reference/blob/master/tutorials/python_data_entry_point.ipynb)  \n",
    "\n",
    "- [Link to the GitHub Repository pattern_classification](http://nbviewer.ipython.org/github/rasbt/pattern_classification/blob/master/python_howtos/)"
   ]
  },
  {
   "cell_type": "code",
   "execution_count": 1,
   "metadata": {},
   "outputs": [],
   "source": [
    "%load_ext watermark"
   ]
  },
  {
   "cell_type": "code",
   "execution_count": 3,
   "metadata": {},
   "outputs": [
    {
     "name": "stdout",
     "output_type": "stream",
     "text": [
      "Gopala KR 2018-01-28 \n",
      "\n",
      "CPython 3.6.3\n",
      "IPython 6.2.1\n",
      "\n",
      "numpy 1.13.1\n",
      "scipy 0.19.1\n",
      "matplotlib 2.0.2\n",
      "scikit-learn 0.19.0\n"
     ]
    },
    {
     "name": "stderr",
     "output_type": "stream",
     "text": [
      "/srv/venv/lib/python3.6/site-packages/watermark/watermark.py:155: DeprecationWarning: Importing scikit-learn as `scikit-learn` has been depracated and will not be supported anymore in v1.7.0. Please use the package name `sklearn` instead.\n",
      "  DeprecationWarning)\n"
     ]
    }
   ],
   "source": [
    "%watermark -a 'Gopala KR' -v -d -p numpy,scipy,matplotlib,scikit-learn"
   ]
  },
  {
   "cell_type": "markdown",
   "metadata": {},
   "source": [
    "<font size=\"1.5em\">[More information](http://nbviewer.ipython.org/github/rasbt/python_reference/blob/master/ipython_magic/watermark.ipynb) about the `watermark` magic command extension.</font>"
   ]
  },
  {
   "cell_type": "markdown",
   "metadata": {},
   "source": [
    "<hr>\n",
    "I would be happy to hear your comments and suggestions.  \n",
    "Please feel free to drop me a note via\n",
    "[twitter](https://twitter.com/rasbt), [email](mailto:bluewoodtree@gmail.com), or [google+](https://plus.google.com/+SebastianRaschka).\n",
    "<hr>"
   ]
  },
  {
   "cell_type": "markdown",
   "metadata": {},
   "source": [
    "# Entry point: Data  "
   ]
  },
  {
   "cell_type": "markdown",
   "metadata": {},
   "source": [
    "### - Using Python's sci-packages to prepare data for Machine Learning tasks and other data analyses"
   ]
  },
  {
   "cell_type": "markdown",
   "metadata": {},
   "source": [
    "In this short tutorial I want to provide a short overview of some of my favorite Python tools for common procedures as entry points for general pattern classification and machine learning tasks, and various other data analyses.  "
   ]
  },
  {
   "cell_type": "markdown",
   "metadata": {},
   "source": [
    "<br>\n",
    "<br>"
   ]
  },
  {
   "cell_type": "markdown",
   "metadata": {},
   "source": [
    "# Sections"
   ]
  },
  {
   "cell_type": "markdown",
   "metadata": {},
   "source": [
    "- [Installing Python packages](#Installing-Python-packages)\n",
    "\n",
    "- [About the dataset](#About-the-dataset)\n",
    "\n",
    "- [Downloading and saving CSV data files from the web](#Downloading-and-savin-CSV-data-files-from-the-web)\n",
    "\n",
    "- [Reading in a dataset from a CSV file](#Reading-in-a-dataset-from-a-CSV-file)\n",
    "\n",
    "- [Visualizating of a dataset](#Visualizating-of-a-data)\n",
    "\n",
    "    - [Histograms](#Histograms)\n",
    "\n",
    "    - [Scatterplots](#Scatterplots)\n",
    "\n",
    "- [Splitting into training and test dataset](#Splitting-into-training-and-test-dataset)\n",
    "\n",
    "- [Feature Scaling](#Feature-Scaling)\n",
    "\n",
    "    - [Standardization](#Standardization)\n",
    "    \n",
    "    - [Min-Max scaling (Normalization)](#Min-Max-scaling-Normalization)\n",
    "\n",
    "- [Linear Transformation: Principal Component Analysis (PCA)](#PCA)\n",
    "\n",
    "- [Linear Transformation: Linear Discrciminant Analysis (LDA)](#MDA)\n",
    "\n",
    "- [Simple Supervised Classification](#Simple-Supervised-Classification)\n",
    "\n",
    "    - [Linear Discriminant Analysis as simple linear classifier](#Linear-Discriminant-Analysis-as-simple-linear-classifier)\n",
    "    \n",
    "    - [Classification Stochastic Gradient Descent (SGD)](#SGD)\n",
    "\n",
    "- [Saving the processed datasets](#Saving-the-processed-datasets)\n",
    "\n",
    "    - [Pickle](#Pickle)\n",
    "\n",
    "    - [Comma Separated Values (CSV)](#Comma-Separated-Values)"
   ]
  },
  {
   "cell_type": "markdown",
   "metadata": {},
   "source": [
    "<br>\n",
    "<br>"
   ]
  },
  {
   "cell_type": "markdown",
   "metadata": {},
   "source": [
    "## Installing Python packages"
   ]
  },
  {
   "cell_type": "markdown",
   "metadata": {},
   "source": [
    "[[back to top]](#Sections)"
   ]
  },
  {
   "cell_type": "markdown",
   "metadata": {},
   "source": [
    "\n",
    "**In this section want to recommend a way for installing the required Python-packages packages if you have not done so, yet. Otherwise you can skip this part.**\n",
    "\n",
    "The packages we will be using in this tutorial are:\n",
    "\n",
    "- [NumPy](http://www.numpy.org)\n",
    "- [SciPy](http://www.scipy.org)\n",
    "- [matplotlib](http://matplotlib.org)\n",
    "- [scikit-learn](http://scikit-learn.org/stable/)\n",
    "\n",
    "Although they can be installed step-by-step \"manually\", but I highly recommend you to take a look at the [Anaconda](https://store.continuum.io/cshop/anaconda/) Python distribution for scientific computing.\n",
    "\n",
    "Anaconda is distributed by Continuum Analytics, but it is completely free and includes more than 195+ packages for science and data analysis as of today.\n",
    "The installation procedure is nicely summarized here: http://docs.continuum.io/anaconda/install.html\n",
    "\n",
    "If this is too much, the [Miniconda](http://conda.pydata.org/miniconda.html) might be right for you. Miniconda is basically just a Python distribution with the Conda package manager, which let's us install a list of Python packages into a specified `conda` environment from the Shell terminal, e.g.,\n",
    "\n",
    "<pre>$[bash]> conda create -n myenv python=3\n",
    "$[bash]> source activate myenv\n",
    "$[bash]> conda install -n myenv numpy scipy matplotlib scikit-learn</pre>\n",
    "\n",
    "When we start \"python\" in your current shell session now, it will use the Python distribution in the virtual environment \"myenv\" that we have just created. To un-attach the virtual environment, you can just use\n",
    "<pre>$[bash]> source deactivate myenv</pre>\n",
    "\n",
    "**Note:** environments will be created in ROOT_DIR/envs by default, you can use the `-p` instead of the `-n` flag in the conda commands above in order to specify a custom path.\n",
    "\n",
    "**I find this procedure very convenient, especially if you are working with different distributions and versions of Python with different modules and packages installed and it is extremely useful for testing your own modules.**"
   ]
  },
  {
   "cell_type": "markdown",
   "metadata": {},
   "source": [
    "<br>\n",
    "<br>"
   ]
  },
  {
   "cell_type": "markdown",
   "metadata": {},
   "source": [
    "## About the dataset"
   ]
  },
  {
   "cell_type": "markdown",
   "metadata": {},
   "source": [
    "[[back to top]](#Sections)"
   ]
  },
  {
   "cell_type": "markdown",
   "metadata": {},
   "source": [
    "For the following tutorial, we will be working with the free \"Wine\" Dataset that is deposited on the UCI machine learning repository  \n",
    "(http://archive.ics.uci.edu/ml/datasets/Wine).\n",
    "\n",
    "<br>\n",
    "\n",
    "<font size=\"1\">\n",
    "**Reference:**  \n",
    "Forina, M. et al, PARVUS - An Extendible Package for Data\n",
    "Exploration, Classification and Correlation. Institute of Pharmaceutical\n",
    "and Food Analysis and Technologies, Via Brigata Salerno, \n",
    "16147 Genoa, Italy.\n",
    "\n",
    "Bache, K. & Lichman, M. (2013). UCI Machine Learning Repository [http://archive.ics.uci.edu/ml]. Irvine, CA: University of California, School of Information and Computer Science.\n",
    "\n",
    "</font>"
   ]
  },
  {
   "cell_type": "markdown",
   "metadata": {},
   "source": [
    "<br>\n",
    "<br>"
   ]
  },
  {
   "cell_type": "markdown",
   "metadata": {},
   "source": [
    "The Wine dataset consists of 3 different classes where each row correspond to a particular wine sample.\n",
    "\n",
    "The class labels (1, 2, 3) are listed in the first column, and the columns 2-14 correspond to the following 13 attributes (features):\n",
    "\n",
    "1) Alcohol  \n",
    "2) Malic acid  \n",
    "3) Ash  \n",
    "4) Alcalinity of ash    \n",
    "5) Magnesium  \n",
    "6) Total phenols  \n",
    "7) Flavanoids  \n",
    "8) Nonflavanoid phenols  \n",
    "9) Proanthocyanins  \n",
    "10) Color intensity  \n",
    "11) Hue  \n",
    "12) OD280/OD315 of diluted wines  \n",
    "13) Proline     \n",
    "\n",
    "An excerpt from the wine_data.csv dataset:\n",
    "    \n",
    "<pre>1,14.23,1.71,2.43,15.6,127,2.8,3.06,.28,2.29,5.64,1.04,3.92,1065\n",
    "1,13.2,1.78,2.14,11.2,100,2.65,2.76,.26,1.28,4.38,1.05,3.4,1050\n",
    "[...]\n",
    "2,12.37,.94,1.36,10.6,88,1.98,.57,.28,.42,1.95,1.05,1.82,520\n",
    "2,12.33,1.1,2.28,16,101,2.05,1.09,.63,.41,3.27,1.25,1.67,680\n",
    "[...]\n",
    "3,12.86,1.35,2.32,18,122,1.51,1.25,.21,.94,4.1,.76,1.29,630\n",
    "3,12.88,2.99,2.4,20,104,1.3,1.22,.24,.83,5.4,.74,1.42,530</pre>"
   ]
  },
  {
   "cell_type": "markdown",
   "metadata": {},
   "source": [
    "<br>\n",
    "<br>"
   ]
  },
  {
   "cell_type": "markdown",
   "metadata": {},
   "source": [
    "## Downloading and saving CSV data files from the web"
   ]
  },
  {
   "cell_type": "markdown",
   "metadata": {},
   "source": [
    "[[back to top]](#Sections)"
   ]
  },
  {
   "cell_type": "markdown",
   "metadata": {},
   "source": [
    "Usually, we have our data stored locally on our disk in as a common text (or CSV) file with comma-, tab-, or whitespace-separated rows. Below is just an example for how you can CSV datafile from a HTML website directly into Python and optionally save it locally."
   ]
  },
  {
   "cell_type": "code",
   "execution_count": 4,
   "metadata": {},
   "outputs": [],
   "source": [
    "import csv\n",
    "import urllib\n",
    "\n",
    "url = 'https://raw.githubusercontent.com/rasbt/pattern_classification/master/data/wine_data.csv'\n",
    "csv_cont = urllib.request.urlopen(url)\n",
    "csv_cont = csv_cont.read() #.decode('utf-8')\n",
    "\n",
    "# Optional: saving the data to your local drive\n",
    "with open('./wine_data.csv', 'wb') as out:\n",
    "    out.write(csv_cont)"
   ]
  },
  {
   "cell_type": "markdown",
   "metadata": {},
   "source": [
    "**Note:** If you'd rather like to work with the data directly in `str`ing format, you could just apply the `.decode('utf-8')` method to the data that was read in byte-format by default.\n"
   ]
  },
  {
   "cell_type": "markdown",
   "metadata": {},
   "source": [
    "<br>\n",
    "<br>"
   ]
  },
  {
   "cell_type": "markdown",
   "metadata": {},
   "source": [
    "## Reading in a dataset from a CSV file"
   ]
  },
  {
   "cell_type": "markdown",
   "metadata": {},
   "source": [
    "[[back to top]](#Sections)"
   ]
  },
  {
   "cell_type": "markdown",
   "metadata": {},
   "source": [
    "Since it is quite typical to have the input data stored locally, as mentioned above, we will use the [`numpy.loadtxt`](http://docs.scipy.org/doc/numpy/reference/generated/numpy.loadtxt.html) function  now to read in the data from the CSV file.  \n",
    "(alternatively [`np.genfromtxt()`](http://docs.scipy.org/doc/numpy/reference/generated/numpy.genfromtxt.html) could be used in similar way, it provides some additional options)"
   ]
  },
  {
   "cell_type": "code",
   "execution_count": 5,
   "metadata": {},
   "outputs": [
    {
     "name": "stdout",
     "output_type": "stream",
     "text": [
      "\n",
      "total number of samples (rows): 178\n",
      "total number of features (columns): 13\n",
      "\n",
      "1st sample (i.e., 1st row):\n",
      "Class label: 1\n",
      "[14.23 1.71 2.43 15.60 127.00 2.80 3.06 0.28 2.29 5.64 1.04 3.92 1065.00]\n",
      "\n",
      "Class label frequencies\n",
      "Class 1 samples: 33.15%\n",
      "Class 2 samples: 39.89%\n",
      "Class 3 samples: 26.97%\n"
     ]
    }
   ],
   "source": [
    "import numpy as np\n",
    "\n",
    "# reading in all data into a NumPy array\n",
    "all_data = np.loadtxt(open(\"./wine_data.csv\",\"r\"),\n",
    "        delimiter=\",\", \n",
    "        skiprows=0, \n",
    "        dtype=np.float64\n",
    "        )\n",
    "\n",
    "# load class labels from column 1\n",
    "y_wine = all_data[:,0]\n",
    "\n",
    "# conversion of the class labels to integer-type array\n",
    "y_wine = y_wine.astype(np.int64, copy=False)\n",
    "\n",
    "# load the 14 features\n",
    "X_wine = all_data[:,1:]\n",
    "\n",
    "# printing some general information about the data\n",
    "print('\\ntotal number of samples (rows):', X_wine.shape[0])\n",
    "print('total number of features (columns):', X_wine.shape[1])\n",
    "\n",
    "# printing the 1st wine sample\n",
    "float_formatter = lambda x: '{:.2f}'.format(x)\n",
    "np.set_printoptions(formatter={'float_kind':float_formatter})\n",
    "print('\\n1st sample (i.e., 1st row):\\nClass label: {:d}\\n{:}\\n'\n",
    "          .format(int(y_wine[0]), X_wine[0]))\n",
    "\n",
    "# printing the rel.frequency of the class labels\n",
    "print('Class label frequencies')\n",
    "print('Class 1 samples: {:.2%}'.format(list(y_wine).count(1)/y_wine.shape[0]))\n",
    "print('Class 2 samples: {:.2%}'.format(list(y_wine).count(2)/y_wine.shape[0]))\n",
    "print('Class 3 samples: {:.2%}'.format(list(y_wine).count(3)/y_wine.shape[0]))"
   ]
  },
  {
   "cell_type": "markdown",
   "metadata": {},
   "source": [
    "<br>\n",
    "<br>"
   ]
  },
  {
   "cell_type": "markdown",
   "metadata": {},
   "source": [
    "## Visualizating of a dataset"
   ]
  },
  {
   "cell_type": "markdown",
   "metadata": {},
   "source": [
    "[[back to top]](#Sections)"
   ]
  },
  {
   "cell_type": "markdown",
   "metadata": {},
   "source": [
    "There are endless way to visualize datasets for get an initial idea of how the data looks like. The most common ones are probably histograms and scatter plots."
   ]
  },
  {
   "cell_type": "markdown",
   "metadata": {},
   "source": [
    "### Histograms"
   ]
  },
  {
   "cell_type": "markdown",
   "metadata": {},
   "source": [
    "[[back to top]](#Sections)"
   ]
  },
  {
   "cell_type": "markdown",
   "metadata": {},
   "source": [
    "Histograms are a useful data to explore the distribution of each feature across the different classes. This could provide us with intuitive insights which features have a good and not-so-good inter-class separation. Below, we will plot a sample histogram for the \"Alcohol content\" feature for the three wine classes."
   ]
  },
  {
   "cell_type": "code",
   "execution_count": 6,
   "metadata": {},
   "outputs": [],
   "source": [
    "%matplotlib inline"
   ]
  },
  {
   "cell_type": "code",
   "execution_count": 7,
   "metadata": {},
   "outputs": [
    {
     "name": "stderr",
     "output_type": "stream",
     "text": [
      "<input>:23: DeprecationWarning: invalid escape sequence \\m\n",
      "<input>:23: DeprecationWarning: invalid escape sequence \\m\n",
      "<input>:23: DeprecationWarning: invalid escape sequence \\m\n",
      "<input>:23: DeprecationWarning: invalid escape sequence \\m\n",
      "<input>:23: DeprecationWarning: invalid escape sequence \\m\n",
      "<input>:23: DeprecationWarning: invalid escape sequence \\m\n",
      "<input>:23: DeprecationWarning: invalid escape sequence \\m\n",
      "<input>:23: DeprecationWarning: invalid escape sequence \\m\n",
      "<input>:23: DeprecationWarning: invalid escape sequence \\m\n",
      "<input>:23: DeprecationWarning: invalid escape sequence \\m\n",
      "<input>:23: DeprecationWarning: invalid escape sequence \\m\n",
      "<input>:23: DeprecationWarning: invalid escape sequence \\m\n",
      "<input>:23: DeprecationWarning: invalid escape sequence \\m\n",
      "<input>:23: DeprecationWarning: invalid escape sequence \\m\n",
      "<input>:23: DeprecationWarning: invalid escape sequence \\m\n",
      "<input>:23: DeprecationWarning: invalid escape sequence \\m\n",
      "<input>:23: DeprecationWarning: invalid escape sequence \\m\n",
      "<input>:23: DeprecationWarning: invalid escape sequence \\m\n",
      "<input>:23: DeprecationWarning: invalid escape sequence \\m\n",
      "<input>:23: DeprecationWarning: invalid escape sequence \\m\n",
      "<input>:23: DeprecationWarning: invalid escape sequence \\m\n",
      "<input>:23: DeprecationWarning: invalid escape sequence \\m\n",
      "<input>:23: DeprecationWarning: invalid escape sequence \\m\n",
      "<input>:23: DeprecationWarning: invalid escape sequence \\m\n",
      "<input>:23: DeprecationWarning: invalid escape sequence \\m\n",
      "<input>:23: DeprecationWarning: invalid escape sequence \\m\n",
      "<input>:23: DeprecationWarning: invalid escape sequence \\m\n",
      "<ipython-input-7-eb9f3f19c64f>:23: DeprecationWarning: invalid escape sequence \\m\n",
      "  label='class {} ($\\mu={:.2f}$, $\\sigma={:.2f}$)'.format(label, mean, stdev),\n"
     ]
    },
    {
     "data": {
      "image/png": "[encoded data removed]",
      "text/plain": [
       "<matplotlib.figure.Figure at 0x7f1d2ff86dd8>"
      ]
     },
     "metadata": {},
     "output_type": "display_data"
    }
   ],
   "source": [
    "from matplotlib import pyplot as plt\n",
    "from math import floor, ceil # for rounding up and down\n",
    "\n",
    "plt.figure(figsize=(10,8))\n",
    "\n",
    "# bin width of the histogram in steps of 0.15\n",
    "bins = np.arange(floor(min(X_wine[:,0])), ceil(max(X_wine[:,0])), 0.15)\n",
    "\n",
    "# get the max count for a particular bin for all classes combined\n",
    "max_bin = max(np.histogram(X_wine[:,0], bins=bins)[0])\n",
    "\n",
    "# the order of the colors for each histogram\n",
    "colors = ('blue', 'red', 'green')\n",
    "\n",
    "for label,color in zip(\n",
    "        range(1,4), colors):\n",
    "\n",
    "    mean = np.mean(X_wine[:,0][y_wine == label]) # class sample mean\n",
    "    stdev = np.std(X_wine[:,0][y_wine == label]) # class standard deviation\n",
    "    plt.hist(X_wine[:,0][y_wine == label], \n",
    "             bins=bins, \n",
    "             alpha=0.3, # opacity level\n",
    "             label='class {} ($\\mu={:.2f}$, $\\sigma={:.2f}$)'.format(label, mean, stdev), \n",
    "             color=color)\n",
    "\n",
    "plt.ylim([0, max_bin*1.3])\n",
    "plt.title('Wine data set - Distribution of alocohol contents')\n",
    "plt.xlabel('alcohol by volume', fontsize=14)\n",
    "plt.ylabel('count', fontsize=14)\n",
    "plt.legend(loc='upper right')\n",
    "\n",
    "plt.show()"
   ]
  },
  {
   "cell_type": "markdown",
   "metadata": {},
   "source": [
    "<br>\n",
    "<br>"
   ]
  },
  {
   "cell_type": "markdown",
   "metadata": {},
   "source": [
    "### Scatterplots"
   ]
  },
  {
   "cell_type": "markdown",
   "metadata": {},
   "source": [
    "[[back to top]](#Sections)"
   ]
  },
  {
   "cell_type": "markdown",
   "metadata": {},
   "source": [
    "Scatter plots are useful for visualizing features in more than just one dimension, for example to get a feeling for the correlation between particular features.  \n",
    "Unfortunately, we can't plot all 13 features here at once, since the visual cortex of us humans is limited to a maximum of three dimensions."
   ]
  },
  {
   "cell_type": "markdown",
   "metadata": {},
   "source": [
    "Below, we will create an example 2D-Scatter plot from the features \"Alcohol content\" and \"Malic acid content\".  \n",
    "Additionally, we will use the [`scipy.stats.pearsonr`](http://docs.scipy.org/doc/scipy/reference/generated/scipy.stats.pearsonr.html) function to calculate a Pearson correlation coefficient between these two features.\n"
   ]
  },
  {
   "cell_type": "code",
   "execution_count": 8,
   "metadata": {},
   "outputs": [
    {
     "data": {
      "image/png": "[encoded data removed]",
      "text/plain": [
       "<matplotlib.figure.Figure at 0x7f1d2dac1518>"
      ]
     },
     "metadata": {},
     "output_type": "display_data"
    }
   ],
   "source": [
    "from scipy.stats import pearsonr\n",
    "\n",
    "plt.figure(figsize=(10,8))\n",
    "\n",
    "for label,marker,color in zip(\n",
    "        range(1,4),('x', 'o', '^'),('blue', 'red', 'green')):\n",
    "\n",
    "    # Calculate Pearson correlation coefficient\n",
    "    R = pearsonr(X_wine[:,0][y_wine == label], X_wine[:,1][y_wine == label])\n",
    "    plt.scatter(x=X_wine[:,0][y_wine == label], # x-axis: feat. from col. 1\n",
    "                y=X_wine[:,1][y_wine == label], # y-axis: feat. from col. 2\n",
    "                marker=marker, # data point symbol for the scatter plot\n",
    "                color=color,\n",
    "                alpha=0.7, \n",
    "                label='class {:}, R={:.2f}'.format(label, R[0]) # label for the legend\n",
    "                )\n",
    "    \n",
    "plt.title('Wine Dataset')\n",
    "plt.xlabel('alcohol by volume in percent')\n",
    "plt.ylabel('malic acid in g/l')\n",
    "plt.legend(loc='upper right')\n",
    "\n",
    "plt.show()"
   ]
  },
  {
   "cell_type": "markdown",
   "metadata": {},
   "source": [
    "<br>\n",
    "<br>"
   ]
  },
  {
   "cell_type": "markdown",
   "metadata": {},
   "source": [
    "If we want to pack 3 different features into one scatter plot at once, we can also do the same thing in 3D:"
   ]
  },
  {
   "cell_type": "code",
   "execution_count": 9,
   "metadata": {},
   "outputs": [
    {
     "data": {
      "image/png": "[encoded data removed]",
      "text/plain": [
       "<matplotlib.figure.Figure at 0x7f1d2dcea518>"
      ]
     },
     "metadata": {},
     "output_type": "display_data"
    }
   ],
   "source": [
    "from mpl_toolkits.mplot3d import Axes3D\n",
    "\n",
    "fig = plt.figure(figsize=(8,8))\n",
    "ax = fig.add_subplot(111, projection='3d')\n",
    "   \n",
    "for label,marker,color in zip(\n",
    "        range(1,4),('x', 'o', '^'),('blue','red','green')):\n",
    "    \n",
    "    ax.scatter(X_wine[:,0][y_wine == label], \n",
    "               X_wine[:,1][y_wine == label], \n",
    "               X_wine[:,2][y_wine == label],  \n",
    "               marker=marker, \n",
    "               color=color, \n",
    "               s=40, \n",
    "               alpha=0.7,\n",
    "               label='class {}'.format(label))\n",
    "\n",
    "ax.set_xlabel('alcohol by volume in percent')\n",
    "ax.set_ylabel('malic acid in g/l')\n",
    "ax.set_zlabel('ash content in g/l')\n",
    "\n",
    "plt.title('Wine dataset')\n",
    "     \n",
    "plt.show()"
   ]
  },
  {
   "cell_type": "markdown",
   "metadata": {},
   "source": [
    "<br>\n",
    "<br>"
   ]
  },
  {
   "cell_type": "markdown",
   "metadata": {},
   "source": [
    "## Splitting into training and test dataset "
   ]
  },
  {
   "cell_type": "markdown",
   "metadata": {},
   "source": [
    "[[back to top]](#Sections)"
   ]
  },
  {
   "cell_type": "markdown",
   "metadata": {},
   "source": [
    "It is a typical procedure for machine learning and pattern classification tasks to split one dataset into two: a training dataset and a test dataset.  \n",
    "The training dataset is henceforth used to train our algorithms or classifier, and the test dataset is a way to validate the outcome quite objectively before we apply it to \"new, real world data\".\n",
    "\n",
    "Here, we will split the dataset randomly so that 70% of the total dataset will become our training dataset, and 30% will become our test dataset, respectively."
   ]
  },
  {
   "cell_type": "code",
   "execution_count": 10,
   "metadata": {},
   "outputs": [
    {
     "name": "stderr",
     "output_type": "stream",
     "text": [
      "/srv/venv/lib/python3.6/site-packages/sklearn/cross_validation.py:41: DeprecationWarning: This module was deprecated in version 0.18 in favor of the model_selection module into which all the refactored classes and functions are moved. Also note that the interface of the new CV iterators are different from that of this module. This module will be removed in 0.20.\n",
      "  \"This module will be removed in 0.20.\", DeprecationWarning)\n"
     ]
    }
   ],
   "source": [
    "from sklearn.cross_validation import train_test_split\n",
    "from sklearn import preprocessing\n",
    "\n",
    "X_train, X_test, y_train, y_test = train_test_split(X_wine, y_wine,\n",
    "     test_size=0.30, random_state=123)"
   ]
  },
  {
   "cell_type": "markdown",
   "metadata": {},
   "source": [
    "Note that since this a random assignment, the original relative frequencies for each class label are not maintained."
   ]
  },
  {
   "cell_type": "code",
   "execution_count": 11,
   "metadata": {},
   "outputs": [
    {
     "name": "stdout",
     "output_type": "stream",
     "text": [
      "Class label frequencies\n",
      "\n",
      "Training Dataset:\n",
      "Class 1 samples: 36.29%\n",
      "Class 2 samples: 42.74%\n",
      "Class 3 samples: 20.97%\n",
      "\n",
      "Test Dataset:\n",
      "Class 1 samples: 25.93%\n",
      "Class 2 samples: 33.33%\n",
      "Class 3 samples: 40.74%\n"
     ]
    }
   ],
   "source": [
    "print('Class label frequencies')\n",
    "        \n",
    "print('\\nTraining Dataset:')    \n",
    "for l in range(1,4):\n",
    "    print('Class {:} samples: {:.2%}'.format(l, list(y_train).count(l)/y_train.shape[0]))\n",
    "    \n",
    "print('\\nTest Dataset:')     \n",
    "for l in range(1,4):\n",
    "    print('Class {:} samples: {:.2%}'.format(l, list(y_test).count(l)/y_test.shape[0]))"
   ]
  },
  {
   "cell_type": "markdown",
   "metadata": {},
   "source": [
    "<br>\n",
    "<br>"
   ]
  },
  {
   "cell_type": "markdown",
   "metadata": {},
   "source": [
    "## Feature Scaling"
   ]
  },
  {
   "cell_type": "markdown",
   "metadata": {},
   "source": [
    "[[back to top]](#Sections)"
   ]
  },
  {
   "cell_type": "markdown",
   "metadata": {},
   "source": [
    "### Standardization"
   ]
  },
  {
   "cell_type": "markdown",
   "metadata": {},
   "source": [
    "Another important procedure is to standardize the data prior to fitting the model and other analyses so that the features will have the properties of a standard normal distribution with   \n",
    "\n",
    "$\\mu = 0$ and $\\sigma = 1$\n",
    "\n",
    "where $\\mu$ is the mean (average) and $\\sigma$ is the standard deviation from the mean; standard scores (also called ***z*** scores) of the samples are calculated as follows:\n",
    "\n",
    "\\begin{equation} z = \\frac{x - \\mu}{\\sigma}\\end{equation} \n",
    "\n",
    "Standardizing the features so that they are centered around 0 with a standard deviation of 1 is especially important if we are comparing measurements that have different units, e.g., in our \"wine data\" example, where the alcohol content is measured in volume percent, and the malic acid content in g/l. "
   ]
  },
  {
   "cell_type": "code",
   "execution_count": 12,
   "metadata": {},
   "outputs": [],
   "source": [
    "std_scale = preprocessing.StandardScaler().fit(X_train)\n",
    "X_train = std_scale.transform(X_train)\n",
    "X_test = std_scale.transform(X_test)"
   ]
  },
  {
   "cell_type": "code",
   "execution_count": 13,
   "metadata": {},
   "outputs": [
    {
     "data": {
      "image/png": "[encoded data removed]",
      "text/plain": [
       "<matplotlib.figure.Figure at 0x7f1d296eb6a0>"
      ]
     },
     "metadata": {},
     "output_type": "display_data"
    }
   ],
   "source": [
    "f, ax = plt.subplots(1, 2, sharex=True, sharey=True, figsize=(10,5))\n",
    "\n",
    "for a,x_dat, y_lab in zip(ax, (X_train, X_test), (y_train, y_test)):\n",
    "\n",
    "    for label,marker,color in zip(\n",
    "        range(1,4),('x', 'o', '^'),('blue','red','green')):\n",
    "\n",
    "        a.scatter(x=x_dat[:,0][y_lab == label], \n",
    "                y=x_dat[:,1][y_lab == label], \n",
    "                marker=marker, \n",
    "                color=color,   \n",
    "                alpha=0.7,   \n",
    "                label='class {}'.format(label)\n",
    "                )\n",
    "\n",
    "    a.legend(loc='upper left')\n",
    "\n",
    "ax[0].set_title('Training Dataset')\n",
    "ax[1].set_title('Test Dataset')\n",
    "f.text(0.5, 0.04, 'malic acid (standardized)', ha='center', va='center')\n",
    "f.text(0.08, 0.5, 'alcohol (standardized)', ha='center', va='center', rotation='vertical')\n",
    "\n",
    "plt.show()"
   ]
  },
  {
   "cell_type": "markdown",
   "metadata": {},
   "source": [
    "<br>\n",
    "<br>"
   ]
  },
  {
   "cell_type": "markdown",
   "metadata": {},
   "source": [
    "<a id='Min-Max-scaling-Normalization'></a>"
   ]
  },
  {
   "cell_type": "markdown",
   "metadata": {},
   "source": [
    "### Min-Max scaling (Normalization)"
   ]
  },
  {
   "cell_type": "markdown",
   "metadata": {},
   "source": [
    "[[back to top]](#Sections)"
   ]
  },
  {
   "cell_type": "markdown",
   "metadata": {},
   "source": [
    "An alternative approach to standardization is the so-called Min-Max scaling (sometimes also referred to as \"normalization\").  \n",
    "In this approach, the data is scaled to a fixed range - usually 0 to 1.  \n",
    "The cost of having this bounded range - in contrast to standardization - is that we will end up with small standard deviations, for example in the case where outliers are present.\n",
    "\n",
    "The equation to calculate the \"normalized\" score is:\n",
    "\n",
    "\\begin{equation} X' = \\frac{X - X_{min}}{X_{max}-X_{min}} \\end{equation}"
   ]
  },
  {
   "cell_type": "code",
   "execution_count": 14,
   "metadata": {},
   "outputs": [],
   "source": [
    "minmax_scale = preprocessing.MinMaxScaler(feature_range=(0, 1)).fit(X_train)\n",
    "X_train_minmax = minmax_scale.transform(X_train)\n",
    "X_test_minmax = minmax_scale.transform(X_test)"
   ]
  },
  {
   "cell_type": "code",
   "execution_count": 15,
   "metadata": {},
   "outputs": [
    {
     "data": {
      "image/png": "[encoded data removed]",
      "text/plain": [
       "<matplotlib.figure.Figure at 0x7f1d295e96a0>"
      ]
     },
     "metadata": {},
     "output_type": "display_data"
    }
   ],
   "source": [
    "f, ax = plt.subplots(1, 2, sharex=True, sharey=True, figsize=(10,5))\n",
    "\n",
    "for a,x_dat, y_lab in zip(ax, (X_train_minmax, X_test_minmax), (y_train, y_test)):\n",
    "\n",
    "    for label,marker,color in zip(\n",
    "        range(1,4),('x', 'o', '^'),('blue','red','green')):\n",
    "\n",
    "        a.scatter(x=x_dat[:,0][y_lab == label], \n",
    "                y=x_dat[:,1][y_lab == label], \n",
    "                marker=marker, \n",
    "                color=color,   \n",
    "                alpha=0.7,   \n",
    "                label='class {}'.format(label)\n",
    "                )\n",
    "\n",
    "    a.legend(loc='upper left')\n",
    "\n",
    "ax[0].set_title('Training Dataset')\n",
    "ax[1].set_title('Test Dataset')\n",
    "f.text(0.5, 0.04, 'malic acid (normalized)', ha='center', va='center')\n",
    "f.text(0.08, 0.5, 'alcohol (normalized)', ha='center', va='center', rotation='vertical')\n",
    "\n",
    "plt.show()"
   ]
  },
  {
   "cell_type": "markdown",
   "metadata": {},
   "source": [
    "<br>\n",
    "<br>"
   ]
  },
  {
   "cell_type": "markdown",
   "metadata": {},
   "source": [
    "<a id=\"PCA\"></a>"
   ]
  },
  {
   "cell_type": "markdown",
   "metadata": {},
   "source": [
    "## Linear Transformation: Principal Component Analysis (PCA)"
   ]
  },
  {
   "cell_type": "markdown",
   "metadata": {},
   "source": [
    "[[back to top]](#Sections)"
   ]
  },
  {
   "cell_type": "markdown",
   "metadata": {},
   "source": [
    "The main purposes of a principal component analysis are the analysis of data to identify patterns and finding patterns to reduce the dimensions of the dataset with minimal loss of information.\n",
    "\n",
    "Here, our desired outcome of the principal component analysis is to project a feature space (our dataset consisting of n x d-dimensional samples) onto a smaller subspace that represents our data \"well\". A possible application would be a pattern classification task, where we want to reduce the computational costs and the error of parameter estimation by reducing the number of dimensions of our feature space by extracting a subspace that describes our data \"best\".\n",
    "\n",
    "If you are interested in the Principal Component Analysis in more detail, I have outlined the procedure in a separate article  \n",
    "[\"Implementing a Principal Component Analysis (PCA) in Python step by step](http://sebastianraschka.com/Articles/2014_pca_step_by_step.html)."
   ]
  },
  {
   "cell_type": "markdown",
   "metadata": {},
   "source": [
    "Here, we will use the [`sklearn.decomposition.PCA`](http://scikit-learn.org/stable/modules/generated/sklearn.decomposition.PCA.html) to transform our training data onto 2 dimensional subspace:"
   ]
  },
  {
   "cell_type": "code",
   "execution_count": 16,
   "metadata": {},
   "outputs": [
    {
     "data": {
      "image/png": "[encoded data removed]",
      "text/plain": [
       "<matplotlib.figure.Figure at 0x7f1d2da874a8>"
      ]
     },
     "metadata": {},
     "output_type": "display_data"
    }
   ],
   "source": [
    "from sklearn.decomposition import PCA\n",
    "sklearn_pca = PCA(n_components=2) # number of components to keep\n",
    "sklearn_transf = sklearn_pca.fit_transform(X_train)\n",
    "\n",
    "plt.figure(figsize=(10,8))\n",
    "\n",
    "for label,marker,color in zip(\n",
    "        range(1,4),('x', 'o', '^'),('blue', 'red', 'green')):\n",
    "\n",
    "    plt.scatter(x=sklearn_transf[:,0][y_train == label],\n",
    "                y=sklearn_transf[:,1][y_train == label], \n",
    "                marker=marker, \n",
    "                color=color,\n",
    "                alpha=0.7, \n",
    "                label='class {}'.format(label)\n",
    "                )\n",
    "\n",
    "plt.xlabel('vector 1')\n",
    "plt.ylabel('vector 2')\n",
    "\n",
    "plt.legend()\n",
    "plt.title('Most significant singular vectors after linear transformation via PCA')\n",
    "\n",
    "plt.show()"
   ]
  },
  {
   "cell_type": "markdown",
   "metadata": {},
   "source": [
    "<br>\n",
    "<br>"
   ]
  },
  {
   "cell_type": "markdown",
   "metadata": {},
   "source": [
    "#### PCA for feature extraction"
   ]
  },
  {
   "cell_type": "markdown",
   "metadata": {},
   "source": [
    "As mentioned in the short introduction above (and in more detail in my separate [PCA article](http://sebastianraschka.com/Articles/2014_pca_step_by_step.html)), PCA is commonly used in the field of pattern classification for feature selection (or dimensionality reduction).  \n",
    "By default, the transformed data will be ordered by the components with the maximum variance (in descending order).  \n",
    "\n",
    "In the example above, I only kept the top 2 components (the 2 components with the maximum variance along the axes): The sample space of projected onto a 2-dimensional subspace, which was basically sufficient for plotting the data onto a 2D scatter plot.\n",
    "\n",
    "However, if we want to use PCA for feature selection, we probably don't want to reduce the dimensionality that drastically. By default, the `PCA` function (`PCA(n_components=None)`) keeps all the components in ranked order. So we could basically either set the number `n_components` to a smaller size then the input dataset, or we could extract the top **n** components later from the returned NumPy array.\n",
    "\n",
    "To get an idea about how well each components (relatively) \"explains\" the variance, we can use `explained_variance_ratio_` instant method, which also confirms that the components are ordered from most explanatory to least explanatory (the ratios sum up to 1.0)."
   ]
  },
  {
   "cell_type": "code",
   "execution_count": 17,
   "metadata": {},
   "outputs": [
    {
     "data": {
      "text/plain": [
       "array([0.36, 0.21, 0.10, 0.08, 0.06, 0.05, 0.04, 0.03, 0.02, 0.02, 0.01,\n",
       "       0.01, 0.01])"
      ]
     },
     "execution_count": 17,
     "metadata": {},
     "output_type": "execute_result"
    }
   ],
   "source": [
    "sklearn_pca = PCA(n_components=None)\n",
    "sklearn_transf = sklearn_pca.fit_transform(X_train)\n",
    "sklearn_pca.explained_variance_ratio_"
   ]
  },
  {
   "cell_type": "markdown",
   "metadata": {},
   "source": [
    "<br>\n",
    "<br>"
   ]
  },
  {
   "cell_type": "markdown",
   "metadata": {},
   "source": [
    "<a id='MDA'></a>"
   ]
  },
  {
   "cell_type": "markdown",
   "metadata": {},
   "source": [
    "## Linear Transformation: Linear Discriminant Analysis (MDA)"
   ]
  },
  {
   "cell_type": "markdown",
   "metadata": {},
   "source": [
    "[[back to top]](#Sections)"
   ]
  },
  {
   "cell_type": "markdown",
   "metadata": {},
   "source": [
    "The main purposes of a Linear Discriminant Analysis (LDA) is to analyze the data to identify patterns to project it onto a subspace that yields a better separation of the classes. Also, the dimensionality of the dataset shall be reduced with minimal loss of information.\n",
    "\n",
    "**The approach is very similar to a Principal Component Analysis (PCA), but in addition to finding the component axes that maximize the variance of our data, we are additionally interested in the axes that maximize the separation of our classes (e.g., in a supervised pattern classification problem)**\n",
    "\n",
    "Here, our desired outcome of the Linear discriminant analysis is to project a feature space (our dataset consisting of n d-dimensional samples) onto a smaller subspace that represents our data \"well\" and has a good class separation. A possible application would be a pattern classification task, where we want to reduce the computational costs and the error of parameter estimation by reducing the number of dimensions of our feature space by extracting a subspace that describes our data \"best\"."
   ]
  },
  {
   "cell_type": "markdown",
   "metadata": {},
   "source": [
    "#### Principal Component Analysis (PCA) Vs. Linear Discriminant Analysis (LDA)"
   ]
  },
  {
   "cell_type": "markdown",
   "metadata": {},
   "source": [
    "Both Linear Discriminant Analysis and Principal Component Analysis are linear transformation methods and closely related to each other. In PCA, we are interested to find the directions (components) that maximize the variance in our dataset, where in LDA, we are additionally interested to find the directions that maximize the separation (or discrimination) between different classes (for example, in pattern classification problems where our dataset consists of multiple classes. In contrast two PCA, which ignores the class labels).\n",
    "\n",
    "**In other words, via PCA, we are projecting the entire set of data (without class labels) onto a different subspace, and in LDA, we are trying to determine a suitable subspace to distinguish between patterns that belong to different classes. Or, roughly speaking in PCA we are trying to find the axes with maximum variances where the data is most spread (within a class, since PCA treats the whole data set as one class), and in LDA we are additionally maximizing the spread between classes.**\n",
    "\n",
    "In typical pattern recognition problems, a PCA is often followed by an LDA."
   ]
  },
  {
   "cell_type": "markdown",
   "metadata": {},
   "source": [
    "![](../Images/lda_overview.png)"
   ]
  },
  {
   "cell_type": "markdown",
   "metadata": {},
   "source": [
    "If you are interested, you can find more information about the LDA in my IPython notebook   \n",
    "[Stepping through a Linear Discriminant Analysis - using Python's NumPy and matplotlib](http://nbviewer.ipython.org/github/rasbt/pattern_classification/blob/master/dimensionality_reduction/projection/minear_discriminant_analysis.ipynb?create=1)."
   ]
  },
  {
   "cell_type": "markdown",
   "metadata": {},
   "source": [
    "Like we did in the PCA section above, we will use a `scikit-learn` funcion, [`sklearn.lda.LDA`](http://scikit-learn.org/stable/modules/generated/sklearn.lda.LDA.html) in order to transform our training data onto 2 dimensional subspace:"
   ]
  },
  {
   "cell_type": "code",
   "execution_count": 19,
   "metadata": {},
   "outputs": [
    {
     "data": {
      "image/png": "[encoded data removed]",
      "text/plain": [
       "<matplotlib.figure.Figure at 0x7f1d28059dd8>"
      ]
     },
     "metadata": {},
     "output_type": "display_data"
    }
   ],
   "source": [
    "from sklearn.discriminant_analysis import LinearDiscriminantAnalysis as LDA\n",
    "sklearn_lda = LDA(n_components=2)\n",
    "transf_lda = sklearn_lda.fit_transform(X_train, y_train)\n",
    "\n",
    "plt.figure(figsize=(10,8))\n",
    "\n",
    "for label,marker,color in zip(\n",
    "        range(1,4),('x', 'o', '^'),('blue', 'red', 'green')):\n",
    "\n",
    "\n",
    "    plt.scatter(x=transf_lda[:,0][y_train == label],\n",
    "                y=transf_lda[:,1][y_train == label], \n",
    "                marker=marker, \n",
    "                color=color,\n",
    "                alpha=0.7, \n",
    "                label='class {}'.format(label)\n",
    "                )\n",
    "\n",
    "plt.xlabel('vector 1')\n",
    "plt.ylabel('vector 2')\n",
    "\n",
    "plt.legend()\n",
    "plt.title('Most significant singular vectors after linear transformation via LDA')\n",
    "\n",
    "plt.show()"
   ]
  },
  {
   "cell_type": "markdown",
   "metadata": {},
   "source": [
    "#### LDA for feature extraction"
   ]
  },
  {
   "cell_type": "markdown",
   "metadata": {},
   "source": [
    "If we want to use LDA for projecting our data onto a smaller subspace (i.e., for dimensionality reduction), we can directly set the number of components to keep via `LDA(n_components=...)`; this is analogous to the [PCA function](#PCA-for-feature-extraction), which we have seen above.\n"
   ]
  },
  {
   "cell_type": "markdown",
   "metadata": {},
   "source": [
    "<br>\n",
    "<br>"
   ]
  },
  {
   "cell_type": "markdown",
   "metadata": {},
   "source": [
    "<br>\n",
    "<br>"
   ]
  },
  {
   "cell_type": "markdown",
   "metadata": {},
   "source": [
    "## Simple Supervised Classification"
   ]
  },
  {
   "cell_type": "markdown",
   "metadata": {},
   "source": [
    "[[back to top]](#Sections)"
   ]
  },
  {
   "cell_type": "markdown",
   "metadata": {},
   "source": [
    "<br>\n",
    "<br>"
   ]
  },
  {
   "cell_type": "markdown",
   "metadata": {},
   "source": [
    "### Linear Discriminant Analysis as simple linear classifier"
   ]
  },
  {
   "cell_type": "markdown",
   "metadata": {},
   "source": [
    "[[back to top]](#Sections)"
   ]
  },
  {
   "cell_type": "markdown",
   "metadata": {},
   "source": [
    "The LDA that we've just used in the section above can also be used as a simple linear classifier."
   ]
  },
  {
   "cell_type": "code",
   "execution_count": 23,
   "metadata": {},
   "outputs": [
    {
     "name": "stdout",
     "output_type": "stream",
     "text": [
      "1st sample from test dataset classified as: [3 2 3 2 2 3 1 3 3 2 3 3 3 1 1 3 2 2 1 2 3 3 3 3 2 3 3 2 1 1 1 1 3 2 3 2 3\n",
      " 1 2 2 3 3 1 1 1 1 1 2 1 2 2 3 3 2]\n",
      "actual class label: 3\n"
     ]
    }
   ],
   "source": [
    "# fit model\n",
    "lda_clf = LDA()\n",
    "lda_clf.fit(X_train, y_train)\n",
    "LDA(n_components=None, priors=None)\n",
    "\n",
    "# prediction\n",
    "print('1st sample from test dataset classified as:', lda_clf.predict(X_test[0:]))\n",
    "print('actual class label:', y_test[0])"
   ]
  },
  {
   "cell_type": "markdown",
   "metadata": {},
   "source": [
    "Another handy subpackage of sklearn is `metrics`. The [`metrics.accuracy_score`](http://scikit-learn.org/stable/modules/generated/sklearn.metrics.accuracy_score.html), for example, is quite useful to evaluate how many samples can be classified correctly:"
   ]
  },
  {
   "cell_type": "code",
   "execution_count": 24,
   "metadata": {},
   "outputs": [
    {
     "name": "stdout",
     "output_type": "stream",
     "text": [
      "Prediction accuracy for the training dataset\n",
      "100.00%\n"
     ]
    }
   ],
   "source": [
    "from sklearn import metrics\n",
    "pred_train_lda = lda_clf.predict(X_train)\n",
    "\n",
    "print('Prediction accuracy for the training dataset')\n",
    "print('{:.2%}'.format(metrics.accuracy_score(y_train, pred_train_lda)))"
   ]
  },
  {
   "cell_type": "markdown",
   "metadata": {},
   "source": [
    "To verify that over model was not overfitted to the training dataset, let us evaluate the classifier's accuracy on the test dataset:"
   ]
  },
  {
   "cell_type": "code",
   "execution_count": 25,
   "metadata": {},
   "outputs": [
    {
     "name": "stdout",
     "output_type": "stream",
     "text": [
      "Prediction accuracy for the test dataset\n",
      "98.15%\n"
     ]
    }
   ],
   "source": [
    "pred_test_lda = lda_clf.predict(X_test)\n",
    "\n",
    "print('Prediction accuracy for the test dataset')\n",
    "print('{:.2%}'.format(metrics.accuracy_score(y_test, pred_test_lda)))"
   ]
  },
  {
   "cell_type": "markdown",
   "metadata": {},
   "source": [
    "<br>\n",
    "<br>"
   ]
  },
  {
   "cell_type": "markdown",
   "metadata": {},
   "source": [
    "**Confusion Matrix**  \n",
    "As we can see above, there was a very low misclassification rate when we'd apply the classifier on the test data set. A confusion matrix can tell us in more detail which particular classes could not classified correctly.\n",
    "\n",
    "<table cellspacing=\"0\" border=\"0\">\n",
    "\t<colgroup width=\"60\"></colgroup>\n",
    "\t<colgroup span=\"4\" width=\"82\"></colgroup>\n",
    "\t<tr>\n",
    "\t\t<td style=\"border-top: 1px solid #c1c1c1; border-bottom: 1px solid #c1c1c1; border-left: 1px solid #c1c1c1; border-right: 1px solid #c1c1c1\" colspan=2 rowspan=2 height=\"44\" align=\"center\" bgcolor=\"#FFFFFF\"><b><font face=\"Helvetica\" size=4><br></font></b></td>\n",
    "\t\t<td style=\"border-top: 1px solid #c1c1c1; border-bottom: 1px solid #c1c1c1; border-left: 1px solid #c1c1c1; border-right: 1px solid #c1c1c1\" colspan=3 align=\"center\" bgcolor=\"#FFFFFF\"><b><font face=\"Helvetica\" size=4>predicted class</font></b></td>\n",
    "\t\t</tr>\n",
    "\t<tr>\n",
    "\t\t<td style=\"border-top: 1px solid #c1c1c1; border-bottom: 1px solid #c1c1c1; border-left: 1px solid #c1c1c1; border-right: 1px solid #c1c1c1\" align=\"left\" bgcolor=\"#EEEEEE\"><font face=\"Helvetica\" size=4>class 1</font></td>\n",
    "\t\t<td style=\"border-top: 1px solid #c1c1c1; border-bottom: 1px solid #c1c1c1; border-left: 1px solid #c1c1c1; border-right: 1px solid #c1c1c1\" align=\"left\" bgcolor=\"#EEEEEE\"><font face=\"Helvetica\" size=4>class 2</font></td>\n",
    "\t\t<td style=\"border-top: 1px solid #c1c1c1; border-bottom: 1px solid #c1c1c1; border-left: 1px solid #c1c1c1; border-right: 1px solid #c1c1c1\" align=\"left\" bgcolor=\"#EEEEEE\"><font face=\"Helvetica\" size=4>class 3</font></td>\n",
    "\t</tr>\n",
    "\t<tr>\n",
    "\t\t<td style=\"border-top: 1px solid #c1c1c1; border-bottom: 1px solid #c1c1c1; border-left: 1px solid #c1c1c1; border-right: 1px solid #c1c1c1\" rowspan=3 height=\"116\" align=\"center\" bgcolor=\"#F6F6F6\"><b><font face=\"Helvetica\" size=4>actual class</font></b></td>\n",
    "\t\t<td style=\"border-top: 1px solid #c1c1c1; border-bottom: 1px solid #c1c1c1; border-left: 1px solid #c1c1c1; border-right: 1px solid #c1c1c1\" align=\"left\" bgcolor=\"#EEEEEE\"><font face=\"Helvetica\" size=4>class 1</font></td>\n",
    "\t\t<td style=\"border-top: 1px solid #c1c1c1; border-bottom: 1px solid #c1c1c1; border-left: 1px solid #c1c1c1; border-right: 1px solid #c1c1c1\" align=\"left\" bgcolor=\"#99FFCC\"><font face=\"Helvetica\" size=4>True positives</font></td>\n",
    "\t\t<td style=\"border-top: 1px solid #c1c1c1; border-bottom: 1px solid #c1c1c1; border-left: 1px solid #c1c1c1; border-right: 1px solid #c1c1c1\" align=\"left\" bgcolor=\"#F6F6F6\"><font face=\"Helvetica\" size=4><br></font></td>\n",
    "\t\t<td style=\"border-top: 1px solid #c1c1c1; border-bottom: 1px solid #c1c1c1; border-left: 1px solid #c1c1c1; border-right: 1px solid #c1c1c1\" align=\"left\" bgcolor=\"#F6F6F6\"><font face=\"Helvetica\" size=4><br></font></td>\n",
    "\t</tr>\n",
    "\t<tr>\n",
    "\t\t<td style=\"border-top: 1px solid #c1c1c1; border-bottom: 1px solid #c1c1c1; border-left: 1px solid #c1c1c1; border-right: 1px solid #c1c1c1\" align=\"left\" bgcolor=\"#EEEEEE\"><font face=\"Helvetica\" size=4>class 2</font></td>\n",
    "\t\t<td style=\"border-top: 1px solid #c1c1c1; border-bottom: 1px solid #c1c1c1; border-left: 1px solid #c1c1c1; border-right: 1px solid #c1c1c1\" align=\"left\" bgcolor=\"#FFFFFF\"><font face=\"Helvetica\" size=4><br></font></td>\n",
    "\t\t<td style=\"border-top: 1px solid #c1c1c1; border-bottom: 1px solid #c1c1c1; border-left: 1px solid #c1c1c1; border-right: 1px solid #c1c1c1\" align=\"left\" bgcolor=\"#99FFCC\"><font face=\"Helvetica\" size=4>True positives</font></td>\n",
    "\t\t<td style=\"border-top: 1px solid #c1c1c1; border-bottom: 1px solid #c1c1c1; border-left: 1px solid #c1c1c1; border-right: 1px solid #c1c1c1\" align=\"left\" bgcolor=\"#FFFFFF\"><font face=\"Helvetica\" size=4><br></font></td>\n",
    "\t</tr>\n",
    "\t<tr>\n",
    "\t\t<td style=\"border-top: 1px solid #c1c1c1; border-bottom: 1px solid #c1c1c1; border-left: 1px solid #c1c1c1; border-right: 1px solid #c1c1c1\" align=\"left\" bgcolor=\"#EEEEEE\"><font face=\"Helvetica\" size=4>class 3</font></td>\n",
    "\t\t<td style=\"border-top: 1px solid #c1c1c1; border-bottom: 1px solid #c1c1c1; border-left: 1px solid #c1c1c1; border-right: 1px solid #c1c1c1\" align=\"left\" bgcolor=\"#F6F6F6\"><font face=\"Helvetica\" size=4><br></font></td>\n",
    "\t\t<td style=\"border-top: 1px solid #c1c1c1; border-bottom: 1px solid #c1c1c1; border-left: 1px solid #c1c1c1; border-right: 1px solid #c1c1c1\" align=\"left\" bgcolor=\"#F6F6F6\"><font face=\"Helvetica\" size=4><br></font></td>\n",
    "\t\t<td style=\"border-top: 1px solid #c1c1c1; border-bottom: 1px solid #c1c1c1; border-left: 1px solid #c1c1c1; border-right: 1px solid #c1c1c1\" align=\"left\" bgcolor=\"#99FFCC\"><font face=\"Helvetica\" size=4>True positives</font></td>\n",
    "\t</tr>\n",
    "</table>"
   ]
  },
  {
   "cell_type": "code",
   "execution_count": 26,
   "metadata": {},
   "outputs": [
    {
     "name": "stdout",
     "output_type": "stream",
     "text": [
      "Confusion Matrix of the LDA-classifier\n",
      "[[14  0  0]\n",
      " [ 1 17  0]\n",
      " [ 0  0 22]]\n"
     ]
    }
   ],
   "source": [
    "print('Confusion Matrix of the LDA-classifier')\n",
    "print(metrics.confusion_matrix(y_test, lda_clf.predict(X_test)))"
   ]
  },
  {
   "cell_type": "markdown",
   "metadata": {},
   "source": [
    "As we can see, one sample from class 2 was incorrectly labeled as class 1, from the perspective of class 1, this would be 1 \"False Negative\" or a \"False Postive\" from the perspective of class 2, respectively"
   ]
  },
  {
   "cell_type": "markdown",
   "metadata": {},
   "source": [
    "<br>"
   ]
  },
  {
   "cell_type": "markdown",
   "metadata": {},
   "source": [
    "<a id='SGD'></a>"
   ]
  },
  {
   "cell_type": "markdown",
   "metadata": {},
   "source": [
    "### Classification Stochastic Gradient Descent (SGD)"
   ]
  },
  {
   "cell_type": "markdown",
   "metadata": {},
   "source": [
    "[[back to top]](#Sections)"
   ]
  },
  {
   "cell_type": "markdown",
   "metadata": {},
   "source": [
    "Let us now compare the classification accuracy of the LDA classifier with a simple classification (we also use the probably not ideal default settings here) via stochastic gradient descent, an algorithm that minimizes a linear objective function.  \n",
    "More information about the `sklearn.linear_model.SGDClassifier` can be found [here](http://scikit-learn.org/stable/modules/generated/sklearn.linear_model.SGDClassifier.html)."
   ]
  },
  {
   "cell_type": "code",
   "execution_count": 27,
   "metadata": {},
   "outputs": [
    {
     "name": "stdout",
     "output_type": "stream",
     "text": [
      "\n",
      "Prediction accuracy for the training dataset\n",
      "100.00%\n",
      "\n",
      "Prediction accuracy for the test dataset\n",
      "94.44%\n",
      "\n",
      "Confusion Matrix of the SGD-classifier\n",
      "[[14  0  0]\n",
      " [ 1 17  0]\n",
      " [ 0  2 20]]\n"
     ]
    },
    {
     "name": "stderr",
     "output_type": "stream",
     "text": [
      "/srv/venv/lib/python3.6/site-packages/sklearn/linear_model/stochastic_gradient.py:84: FutureWarning: max_iter and tol parameters have been added in <class 'sklearn.linear_model.stochastic_gradient.SGDClassifier'> in 0.19. If both are left unset, they default to max_iter=5 and tol=None. If tol is not None, max_iter defaults to max_iter=1000. From 0.21, default max_iter will be 1000, and default tol will be 1e-3.\n",
      "  \"and default tol will be 1e-3.\" % type(self), FutureWarning)\n"
     ]
    }
   ],
   "source": [
    "from sklearn.linear_model import SGDClassifier\n",
    "\n",
    "sgd_clf = SGDClassifier()\n",
    "sgd_clf.fit(X_train, y_train)\n",
    "\n",
    "pred_train_sgd = sgd_clf.predict(X_train)\n",
    "pred_test_sgd = sgd_clf.predict(X_test)\n",
    "\n",
    "print('\\nPrediction accuracy for the training dataset')\n",
    "print('{:.2%}\\n'.format(metrics.accuracy_score(y_train, pred_train_sgd)))\n",
    "\n",
    "print('Prediction accuracy for the test dataset')\n",
    "print('{:.2%}\\n'.format(metrics.accuracy_score(y_test, pred_test_sgd)))\n",
    "\n",
    "print('Confusion Matrix of the SGD-classifier')\n",
    "print(metrics.confusion_matrix(y_test, sgd_clf.predict(X_test)))"
   ]
  },
  {
   "cell_type": "markdown",
   "metadata": {},
   "source": [
    "Quite impressively, we achieved a 100% prediction accuracy on the test dataset without any additional efforts of tweaking any parameters and settings."
   ]
  },
  {
   "cell_type": "markdown",
   "metadata": {},
   "source": [
    "### Decision Regions"
   ]
  },
  {
   "cell_type": "code",
   "execution_count": 28,
   "metadata": {},
   "outputs": [
    {
     "name": "stderr",
     "output_type": "stream",
     "text": [
      "/srv/venv/lib/python3.6/site-packages/sklearn/linear_model/stochastic_gradient.py:84: FutureWarning: max_iter and tol parameters have been added in <class 'sklearn.linear_model.stochastic_gradient.SGDClassifier'> in 0.19. If both are left unset, they default to max_iter=5 and tol=None. If tol is not None, max_iter defaults to max_iter=1000. From 0.21, default max_iter will be 1000, and default tol will be 1e-3.\n",
      "  \"and default tol will be 1e-3.\" % type(self), FutureWarning)\n"
     ]
    },
    {
     "data": {
      "image/png": "[encoded data removed]",
      "text/plain": [
       "<matplotlib.figure.Figure at 0x7f1d22f6be10>"
      ]
     },
     "metadata": {},
     "output_type": "display_data"
    }
   ],
   "source": [
    "sgd_clf2 = SGDClassifier()\n",
    "sgd_clf2.fit(X_train[:, :2], y_train)\n",
    "\n",
    "x_min = X_test[:, 0].min()  \n",
    "x_max = X_test[:, 0].max() \n",
    "y_min = X_test[:, 1].min() \n",
    "y_max = X_test[:, 1].max() \n",
    "\n",
    "step = 0.01\n",
    "X, Y = np.meshgrid(np.arange(x_min, x_max, step), np.arange(y_min, y_max, step))\n",
    "\n",
    "Z = sgd_clf2.predict(np.c_[X.ravel(), Y.ravel()])\n",
    "Z = Z.reshape(X.shape)\n",
    "\n",
    "# Plots decision regions\n",
    "plt.contourf(X, Y, Z)\n",
    "\n",
    "\n",
    "# Plots samples from training data set\n",
    "plt.scatter(X_train[:, 0], X_train[:, 1], c=y_train)\n",
    "plt.show()"
   ]
  },
  {
   "cell_type": "markdown",
   "metadata": {},
   "source": [
    "<br>\n",
    "<br>"
   ]
  },
  {
   "cell_type": "markdown",
   "metadata": {},
   "source": [
    "## Saving the processed datasets"
   ]
  },
  {
   "cell_type": "markdown",
   "metadata": {},
   "source": [
    "[[back to top]](#Sections)"
   ]
  },
  {
   "cell_type": "markdown",
   "metadata": {},
   "source": [
    "### Pickle"
   ]
  },
  {
   "cell_type": "markdown",
   "metadata": {},
   "source": [
    "[[back to top]](#Sections)"
   ]
  },
  {
   "cell_type": "markdown",
   "metadata": {},
   "source": [
    "The in-built [`pickle`](https://docs.python.org/3.4/library/pickle.html) module is a convenient tool in Python's standard library to save Python objects in byte format. This allows us, for example, to save our NumPy arrays and classifiers so that we can load them in a later or different Python session to continue working with our data, e.g., to train a classifier."
   ]
  },
  {
   "cell_type": "code",
   "execution_count": 29,
   "metadata": {},
   "outputs": [],
   "source": [
    "# export objects via pickle\n",
    "\n",
    "import pickle\n",
    "\n",
    "pickle_out = open('standardized_data.pkl', 'wb')\n",
    "pickle.dump([X_train, X_test, y_train, y_test], pickle_out)\n",
    "pickle_out.close()\n",
    "\n",
    "pickle_out = open('classifiers.pkl', 'wb')\n",
    "pickle.dump([lda_clf, sgd_clf], pickle_out)\n",
    "pickle_out.close()"
   ]
  },
  {
   "cell_type": "code",
   "execution_count": 30,
   "metadata": {},
   "outputs": [
    {
     "name": "stdout",
     "output_type": "stream",
     "text": [
      "Confusion Matrix of the SGD-classifier\n",
      "[[14  0  0]\n",
      " [ 1 17  0]\n",
      " [ 0  2 20]]\n"
     ]
    }
   ],
   "source": [
    "# import objects via pickle\n",
    "\n",
    "my_object_file = open('standardized_data.pkl', 'rb')\n",
    "X_train, X_test, y_train, y_test = pickle.load(my_object_file)\n",
    "my_object_file.close()\n",
    "\n",
    "my_object_file = open('classifiers.pkl', 'rb')\n",
    "lda_clf, sgd_clf = pickle.load(my_object_file)\n",
    "my_object_file.close()\n",
    "\n",
    "print('Confusion Matrix of the SGD-classifier')\n",
    "print(metrics.confusion_matrix(y_test, sgd_clf.predict(X_test)))"
   ]
  },
  {
   "cell_type": "markdown",
   "metadata": {},
   "source": [
    "<br>"
   ]
  },
  {
   "cell_type": "markdown",
   "metadata": {},
   "source": [
    "### Comma-Separated-Values"
   ]
  },
  {
   "cell_type": "markdown",
   "metadata": {},
   "source": [
    "[[back to top]](#Sections)"
   ]
  },
  {
   "cell_type": "markdown",
   "metadata": {},
   "source": [
    "And it is also always a good idea to save your data in common text formats, such as the CSV format that we started with. But first, let us add back the class labels to the front column of the test and training data sets."
   ]
  },
  {
   "cell_type": "code",
   "execution_count": 31,
   "metadata": {},
   "outputs": [],
   "source": [
    "training_data = np.hstack((y_train.reshape(y_train.shape[0], 1), X_train))\n",
    "test_data = np.hstack((y_test.reshape(y_test.shape[0], 1), X_test))"
   ]
  },
  {
   "cell_type": "markdown",
   "metadata": {},
   "source": [
    "Now, we can save our test and training datasets as 2 separate CSV files using the [`numpy.savetxt`](http://docs.scipy.org/doc/numpy/reference/generated/numpy.savetxt.html) function."
   ]
  },
  {
   "cell_type": "code",
   "execution_count": 32,
   "metadata": {},
   "outputs": [],
   "source": [
    "np.savetxt('./training_set.csv', training_data, delimiter=',')\n",
    "np.savetxt('./test_set.csv', test_data, delimiter=',')"
   ]
  },
  {
   "cell_type": "code",
   "execution_count": null,
   "metadata": {},
   "outputs": [],
   "source": []
  },
  {
   "cell_type": "code",
   "execution_count": null,
   "metadata": {},
   "outputs": [],
   "source": []
  }
 ],
 "metadata": {
  "kernelspec": {
   "display_name": "Python 3",
   "language": "python",
   "name": "python3"
  },
  "language_info": {
   "codemirror_mode": {
    "name": "ipython",
    "version": 3
   },
   "file_extension": ".py",
   "mimetype": "text/x-python",
   "name": "python",
   "nbconvert_exporter": "python",
   "pygments_lexer": "ipython3",
   "version": "3.6.3"
  }
 },
 "nbformat": 4,
 "nbformat_minor": 1
}
