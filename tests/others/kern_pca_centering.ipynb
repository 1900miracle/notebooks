{
 "cells": [
  {
   "cell_type": "code",
   "execution_count": 1,
   "metadata": {},
   "outputs": [],
   "source": [
    "%load_ext watermark"
   ]
  },
  {
   "cell_type": "code",
   "execution_count": 2,
   "metadata": {},
   "outputs": [
    {
     "name": "stdout",
     "output_type": "stream",
     "text": [
      "Sebastian Raschka 2018-01-28 \n",
      "\n",
      "CPython 3.6.3\n",
      "IPython 6.2.1\n"
     ]
    }
   ],
   "source": [
    "%watermark -d -a \"Sebastian Raschka\" -v"
   ]
  },
  {
   "cell_type": "markdown",
   "metadata": {},
   "source": [
    "<br>\n",
    "<br>"
   ]
  },
  {
   "cell_type": "markdown",
   "metadata": {},
   "source": [
    "# Gaussian Radius Basis Function Kernel PCA with and without Kernel matrix centering"
   ]
  },
  {
   "cell_type": "markdown",
   "metadata": {},
   "source": [
    "### Sections"
   ]
  },
  {
   "cell_type": "markdown",
   "metadata": {},
   "source": [
    "- [Example Data](#Example-Data)\n",
    "- [With Kernel Matrix Centering](#With-Kernel-Matrix-Centering)\n",
    "- [Without Kernel Matrix Centering](#Without-Kernel-Matrix-Centering)"
   ]
  },
  {
   "cell_type": "markdown",
   "metadata": {},
   "source": [
    "<br>\n",
    "<br>"
   ]
  },
  {
   "cell_type": "markdown",
   "metadata": {},
   "source": [
    "# Example data"
   ]
  },
  {
   "cell_type": "markdown",
   "metadata": {},
   "source": [
    "[[back to top](#Sections)]"
   ]
  },
  {
   "cell_type": "code",
   "execution_count": 3,
   "metadata": {},
   "outputs": [],
   "source": [
    "%matplotlib inline"
   ]
  },
  {
   "cell_type": "code",
   "execution_count": 4,
   "metadata": {},
   "outputs": [
    {
     "data": {
      "image/png": "[encoded data removed]",
      "text/plain": [
       "<matplotlib.figure.Figure at 0x7fbae384f438>"
      ]
     },
     "metadata": {},
     "output_type": "display_data"
    }
   ],
   "source": [
    "import matplotlib.pyplot as plt\n",
    "\n",
    "from sklearn.datasets import make_moons\n",
    "X, y = make_moons(n_samples=100, random_state=123)\n",
    "\n",
    "plt.figure(figsize=(8,6))\n",
    "\n",
    "plt.scatter(X[y==0, 0], X[y==0, 1], color='red', alpha=0.5)\n",
    "plt.scatter(X[y==1, 0], X[y==1, 1], color='blue', alpha=0.5)\n",
    "\n",
    "plt.title('A nonlinear 2Ddataset')\n",
    "plt.ylabel('y coordinate')\n",
    "plt.xlabel('x coordinate')\n",
    "\n",
    "plt.show()"
   ]
  },
  {
   "cell_type": "markdown",
   "metadata": {},
   "source": [
    "<br>\n",
    "<br>"
   ]
  },
  {
   "cell_type": "markdown",
   "metadata": {},
   "source": [
    "# With Kernel Matrix Centering"
   ]
  },
  {
   "cell_type": "markdown",
   "metadata": {},
   "source": [
    "[[back to top](#Sections)]"
   ]
  },
  {
   "cell_type": "code",
   "execution_count": 5,
   "metadata": {},
   "outputs": [],
   "source": [
    "from scipy.spatial.distance import pdist, squareform\n",
    "from scipy import exp\n",
    "from scipy.linalg import eigh\n",
    "import numpy as np\n",
    "\n",
    "def stepwise_kpca(X, gamma, n_components):\n",
    "    \"\"\"\n",
    "    Implementation of a RBF kernel PCA.\n",
    "    \n",
    "    Arguments:\n",
    "        X: A MxN dataset as NumPy array where the samples are stored as rows (M),\n",
    "           and the attributes defined as columns (N).\n",
    "        gamma: A free parameter (coefficient) for the RBF kernel.\n",
    "        n_components: The number of components to be returned.\n",
    "    \n",
    "    \"\"\"\n",
    "    # Calculating the squared Euclidean distances for every pair of points\n",
    "    # in the MxN dimensional dataset.\n",
    "    sq_dists = pdist(X, 'sqeuclidean')\n",
    "\n",
    "    # Converting the pairwise distances into a symmetric MxM matrix.\n",
    "    mat_sq_dists = squareform(sq_dists)\n",
    "\n",
    "    # Computing the MxM kernel matrix.\n",
    "    K = exp(-gamma * mat_sq_dists)\n",
    "\n",
    "    # Centering the symmetric NxN kernel matrix.\n",
    "    N = K.shape[0]\n",
    "    one_n = np.ones((N,N)) / N\n",
    "    K = K - one_n.dot(K) - K.dot(one_n) + one_n.dot(K).dot(one_n)\n",
    "\n",
    "    # Obtaining eigenvalues in descending order with corresponding \n",
    "    # eigenvectors from the symmetric matrix.\n",
    "    eigvals, eigvecs = eigh(K)\n",
    "\n",
    "    # Obtaining the i eigenvectors that corresponds to the i highest eigenvalues.\n",
    "    X_pc = np.column_stack((eigvecs[:,-i] for i in range(1,n_components+1)))\n",
    "    \n",
    "    return X_pc"
   ]
  },
  {
   "cell_type": "code",
   "execution_count": 6,
   "metadata": {},
   "outputs": [
    {
     "data": {
      "image/png": "[encoded data removed]",
      "text/plain": [
       "<matplotlib.figure.Figure at 0x7fbae13dd2e8>"
      ]
     },
     "metadata": {},
     "output_type": "display_data"
    }
   ],
   "source": [
    "import numpy as np\n",
    "\n",
    "X_pc = stepwise_kpca(X, gamma=15, n_components=1)\n",
    "\n",
    "plt.figure(figsize=(8,6))\n",
    "plt.scatter(X_pc[y==0, 0], np.zeros((50)), color='red', alpha=0.5)\n",
    "plt.scatter(X_pc[y==1, 0], np.zeros((50)), color='blue', alpha=0.5)\n",
    "\n",
    "plt.title('First principal component after RBF Kernel PCA')\n",
    "plt.text(-0.17, 0.007, 'gamma = 15', fontsize=12)\n",
    "plt.xlabel('PC1')\n",
    "plt.show()"
   ]
  },
  {
   "cell_type": "markdown",
   "metadata": {},
   "source": [
    "<br>\n",
    "<br>"
   ]
  },
  {
   "cell_type": "markdown",
   "metadata": {},
   "source": [
    "# Without Kernel Matrix Centering"
   ]
  },
  {
   "cell_type": "markdown",
   "metadata": {},
   "source": [
    "[[back to top](#Sections)]"
   ]
  },
  {
   "cell_type": "code",
   "execution_count": 7,
   "metadata": {},
   "outputs": [],
   "source": [
    "from scipy.spatial.distance import pdist, squareform\n",
    "from scipy import exp\n",
    "from scipy.linalg import eigh\n",
    "\n",
    "def stepwise_kpca_no_center(X, gamma, n_components):\n",
    "    \"\"\"\n",
    "    Implementation of a RBF kernel PCA.\n",
    "    \n",
    "    Arguments:\n",
    "        X: A MxN dataset as NumPy array where the samples are stored as rows (M),\n",
    "           and the attributes defined as columns (N).\n",
    "        gamma: A free parameter (coefficient) for the RBF kernel.\n",
    "        n_components: The number of components to be returned.\n",
    "    \n",
    "    \"\"\"\n",
    "    # Calculating the squared Euclidean distances for every pair of points\n",
    "    # in the MxN dimensional dataset.\n",
    "    sq_dists = pdist(X, 'sqeuclidean')\n",
    "\n",
    "    # Converting the pairwise distances into a symmetric MxM matrix.\n",
    "    mat_sq_dists = squareform(sq_dists)\n",
    "\n",
    "    # Computing the MxM kernel matrix.\n",
    "    K = exp(-gamma * mat_sq_dists)\n",
    "\n",
    "    # Obtaining eigenvalues in descending order with corresponding \n",
    "    # eigenvectors from the symmetric matrix.\n",
    "    eigvals, eigvecs = eigh(K)\n",
    "\n",
    "    # Obtaining the i eigenvectors that corresponds to the i highest eigenvalues.\n",
    "    X_pc = np.column_stack((eigvecs[:,-i] for i in range(1,n_components+1)))\n",
    "    \n",
    "    return X_pc"
   ]
  },
  {
   "cell_type": "code",
   "execution_count": 8,
   "metadata": {},
   "outputs": [
    {
     "data": {
      "image/png": "[encoded data removed]",
      "text/plain": [
       "<matplotlib.figure.Figure at 0x7fbae12f0400>"
      ]
     },
     "metadata": {},
     "output_type": "display_data"
    }
   ],
   "source": [
    "import numpy as np\n",
    "\n",
    "X_pc = stepwise_kpca_no_center(X, gamma=15, n_components=1)\n",
    "\n",
    "plt.figure(figsize=(8,6))\n",
    "plt.scatter(X_pc[y==0, 0], np.zeros((50)), color='red', alpha=0.5)\n",
    "plt.scatter(X_pc[y==1, 0], np.zeros((50)), color='blue', alpha=0.5)\n",
    "\n",
    "plt.title('First principal component after RBF Kernel PCA')\n",
    "plt.text(0.02, 0.007, 'gamma = 15', fontsize=12)\n",
    "plt.xlabel('PC1')\n",
    "plt.show()"
   ]
  },
  {
   "cell_type": "code",
   "execution_count": null,
   "metadata": {},
   "outputs": [],
   "source": []
  },
  {
   "cell_type": "code",
   "execution_count": null,
   "metadata": {},
   "outputs": [],
   "source": []
  },
  {
   "cell_type": "code",
   "execution_count": null,
   "metadata": {},
   "outputs": [],
   "source": [
    "tested; Gopal"
   ]
  }
 ],
 "metadata": {
  "kernelspec": {
   "display_name": "Python 3",
   "language": "python",
   "name": "python3"
  },
  "language_info": {
   "codemirror_mode": {
    "name": "ipython",
    "version": 3
   },
   "file_extension": ".py",
   "mimetype": "text/x-python",
   "name": "python",
   "nbconvert_exporter": "python",
   "pygments_lexer": "ipython3",
   "version": "3.6.3"
  }
 },
 "nbformat": 4,
 "nbformat_minor": 1
}
