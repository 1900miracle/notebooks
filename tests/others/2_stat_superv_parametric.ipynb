{
 "cells": [
  {
   "cell_type": "markdown",
   "metadata": {},
   "source": [
    "*Sebastian Raschka*  \n",
    "last modified: 03/31/2014"
   ]
  },
  {
   "cell_type": "markdown",
   "metadata": {},
   "source": [
    "<hr>\n",
    "I am really looking forward to your comments and suggestions to improve and extend this tutorial! Just send me a quick note   \n",
    "via Twitter: [@rasbt](https://twitter.com/rasbt)  \n",
    "or Email: [bluewoodtree@gmail.com](mailto:bluewoodtree@gmail.com)\n",
    "<hr>"
   ]
  },
  {
   "cell_type": "markdown",
   "metadata": {},
   "source": [
    "### Problem Category\n",
    "- Statistical Pattern Recognition   \n",
    "- Supervised Learning  \n",
    "- Parametric Learning  \n",
    "- Bayes Decision Theory  \n",
    "- Univariate data  \n",
    "- 2-class problem\n",
    "- different variances\n",
    "- Gaussian model (2 parameters)\n",
    "- No Risk function\n",
    "<hr>"
   ]
  },
  {
   "cell_type": "markdown",
   "metadata": {},
   "source": [
    "<p><a name=\"sections\"></a>\n",
    "<br></p>\n",
    "\n",
    "# Sections\n",
    "\n",
    "\n",
    "<p>&#8226; <a href=\"#given\">Given information</a><br>\n",
    "&#8226; <a href=\"#deriving_db\">Deriving the decision boundary</a><br>\n",
    "&#8226; <a href=\"#plotting_db\">Plotting the class conditional densities, posterior probabilities, and decision boundary</a><br>\n",
    "&#8226; <a href=\"#classify_rand\">Classifying some random example data</a><br>\n",
    "&#8226; <a href=\"#emp_err\">Calculating the empirical error rate</a><br>\n",
    "\n",
    "  \n",
    "\n",
    "  \n",
    "  \n",
    "\n",
    "\n",
    "\n",
    "<hr>"
   ]
  },
  {
   "cell_type": "markdown",
   "metadata": {},
   "source": [
    "<p><a name=\"given\"></a>\n",
    "<br></p>\n",
    "\n",
    "## Given information:\n",
    "\n",
    "[<a href=\"#sections\">back to top</a>] <br>\n",
    "\n",
    "\n",
    "\n",
    "####model: continuous univariate normal (Gaussian) model for the class-conditional densities\n",
    "\n",
    "\n",
    "$ p(x | \\omega_j) \\sim N(\\mu|\\sigma^2) $\n",
    "\n",
    "$ p(x | \\omega_j) \\sim \\frac{1}{\\sqrt{2\\pi\\sigma^2}} \\exp{ \\bigg[-\\frac{1}{2}\\bigg( \\frac{x-\\mu}{\\sigma}\\bigg)^2 \\bigg] } $\n",
    "\n",
    "\n",
    "####Prior probabilities:\n",
    "\n",
    "\n",
    "$ P(\\omega_1) = P(\\omega_2) = 0.5 $\n",
    "\n",
    "#### Variances of the sample distributions\n",
    "\n",
    "$ \\sigma_1^2 = 4, \\quad \\sigma_2^2 = 1 $\n",
    "\n",
    "#### Means of the sample distributions\n",
    "\n",
    "$ \\mu_1 = 4, \\quad \\mu_2 = 10 $\n",
    "\n",
    "\n",
    "<br>"
   ]
  },
  {
   "cell_type": "markdown",
   "metadata": {},
   "source": [
    "<p><a name=\"deriving_db\"></a>\n",
    "<br></p>\n",
    "\n",
    "## Deriving the decision boundary\n",
    "[<a href=\"#sections\">back to top</a>] <br>\n",
    "### Bayes' Rule:\n",
    "\n",
    "\n",
    "$ P(\\omega_j|x) = \\frac{p(x|\\omega_j) * P(\\omega_j)}{p(x)} $\n"
   ]
  },
  {
   "cell_type": "markdown",
   "metadata": {},
   "source": [
    "###Bayes' Decision Rule:\n",
    "\n",
    "Decide $ \\omega_1 $ if $ P(\\omega_1|x) > P(\\omega_2|x) $ else decide $ \\omega_2 $.\n",
    "<br>\n",
    "\n",
    "\n",
    "\\begin{equation}\n",
    "\\begin{aligned}\n",
    "&\\Rightarrow \\frac{p(x|\\omega_1) * P(\\omega_1)}{p(x)} > \\frac{p(x|\\omega_2) * P(\\omega_2)}{p(x)}\n",
    "\\end{aligned}\n",
    "\\end{equation} "
   ]
  },
  {
   "cell_type": "markdown",
   "metadata": {},
   "source": [
    "###Bayes' Decision Rule:\n",
    "\n",
    "Decide $ \\omega_1 $ if $ P(\\omega_1|x) > P(\\omega_2|x) $ else decide $ \\omega_2 $.\n",
    "<br>\n",
    "\n",
    "\n",
    "\n",
    "$ \\Rightarrow \\frac{p(x|\\omega_1) * P(\\omega_1)}{p(x)} > \\frac{p(x|\\omega_2) * P(\\omega_2)}{p(x)} $\n",
    "\n",
    "\n",
    "We can drop $ p(x) $ since it is just a scale factor.\n",
    "\n",
    "$ \\Rightarrow P(x|\\omega_1) * P(\\omega_1) > p(x|\\omega_2) * P(\\omega_2) $\n",
    "\n",
    "$ \\Rightarrow \\frac{p(x|\\omega_1)}{p(x|\\omega_2)} > \\frac{P(\\omega_2)}{P(\\omega_1)} $\n",
    "\n",
    "$ \\Rightarrow \\frac{p(x|\\omega_1)}{p(x|\\omega_2)} > \\frac{0.5}{0.5} $\n",
    "\n",
    "$ \\Rightarrow \\frac{p(x|\\omega_1)}{p(x|\\omega_2)} > 1 $\n",
    "\n",
    "$ \\Rightarrow \\frac{1}{\\sqrt{2\\pi\\sigma_1^2}} \\exp{ \\bigg[-\\frac{1}{2}\\bigg( \\frac{x-\\mu_1}{\\sigma_1}\\bigg)^2 \\bigg] } > \\frac{1}{\\sqrt{2\\pi\\sigma_2^2}} \\exp{ \\bigg[-\\frac{1}{2}\\bigg( \\frac{x-\\mu_2}{\\sigma_2}\\bigg)^2 \\bigg] } \\quad \\bigg| \\quad ln $\n",
    "\n"
   ]
  },
  {
   "cell_type": "markdown",
   "metadata": {},
   "source": [
    "$ \\Rightarrow ln(1) - ln\\bigg({\\sqrt{2\\pi\\sigma_1^2}}\\bigg) -\\frac{1}{2}\\bigg( \\frac{x-\\mu_1}{\\sigma_1}\\bigg)^2  > ln(1) - ln\\bigg({{\\sqrt{2\\pi\\sigma_2^2}}}\\bigg) -\\frac{1}{2}\\bigg( \\frac{x-\\mu_2}{\\sigma_2}\\bigg)^2 \\quad \\bigg| \\quad \\sigma_1^2 = 4, \\quad \\sigma_2^2 = 1,\\quad \\mu_1 = 4, \\quad \\mu_2 = 10 $\n"
   ]
  },
  {
   "cell_type": "markdown",
   "metadata": {},
   "source": [
    "$ \\Rightarrow -ln({\\sqrt{2\\pi4}}) -\\frac{1}{2}\\bigg( \\frac{x-4}{2}\\bigg)^2  > -ln({{\\sqrt{2\\pi}}}) -\\frac{1}{2}(x-10)^2 $\n",
    "\n",
    "$ \\Rightarrow -\\frac{1}{2} ln({2\\pi}) - ln(2) -\\frac{1}{8} (x-4)^2  > -\\frac{1}{2}ln(2\\pi) -\\frac{1}{2}(x-10)^2 \\quad \\bigg| \\; \\times\\; 2 $\n",
    "\n",
    "$ \\Rightarrow -ln({2\\pi}) - 2ln(2) - \\frac{1}{4}(x-4)^2  > -ln(2\\pi) - (x-10)^2 \\quad \\bigg| \\; + ln(2\\pi) $\n",
    "\n",
    "$ \\Rightarrow -4ln(4) - (x-4)^2  >- 4(x-10)^2 $\n",
    "\n",
    "$ \\Rightarrow -ln(4) - \\frac{1}{4}(x-4)^2  > -(x-10)^2 \\quad \\big| \\; \\times \\; 4 $\n",
    "\n",
    "$ \\Rightarrow -8ln(2) - x^2 + 8x - 16  > - 4x^2 + 80x - 400 $\n",
    "\n",
    "$ \\Rightarrow 3x^2 - 72x + 384 -8ln(2) > 0 $\n",
    "\n",
    "$ \\Rightarrow x < 7.775 \\quad and \\quad x > 16.225 $"
   ]
  },
  {
   "cell_type": "markdown",
   "metadata": {},
   "source": [
    "<p><a name=\"plotting_db\"></a>\n",
    "<br></p>\n",
    "\n",
    "## Plotting the class conditional densities, posterior probabilities, and decision boundary\n",
    "\n",
    "[<a href=\"#sections\">back to top</a>] <br>"
   ]
  },
  {
   "cell_type": "code",
   "execution_count": 1,
   "metadata": {},
   "outputs": [
    {
     "name": "stdout",
     "output_type": "stream",
     "text": [
      "Populating the interactive namespace from numpy and matplotlib\n"
     ]
    },
    {
     "data": {
      "image/png": "[encoded data removed]",
      "text/plain": [
       "<matplotlib.figure.Figure at 0x7fada409b940>"
      ]
     },
     "metadata": {},
     "output_type": "display_data"
    }
   ],
   "source": [
    "%pylab inline\n",
    "\n",
    "import numpy as np\n",
    "from matplotlib import pyplot as plt\n",
    "\n",
    "def pdf(x, mu, sigma):\n",
    "    \"\"\"\n",
    "    Calculates the normal distribution's probability density \n",
    "    function (PDF).  \n",
    "        \n",
    "    \"\"\"\n",
    "    term1 = 1.0 / ( math.sqrt(2*np.pi) * sigma )\n",
    "    term2 = np.exp( -0.5 * ( (x-mu)/sigma )**2 )\n",
    "    return term1 * term2\n",
    "\n",
    "# generating some sample data\n",
    "x = np.arange(-100, 100, 0.05)\n",
    "\n",
    "# probability density functions\n",
    "pdf1 = pdf(x, mu=4, sigma=4)\n",
    "pdf2 = pdf(x, mu=10, sigma=1)\n",
    "\n",
    "# Class conditional densities (likelihoods)\n",
    "plt.plot(x, pdf1)\n",
    "plt.plot(x, pdf2)\n",
    "plt.title('Class conditional densities (likelihoods)')\n",
    "plt.ylabel('p(x)')\n",
    "plt.xlabel('random variable x')\n",
    "plt.legend(['p(x|w_1) ~ N(4,4)', 'p(x|w_2) ~ N(10,1)'], loc='upper left')\n",
    "plt.ylim([0,0.5])\n",
    "plt.xlim([-15,20])\n",
    "plt.show()"
   ]
  },
  {
   "cell_type": "code",
   "execution_count": 2,
   "metadata": {},
   "outputs": [
    {
     "data": {
      "image/png": "[encoded data removed]",
      "text/plain": [
       "<matplotlib.figure.Figure at 0x7fad72a47208>"
      ]
     },
     "metadata": {},
     "output_type": "display_data"
    }
   ],
   "source": [
    "def posterior(likelihood, prior):\n",
    "    \"\"\"\n",
    "    Calculates the posterior probability (after Bayes Rule) without\n",
    "    the scale factor p(x) (=evidence).  \n",
    "        \n",
    "    \"\"\"\n",
    "    return likelihood * prior\n",
    "\n",
    "# probability density functions\n",
    "posterior1 = posterior(pdf(x, mu=4, sigma=4), 0.5)\n",
    "posterior2 = posterior(pdf(x, mu=10, sigma=1), 0.5)\n",
    "\n",
    "# Class conditional densities (likelihoods)\n",
    "plt.plot(x, posterior1)\n",
    "plt.plot(x, posterior2)\n",
    "plt.title('Posterior Probabilities w. Decision Boundaries')\n",
    "plt.ylabel('P(w)')\n",
    "plt.xlabel('random variable x')\n",
    "plt.legend(['P(w_1|x)', 'p(w_2|X)'], loc='upper left')\n",
    "plt.ylim([0,0.25])\n",
    "plt.xlim([-15,20])\n",
    "plt.axvline(7.775, color='r', alpha=0.8, linestyle=':', linewidth=2)\n",
    "plt.axvline(16.225, color='r', alpha=0.8, linestyle=':', linewidth=2)\n",
    "plt.annotate('R2', xy=(10, 0.2), xytext=(10, 0.22))\n",
    "plt.annotate('R1', xy=(4, 0.2), xytext=(4, 0.22))\n",
    "plt.annotate('R1', xy=(17, 0.2), xytext=(17.5, 0.22))\n",
    "plt.show()"
   ]
  },
  {
   "cell_type": "markdown",
   "metadata": {},
   "source": [
    "<p><a name=\"classify_rand\"></a>\n",
    "<br></p>\n",
    "\n",
    "## Classifying some random example data\n",
    "\n",
    "[<a href=\"#sections\">back to top</a>] <br>"
   ]
  },
  {
   "cell_type": "code",
   "execution_count": 3,
   "metadata": {},
   "outputs": [
    {
     "data": {
      "image/png": "[encoded data removed]",
      "text/plain": [
       "<matplotlib.figure.Figure at 0x7fad72a41390>"
      ]
     },
     "metadata": {},
     "output_type": "display_data"
    }
   ],
   "source": [
    "# Parameters\n",
    "mu_1 = 4\n",
    "mu_2 = 10\n",
    "sigma_1_sqr = 4\n",
    "sigma_2_sqr = 1\n",
    "\n",
    "# Generating 10 random samples drawn from a Normal Distribution for class 1 & 2\n",
    "x1_samples = sigma_1_sqr**0.5 * np.random.randn(20) + mu_1\n",
    "x2_samples = sigma_1_sqr**0.5 * np.random.randn(20) + mu_2\n",
    "y = [0 for i in range(20)]\n",
    "\n",
    "# Plotting sample data with a decision boundary\n",
    "\n",
    "plt.scatter(x1_samples, y, marker='o', color='green', s=40, alpha=0.5)\n",
    "plt.scatter(x2_samples, y, marker='^', color='blue', s=40, alpha=0.5)\n",
    "plt.title('Classifying random example data from 2 classes')\n",
    "plt.ylabel('P(x)')\n",
    "plt.xlabel('random variable x')\n",
    "plt.legend(['w_1', 'w_2'], loc='upper right')\n",
    "plt.ylim([-0.1,0.1])\n",
    "plt.xlim([0,20])\n",
    "plt.axvline(7.775, color='r', alpha=0.8, linestyle=':', linewidth=2)\n",
    "plt.axvline(16.225, color='r', alpha=0.8, linestyle=':', linewidth=2)\n",
    "plt.annotate('R2', xy=(10, 0.03), xytext=(10, 0.03))\n",
    "plt.annotate('R1', xy=(4, 0.03), xytext=(4, 0.03))\n",
    "plt.annotate('R1', xy=(17, 0.03), xytext=(17.5, 0.03))\n",
    "plt.show()"
   ]
  },
  {
   "cell_type": "markdown",
   "metadata": {},
   "source": [
    "<p><a name=\"emp_err\"></a>\n",
    "<br></p>\n",
    "\n",
    "## Calculating the empirical error rate\n",
    "\n",
    "[<a href=\"#sections\">back to top</a>] <br>"
   ]
  },
  {
   "cell_type": "code",
   "execution_count": 4,
   "metadata": {},
   "outputs": [
    {
     "name": "stdout",
     "output_type": "stream",
     "text": [
      "Empirical Error: 0.0%\n"
     ]
    }
   ],
   "source": [
    "w1_as_w2, w2_as_w1 = 0, 0\n",
    "for x1,x2 in zip(x1_samples, x2_samples):\n",
    "    if x1 > 7.775 and x1 < 16.225:\n",
    "        w1_as_w2 += 1\n",
    "    if x2 <= 7.775 and x2 >= 16.225:\n",
    "        w2_as_w1 += 1\n",
    "  \n",
    "emp_err =  (w1_as_w2 + w2_as_w1) / float(len(x1_samples) + len(x2_samples))\n",
    "    \n",
    "print('Empirical Error: {}%'.format(emp_err * 100))"
   ]
  },
  {
   "cell_type": "code",
   "execution_count": null,
   "metadata": {},
   "outputs": [],
   "source": []
  },
  {
   "cell_type": "code",
   "execution_count": null,
   "metadata": {},
   "outputs": [],
   "source": []
  },
  {
   "cell_type": "code",
   "execution_count": null,
   "metadata": {},
   "outputs": [],
   "source": [
    "test complete; Gopal"
   ]
  }
 ],
 "metadata": {
  "kernelspec": {
   "display_name": "Python 3",
   "language": "python",
   "name": "python3"
  },
  "language_info": {
   "codemirror_mode": {
    "name": "ipython",
    "version": 3
   },
   "file_extension": ".py",
   "mimetype": "text/x-python",
   "name": "python",
   "nbconvert_exporter": "python",
   "pygments_lexer": "ipython3",
   "version": "3.6.3"
  }
 },
 "nbformat": 4,
 "nbformat_minor": 1
}
