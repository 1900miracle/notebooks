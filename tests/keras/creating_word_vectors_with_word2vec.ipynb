{
 "cells": [
  {
   "cell_type": "markdown",
   "metadata": {},
   "source": [
    "# Creating Word Vectors with word2vec"
   ]
  },
  {
   "cell_type": "markdown",
   "metadata": {},
   "source": [
    "In this notebook, we create word vectors from a corpus of public-domain books, a selection from [Project Gutenberg](https://www.gutenberg.org/)."
   ]
  },
  {
   "cell_type": "code",
   "execution_count": 1,
   "metadata": {},
   "outputs": [
    {
     "name": "stderr",
     "output_type": "stream",
     "text": [
      "WARNING (theano.tensor.blas): Using NumPy C-API based implementation for BLAS functions.\n",
      "Using TensorFlow backend.\n",
      "/srv/venv/lib/python3.6/site-packages/tensorflow/python/util/tf_inspect.py:45: DeprecationWarning: inspect.getargspec() is deprecated, use inspect.signature() or inspect.getfullargspec()\n",
      "  if d.decorator_argspec is not None), _inspect.getargspec(target))\n"
     ]
    },
    {
     "name": "stdout",
     "output_type": "stream",
     "text": [
      "Gopala KR \n",
      "last updated: 2018-02-03 \n",
      "\n",
      "CPython 3.6.3\n",
      "IPython 6.2.1\n",
      "\n",
      "watermark 1.6.0\n",
      "numpy 1.13.1\n",
      "pandas 0.20.3\n",
      "matplotlib 2.0.2\n",
      "nltk 3.2.5\n",
      "sklearn 0.19.0\n",
      "tensorflow 1.3.0\n",
      "theano 1.0.1\n",
      "mxnet 1.0.0\n",
      "chainer 3.3.0\n",
      "seaborn 0.8.1\n",
      "keras 2.1.3\n",
      "tflearn n\u0007\n",
      "bokeh 0.12.13\n",
      "gensim 3.3.0\n"
     ]
    },
    {
     "name": "stderr",
     "output_type": "stream",
     "text": [
      "/srv/venv/lib/python3.6/site-packages/scipy/sparse/sparsetools.py:20: DeprecationWarning: `scipy.sparse.sparsetools` is deprecated!\n",
      "scipy.sparse.sparsetools is a private module for scipy.sparse, and should not be used.\n",
      "  _deprecated()\n"
     ]
    }
   ],
   "source": [
    "#load watermark\n",
    "%load_ext watermark\n",
    "%watermark -a 'Gopala KR' -u -d -v -p watermark,numpy,pandas,matplotlib,nltk,sklearn,tensorflow,theano,mxnet,chainer,seaborn,keras,tflearn,bokeh,gensim\n"
   ]
  },
  {
   "cell_type": "markdown",
   "metadata": {},
   "source": [
    "#### Load dependencies"
   ]
  },
  {
   "cell_type": "code",
   "execution_count": 2,
   "metadata": {},
   "outputs": [],
   "source": [
    "import nltk\n",
    "from nltk import word_tokenize, sent_tokenize\n",
    "import gensim\n",
    "from gensim.models.word2vec import Word2Vec\n",
    "from sklearn.manifold import TSNE\n",
    "import pandas as pd\n",
    "from bokeh.io import output_notebook\n",
    "from bokeh.plotting import show, figure\n",
    "%matplotlib inline"
   ]
  },
  {
   "cell_type": "code",
   "execution_count": 3,
   "metadata": {},
   "outputs": [
    {
     "name": "stdout",
     "output_type": "stream",
     "text": [
      "[nltk_data] Downloading package punkt to /home/jovyan/nltk_data...\n",
      "[nltk_data]   Package punkt is already up-to-date!\n"
     ]
    },
    {
     "data": {
      "text/plain": [
       "True"
      ]
     },
     "execution_count": 3,
     "metadata": {},
     "output_type": "execute_result"
    }
   ],
   "source": [
    "nltk.download('punkt') # English-language sentence tokenizer (not all periods end sentences; not all sentences start with a capital letter)"
   ]
  },
  {
   "cell_type": "markdown",
   "metadata": {},
   "source": [
    "#### Load data"
   ]
  },
  {
   "cell_type": "code",
   "execution_count": 4,
   "metadata": {},
   "outputs": [
    {
     "name": "stdout",
     "output_type": "stream",
     "text": [
      "[nltk_data] Downloading package gutenberg to /home/jovyan/nltk_data...\n",
      "[nltk_data]   Package gutenberg is already up-to-date!\n"
     ]
    },
    {
     "data": {
      "text/plain": [
       "True"
      ]
     },
     "execution_count": 4,
     "metadata": {},
     "output_type": "execute_result"
    }
   ],
   "source": [
    "nltk.download('gutenberg')"
   ]
  },
  {
   "cell_type": "code",
   "execution_count": 5,
   "metadata": {
    "scrolled": true
   },
   "outputs": [],
   "source": [
    "from nltk.corpus import gutenberg"
   ]
  },
  {
   "cell_type": "code",
   "execution_count": 6,
   "metadata": {},
   "outputs": [
    {
     "data": {
      "text/plain": [
       "18"
      ]
     },
     "execution_count": 6,
     "metadata": {},
     "output_type": "execute_result"
    }
   ],
   "source": [
    "len(gutenberg.fileids())"
   ]
  },
  {
   "cell_type": "code",
   "execution_count": 7,
   "metadata": {},
   "outputs": [
    {
     "data": {
      "text/plain": [
       "['austen-emma.txt',\n",
       " 'austen-persuasion.txt',\n",
       " 'austen-sense.txt',\n",
       " 'bible-kjv.txt',\n",
       " 'blake-poems.txt',\n",
       " 'bryant-stories.txt',\n",
       " 'burgess-busterbrown.txt',\n",
       " 'carroll-alice.txt',\n",
       " 'chesterton-ball.txt',\n",
       " 'chesterton-brown.txt',\n",
       " 'chesterton-thursday.txt',\n",
       " 'edgeworth-parents.txt',\n",
       " 'melville-moby_dick.txt',\n",
       " 'milton-paradise.txt',\n",
       " 'shakespeare-caesar.txt',\n",
       " 'shakespeare-hamlet.txt',\n",
       " 'shakespeare-macbeth.txt',\n",
       " 'whitman-leaves.txt']"
      ]
     },
     "execution_count": 7,
     "metadata": {},
     "output_type": "execute_result"
    }
   ],
   "source": [
    "gutenberg.fileids()"
   ]
  },
  {
   "cell_type": "markdown",
   "metadata": {},
   "source": [
    "#### Tokenize text"
   ]
  },
  {
   "cell_type": "code",
   "execution_count": 8,
   "metadata": {},
   "outputs": [],
   "source": [
    "gberg_sent_tokens = sent_tokenize(gutenberg.raw())"
   ]
  },
  {
   "cell_type": "code",
   "execution_count": 9,
   "metadata": {},
   "outputs": [
    {
     "data": {
      "text/plain": [
       "['[Emma by Jane Austen 1816]\\n\\nVOLUME I\\n\\nCHAPTER I\\n\\n\\nEmma Woodhouse, handsome, clever, and rich, with a comfortable home\\nand happy disposition, seemed to unite some of the best blessings\\nof existence; and had lived nearly twenty-one years in the world\\nwith very little to distress or vex her.',\n",
       " \"She was the youngest of the two daughters of a most affectionate,\\nindulgent father; and had, in consequence of her sister's marriage,\\nbeen mistress of his house from a very early period.\",\n",
       " 'Her mother\\nhad died too long ago for her to have more than an indistinct\\nremembrance of her caresses; and her place had been supplied\\nby an excellent woman as governess, who had fallen little short\\nof a mother in affection.',\n",
       " \"Sixteen years had Miss Taylor been in Mr. Woodhouse's family,\\nless as a governess than a friend, very fond of both daughters,\\nbut particularly of Emma.\",\n",
       " 'Between _them_ it was more the intimacy\\nof sisters.']"
      ]
     },
     "execution_count": 9,
     "metadata": {},
     "output_type": "execute_result"
    }
   ],
   "source": [
    "gberg_sent_tokens[0:5]"
   ]
  },
  {
   "cell_type": "code",
   "execution_count": 10,
   "metadata": {},
   "outputs": [
    {
     "data": {
      "text/plain": [
       "\"She was the youngest of the two daughters of a most affectionate,\\nindulgent father; and had, in consequence of her sister's marriage,\\nbeen mistress of his house from a very early period.\""
      ]
     },
     "execution_count": 10,
     "metadata": {},
     "output_type": "execute_result"
    }
   ],
   "source": [
    "gberg_sent_tokens[1]"
   ]
  },
  {
   "cell_type": "code",
   "execution_count": 11,
   "metadata": {},
   "outputs": [
    {
     "data": {
      "text/plain": [
       "['She',\n",
       " 'was',\n",
       " 'the',\n",
       " 'youngest',\n",
       " 'of',\n",
       " 'the',\n",
       " 'two',\n",
       " 'daughters',\n",
       " 'of',\n",
       " 'a',\n",
       " 'most',\n",
       " 'affectionate',\n",
       " ',',\n",
       " 'indulgent',\n",
       " 'father',\n",
       " ';',\n",
       " 'and',\n",
       " 'had',\n",
       " ',',\n",
       " 'in',\n",
       " 'consequence',\n",
       " 'of',\n",
       " 'her',\n",
       " 'sister',\n",
       " \"'s\",\n",
       " 'marriage',\n",
       " ',',\n",
       " 'been',\n",
       " 'mistress',\n",
       " 'of',\n",
       " 'his',\n",
       " 'house',\n",
       " 'from',\n",
       " 'a',\n",
       " 'very',\n",
       " 'early',\n",
       " 'period',\n",
       " '.']"
      ]
     },
     "execution_count": 11,
     "metadata": {},
     "output_type": "execute_result"
    }
   ],
   "source": [
    "word_tokenize(gberg_sent_tokens[1])"
   ]
  },
  {
   "cell_type": "code",
   "execution_count": 12,
   "metadata": {},
   "outputs": [
    {
     "data": {
      "text/plain": [
       "'father'"
      ]
     },
     "execution_count": 12,
     "metadata": {},
     "output_type": "execute_result"
    }
   ],
   "source": [
    "word_tokenize(gberg_sent_tokens[1])[14]"
   ]
  },
  {
   "cell_type": "code",
   "execution_count": 13,
   "metadata": {
    "scrolled": true
   },
   "outputs": [],
   "source": [
    "# a convenient method that handles newlines, as well as tokenizing sentences and words in one shot\n",
    "gberg_sents = gutenberg.sents()"
   ]
  },
  {
   "cell_type": "code",
   "execution_count": 14,
   "metadata": {},
   "outputs": [
    {
     "data": {
      "text/plain": [
       "[['[', 'Emma', 'by', 'Jane', 'Austen', '1816', ']'],\n",
       " ['VOLUME', 'I'],\n",
       " ['CHAPTER', 'I'],\n",
       " ['Emma',\n",
       "  'Woodhouse',\n",
       "  ',',\n",
       "  'handsome',\n",
       "  ',',\n",
       "  'clever',\n",
       "  ',',\n",
       "  'and',\n",
       "  'rich',\n",
       "  ',',\n",
       "  'with',\n",
       "  'a',\n",
       "  'comfortable',\n",
       "  'home',\n",
       "  'and',\n",
       "  'happy',\n",
       "  'disposition',\n",
       "  ',',\n",
       "  'seemed',\n",
       "  'to',\n",
       "  'unite',\n",
       "  'some',\n",
       "  'of',\n",
       "  'the',\n",
       "  'best',\n",
       "  'blessings',\n",
       "  'of',\n",
       "  'existence',\n",
       "  ';',\n",
       "  'and',\n",
       "  'had',\n",
       "  'lived',\n",
       "  'nearly',\n",
       "  'twenty',\n",
       "  '-',\n",
       "  'one',\n",
       "  'years',\n",
       "  'in',\n",
       "  'the',\n",
       "  'world',\n",
       "  'with',\n",
       "  'very',\n",
       "  'little',\n",
       "  'to',\n",
       "  'distress',\n",
       "  'or',\n",
       "  'vex',\n",
       "  'her',\n",
       "  '.'],\n",
       " ['She',\n",
       "  'was',\n",
       "  'the',\n",
       "  'youngest',\n",
       "  'of',\n",
       "  'the',\n",
       "  'two',\n",
       "  'daughters',\n",
       "  'of',\n",
       "  'a',\n",
       "  'most',\n",
       "  'affectionate',\n",
       "  ',',\n",
       "  'indulgent',\n",
       "  'father',\n",
       "  ';',\n",
       "  'and',\n",
       "  'had',\n",
       "  ',',\n",
       "  'in',\n",
       "  'consequence',\n",
       "  'of',\n",
       "  'her',\n",
       "  'sister',\n",
       "  \"'\",\n",
       "  's',\n",
       "  'marriage',\n",
       "  ',',\n",
       "  'been',\n",
       "  'mistress',\n",
       "  'of',\n",
       "  'his',\n",
       "  'house',\n",
       "  'from',\n",
       "  'a',\n",
       "  'very',\n",
       "  'early',\n",
       "  'period',\n",
       "  '.']]"
      ]
     },
     "execution_count": 14,
     "metadata": {},
     "output_type": "execute_result"
    }
   ],
   "source": [
    "gberg_sents[0:5]"
   ]
  },
  {
   "cell_type": "code",
   "execution_count": 15,
   "metadata": {},
   "outputs": [
    {
     "data": {
      "text/plain": [
       "['She',\n",
       " 'was',\n",
       " 'the',\n",
       " 'youngest',\n",
       " 'of',\n",
       " 'the',\n",
       " 'two',\n",
       " 'daughters',\n",
       " 'of',\n",
       " 'a',\n",
       " 'most',\n",
       " 'affectionate',\n",
       " ',',\n",
       " 'indulgent',\n",
       " 'father',\n",
       " ';',\n",
       " 'and',\n",
       " 'had',\n",
       " ',',\n",
       " 'in',\n",
       " 'consequence',\n",
       " 'of',\n",
       " 'her',\n",
       " 'sister',\n",
       " \"'\",\n",
       " 's',\n",
       " 'marriage',\n",
       " ',',\n",
       " 'been',\n",
       " 'mistress',\n",
       " 'of',\n",
       " 'his',\n",
       " 'house',\n",
       " 'from',\n",
       " 'a',\n",
       " 'very',\n",
       " 'early',\n",
       " 'period',\n",
       " '.']"
      ]
     },
     "execution_count": 15,
     "metadata": {},
     "output_type": "execute_result"
    }
   ],
   "source": [
    "gberg_sents[4]"
   ]
  },
  {
   "cell_type": "code",
   "execution_count": 16,
   "metadata": {},
   "outputs": [
    {
     "data": {
      "text/plain": [
       "'father'"
      ]
     },
     "execution_count": 16,
     "metadata": {},
     "output_type": "execute_result"
    }
   ],
   "source": [
    "gberg_sents[4][14]"
   ]
  },
  {
   "cell_type": "code",
   "execution_count": 17,
   "metadata": {
    "scrolled": true
   },
   "outputs": [
    {
     "data": {
      "text/plain": [
       "['[', 'Emma', 'by', 'Jane', 'Austen', '1816', ']', ...]"
      ]
     },
     "execution_count": 17,
     "metadata": {},
     "output_type": "execute_result"
    }
   ],
   "source": [
    "# another convenient method that we don't immediately need: \n",
    "gutenberg.words() "
   ]
  },
  {
   "cell_type": "code",
   "execution_count": 18,
   "metadata": {},
   "outputs": [],
   "source": [
    "# gutenberg.words() is analogous to the following line, which need not be run: \n",
    "# word_tokenize(gutenberg.raw())"
   ]
  },
  {
   "cell_type": "code",
   "execution_count": 19,
   "metadata": {},
   "outputs": [
    {
     "data": {
      "text/plain": [
       "2621613"
      ]
     },
     "execution_count": 19,
     "metadata": {},
     "output_type": "execute_result"
    }
   ],
   "source": [
    "# our Gutenberg corpus is 2.6m words in length: \n",
    "len(gutenberg.words())"
   ]
  },
  {
   "cell_type": "markdown",
   "metadata": {},
   "source": [
    "#### Run word2vec"
   ]
  },
  {
   "cell_type": "code",
   "execution_count": 23,
   "metadata": {},
   "outputs": [],
   "source": [
    "model = Word2Vec(sentences=gberg_sents, size=64, sg=1, window=10, min_count=5, seed=42, workers=8)"
   ]
  },
  {
   "cell_type": "code",
   "execution_count": 24,
   "metadata": {},
   "outputs": [
    {
     "name": "stderr",
     "output_type": "stream",
     "text": [
      "/srv/venv/lib/python3.6/site-packages/gensim/utils.py:568: DeprecationWarning: Call to deprecated `cum_table` (Attribute will be removed in 4.0.0, use self.vocabulary.cum_table instead).\n",
      "  if hasattr(self, attrib):\n",
      "/srv/venv/lib/python3.6/site-packages/gensim/utils.py:569: DeprecationWarning: Call to deprecated `cum_table` (Attribute will be removed in 4.0.0, use self.vocabulary.cum_table instead).\n",
      "  asides[attrib] = getattr(self, attrib)\n",
      "/srv/venv/lib/python3.6/site-packages/gensim/utils.py:570: DeprecationWarning: Call to deprecated `cum_table` (Attribute will be removed in 4.0.0, use self.vocabulary.cum_table instead).\n",
      "  delattr(self, attrib)\n",
      "/srv/venv/lib/python3.6/site-packages/gensim/utils.py:525: DeprecationWarning: Call to deprecated `cum_table` (Attribute will be removed in 4.0.0, use self.vocabulary.cum_table instead).\n",
      "  setattr(obj, attrib, val)\n"
     ]
    }
   ],
   "source": [
    "model.save('raw_gutenberg_model.w2v')"
   ]
  },
  {
   "cell_type": "markdown",
   "metadata": {},
   "source": [
    "#### Explore model"
   ]
  },
  {
   "cell_type": "code",
   "execution_count": 25,
   "metadata": {},
   "outputs": [
    {
     "name": "stderr",
     "output_type": "stream",
     "text": [
      "/srv/venv/lib/python3.6/site-packages/gensim/utils.py:461: DeprecationWarning: Call to deprecated `cum_table` (Attribute will be removed in 4.0.0, use self.vocabulary.cum_table instead).\n",
      "  setattr(self, attrib, None)\n"
     ]
    }
   ],
   "source": [
    "# skip re-training the model with the next line:  \n",
    "model = gensim.models.Word2Vec.load('raw_gutenberg_model.w2v')"
   ]
  },
  {
   "cell_type": "code",
   "execution_count": 26,
   "metadata": {},
   "outputs": [
    {
     "name": "stderr",
     "output_type": "stream",
     "text": [
      "/srv/venv/lib/python3.6/site-packages/ipykernel_launcher.py:1: DeprecationWarning: Call to deprecated `__getitem__` (Method will be removed in 4.0.0, use self.wv.__getitem__() instead).\n",
      "  \"\"\"Entry point for launching an IPython kernel.\n"
     ]
    },
    {
     "data": {
      "text/plain": [
       "array([ 0.09566437,  0.17259854, -0.34505808,  0.02892219,  0.07668917,\n",
       "        0.50993335,  0.69135612, -0.1312692 , -0.15725566,  0.74906576,\n",
       "        0.20732881,  0.52538496, -0.57578909, -0.22764318, -0.11770665,\n",
       "        0.11812929, -0.01914781,  0.01099039,  0.20910075, -0.41322687,\n",
       "       -0.00547709,  0.18781266, -0.11802397,  0.2500563 , -0.03084208,\n",
       "        0.21888663, -0.2254716 ,  0.10392255, -0.38144153,  0.37585607,\n",
       "        0.54878187,  0.2205839 , -0.03381898, -0.06954347,  0.35287818,\n",
       "       -0.04519901,  0.09778392, -0.089872  ,  0.18964697, -0.30727661,\n",
       "        0.09791969,  0.2675367 , -0.06997165,  0.22762068, -0.21050346,\n",
       "       -0.21686473,  0.64204437,  0.27400666, -0.03136293,  0.31337935,\n",
       "        0.59558082, -0.27501032,  0.43628675,  0.08534899,  0.00154245,\n",
       "       -0.27216321,  0.07710008, -0.07775867, -0.19987388, -0.15788484,\n",
       "        0.06609637,  0.14038439, -0.25328976,  0.27570012], dtype=float32)"
      ]
     },
     "execution_count": 26,
     "metadata": {},
     "output_type": "execute_result"
    }
   ],
   "source": [
    "model['dog']"
   ]
  },
  {
   "cell_type": "code",
   "execution_count": 27,
   "metadata": {},
   "outputs": [
    {
     "name": "stderr",
     "output_type": "stream",
     "text": [
      "/srv/venv/lib/python3.6/site-packages/ipykernel_launcher.py:1: DeprecationWarning: Call to deprecated `__getitem__` (Method will be removed in 4.0.0, use self.wv.__getitem__() instead).\n",
      "  \"\"\"Entry point for launching an IPython kernel.\n"
     ]
    },
    {
     "data": {
      "text/plain": [
       "64"
      ]
     },
     "execution_count": 27,
     "metadata": {},
     "output_type": "execute_result"
    }
   ],
   "source": [
    "len(model['dog'])"
   ]
  },
  {
   "cell_type": "code",
   "execution_count": 28,
   "metadata": {},
   "outputs": [
    {
     "name": "stderr",
     "output_type": "stream",
     "text": [
      "/srv/venv/lib/python3.6/site-packages/ipykernel_launcher.py:1: DeprecationWarning: Call to deprecated `most_similar` (Method will be removed in 4.0.0, use self.wv.most_similar() instead).\n",
      "  \"\"\"Entry point for launching an IPython kernel.\n"
     ]
    },
    {
     "data": {
      "text/plain": [
       "[('puppy', 0.8430217504501343),\n",
       " ('cage', 0.7972114086151123),\n",
       " ('thief', 0.7930775880813599),\n",
       " ('sweeper', 0.7754759192466736),\n",
       " ('pig', 0.7575479745864868),\n",
       " ('broth', 0.7552684545516968),\n",
       " ('shell', 0.7501285672187805),\n",
       " ('pet', 0.749057412147522),\n",
       " ('bullet', 0.7415783405303955),\n",
       " ('chimney', 0.7369805574417114)]"
      ]
     },
     "execution_count": 28,
     "metadata": {},
     "output_type": "execute_result"
    }
   ],
   "source": [
    "model.most_similar('dog') # distance"
   ]
  },
  {
   "cell_type": "code",
   "execution_count": 29,
   "metadata": {},
   "outputs": [
    {
     "name": "stderr",
     "output_type": "stream",
     "text": [
      "/srv/venv/lib/python3.6/site-packages/ipykernel_launcher.py:1: DeprecationWarning: Call to deprecated `most_similar` (Method will be removed in 4.0.0, use self.wv.most_similar() instead).\n",
      "  \"\"\"Entry point for launching an IPython kernel.\n"
     ]
    },
    {
     "data": {
      "text/plain": [
       "[('suppose', 0.8603721261024475),\n",
       " ('manage', 0.846663236618042),\n",
       " ('contradict', 0.8429285287857056),\n",
       " ('downright', 0.8252444863319397),\n",
       " ('know', 0.8132942914962769),\n",
       " ('_you_', 0.8116717338562012),\n",
       " ('NOW', 0.8102172613143921),\n",
       " ('anyhow', 0.8093609809875488),\n",
       " ('hesitate', 0.8079324960708618),\n",
       " ('argue', 0.80599445104599)]"
      ]
     },
     "execution_count": 29,
     "metadata": {},
     "output_type": "execute_result"
    }
   ],
   "source": [
    "model.most_similar('think')"
   ]
  },
  {
   "cell_type": "code",
   "execution_count": 30,
   "metadata": {},
   "outputs": [
    {
     "name": "stderr",
     "output_type": "stream",
     "text": [
      "/srv/venv/lib/python3.6/site-packages/ipykernel_launcher.py:1: DeprecationWarning: Call to deprecated `most_similar` (Method will be removed in 4.0.0, use self.wv.most_similar() instead).\n",
      "  \"\"\"Entry point for launching an IPython kernel.\n"
     ]
    },
    {
     "data": {
      "text/plain": [
       "[('morning', 0.7945852279663086),\n",
       " ('night', 0.7583019733428955),\n",
       " ('time', 0.7528664469718933),\n",
       " ('month', 0.7266057729721069),\n",
       " ('evening', 0.7166042327880859),\n",
       " ('sabbath', 0.68549644947052),\n",
       " ('morrow', 0.6776953339576721),\n",
       " ('week', 0.6754008531570435),\n",
       " ('fourteenth', 0.6640895009040833),\n",
       " ('fortnight', 0.6488529443740845)]"
      ]
     },
     "execution_count": 30,
     "metadata": {},
     "output_type": "execute_result"
    }
   ],
   "source": [
    "model.most_similar('day')"
   ]
  },
  {
   "cell_type": "code",
   "execution_count": 31,
   "metadata": {},
   "outputs": [
    {
     "name": "stderr",
     "output_type": "stream",
     "text": [
      "/srv/venv/lib/python3.6/site-packages/ipykernel_launcher.py:1: DeprecationWarning: Call to deprecated `most_similar` (Method will be removed in 4.0.0, use self.wv.most_similar() instead).\n",
      "  \"\"\"Entry point for launching an IPython kernel.\n"
     ]
    },
    {
     "data": {
      "text/plain": [
       "[('mother', 0.863183319568634),\n",
       " ('brother', 0.8527032136917114),\n",
       " ('sister', 0.8112391233444214),\n",
       " ('Amnon', 0.7896923422813416),\n",
       " ('wife', 0.7768486738204956),\n",
       " ('daughter', 0.7695256471633911),\n",
       " ('bondwoman', 0.7412916421890259),\n",
       " ('uncle', 0.7265669107437134),\n",
       " ('Tamar', 0.7233585119247437),\n",
       " ('Dinah', 0.7155628800392151)]"
      ]
     },
     "execution_count": 31,
     "metadata": {},
     "output_type": "execute_result"
    }
   ],
   "source": [
    "model.most_similar('father')"
   ]
  },
  {
   "cell_type": "code",
   "execution_count": 32,
   "metadata": {},
   "outputs": [
    {
     "name": "stderr",
     "output_type": "stream",
     "text": [
      "/srv/venv/lib/python3.6/site-packages/ipykernel_launcher.py:1: DeprecationWarning: Call to deprecated `doesnt_match` (Method will be removed in 4.0.0, use self.wv.doesnt_match() instead).\n",
      "  \"\"\"Entry point for launching an IPython kernel.\n"
     ]
    },
    {
     "data": {
      "text/plain": [
       "'dog'"
      ]
     },
     "execution_count": 32,
     "metadata": {},
     "output_type": "execute_result"
    }
   ],
   "source": [
    "model.doesnt_match(\"mother father daughter dog\".split())"
   ]
  },
  {
   "cell_type": "code",
   "execution_count": 33,
   "metadata": {},
   "outputs": [
    {
     "name": "stderr",
     "output_type": "stream",
     "text": [
      "/srv/venv/lib/python3.6/site-packages/ipykernel_launcher.py:1: DeprecationWarning: Call to deprecated `similarity` (Method will be removed in 4.0.0, use self.wv.similarity() instead).\n",
      "  \"\"\"Entry point for launching an IPython kernel.\n"
     ]
    },
    {
     "data": {
      "text/plain": [
       "0.47669729590400789"
      ]
     },
     "execution_count": 33,
     "metadata": {},
     "output_type": "execute_result"
    }
   ],
   "source": [
    "model.similarity('father', 'dog')"
   ]
  },
  {
   "cell_type": "code",
   "execution_count": 34,
   "metadata": {
    "scrolled": true
   },
   "outputs": [
    {
     "name": "stderr",
     "output_type": "stream",
     "text": [
      "/srv/venv/lib/python3.6/site-packages/ipykernel_launcher.py:2: DeprecationWarning: Call to deprecated `most_similar` (Method will be removed in 4.0.0, use self.wv.most_similar() instead).\n",
      "  \n"
     ]
    },
    {
     "data": {
      "text/plain": [
       "[('sister', 0.8015695214271545),\n",
       " ('mother', 0.7793022990226746),\n",
       " ('wife', 0.7551862001419067),\n",
       " ('daughter', 0.7405765056610107),\n",
       " ('husband', 0.7301034927368164),\n",
       " ('brother', 0.7262083292007446),\n",
       " ('Sarah', 0.7168509364128113),\n",
       " ('Sarai', 0.7141744494438171),\n",
       " ('daughters', 0.7034985423088074),\n",
       " ('Amnon', 0.6891980171203613)]"
      ]
     },
     "execution_count": 34,
     "metadata": {},
     "output_type": "execute_result"
    }
   ],
   "source": [
    "# close, but not quite; distinctly in female direction: \n",
    "model.most_similar(positive=['father', 'woman'], negative=['man']) "
   ]
  },
  {
   "cell_type": "code",
   "execution_count": 35,
   "metadata": {},
   "outputs": [
    {
     "name": "stderr",
     "output_type": "stream",
     "text": [
      "/srv/venv/lib/python3.6/site-packages/ipykernel_launcher.py:2: DeprecationWarning: Call to deprecated `most_similar` (Method will be removed in 4.0.0, use self.wv.most_similar() instead).\n",
      "  \n"
     ]
    },
    {
     "data": {
      "text/plain": [
       "[('Sarah', 0.7418930530548096),\n",
       " ('Leah', 0.7276014685630798),\n",
       " ('wife', 0.7269520163536072),\n",
       " ('Sarai', 0.7248057126998901),\n",
       " ('Hagar', 0.7211147546768188),\n",
       " ('Bethuel', 0.7210967540740967),\n",
       " ('Abram', 0.7164820432662964),\n",
       " ('Hittite', 0.7120416164398193),\n",
       " ('conceived', 0.7098621129989624),\n",
       " ('Nahor', 0.7070516347885132)]"
      ]
     },
     "execution_count": 35,
     "metadata": {},
     "output_type": "execute_result"
    }
   ],
   "source": [
    "# more confident about this one: \n",
    "model.most_similar(positive=['son', 'woman'], negative=['man']) "
   ]
  },
  {
   "cell_type": "code",
   "execution_count": 36,
   "metadata": {},
   "outputs": [
    {
     "name": "stderr",
     "output_type": "stream",
     "text": [
      "/srv/venv/lib/python3.6/site-packages/ipykernel_launcher.py:1: DeprecationWarning: Call to deprecated `most_similar` (Method will be removed in 4.0.0, use self.wv.most_similar() instead).\n",
      "  \"\"\"Entry point for launching an IPython kernel.\n"
     ]
    },
    {
     "data": {
      "text/plain": [
       "[('wife', 0.7307157516479492),\n",
       " ('sister', 0.7228026986122131),\n",
       " ('conceived', 0.6862730383872986),\n",
       " ('child', 0.6779206395149231),\n",
       " ('mother', 0.6650990843772888),\n",
       " ('daughter', 0.647702157497406),\n",
       " ('widow', 0.646721601486206),\n",
       " ('nurse', 0.6304333806037903),\n",
       " ('daughters', 0.6292895674705505),\n",
       " ('adultery', 0.627461850643158)]"
      ]
     },
     "execution_count": 36,
     "metadata": {},
     "output_type": "execute_result"
    }
   ],
   "source": [
    "model.most_similar(positive=['husband', 'woman'], negative=['man']) "
   ]
  },
  {
   "cell_type": "code",
   "execution_count": 37,
   "metadata": {},
   "outputs": [
    {
     "name": "stderr",
     "output_type": "stream",
     "text": [
      "/srv/venv/lib/python3.6/site-packages/ipykernel_launcher.py:1: DeprecationWarning: Call to deprecated `most_similar` (Method will be removed in 4.0.0, use self.wv.most_similar() instead).\n",
      "  \"\"\"Entry point for launching an IPython kernel.\n"
     ]
    },
    {
     "data": {
      "text/plain": [
       "[('Sarah', 0.7333846092224121),\n",
       " ('Rachel', 0.7045056819915771),\n",
       " ('Pharaoh', 0.7034600973129272),\n",
       " ('Sarai', 0.6914916634559631),\n",
       " ('Solomon', 0.6911053657531738),\n",
       " ('Abram', 0.6873542070388794),\n",
       " ('Leah', 0.6831889152526855),\n",
       " ('Judah', 0.6798198819160461),\n",
       " ('Laban', 0.6793984770774841),\n",
       " ('Hagar', 0.6764636039733887),\n",
       " ('Bethuel', 0.6697091460227966),\n",
       " ('Rebekah', 0.6482451558113098),\n",
       " ('Padanaram', 0.6475045680999756),\n",
       " ('Bilhah', 0.645843505859375),\n",
       " ('birthright', 0.6420023441314697),\n",
       " ('Zilpah', 0.6408153772354126),\n",
       " ('Ephron', 0.6394474506378174),\n",
       " ('damsel', 0.6388168334960938),\n",
       " ('Esau', 0.6376100778579712),\n",
       " ('Babylon', 0.6368862986564636),\n",
       " ('tribute', 0.6367999315261841),\n",
       " ('Lot', 0.6338628530502319),\n",
       " ('Mephibosheth', 0.6329473257064819),\n",
       " ('David', 0.6314777731895447),\n",
       " ('Hittite', 0.6299331784248352),\n",
       " ('Uriah', 0.6295434832572937),\n",
       " ('Hamor', 0.6294640302658081),\n",
       " ('ministered', 0.6281746029853821),\n",
       " ('princes', 0.6280882358551025),\n",
       " ('Jerubbaal', 0.6260474920272827)]"
      ]
     },
     "execution_count": 37,
     "metadata": {},
     "output_type": "execute_result"
    }
   ],
   "source": [
    "model.most_similar(positive=['king', 'woman'], negative=['man'], topn=30) "
   ]
  },
  {
   "cell_type": "code",
   "execution_count": 38,
   "metadata": {
    "scrolled": true
   },
   "outputs": [],
   "source": [
    "# impressive for such a small data set, without any cleaning, e.g., to lower case (covered next)"
   ]
  },
  {
   "cell_type": "markdown",
   "metadata": {},
   "source": [
    "#### Reduce word vector dimensionality with t-SNE"
   ]
  },
  {
   "cell_type": "code",
   "execution_count": 39,
   "metadata": {},
   "outputs": [
    {
     "data": {
      "text/plain": [
       "{'[': <gensim.models.keyedvectors.Vocab at 0x7fc4264c4cc0>,\n",
       " 'Emma': <gensim.models.keyedvectors.Vocab at 0x7fc4264c4550>,\n",
       " 'by': <gensim.models.keyedvectors.Vocab at 0x7fc4264c4fd0>,\n",
       " 'Jane': <gensim.models.keyedvectors.Vocab at 0x7fc4264c4518>,\n",
       " ']': <gensim.models.keyedvectors.Vocab at 0x7fc4264c4b70>,\n",
       " 'I': <gensim.models.keyedvectors.Vocab at 0x7fc4264c4a58>,\n",
       " 'CHAPTER': <gensim.models.keyedvectors.Vocab at 0x7fc4264c4ba8>,\n",
       " 'Woodhouse': <gensim.models.keyedvectors.Vocab at 0x7fc4264c41d0>,\n",
       " ',': <gensim.models.keyedvectors.Vocab at 0x7fc4264c4668>,\n",
       " 'handsome': <gensim.models.keyedvectors.Vocab at 0x7fc4264c4f28>,\n",
       " 'clever': <gensim.models.keyedvectors.Vocab at 0x7fc4264c49b0>,\n",
       " 'and': <gensim.models.keyedvectors.Vocab at 0x7fc4264c45f8>,\n",
       " 'rich': <gensim.models.keyedvectors.Vocab at 0x7fc4264c4710>,\n",
       " 'with': <gensim.models.keyedvectors.Vocab at 0x7fc4264c4e48>,\n",
       " 'a': <gensim.models.keyedvectors.Vocab at 0x7fc4264c4a90>,\n",
       " 'comfortable': <gensim.models.keyedvectors.Vocab at 0x7fc4264c4b38>,\n",
       " 'home': <gensim.models.keyedvectors.Vocab at 0x7fc4264c4e10>,\n",
       " 'happy': <gensim.models.keyedvectors.Vocab at 0x7fc4264c40b8>,\n",
       " 'disposition': <gensim.models.keyedvectors.Vocab at 0x7fc4264c4160>,\n",
       " 'seemed': <gensim.models.keyedvectors.Vocab at 0x7fc4264c46a0>,\n",
       " 'to': <gensim.models.keyedvectors.Vocab at 0x7fc4264c4ef0>,\n",
       " 'unite': <gensim.models.keyedvectors.Vocab at 0x7fc4264c4e80>,\n",
       " 'some': <gensim.models.keyedvectors.Vocab at 0x7fc427888d68>,\n",
       " 'of': <gensim.models.keyedvectors.Vocab at 0x7fc427888470>,\n",
       " 'the': <gensim.models.keyedvectors.Vocab at 0x7fc427888e48>,\n",
       " 'best': <gensim.models.keyedvectors.Vocab at 0x7fc427888908>,\n",
       " 'blessings': <gensim.models.keyedvectors.Vocab at 0x7fc427888390>,\n",
       " 'existence': <gensim.models.keyedvectors.Vocab at 0x7fc4278881d0>,\n",
       " ';': <gensim.models.keyedvectors.Vocab at 0x7fc427888a90>,\n",
       " 'had': <gensim.models.keyedvectors.Vocab at 0x7fc427888c18>,\n",
       " 'lived': <gensim.models.keyedvectors.Vocab at 0x7fc427888c88>,\n",
       " 'nearly': <gensim.models.keyedvectors.Vocab at 0x7fc427888668>,\n",
       " 'twenty': <gensim.models.keyedvectors.Vocab at 0x7fc4278886a0>,\n",
       " '-': <gensim.models.keyedvectors.Vocab at 0x7fc427888240>,\n",
       " 'one': <gensim.models.keyedvectors.Vocab at 0x7fc427888400>,\n",
       " 'years': <gensim.models.keyedvectors.Vocab at 0x7fc427888e10>,\n",
       " 'in': <gensim.models.keyedvectors.Vocab at 0x7fc427888b00>,\n",
       " 'world': <gensim.models.keyedvectors.Vocab at 0x7fc427888ef0>,\n",
       " 'very': <gensim.models.keyedvectors.Vocab at 0x7fc427888cf8>,\n",
       " 'little': <gensim.models.keyedvectors.Vocab at 0x7fc4278883c8>,\n",
       " 'distress': <gensim.models.keyedvectors.Vocab at 0x7fc427888898>,\n",
       " 'or': <gensim.models.keyedvectors.Vocab at 0x7fc4278885c0>,\n",
       " 'vex': <gensim.models.keyedvectors.Vocab at 0x7fc427888e80>,\n",
       " 'her': <gensim.models.keyedvectors.Vocab at 0x7fc427888b38>,\n",
       " '.': <gensim.models.keyedvectors.Vocab at 0x7fc427888be0>,\n",
       " 'She': <gensim.models.keyedvectors.Vocab at 0x7fc427888b70>,\n",
       " 'was': <gensim.models.keyedvectors.Vocab at 0x7fc4278885f8>,\n",
       " 'youngest': <gensim.models.keyedvectors.Vocab at 0x7fc427888278>,\n",
       " 'two': <gensim.models.keyedvectors.Vocab at 0x7fc427888fd0>,\n",
       " 'daughters': <gensim.models.keyedvectors.Vocab at 0x7fc4278884a8>,\n",
       " 'most': <gensim.models.keyedvectors.Vocab at 0x7fc427888780>,\n",
       " 'affectionate': <gensim.models.keyedvectors.Vocab at 0x7fc4272b8518>,\n",
       " 'indulgent': <gensim.models.keyedvectors.Vocab at 0x7fc4272b84a8>,\n",
       " 'father': <gensim.models.keyedvectors.Vocab at 0x7fc4272b8dd8>,\n",
       " 'consequence': <gensim.models.keyedvectors.Vocab at 0x7fc4272b8400>,\n",
       " 'sister': <gensim.models.keyedvectors.Vocab at 0x7fc4272b8d68>,\n",
       " \"'\": <gensim.models.keyedvectors.Vocab at 0x7fc4272b86d8>,\n",
       " 's': <gensim.models.keyedvectors.Vocab at 0x7fc4272b83c8>,\n",
       " 'marriage': <gensim.models.keyedvectors.Vocab at 0x7fc4272b89e8>,\n",
       " 'been': <gensim.models.keyedvectors.Vocab at 0x7fc4272b8da0>,\n",
       " 'mistress': <gensim.models.keyedvectors.Vocab at 0x7fc4272b81d0>,\n",
       " 'his': <gensim.models.keyedvectors.Vocab at 0x7fc4272b8a90>,\n",
       " 'house': <gensim.models.keyedvectors.Vocab at 0x7fc4272b8be0>,\n",
       " 'from': <gensim.models.keyedvectors.Vocab at 0x7fc4272b8a20>,\n",
       " 'early': <gensim.models.keyedvectors.Vocab at 0x7fc4272b8828>,\n",
       " 'period': <gensim.models.keyedvectors.Vocab at 0x7fc4272b8278>,\n",
       " 'Her': <gensim.models.keyedvectors.Vocab at 0x7fc4272b8128>,\n",
       " 'mother': <gensim.models.keyedvectors.Vocab at 0x7fc4272b8358>,\n",
       " 'died': <gensim.models.keyedvectors.Vocab at 0x7fc4272b8eb8>,\n",
       " 'too': <gensim.models.keyedvectors.Vocab at 0x7fc4272b8390>,\n",
       " 'long': <gensim.models.keyedvectors.Vocab at 0x7fc4272b8780>,\n",
       " 'ago': <gensim.models.keyedvectors.Vocab at 0x7fc4272b8f98>,\n",
       " 'for': <gensim.models.keyedvectors.Vocab at 0x7fc4272b8a58>,\n",
       " 'have': <gensim.models.keyedvectors.Vocab at 0x7fc4272b8940>,\n",
       " 'more': <gensim.models.keyedvectors.Vocab at 0x7fc4272b86a0>,\n",
       " 'than': <gensim.models.keyedvectors.Vocab at 0x7fc4272b8d30>,\n",
       " 'an': <gensim.models.keyedvectors.Vocab at 0x7fc4272b8fd0>,\n",
       " 'remembrance': <gensim.models.keyedvectors.Vocab at 0x7fc4272b82b0>,\n",
       " 'caresses': <gensim.models.keyedvectors.Vocab at 0x7fc4272b85c0>,\n",
       " 'place': <gensim.models.keyedvectors.Vocab at 0x7fc4272b87b8>,\n",
       " 'supplied': <gensim.models.keyedvectors.Vocab at 0x7fc4272b8b70>,\n",
       " 'excellent': <gensim.models.keyedvectors.Vocab at 0x7fc4272b89b0>,\n",
       " 'woman': <gensim.models.keyedvectors.Vocab at 0x7fc4272b8860>,\n",
       " 'as': <gensim.models.keyedvectors.Vocab at 0x7fc4272b87f0>,\n",
       " 'governess': <gensim.models.keyedvectors.Vocab at 0x7fc4277ebf60>,\n",
       " 'who': <gensim.models.keyedvectors.Vocab at 0x7fc4277ebfd0>,\n",
       " 'fallen': <gensim.models.keyedvectors.Vocab at 0x7fc4277ebe80>,\n",
       " 'short': <gensim.models.keyedvectors.Vocab at 0x7fc4277eb358>,\n",
       " 'affection': <gensim.models.keyedvectors.Vocab at 0x7fc4277eb8d0>,\n",
       " 'Sixteen': <gensim.models.keyedvectors.Vocab at 0x7fc4277ebef0>,\n",
       " 'Miss': <gensim.models.keyedvectors.Vocab at 0x7fc4277eb0b8>,\n",
       " 'Taylor': <gensim.models.keyedvectors.Vocab at 0x7fc4277eb4a8>,\n",
       " 'Mr': <gensim.models.keyedvectors.Vocab at 0x7fc4277ebb00>,\n",
       " 'family': <gensim.models.keyedvectors.Vocab at 0x7fc4277eb630>,\n",
       " 'less': <gensim.models.keyedvectors.Vocab at 0x7fc4277ebcc0>,\n",
       " 'friend': <gensim.models.keyedvectors.Vocab at 0x7fc4277eba90>,\n",
       " 'fond': <gensim.models.keyedvectors.Vocab at 0x7fc4277eb828>,\n",
       " 'both': <gensim.models.keyedvectors.Vocab at 0x7fc4277eb668>,\n",
       " 'but': <gensim.models.keyedvectors.Vocab at 0x7fc4277eb9e8>,\n",
       " 'particularly': <gensim.models.keyedvectors.Vocab at 0x7fc4277ebc18>,\n",
       " 'Between': <gensim.models.keyedvectors.Vocab at 0x7fc4277ebd68>,\n",
       " 'it': <gensim.models.keyedvectors.Vocab at 0x7fc4277ebbe0>,\n",
       " 'intimacy': <gensim.models.keyedvectors.Vocab at 0x7fc4277eb710>,\n",
       " 'sisters': <gensim.models.keyedvectors.Vocab at 0x7fc4277eb080>,\n",
       " 'Even': <gensim.models.keyedvectors.Vocab at 0x7fc4277eb860>,\n",
       " 'before': <gensim.models.keyedvectors.Vocab at 0x7fc4277ebc88>,\n",
       " 'ceased': <gensim.models.keyedvectors.Vocab at 0x7fc4277eb5f8>,\n",
       " 'hold': <gensim.models.keyedvectors.Vocab at 0x7fc4277ebf28>,\n",
       " 'office': <gensim.models.keyedvectors.Vocab at 0x7fc4277eb978>,\n",
       " 'mildness': <gensim.models.keyedvectors.Vocab at 0x7fc4277eb048>,\n",
       " 'temper': <gensim.models.keyedvectors.Vocab at 0x7fc4277ebe10>,\n",
       " 'hardly': <gensim.models.keyedvectors.Vocab at 0x7fc4277eb3c8>,\n",
       " 'allowed': <gensim.models.keyedvectors.Vocab at 0x7fc4277ebeb8>,\n",
       " 'impose': <gensim.models.keyedvectors.Vocab at 0x7fc42651f748>,\n",
       " 'any': <gensim.models.keyedvectors.Vocab at 0x7fc42651fcf8>,\n",
       " 'restraint': <gensim.models.keyedvectors.Vocab at 0x7fc42651f1d0>,\n",
       " 'shadow': <gensim.models.keyedvectors.Vocab at 0x7fc42651ff28>,\n",
       " 'authority': <gensim.models.keyedvectors.Vocab at 0x7fc42651f9b0>,\n",
       " 'being': <gensim.models.keyedvectors.Vocab at 0x7fc42651f588>,\n",
       " 'now': <gensim.models.keyedvectors.Vocab at 0x7fc42651f5c0>,\n",
       " 'passed': <gensim.models.keyedvectors.Vocab at 0x7fc42651f9e8>,\n",
       " 'away': <gensim.models.keyedvectors.Vocab at 0x7fc42651f240>,\n",
       " 'they': <gensim.models.keyedvectors.Vocab at 0x7fc42651f7f0>,\n",
       " 'living': <gensim.models.keyedvectors.Vocab at 0x7fc42651f8d0>,\n",
       " 'together': <gensim.models.keyedvectors.Vocab at 0x7fc42651f780>,\n",
       " 'mutually': <gensim.models.keyedvectors.Vocab at 0x7fc4273f0e10>,\n",
       " 'attached': <gensim.models.keyedvectors.Vocab at 0x7fc4273f0d30>,\n",
       " 'doing': <gensim.models.keyedvectors.Vocab at 0x7fc4273f0f98>,\n",
       " 'just': <gensim.models.keyedvectors.Vocab at 0x7fc4273f0e48>,\n",
       " 'what': <gensim.models.keyedvectors.Vocab at 0x7fc4273f0eb8>,\n",
       " 'she': <gensim.models.keyedvectors.Vocab at 0x7fc4273f0f28>,\n",
       " 'liked': <gensim.models.keyedvectors.Vocab at 0x7fc4273f0f60>,\n",
       " 'highly': <gensim.models.keyedvectors.Vocab at 0x7fc4264ede48>,\n",
       " 'judgment': <gensim.models.keyedvectors.Vocab at 0x7fc4264ed400>,\n",
       " 'directed': <gensim.models.keyedvectors.Vocab at 0x7fc4264ed2e8>,\n",
       " 'chiefly': <gensim.models.keyedvectors.Vocab at 0x7fc4264edbe0>,\n",
       " 'own': <gensim.models.keyedvectors.Vocab at 0x7fc4264ede80>,\n",
       " 'The': <gensim.models.keyedvectors.Vocab at 0x7fc4264ed7f0>,\n",
       " 'real': <gensim.models.keyedvectors.Vocab at 0x7fc4265734a8>,\n",
       " 'evils': <gensim.models.keyedvectors.Vocab at 0x7fc4265736d8>,\n",
       " 'indeed': <gensim.models.keyedvectors.Vocab at 0x7fc4265737f0>,\n",
       " 'situation': <gensim.models.keyedvectors.Vocab at 0x7fc426573320>,\n",
       " 'were': <gensim.models.keyedvectors.Vocab at 0x7fc426573ef0>,\n",
       " 'power': <gensim.models.keyedvectors.Vocab at 0x7fc4265730b8>,\n",
       " 'having': <gensim.models.keyedvectors.Vocab at 0x7fc426573c18>,\n",
       " 'rather': <gensim.models.keyedvectors.Vocab at 0x7fc4265737b8>,\n",
       " 'much': <gensim.models.keyedvectors.Vocab at 0x7fc4261df198>,\n",
       " 'way': <gensim.models.keyedvectors.Vocab at 0x7fc4264e3240>,\n",
       " 'think': <gensim.models.keyedvectors.Vocab at 0x7fc4264e34a8>,\n",
       " 'well': <gensim.models.keyedvectors.Vocab at 0x7fc4264e3748>,\n",
       " 'herself': <gensim.models.keyedvectors.Vocab at 0x7fc426508d30>,\n",
       " 'these': <gensim.models.keyedvectors.Vocab at 0x7fc426508390>,\n",
       " 'which': <gensim.models.keyedvectors.Vocab at 0x7fc426508828>,\n",
       " 'threatened': <gensim.models.keyedvectors.Vocab at 0x7fc426508240>,\n",
       " 'alloy': <gensim.models.keyedvectors.Vocab at 0x7fc426508160>,\n",
       " 'many': <gensim.models.keyedvectors.Vocab at 0x7fc426508710>,\n",
       " 'enjoyments': <gensim.models.keyedvectors.Vocab at 0x7fc426508c50>,\n",
       " 'danger': <gensim.models.keyedvectors.Vocab at 0x7fc426508da0>,\n",
       " 'however': <gensim.models.keyedvectors.Vocab at 0x7fc4264f10f0>,\n",
       " 'at': <gensim.models.keyedvectors.Vocab at 0x7fc4264ef518>,\n",
       " 'present': <gensim.models.keyedvectors.Vocab at 0x7fc4264ef2b0>,\n",
       " 'so': <gensim.models.keyedvectors.Vocab at 0x7fc4264ef198>,\n",
       " 'unperceived': <gensim.models.keyedvectors.Vocab at 0x7fc4264ef9b0>,\n",
       " 'that': <gensim.models.keyedvectors.Vocab at 0x7fc4264eff28>,\n",
       " 'did': <gensim.models.keyedvectors.Vocab at 0x7fc426246b38>,\n",
       " 'not': <gensim.models.keyedvectors.Vocab at 0x7fc426246f60>,\n",
       " 'means': <gensim.models.keyedvectors.Vocab at 0x7fc426246668>,\n",
       " 'rank': <gensim.models.keyedvectors.Vocab at 0x7fc426246c50>,\n",
       " 'misfortunes': <gensim.models.keyedvectors.Vocab at 0x7fc4262465f8>,\n",
       " 'Sorrow': <gensim.models.keyedvectors.Vocab at 0x7fc426246358>,\n",
       " 'came': <gensim.models.keyedvectors.Vocab at 0x7fc426246dd8>,\n",
       " '--': <gensim.models.keyedvectors.Vocab at 0x7fc426246748>,\n",
       " 'gentle': <gensim.models.keyedvectors.Vocab at 0x7fc426246ef0>,\n",
       " 'sorrow': <gensim.models.keyedvectors.Vocab at 0x7fc426246898>,\n",
       " 'all': <gensim.models.keyedvectors.Vocab at 0x7fc426246eb8>,\n",
       " 'shape': <gensim.models.keyedvectors.Vocab at 0x7fc4262465c0>,\n",
       " 'disagreeable': <gensim.models.keyedvectors.Vocab at 0x7fc426246da0>,\n",
       " 'consciousness': <gensim.models.keyedvectors.Vocab at 0x7fc426246908>,\n",
       " '.--': <gensim.models.keyedvectors.Vocab at 0x7fc426246710>,\n",
       " 'married': <gensim.models.keyedvectors.Vocab at 0x7fc426246d68>,\n",
       " 'It': <gensim.models.keyedvectors.Vocab at 0x7fc4262467b8>,\n",
       " 'loss': <gensim.models.keyedvectors.Vocab at 0x7fc42648f588>,\n",
       " 'first': <gensim.models.keyedvectors.Vocab at 0x7fc42648f7f0>,\n",
       " 'brought': <gensim.models.keyedvectors.Vocab at 0x7fc42648f0f0>,\n",
       " 'grief': <gensim.models.keyedvectors.Vocab at 0x7fc42648f518>,\n",
       " 'on': <gensim.models.keyedvectors.Vocab at 0x7fc42648f208>,\n",
       " 'wedding': <gensim.models.keyedvectors.Vocab at 0x7fc42648fb70>,\n",
       " 'day': <gensim.models.keyedvectors.Vocab at 0x7fc42648f438>,\n",
       " 'this': <gensim.models.keyedvectors.Vocab at 0x7fc42648fc50>,\n",
       " 'beloved': <gensim.models.keyedvectors.Vocab at 0x7fc42648ff60>,\n",
       " 'sat': <gensim.models.keyedvectors.Vocab at 0x7fc42648f240>,\n",
       " 'mournful': <gensim.models.keyedvectors.Vocab at 0x7fc42648fdd8>,\n",
       " 'thought': <gensim.models.keyedvectors.Vocab at 0x7fc42648f7b8>,\n",
       " 'continuance': <gensim.models.keyedvectors.Vocab at 0x7fc42648f278>,\n",
       " 'over': <gensim.models.keyedvectors.Vocab at 0x7fc42648f320>,\n",
       " 'bride': <gensim.models.keyedvectors.Vocab at 0x7fc42648f160>,\n",
       " 'people': <gensim.models.keyedvectors.Vocab at 0x7fc42648f5c0>,\n",
       " 'gone': <gensim.models.keyedvectors.Vocab at 0x7fc42648f630>,\n",
       " 'left': <gensim.models.keyedvectors.Vocab at 0x7fc42648fa90>,\n",
       " 'dine': <gensim.models.keyedvectors.Vocab at 0x7fc42648f6d8>,\n",
       " 'no': <gensim.models.keyedvectors.Vocab at 0x7fc42648fc88>,\n",
       " 'prospect': <gensim.models.keyedvectors.Vocab at 0x7fc42648feb8>,\n",
       " 'third': <gensim.models.keyedvectors.Vocab at 0x7fc42648f748>,\n",
       " 'cheer': <gensim.models.keyedvectors.Vocab at 0x7fc426598e10>,\n",
       " 'evening': <gensim.models.keyedvectors.Vocab at 0x7fc4265984a8>,\n",
       " 'composed': <gensim.models.keyedvectors.Vocab at 0x7fc426598550>,\n",
       " 'himself': <gensim.models.keyedvectors.Vocab at 0x7fc426598ba8>,\n",
       " 'sleep': <gensim.models.keyedvectors.Vocab at 0x7fc426598b00>,\n",
       " 'after': <gensim.models.keyedvectors.Vocab at 0x7fc426598438>,\n",
       " 'dinner': <gensim.models.keyedvectors.Vocab at 0x7fc426598ac8>,\n",
       " 'usual': <gensim.models.keyedvectors.Vocab at 0x7fc4265988d0>,\n",
       " 'then': <gensim.models.keyedvectors.Vocab at 0x7fc426598780>,\n",
       " 'only': <gensim.models.keyedvectors.Vocab at 0x7fc426598c88>,\n",
       " 'sit': <gensim.models.keyedvectors.Vocab at 0x7fc426598978>,\n",
       " 'lost': <gensim.models.keyedvectors.Vocab at 0x7fc426598e48>,\n",
       " 'event': <gensim.models.keyedvectors.Vocab at 0x7fc426598710>,\n",
       " 'every': <gensim.models.keyedvectors.Vocab at 0x7fc4265981d0>,\n",
       " 'promise': <gensim.models.keyedvectors.Vocab at 0x7fc4265985f8>,\n",
       " 'happiness': <gensim.models.keyedvectors.Vocab at 0x7fc426598cc0>,\n",
       " 'Weston': <gensim.models.keyedvectors.Vocab at 0x7fc4265987f0>,\n",
       " 'man': <gensim.models.keyedvectors.Vocab at 0x7fc426598320>,\n",
       " 'unexceptionable': <gensim.models.keyedvectors.Vocab at 0x7fc426598eb8>,\n",
       " 'character': <gensim.models.keyedvectors.Vocab at 0x7fc426598358>,\n",
       " 'easy': <gensim.models.keyedvectors.Vocab at 0x7fc426598c18>,\n",
       " 'fortune': <gensim.models.keyedvectors.Vocab at 0x7fc426598400>,\n",
       " 'suitable': <gensim.models.keyedvectors.Vocab at 0x7fc426598940>,\n",
       " 'age': <gensim.models.keyedvectors.Vocab at 0x7fc426598f60>,\n",
       " 'pleasant': <gensim.models.keyedvectors.Vocab at 0x7fc4265986d8>,\n",
       " 'manners': <gensim.models.keyedvectors.Vocab at 0x7fc4265983c8>,\n",
       " 'there': <gensim.models.keyedvectors.Vocab at 0x7fc4265982b0>,\n",
       " 'satisfaction': <gensim.models.keyedvectors.Vocab at 0x7fc426598198>,\n",
       " 'considering': <gensim.models.keyedvectors.Vocab at 0x7fc4265989b0>,\n",
       " 'self': <gensim.models.keyedvectors.Vocab at 0x7fc426598128>,\n",
       " 'denying': <gensim.models.keyedvectors.Vocab at 0x7fc426598240>,\n",
       " 'generous': <gensim.models.keyedvectors.Vocab at 0x7fc4265982e8>,\n",
       " 'friendship': <gensim.models.keyedvectors.Vocab at 0x7fc426598cf8>,\n",
       " 'always': <gensim.models.keyedvectors.Vocab at 0x7fc426598a20>,\n",
       " 'wished': <gensim.models.keyedvectors.Vocab at 0x7fc4265985c0>,\n",
       " 'promoted': <gensim.models.keyedvectors.Vocab at 0x7fc426598be0>,\n",
       " 'match': <gensim.models.keyedvectors.Vocab at 0x7fc4265980b8>,\n",
       " 'black': <gensim.models.keyedvectors.Vocab at 0x7fc426598828>,\n",
       " 'morning': <gensim.models.keyedvectors.Vocab at 0x7fc4265caf98>,\n",
       " 'work': <gensim.models.keyedvectors.Vocab at 0x7fc4265ca048>,\n",
       " 'want': <gensim.models.keyedvectors.Vocab at 0x7fc4265ca940>,\n",
       " 'would': <gensim.models.keyedvectors.Vocab at 0x7fc4265ca4e0>,\n",
       " 'be': <gensim.models.keyedvectors.Vocab at 0x7fc4265ca320>,\n",
       " 'felt': <gensim.models.keyedvectors.Vocab at 0x7fc4265caba8>,\n",
       " 'hour': <gensim.models.keyedvectors.Vocab at 0x7fc4265ca898>,\n",
       " 'recalled': <gensim.models.keyedvectors.Vocab at 0x7fc4265ca0b8>,\n",
       " 'past': <gensim.models.keyedvectors.Vocab at 0x7fc4265cadd8>,\n",
       " 'kindness': <gensim.models.keyedvectors.Vocab at 0x7fc4265caf28>,\n",
       " 'sixteen': <gensim.models.keyedvectors.Vocab at 0x7fc4265ca160>,\n",
       " 'how': <gensim.models.keyedvectors.Vocab at 0x7fc4265ca240>,\n",
       " 'taught': <gensim.models.keyedvectors.Vocab at 0x7fc4265ca710>,\n",
       " 'played': <gensim.models.keyedvectors.Vocab at 0x7fc4265caa20>,\n",
       " 'five': <gensim.models.keyedvectors.Vocab at 0x7fc4265ca208>,\n",
       " 'old': <gensim.models.keyedvectors.Vocab at 0x7fc4265ca9b0>,\n",
       " 'devoted': <gensim.models.keyedvectors.Vocab at 0x7fc4265cab00>,\n",
       " 'powers': <gensim.models.keyedvectors.Vocab at 0x7fc4265ca7b8>,\n",
       " 'attach': <gensim.models.keyedvectors.Vocab at 0x7fc4265ca5c0>,\n",
       " 'amuse': <gensim.models.keyedvectors.Vocab at 0x7fc4265cabe0>,\n",
       " 'health': <gensim.models.keyedvectors.Vocab at 0x7fc4265cad68>,\n",
       " 'nursed': <gensim.models.keyedvectors.Vocab at 0x7fc4265ca3c8>,\n",
       " 'through': <gensim.models.keyedvectors.Vocab at 0x7fc4265ca828>,\n",
       " 'various': <gensim.models.keyedvectors.Vocab at 0x7fc4265ca6d8>,\n",
       " 'childhood': <gensim.models.keyedvectors.Vocab at 0x7fc4265ca128>,\n",
       " 'A': <gensim.models.keyedvectors.Vocab at 0x7fc4265ca8d0>,\n",
       " 'large': <gensim.models.keyedvectors.Vocab at 0x7fc4265ca4a8>,\n",
       " 'debt': <gensim.models.keyedvectors.Vocab at 0x7fc4265ca630>,\n",
       " 'gratitude': <gensim.models.keyedvectors.Vocab at 0x7fc4265cac18>,\n",
       " 'owing': <gensim.models.keyedvectors.Vocab at 0x7fc4265cab38>,\n",
       " 'here': <gensim.models.keyedvectors.Vocab at 0x7fc4265caa58>,\n",
       " 'intercourse': <gensim.models.keyedvectors.Vocab at 0x7fc4265ca978>,\n",
       " 'last': <gensim.models.keyedvectors.Vocab at 0x7fc4265ca080>,\n",
       " 'seven': <gensim.models.keyedvectors.Vocab at 0x7fc4265ca780>,\n",
       " 'equal': <gensim.models.keyedvectors.Vocab at 0x7fc4265caf60>,\n",
       " 'footing': <gensim.models.keyedvectors.Vocab at 0x7fc4265ca400>,\n",
       " 'perfect': <gensim.models.keyedvectors.Vocab at 0x7fc4266390b8>,\n",
       " 'unreserve': <gensim.models.keyedvectors.Vocab at 0x7fc426639320>,\n",
       " 'soon': <gensim.models.keyedvectors.Vocab at 0x7fc426639278>,\n",
       " 'followed': <gensim.models.keyedvectors.Vocab at 0x7fc4266394e0>,\n",
       " 'Isabella': <gensim.models.keyedvectors.Vocab at 0x7fc4266395c0>,\n",
       " 'their': <gensim.models.keyedvectors.Vocab at 0x7fc4266391d0>,\n",
       " 'each': <gensim.models.keyedvectors.Vocab at 0x7fc426639160>,\n",
       " 'other': <gensim.models.keyedvectors.Vocab at 0x7fc426639518>,\n",
       " 'yet': <gensim.models.keyedvectors.Vocab at 0x7fc4266399e8>,\n",
       " 'dearer': <gensim.models.keyedvectors.Vocab at 0x7fc426639780>,\n",
       " 'recollection': <gensim.models.keyedvectors.Vocab at 0x7fc426639e80>,\n",
       " 'companion': <gensim.models.keyedvectors.Vocab at 0x7fc426639be0>,\n",
       " 'such': <gensim.models.keyedvectors.Vocab at 0x7fc426639a58>,\n",
       " 'few': <gensim.models.keyedvectors.Vocab at 0x7fc4266398d0>,\n",
       " 'possessed': <gensim.models.keyedvectors.Vocab at 0x7fc426639400>,\n",
       " ':': <gensim.models.keyedvectors.Vocab at 0x7fc426639470>,\n",
       " 'intelligent': <gensim.models.keyedvectors.Vocab at 0x7fc426639a20>,\n",
       " 'informed': <gensim.models.keyedvectors.Vocab at 0x7fc426639208>,\n",
       " 'useful': <gensim.models.keyedvectors.Vocab at 0x7fc4266399b0>,\n",
       " 'knowing': <gensim.models.keyedvectors.Vocab at 0x7fc426639ac8>,\n",
       " 'ways': <gensim.models.keyedvectors.Vocab at 0x7fc426639940>,\n",
       " 'interested': <gensim.models.keyedvectors.Vocab at 0x7fc426639860>,\n",
       " 'its': <gensim.models.keyedvectors.Vocab at 0x7fc4266397f0>,\n",
       " 'concerns': <gensim.models.keyedvectors.Vocab at 0x7fc426639f28>,\n",
       " 'peculiarly': <gensim.models.keyedvectors.Vocab at 0x7fc4266392b0>,\n",
       " 'pleasure': <gensim.models.keyedvectors.Vocab at 0x7fc426639668>,\n",
       " 'scheme': <gensim.models.keyedvectors.Vocab at 0x7fc426639908>,\n",
       " 'hers': <gensim.models.keyedvectors.Vocab at 0x7fc426639048>,\n",
       " 'whom': <gensim.models.keyedvectors.Vocab at 0x7fc426639fd0>,\n",
       " 'could': <gensim.models.keyedvectors.Vocab at 0x7fc426639358>,\n",
       " 'speak': <gensim.models.keyedvectors.Vocab at 0x7fc426639240>,\n",
       " 'arose': <gensim.models.keyedvectors.Vocab at 0x7fc426639588>,\n",
       " 'never': <gensim.models.keyedvectors.Vocab at 0x7fc4266390f0>,\n",
       " 'find': <gensim.models.keyedvectors.Vocab at 0x7fc426639c50>,\n",
       " 'fault': <gensim.models.keyedvectors.Vocab at 0x7fc4266396d8>,\n",
       " 'How': <gensim.models.keyedvectors.Vocab at 0x7fc426639128>,\n",
       " 'bear': <gensim.models.keyedvectors.Vocab at 0x7fc426639a90>,\n",
       " 'change': <gensim.models.keyedvectors.Vocab at 0x7fc426639b38>,\n",
       " '?--': <gensim.models.keyedvectors.Vocab at 0x7fc427703ac8>,\n",
       " 'true': <gensim.models.keyedvectors.Vocab at 0x7fc427703a58>,\n",
       " 'going': <gensim.models.keyedvectors.Vocab at 0x7fc427703908>,\n",
       " 'half': <gensim.models.keyedvectors.Vocab at 0x7fc427703240>,\n",
       " 'mile': <gensim.models.keyedvectors.Vocab at 0x7fc4277037b8>,\n",
       " 'them': <gensim.models.keyedvectors.Vocab at 0x7fc4277030f0>,\n",
       " 'aware': <gensim.models.keyedvectors.Vocab at 0x7fc427703e10>,\n",
       " 'great': <gensim.models.keyedvectors.Vocab at 0x7fc4277036a0>,\n",
       " 'must': <gensim.models.keyedvectors.Vocab at 0x7fc4277035c0>,\n",
       " 'difference': <gensim.models.keyedvectors.Vocab at 0x7fc427703710>,\n",
       " 'between': <gensim.models.keyedvectors.Vocab at 0x7fc427703358>,\n",
       " 'Mrs': <gensim.models.keyedvectors.Vocab at 0x7fc4277030b8>,\n",
       " 'advantages': <gensim.models.keyedvectors.Vocab at 0x7fc427703a90>,\n",
       " 'natural': <gensim.models.keyedvectors.Vocab at 0x7fc4277032b0>,\n",
       " 'domestic': <gensim.models.keyedvectors.Vocab at 0x7fc427703208>,\n",
       " 'suffering': <gensim.models.keyedvectors.Vocab at 0x7fc427703278>,\n",
       " 'intellectual': <gensim.models.keyedvectors.Vocab at 0x7fc4277037f0>,\n",
       " 'solitude': <gensim.models.keyedvectors.Vocab at 0x7fc427703c18>,\n",
       " 'dearly': <gensim.models.keyedvectors.Vocab at 0x7fc427703860>,\n",
       " 'loved': <gensim.models.keyedvectors.Vocab at 0x7fc427703550>,\n",
       " 'he': <gensim.models.keyedvectors.Vocab at 0x7fc427703c50>,\n",
       " 'He': <gensim.models.keyedvectors.Vocab at 0x7fc427703588>,\n",
       " 'meet': <gensim.models.keyedvectors.Vocab at 0x7fc427703d30>,\n",
       " 'conversation': <gensim.models.keyedvectors.Vocab at 0x7fc427703eb8>,\n",
       " 'rational': <gensim.models.keyedvectors.Vocab at 0x7fc4277039e8>,\n",
       " 'playful': <gensim.models.keyedvectors.Vocab at 0x7fc427703a20>,\n",
       " 'evil': <gensim.models.keyedvectors.Vocab at 0x7fc427703f60>,\n",
       " 'actual': <gensim.models.keyedvectors.Vocab at 0x7fc426592400>,\n",
       " 'disparity': <gensim.models.keyedvectors.Vocab at 0x7fc426592c88>,\n",
       " 'ages': <gensim.models.keyedvectors.Vocab at 0x7fc426592f98>,\n",
       " '(': <gensim.models.keyedvectors.Vocab at 0x7fc426592dd8>,\n",
       " ')': <gensim.models.keyedvectors.Vocab at 0x7fc426592b70>,\n",
       " 'increased': <gensim.models.keyedvectors.Vocab at 0x7fc426592f28>,\n",
       " 'constitution': <gensim.models.keyedvectors.Vocab at 0x7fc426592a90>,\n",
       " 'habits': <gensim.models.keyedvectors.Vocab at 0x7fc4265924e0>,\n",
       " 'life': <gensim.models.keyedvectors.Vocab at 0x7fc426592c50>,\n",
       " 'without': <gensim.models.keyedvectors.Vocab at 0x7fc426592550>,\n",
       " 'activity': <gensim.models.keyedvectors.Vocab at 0x7fc4264fd198>,\n",
       " 'mind': <gensim.models.keyedvectors.Vocab at 0x7fc4264fdcf8>,\n",
       " 'body': <gensim.models.keyedvectors.Vocab at 0x7fc4264fd3c8>,\n",
       " 'older': <gensim.models.keyedvectors.Vocab at 0x7fc4265840f0>,\n",
       " 'though': <gensim.models.keyedvectors.Vocab at 0x7fc426584470>,\n",
       " 'everywhere': <gensim.models.keyedvectors.Vocab at 0x7fc4265849b0>,\n",
       " 'friendliness': <gensim.models.keyedvectors.Vocab at 0x7fc426584940>,\n",
       " 'heart': <gensim.models.keyedvectors.Vocab at 0x7fc426584a58>,\n",
       " 'amiable': <gensim.models.keyedvectors.Vocab at 0x7fc4265847b8>,\n",
       " 'talents': <gensim.models.keyedvectors.Vocab at 0x7fc4265846d8>,\n",
       " 'recommended': <gensim.models.keyedvectors.Vocab at 0x7fc426580470>,\n",
       " 'him': <gensim.models.keyedvectors.Vocab at 0x7fc426580978>,\n",
       " 'time': <gensim.models.keyedvectors.Vocab at 0x7fc426580e48>,\n",
       " 'comparatively': <gensim.models.keyedvectors.Vocab at 0x7fc426580080>,\n",
       " 'removed': <gensim.models.keyedvectors.Vocab at 0x7fc426580518>,\n",
       " 'matrimony': <gensim.models.keyedvectors.Vocab at 0x7fc426580b00>,\n",
       " 'settled': <gensim.models.keyedvectors.Vocab at 0x7fc426580c18>,\n",
       " 'London': <gensim.models.keyedvectors.Vocab at 0x7fc426580cc0>,\n",
       " 'miles': <gensim.models.keyedvectors.Vocab at 0x7fc426580160>,\n",
       " 'off': <gensim.models.keyedvectors.Vocab at 0x7fc427832dd8>,\n",
       " 'beyond': <gensim.models.keyedvectors.Vocab at 0x7fc4278325f8>,\n",
       " 'daily': <gensim.models.keyedvectors.Vocab at 0x7fc427832908>,\n",
       " 'reach': <gensim.models.keyedvectors.Vocab at 0x7fc427832a58>,\n",
       " 'October': <gensim.models.keyedvectors.Vocab at 0x7fc427832fd0>,\n",
       " 'November': <gensim.models.keyedvectors.Vocab at 0x7fc427832e48>,\n",
       " 'struggled': <gensim.models.keyedvectors.Vocab at 0x7fc427832ba8>,\n",
       " 'Hartfield': <gensim.models.keyedvectors.Vocab at 0x7fc427832c18>,\n",
       " 'Christmas': <gensim.models.keyedvectors.Vocab at 0x7fc427832eb8>,\n",
       " 'next': <gensim.models.keyedvectors.Vocab at 0x7fc4278320f0>,\n",
       " 'visit': <gensim.models.keyedvectors.Vocab at 0x7fc4278329b0>,\n",
       " 'husband': <gensim.models.keyedvectors.Vocab at 0x7fc427832b00>,\n",
       " 'children': <gensim.models.keyedvectors.Vocab at 0x7fc427832e80>,\n",
       " 'fill': <gensim.models.keyedvectors.Vocab at 0x7fc4278327b8>,\n",
       " 'give': <gensim.models.keyedvectors.Vocab at 0x7fc427832550>,\n",
       " 'society': <gensim.models.keyedvectors.Vocab at 0x7fc4265677f0>,\n",
       " 'again': <gensim.models.keyedvectors.Vocab at 0x7fc426567b00>,\n",
       " 'Highbury': <gensim.models.keyedvectors.Vocab at 0x7fc4265679b0>,\n",
       " 'populous': <gensim.models.keyedvectors.Vocab at 0x7fc426567828>,\n",
       " 'village': <gensim.models.keyedvectors.Vocab at 0x7fc426567dd8>,\n",
       " 'almost': <gensim.models.keyedvectors.Vocab at 0x7fc426567c50>,\n",
       " 'town': <gensim.models.keyedvectors.Vocab at 0x7fc426567d30>,\n",
       " 'spite': <gensim.models.keyedvectors.Vocab at 0x7fc4265670b8>,\n",
       " 'separate': <gensim.models.keyedvectors.Vocab at 0x7fc426567080>,\n",
       " 'lawn': <gensim.models.keyedvectors.Vocab at 0x7fc426567278>,\n",
       " 'shrubberies': <gensim.models.keyedvectors.Vocab at 0x7fc4271a4a90>,\n",
       " 'name': <gensim.models.keyedvectors.Vocab at 0x7fc4271a49b0>,\n",
       " 'really': <gensim.models.keyedvectors.Vocab at 0x7fc4271a4550>,\n",
       " 'belong': <gensim.models.keyedvectors.Vocab at 0x7fc4271a4a20>,\n",
       " 'afforded': <gensim.models.keyedvectors.Vocab at 0x7fc4271a4588>,\n",
       " 'equals': <gensim.models.keyedvectors.Vocab at 0x7fc4271a4cc0>,\n",
       " 'All': <gensim.models.keyedvectors.Vocab at 0x7fc4271a4e10>,\n",
       " 'looked': <gensim.models.keyedvectors.Vocab at 0x7fc4271a4240>,\n",
       " 'up': <gensim.models.keyedvectors.Vocab at 0x7fc4271a4f60>,\n",
       " 'acquaintance': <gensim.models.keyedvectors.Vocab at 0x7fc4271a4358>,\n",
       " 'universally': <gensim.models.keyedvectors.Vocab at 0x7fc4271a4fd0>,\n",
       " 'civil': <gensim.models.keyedvectors.Vocab at 0x7fc4271a4be0>,\n",
       " 'among': <gensim.models.keyedvectors.Vocab at 0x7fc4271a4438>,\n",
       " 'accepted': <gensim.models.keyedvectors.Vocab at 0x7fc4271a40b8>,\n",
       " 'even': <gensim.models.keyedvectors.Vocab at 0x7fc4271a4ba8>,\n",
       " 'melancholy': <gensim.models.keyedvectors.Vocab at 0x7fc4271a4470>,\n",
       " 'sigh': <gensim.models.keyedvectors.Vocab at 0x7fc4271a4908>,\n",
       " 'wish': <gensim.models.keyedvectors.Vocab at 0x7fc4271a4400>,\n",
       " 'impossible': <gensim.models.keyedvectors.Vocab at 0x7fc4271a49e8>,\n",
       " 'things': <gensim.models.keyedvectors.Vocab at 0x7fc4271a4898>,\n",
       " 'till': <gensim.models.keyedvectors.Vocab at 0x7fc4271a45c0>,\n",
       " 'awoke': <gensim.models.keyedvectors.Vocab at 0x7fc4271a4668>,\n",
       " 'made': <gensim.models.keyedvectors.Vocab at 0x7fc4271a4c18>,\n",
       " 'necessary': <gensim.models.keyedvectors.Vocab at 0x7fc4271a4b70>,\n",
       " 'cheerful': <gensim.models.keyedvectors.Vocab at 0x7fc4271a4f28>,\n",
       " 'His': <gensim.models.keyedvectors.Vocab at 0x7fc4271a4dd8>,\n",
       " 'spirits': <gensim.models.keyedvectors.Vocab at 0x7fc4271a4da0>,\n",
       " 'required': <gensim.models.keyedvectors.Vocab at 0x7fc4271a4390>,\n",
       " 'support': <gensim.models.keyedvectors.Vocab at 0x7fc4271a4d30>,\n",
       " 'nervous': <gensim.models.keyedvectors.Vocab at 0x7fc4271a47f0>,\n",
       " 'easily': <gensim.models.keyedvectors.Vocab at 0x7fc4271a4eb8>,\n",
       " 'depressed': <gensim.models.keyedvectors.Vocab at 0x7fc4271a4940>,\n",
       " 'used': <gensim.models.keyedvectors.Vocab at 0x7fc4271a4278>,\n",
       " 'hating': <gensim.models.keyedvectors.Vocab at 0x7fc4271a48d0>,\n",
       " 'part': <gensim.models.keyedvectors.Vocab at 0x7fc4271a44e0>,\n",
       " 'kind': <gensim.models.keyedvectors.Vocab at 0x7fc4271a44a8>,\n",
       " 'origin': <gensim.models.keyedvectors.Vocab at 0x7fc4271a4208>,\n",
       " 'reconciled': <gensim.models.keyedvectors.Vocab at 0x7fc4271a4e80>,\n",
       " 'daughter': <gensim.models.keyedvectors.Vocab at 0x7fc4271a4748>,\n",
       " 'marrying': <gensim.models.keyedvectors.Vocab at 0x7fc4271a42b0>,\n",
       " 'nor': <gensim.models.keyedvectors.Vocab at 0x7fc4264bb208>,\n",
       " 'ever': <gensim.models.keyedvectors.Vocab at 0x7fc4264bb160>,\n",
       " 'compassion': <gensim.models.keyedvectors.Vocab at 0x7fc4264bb2b0>,\n",
       " 'entirely': <gensim.models.keyedvectors.Vocab at 0x7fc4264bbcc0>,\n",
       " 'when': <gensim.models.keyedvectors.Vocab at 0x7fc4264bbf28>,\n",
       " 'obliged': <gensim.models.keyedvectors.Vocab at 0x7fc4264bb240>,\n",
       " 'selfishness': <gensim.models.keyedvectors.Vocab at 0x7fc4264bb940>,\n",
       " 'able': <gensim.models.keyedvectors.Vocab at 0x7fc4264bb048>,\n",
       " 'suppose': <gensim.models.keyedvectors.Vocab at 0x7fc4264bb8d0>,\n",
       " 'feel': <gensim.models.keyedvectors.Vocab at 0x7fc4264bbe10>,\n",
       " 'differently': <gensim.models.keyedvectors.Vocab at 0x7fc4264bb4a8>,\n",
       " 'disposed': <gensim.models.keyedvectors.Vocab at 0x7fc4264bb0b8>,\n",
       " 'done': <gensim.models.keyedvectors.Vocab at 0x7fc4264bb4e0>,\n",
       " 'sad': <gensim.models.keyedvectors.Vocab at 0x7fc4264bb828>,\n",
       " 'thing': <gensim.models.keyedvectors.Vocab at 0x7fc4264bb550>,\n",
       " 'deal': <gensim.models.keyedvectors.Vocab at 0x7fc4264bbdd8>,\n",
       " 'happier': <gensim.models.keyedvectors.Vocab at 0x7fc4264bbba8>,\n",
       " 'if': <gensim.models.keyedvectors.Vocab at 0x7fc4264bb080>,\n",
       " 'spent': <gensim.models.keyedvectors.Vocab at 0x7fc4264bb1d0>,\n",
       " 'rest': <gensim.models.keyedvectors.Vocab at 0x7fc4264bb7b8>,\n",
       " 'smiled': <gensim.models.keyedvectors.Vocab at 0x7fc4264bb518>,\n",
       " 'cheerfully': <gensim.models.keyedvectors.Vocab at 0x7fc4264bb2e8>,\n",
       " 'keep': <gensim.models.keyedvectors.Vocab at 0x7fc4264bb400>,\n",
       " 'thoughts': <gensim.models.keyedvectors.Vocab at 0x7fc4264bbeb8>,\n",
       " 'tea': <gensim.models.keyedvectors.Vocab at 0x7fc4264bb128>,\n",
       " 'say': <gensim.models.keyedvectors.Vocab at 0x7fc4264bb0f0>,\n",
       " 'exactly': <gensim.models.keyedvectors.Vocab at 0x7fc4264bb320>,\n",
       " 'said': <gensim.models.keyedvectors.Vocab at 0x7fc4264bbd68>,\n",
       " '\"': <gensim.models.keyedvectors.Vocab at 0x7fc4264bba90>,\n",
       " 'Poor': <gensim.models.keyedvectors.Vocab at 0x7fc4264bbc88>,\n",
       " '!--': <gensim.models.keyedvectors.Vocab at 0x7fc4264bb978>,\n",
       " 'What': <gensim.models.keyedvectors.Vocab at 0x7fc4264bb860>,\n",
       " 'pity': <gensim.models.keyedvectors.Vocab at 0x7fc4264bb9e8>,\n",
       " 'is': <gensim.models.keyedvectors.Vocab at 0x7fc4264bb898>,\n",
       " '!\"': <gensim.models.keyedvectors.Vocab at 0x7fc4264bbb38>,\n",
       " 'cannot': <gensim.models.keyedvectors.Vocab at 0x7fc4264bbe80>,\n",
       " 'agree': <gensim.models.keyedvectors.Vocab at 0x7fc4264bb6d8>,\n",
       " 'you': <gensim.models.keyedvectors.Vocab at 0x7fc4265e4748>,\n",
       " 'papa': <gensim.models.keyedvectors.Vocab at 0x7fc4265e4ac8>,\n",
       " 'know': <gensim.models.keyedvectors.Vocab at 0x7fc4265e4c50>,\n",
       " 'good': <gensim.models.keyedvectors.Vocab at 0x7fc4265e4828>,\n",
       " 'humoured': <gensim.models.keyedvectors.Vocab at 0x7fc4265e4780>,\n",
       " 'thoroughly': <gensim.models.keyedvectors.Vocab at 0x7fc4265e47b8>,\n",
       " 'deserves': <gensim.models.keyedvectors.Vocab at 0x7fc4265e4908>,\n",
       " 'wife': <gensim.models.keyedvectors.Vocab at 0x7fc4265e42b0>,\n",
       " ';--': <gensim.models.keyedvectors.Vocab at 0x7fc4265e4438>,\n",
       " 'live': <gensim.models.keyedvectors.Vocab at 0x7fc4265e41d0>,\n",
       " 'us': <gensim.models.keyedvectors.Vocab at 0x7fc4265e4ef0>,\n",
       " 'my': <gensim.models.keyedvectors.Vocab at 0x7fc4265e4240>,\n",
       " 'odd': <gensim.models.keyedvectors.Vocab at 0x7fc4265e4b00>,\n",
       " 'humours': <gensim.models.keyedvectors.Vocab at 0x7fc4265e46a0>,\n",
       " 'might': <gensim.models.keyedvectors.Vocab at 0x7fc4265e48d0>,\n",
       " '?\"': <gensim.models.keyedvectors.Vocab at 0x7fc4265e4da0>,\n",
       " 'But': <gensim.models.keyedvectors.Vocab at 0x7fc4265e4550>,\n",
       " 'where': <gensim.models.keyedvectors.Vocab at 0x7fc4265e4ba8>,\n",
       " 'advantage': <gensim.models.keyedvectors.Vocab at 0x7fc4265e4f60>,\n",
       " '?': <gensim.models.keyedvectors.Vocab at 0x7fc4265e4c88>,\n",
       " 'This': <gensim.models.keyedvectors.Vocab at 0x7fc4265e4e48>,\n",
       " 'three': <gensim.models.keyedvectors.Vocab at 0x7fc4265e4f28>,\n",
       " 'times': <gensim.models.keyedvectors.Vocab at 0x7fc4265e4320>,\n",
       " 'And': <gensim.models.keyedvectors.Vocab at 0x7fc4265e4a90>,\n",
       " 'dear': <gensim.models.keyedvectors.Vocab at 0x7fc4265e4390>,\n",
       " '.\"': <gensim.models.keyedvectors.Vocab at 0x7fc4265e4198>,\n",
       " 'often': <gensim.models.keyedvectors.Vocab at 0x7fc4265e4160>,\n",
       " 'we': <gensim.models.keyedvectors.Vocab at 0x7fc4265e4dd8>,\n",
       " 'shall': <gensim.models.keyedvectors.Vocab at 0x7fc4265e4940>,\n",
       " 'see': <gensim.models.keyedvectors.Vocab at 0x7fc4263c8208>,\n",
       " 'coming': <gensim.models.keyedvectors.Vocab at 0x7fc4263c8cc0>,\n",
       " 'We': <gensim.models.keyedvectors.Vocab at 0x7fc4263c8d30>,\n",
       " 'meeting': <gensim.models.keyedvectors.Vocab at 0x7fc4263c84e0>,\n",
       " '!': <gensim.models.keyedvectors.Vocab at 0x7fc4263c83c8>,\n",
       " 'begin': <gensim.models.keyedvectors.Vocab at 0x7fc4263c8518>,\n",
       " 'go': <gensim.models.keyedvectors.Vocab at 0x7fc4263c8b38>,\n",
       " 'pay': <gensim.models.keyedvectors.Vocab at 0x7fc4263c8a58>,\n",
       " 'My': <gensim.models.keyedvectors.Vocab at 0x7fc4263c85c0>,\n",
       " 'am': <gensim.models.keyedvectors.Vocab at 0x7fc4263c8668>,\n",
       " 'get': <gensim.models.keyedvectors.Vocab at 0x7fc4263c8710>,\n",
       " 'far': <gensim.models.keyedvectors.Vocab at 0x7fc4263c8080>,\n",
       " 'Randalls': <gensim.models.keyedvectors.Vocab at 0x7fc4263c8550>,\n",
       " 'distance': <gensim.models.keyedvectors.Vocab at 0x7fc4263c8e48>,\n",
       " 'walk': <gensim.models.keyedvectors.Vocab at 0x7fc4263c8b70>,\n",
       " 'No': <gensim.models.keyedvectors.Vocab at 0x7fc4263c8588>,\n",
       " 'nobody': <gensim.models.keyedvectors.Vocab at 0x7fc4263c8c50>,\n",
       " 'your': <gensim.models.keyedvectors.Vocab at 0x7fc4263c8da0>,\n",
       " 'walking': <gensim.models.keyedvectors.Vocab at 0x7fc4263c89b0>,\n",
       " 'carriage': <gensim.models.keyedvectors.Vocab at 0x7fc4263c85f8>,\n",
       " 'sure': <gensim.models.keyedvectors.Vocab at 0x7fc4263c8b00>,\n",
       " 'James': <gensim.models.keyedvectors.Vocab at 0x7fc4263c82e8>,\n",
       " 'will': <gensim.models.keyedvectors.Vocab at 0x7fc4263c81d0>,\n",
       " 'like': <gensim.models.keyedvectors.Vocab at 0x7fc4263c8128>,\n",
       " 'put': <gensim.models.keyedvectors.Vocab at 0x7fc4263c8978>,\n",
       " 'horses': <gensim.models.keyedvectors.Vocab at 0x7fc4263c8f28>,\n",
       " 'are': <gensim.models.keyedvectors.Vocab at 0x7fc4263c86a0>,\n",
       " 'poor': <gensim.models.keyedvectors.Vocab at 0x7fc4263c84a8>,\n",
       " 'while': <gensim.models.keyedvectors.Vocab at 0x7fc4263c82b0>,\n",
       " 'paying': <gensim.models.keyedvectors.Vocab at 0x7fc42728ce80>,\n",
       " 'our': <gensim.models.keyedvectors.Vocab at 0x7fc42728c1d0>,\n",
       " 'They': <gensim.models.keyedvectors.Vocab at 0x7fc42728c630>,\n",
       " 'into': <gensim.models.keyedvectors.Vocab at 0x7fc42728c6d8>,\n",
       " 'stable': <gensim.models.keyedvectors.Vocab at 0x7fc42728c4e0>,\n",
       " 'You': <gensim.models.keyedvectors.Vocab at 0x7fc42728c7f0>,\n",
       " 'already': <gensim.models.keyedvectors.Vocab at 0x7fc42728cef0>,\n",
       " 'talked': <gensim.models.keyedvectors.Vocab at 0x7fc4263a55c0>,\n",
       " 'night': <gensim.models.keyedvectors.Vocab at 0x7fc4263a55f8>,\n",
       " 'may': <gensim.models.keyedvectors.Vocab at 0x7fc4263a5518>,\n",
       " 'because': <gensim.models.keyedvectors.Vocab at 0x7fc4263a5a58>,\n",
       " 'doubt': <gensim.models.keyedvectors.Vocab at 0x7fc4263a5fd0>,\n",
       " 'whether': <gensim.models.keyedvectors.Vocab at 0x7fc4263a5f60>,\n",
       " 'take': <gensim.models.keyedvectors.Vocab at 0x7fc4263a5e10>,\n",
       " 'anywhere': <gensim.models.keyedvectors.Vocab at 0x7fc4263a5a20>,\n",
       " 'else': <gensim.models.keyedvectors.Vocab at 0x7fc4263a5f98>,\n",
       " 'That': <gensim.models.keyedvectors.Vocab at 0x7fc4263a5e48>,\n",
       " 'got': <gensim.models.keyedvectors.Vocab at 0x7fc4263a5780>,\n",
       " 'Hannah': <gensim.models.keyedvectors.Vocab at 0x7fc4263a5860>,\n",
       " 'Nobody': <gensim.models.keyedvectors.Vocab at 0x7fc4263a5ac8>,\n",
       " 'mentioned': <gensim.models.keyedvectors.Vocab at 0x7fc4263a5198>,\n",
       " 'glad': <gensim.models.keyedvectors.Vocab at 0x7fc4263a5940>,\n",
       " 'lucky': <gensim.models.keyedvectors.Vocab at 0x7fc4263a5208>,\n",
       " 'slighted': <gensim.models.keyedvectors.Vocab at 0x7fc4263a5d68>,\n",
       " 'upon': <gensim.models.keyedvectors.Vocab at 0x7fc4263a51d0>,\n",
       " 'account': <gensim.models.keyedvectors.Vocab at 0x7fc4263a5d30>,\n",
       " 'make': <gensim.models.keyedvectors.Vocab at 0x7fc4263a5c50>,\n",
       " 'servant': <gensim.models.keyedvectors.Vocab at 0x7fc4263a5630>,\n",
       " 'pretty': <gensim.models.keyedvectors.Vocab at 0x7fc4263a5048>,\n",
       " 'spoken': <gensim.models.keyedvectors.Vocab at 0x7fc4263a5b38>,\n",
       " 'girl': <gensim.models.keyedvectors.Vocab at 0x7fc4263a5ba8>,\n",
       " 'opinion': <gensim.models.keyedvectors.Vocab at 0x7fc4263a54a8>,\n",
       " 'Whenever': <gensim.models.keyedvectors.Vocab at 0x7fc4263a52e8>,\n",
       " 'asks': <gensim.models.keyedvectors.Vocab at 0x7fc4263a5eb8>,\n",
       " 'me': <gensim.models.keyedvectors.Vocab at 0x7fc4263a50f0>,\n",
       " 'do': <gensim.models.keyedvectors.Vocab at 0x7fc4263a5898>,\n",
       " 'manner': <gensim.models.keyedvectors.Vocab at 0x7fc4263a58d0>,\n",
       " 'needlework': <gensim.models.keyedvectors.Vocab at 0x7fc4263a5438>,\n",
       " 'observe': <gensim.models.keyedvectors.Vocab at 0x7fc4263a5a90>,\n",
       " 'turns': <gensim.models.keyedvectors.Vocab at 0x7fc4263a5080>,\n",
       " 'lock': <gensim.models.keyedvectors.Vocab at 0x7fc4263a5ef0>,\n",
       " 'door': <gensim.models.keyedvectors.Vocab at 0x7fc4263a5390>,\n",
       " 'right': <gensim.models.keyedvectors.Vocab at 0x7fc426576e10>,\n",
       " 'comfort': <gensim.models.keyedvectors.Vocab at 0x7fc4265766a0>,\n",
       " 'somebody': <gensim.models.keyedvectors.Vocab at 0x7fc426576cf8>,\n",
       " 'about': <gensim.models.keyedvectors.Vocab at 0x7fc426576668>,\n",
       " 'goes': <gensim.models.keyedvectors.Vocab at 0x7fc426576208>,\n",
       " 'hearing': <gensim.models.keyedvectors.Vocab at 0x7fc4265767f0>,\n",
       " 'tell': <gensim.models.keyedvectors.Vocab at 0x7fc426576940>,\n",
       " 'spared': <gensim.models.keyedvectors.Vocab at 0x7fc4265766d8>,\n",
       " 'exertions': <gensim.models.keyedvectors.Vocab at 0x7fc426576a20>,\n",
       " 'maintain': <gensim.models.keyedvectors.Vocab at 0x7fc4265760b8>,\n",
       " 'flow': <gensim.models.keyedvectors.Vocab at 0x7fc426576588>,\n",
       " 'ideas': <gensim.models.keyedvectors.Vocab at 0x7fc42649d7b8>,\n",
       " 'hoped': <gensim.models.keyedvectors.Vocab at 0x7fc42649d630>,\n",
       " 'help': <gensim.models.keyedvectors.Vocab at 0x7fc42649d208>,\n",
       " 'tolerably': <gensim.models.keyedvectors.Vocab at 0x7fc42649d940>,\n",
       " 'attacked': <gensim.models.keyedvectors.Vocab at 0x7fc42649d668>,\n",
       " 'regrets': <gensim.models.keyedvectors.Vocab at 0x7fc42649db38>,\n",
       " 'table': <gensim.models.keyedvectors.Vocab at 0x7fc42649d588>,\n",
       " 'placed': <gensim.models.keyedvectors.Vocab at 0x7fc42649dcf8>,\n",
       " 'visitor': <gensim.models.keyedvectors.Vocab at 0x7fc42649ddd8>,\n",
       " 'immediately': <gensim.models.keyedvectors.Vocab at 0x7fc42649da90>,\n",
       " 'afterwards': <gensim.models.keyedvectors.Vocab at 0x7fc42649d128>,\n",
       " 'walked': <gensim.models.keyedvectors.Vocab at 0x7fc42649dd68>,\n",
       " 'unnecessary': <gensim.models.keyedvectors.Vocab at 0x7fc42649d908>,\n",
       " 'Knightley': <gensim.models.keyedvectors.Vocab at 0x7fc42649d4a8>,\n",
       " 'sensible': <gensim.models.keyedvectors.Vocab at 0x7fc42649d358>,\n",
       " 'eight': <gensim.models.keyedvectors.Vocab at 0x7fc42649d5f8>,\n",
       " 'thirty': <gensim.models.keyedvectors.Vocab at 0x7fc42649d550>,\n",
       " 'intimate': <gensim.models.keyedvectors.Vocab at 0x7fc42649df60>,\n",
       " 'connected': <gensim.models.keyedvectors.Vocab at 0x7fc42649da58>,\n",
       " 'elder': <gensim.models.keyedvectors.Vocab at 0x7fc42649d748>,\n",
       " 'brother': <gensim.models.keyedvectors.Vocab at 0x7fc42649d198>,\n",
       " 'frequent': <gensim.models.keyedvectors.Vocab at 0x7fc42649de48>,\n",
       " 'welcome': <gensim.models.keyedvectors.Vocab at 0x7fc42649d0f0>,\n",
       " 'directly': <gensim.models.keyedvectors.Vocab at 0x7fc42649db70>,\n",
       " 'mutual': <gensim.models.keyedvectors.Vocab at 0x7fc42649dba8>,\n",
       " 'connexions': <gensim.models.keyedvectors.Vocab at 0x7fc42649dbe0>,\n",
       " 'returned': <gensim.models.keyedvectors.Vocab at 0x7fc42649de80>,\n",
       " 'late': <gensim.models.keyedvectors.Vocab at 0x7fc42649d6a0>,\n",
       " 'days': <gensim.models.keyedvectors.Vocab at 0x7fc42649d278>,\n",
       " 'absence': <gensim.models.keyedvectors.Vocab at 0x7fc42649d438>,\n",
       " 'Brunswick': <gensim.models.keyedvectors.Vocab at 0x7fc42649d9b0>,\n",
       " 'Square': <gensim.models.keyedvectors.Vocab at 0x7fc42649dd30>,\n",
       " 'circumstance': <gensim.models.keyedvectors.Vocab at 0x7fc42649dfd0>,\n",
       " 'animated': <gensim.models.keyedvectors.Vocab at 0x7fc42649def0>,\n",
       " 'inquiries': <gensim.models.keyedvectors.Vocab at 0x7fc42649d160>,\n",
       " 'answered': <gensim.models.keyedvectors.Vocab at 0x7fc42649d5c0>,\n",
       " 'When': <gensim.models.keyedvectors.Vocab at 0x7fc42649d2b0>,\n",
       " 'gratefully': <gensim.models.keyedvectors.Vocab at 0x7fc42649d390>,\n",
       " 'observed': <gensim.models.keyedvectors.Vocab at 0x7fc42649d2e8>,\n",
       " 'come': <gensim.models.keyedvectors.Vocab at 0x7fc42649d400>,\n",
       " 'out': <gensim.models.keyedvectors.Vocab at 0x7fc42649dda0>,\n",
       " 'call': <gensim.models.keyedvectors.Vocab at 0x7fc42649d898>,\n",
       " 'afraid': <gensim.models.keyedvectors.Vocab at 0x7fc42649d240>,\n",
       " 'shocking': <gensim.models.keyedvectors.Vocab at 0x7fc4264d0dd8>,\n",
       " 'Not': <gensim.models.keyedvectors.Vocab at 0x7fc4264d0710>,\n",
       " 'sir': <gensim.models.keyedvectors.Vocab at 0x7fc4264d05f8>,\n",
       " 'beautiful': <gensim.models.keyedvectors.Vocab at 0x7fc4264d0518>,\n",
       " 'moonlight': <gensim.models.keyedvectors.Vocab at 0x7fc4264d0c50>,\n",
       " 'mild': <gensim.models.keyedvectors.Vocab at 0x7fc4264d0cc0>,\n",
       " 'draw': <gensim.models.keyedvectors.Vocab at 0x7fc4264d04e0>,\n",
       " 'back': <gensim.models.keyedvectors.Vocab at 0x7fc4264d0048>,\n",
       " 'fire': <gensim.models.keyedvectors.Vocab at 0x7fc4264d0470>,\n",
       " 'found': <gensim.models.keyedvectors.Vocab at 0x7fc4264d0198>,\n",
       " 'damp': <gensim.models.keyedvectors.Vocab at 0x7fc4264d0f98>,\n",
       " 'dirty': <gensim.models.keyedvectors.Vocab at 0x7fc4264d0128>,\n",
       " 'catch': <gensim.models.keyedvectors.Vocab at 0x7fc4264d0f28>,\n",
       " 'cold': <gensim.models.keyedvectors.Vocab at 0x7fc4264d02b0>,\n",
       " 'Look': <gensim.models.keyedvectors.Vocab at 0x7fc4264d01d0>,\n",
       " 'shoes': <gensim.models.keyedvectors.Vocab at 0x7fc4264d00f0>,\n",
       " 'Well': <gensim.models.keyedvectors.Vocab at 0x7fc4264d00b8>,\n",
       " 'quite': <gensim.models.keyedvectors.Vocab at 0x7fc4264d08d0>,\n",
       " 'surprising': <gensim.models.keyedvectors.Vocab at 0x7fc4264d02e8>,\n",
       " 'vast': <gensim.models.keyedvectors.Vocab at 0x7fc4264d0cf8>,\n",
       " 'rain': <gensim.models.keyedvectors.Vocab at 0x7fc4264d0320>,\n",
       " 'rained': <gensim.models.keyedvectors.Vocab at 0x7fc4264d0390>,\n",
       " 'dreadfully': <gensim.models.keyedvectors.Vocab at 0x7fc4264d0278>,\n",
       " 'hard': <gensim.models.keyedvectors.Vocab at 0x7fc4264d0a90>,\n",
       " 'breakfast': <gensim.models.keyedvectors.Vocab at 0x7fc4264d0eb8>,\n",
       " 'wanted': <gensim.models.keyedvectors.Vocab at 0x7fc4264d06d8>,\n",
       " 'By': <gensim.models.keyedvectors.Vocab at 0x7fc4264d0b70>,\n",
       " 'bye': <gensim.models.keyedvectors.Vocab at 0x7fc4264d05c0>,\n",
       " 'joy': <gensim.models.keyedvectors.Vocab at 0x7fc4264d07f0>,\n",
       " 'Being': <gensim.models.keyedvectors.Vocab at 0x7fc4264d0400>,\n",
       " 'sort': <gensim.models.keyedvectors.Vocab at 0x7fc4264d0588>,\n",
       " 'feeling': <gensim.models.keyedvectors.Vocab at 0x7fc4264d0780>,\n",
       " 'hurry': <gensim.models.keyedvectors.Vocab at 0x7fc4264d0668>,\n",
       " 'congratulations': <gensim.models.keyedvectors.Vocab at 0x7fc4264d04a8>,\n",
       " 'hope': <gensim.models.keyedvectors.Vocab at 0x7fc4264d0a58>,\n",
       " 'went': <gensim.models.keyedvectors.Vocab at 0x7fc4264d0940>,\n",
       " 'behave': <gensim.models.keyedvectors.Vocab at 0x7fc4265b99e8>,\n",
       " 'Who': <gensim.models.keyedvectors.Vocab at 0x7fc4265b90f0>,\n",
       " 'cried': <gensim.models.keyedvectors.Vocab at 0x7fc4265b9e80>,\n",
       " 'Ah': <gensim.models.keyedvectors.Vocab at 0x7fc4265b91d0>,\n",
       " 'Tis': <gensim.models.keyedvectors.Vocab at 0x7fc4265b93c8>,\n",
       " 'business': <gensim.models.keyedvectors.Vocab at 0x7fc4265b9630>,\n",
       " 'please': <gensim.models.keyedvectors.Vocab at 0x7fc4265b9a90>,\n",
       " 'possibly': <gensim.models.keyedvectors.Vocab at 0x7fc4265b9828>,\n",
       " '`': <gensim.models.keyedvectors.Vocab at 0x7fc4265b9780>,\n",
       " \".'\": <gensim.models.keyedvectors.Vocab at 0x7fc4265b9ac8>,\n",
       " 'regard': <gensim.models.keyedvectors.Vocab at 0x7fc4265b92e8>,\n",
       " 'comes': <gensim.models.keyedvectors.Vocab at 0x7fc4265b9ba8>,\n",
       " 'question': <gensim.models.keyedvectors.Vocab at 0x7fc4265b9208>,\n",
       " 'dependence': <gensim.models.keyedvectors.Vocab at 0x7fc4265b94a8>,\n",
       " 'independence': <gensim.models.keyedvectors.Vocab at 0x7fc4265b9c18>,\n",
       " 'At': <gensim.models.keyedvectors.Vocab at 0x7fc4265b9978>,\n",
       " 'rate': <gensim.models.keyedvectors.Vocab at 0x7fc4265b9f28>,\n",
       " 'better': <gensim.models.keyedvectors.Vocab at 0x7fc4265b9898>,\n",
       " '_one_': <gensim.models.keyedvectors.Vocab at 0x7fc4265b9c50>,\n",
       " 'those': <gensim.models.keyedvectors.Vocab at 0x7fc4265b9080>,\n",
       " 'fanciful': <gensim.models.keyedvectors.Vocab at 0x7fc4265b9dd8>,\n",
       " 'troublesome': <gensim.models.keyedvectors.Vocab at 0x7fc4265b9278>,\n",
       " 'creature': <gensim.models.keyedvectors.Vocab at 0x7fc4265b9d68>,\n",
       " 'playfully': <gensim.models.keyedvectors.Vocab at 0x7fc4265b97b8>,\n",
       " 'head': <gensim.models.keyedvectors.Vocab at 0x7fc4265b9160>,\n",
       " 'certainly': <gensim.models.keyedvectors.Vocab at 0x7fc4265b9c88>,\n",
       " 'believe': <gensim.models.keyedvectors.Vocab at 0x7fc4265b9470>,\n",
       " ',\"': <gensim.models.keyedvectors.Vocab at 0x7fc4265b9e48>,\n",
       " 'sometimes': <gensim.models.keyedvectors.Vocab at 0x7fc4265b9ef0>,\n",
       " 'dearest': <gensim.models.keyedvectors.Vocab at 0x7fc4265b90b8>,\n",
       " 'mean': <gensim.models.keyedvectors.Vocab at 0x7fc4265b9240>,\n",
       " '_you_': <gensim.models.keyedvectors.Vocab at 0x7fc4265b9b38>,\n",
       " 'horrible': <gensim.models.keyedvectors.Vocab at 0x7fc4265b94e0>,\n",
       " 'idea': <gensim.models.keyedvectors.Vocab at 0x7fc4265b9550>,\n",
       " 'Oh': <gensim.models.keyedvectors.Vocab at 0x7fc4265b9198>,\n",
       " 'meant': <gensim.models.keyedvectors.Vocab at 0x7fc4265b9438>,\n",
       " 'myself': <gensim.models.keyedvectors.Vocab at 0x7fc4265b95c0>,\n",
       " 'loves': <gensim.models.keyedvectors.Vocab at 0x7fc4265b9588>,\n",
       " 'joke': <gensim.models.keyedvectors.Vocab at 0x7fc4265b9940>,\n",
       " 'another': <gensim.models.keyedvectors.Vocab at 0x7fc4265b9710>,\n",
       " 'fact': <gensim.models.keyedvectors.Vocab at 0x7fc4271d2390>,\n",
       " 'faults': <gensim.models.keyedvectors.Vocab at 0x7fc4271d2f98>,\n",
       " 'told': <gensim.models.keyedvectors.Vocab at 0x7fc4271d2208>,\n",
       " 'agreeable': <gensim.models.keyedvectors.Vocab at 0x7fc4271d22e8>,\n",
       " 'knew': <gensim.models.keyedvectors.Vocab at 0x7fc4271d23c8>,\n",
       " 'suspect': <gensim.models.keyedvectors.Vocab at 0x7fc4271d2dd8>,\n",
       " 'knows': <gensim.models.keyedvectors.Vocab at 0x7fc4271d2f60>,\n",
       " 'flatter': <gensim.models.keyedvectors.Vocab at 0x7fc4271d2be0>,\n",
       " 'reflection': <gensim.models.keyedvectors.Vocab at 0x7fc4271d28d0>,\n",
       " 'has': <gensim.models.keyedvectors.Vocab at 0x7fc4271d2cf8>,\n",
       " 'persons': <gensim.models.keyedvectors.Vocab at 0x7fc4271d2898>,\n",
       " 'chances': <gensim.models.keyedvectors.Vocab at 0x7fc4271d2470>,\n",
       " 'willing': <gensim.models.keyedvectors.Vocab at 0x7fc4271d2198>,\n",
       " 'let': <gensim.models.keyedvectors.Vocab at 0x7fc4271d27f0>,\n",
       " 'pass': <gensim.models.keyedvectors.Vocab at 0x7fc4271d2d30>,\n",
       " '--\"': <gensim.models.keyedvectors.Vocab at 0x7fc4271d2b00>,\n",
       " 'hear': <gensim.models.keyedvectors.Vocab at 0x7fc4271d2860>,\n",
       " 'behaved': <gensim.models.keyedvectors.Vocab at 0x7fc4271d2eb8>,\n",
       " 'charmingly': <gensim.models.keyedvectors.Vocab at 0x7fc4271d21d0>,\n",
       " 'Every': <gensim.models.keyedvectors.Vocab at 0x7fc4271d2c18>,\n",
       " 'punctual': <gensim.models.keyedvectors.Vocab at 0x7fc4271d2358>,\n",
       " 'looks': <gensim.models.keyedvectors.Vocab at 0x7fc4271d2d68>,\n",
       " 'tear': <gensim.models.keyedvectors.Vocab at 0x7fc4271d2978>,\n",
       " 'face': <gensim.models.keyedvectors.Vocab at 0x7fc4271d2518>,\n",
       " 'seen': <gensim.models.keyedvectors.Vocab at 0x7fc4271d2fd0>,\n",
       " 'apart': <gensim.models.keyedvectors.Vocab at 0x7fc4271d2a58>,\n",
       " 'Dear': <gensim.models.keyedvectors.Vocab at 0x7fc4271d2da0>,\n",
       " 'bears': <gensim.models.keyedvectors.Vocab at 0x7fc4271d26d8>,\n",
       " 'sorry': <gensim.models.keyedvectors.Vocab at 0x7fc4271d2f28>,\n",
       " 'lose': <gensim.models.keyedvectors.Vocab at 0x7fc4263af978>,\n",
       " 'miss': <gensim.models.keyedvectors.Vocab at 0x7fc4263afd30>,\n",
       " 'thinks': <gensim.models.keyedvectors.Vocab at 0x7fc4263af438>,\n",
       " 'turned': <gensim.models.keyedvectors.Vocab at 0x7fc4263af2e8>,\n",
       " 'divided': <gensim.models.keyedvectors.Vocab at 0x7fc4263afbe0>,\n",
       " 'tears': <gensim.models.keyedvectors.Vocab at 0x7fc4263af710>,\n",
       " 'smiles': <gensim.models.keyedvectors.Vocab at 0x7fc4263afac8>,\n",
       " 'should': <gensim.models.keyedvectors.Vocab at 0x7fc4263af860>,\n",
       " 'acceptable': <gensim.models.keyedvectors.Vocab at 0x7fc426374a90>,\n",
       " 'important': <gensim.models.keyedvectors.Vocab at 0x7fc4263742b0>,\n",
       " 'secure': <gensim.models.keyedvectors.Vocab at 0x7fc426374898>,\n",
       " 'provision': <gensim.models.keyedvectors.Vocab at 0x7fc426374630>,\n",
       " 'therefore': <gensim.models.keyedvectors.Vocab at 0x7fc4263740f0>,\n",
       " 'allow': <gensim.models.keyedvectors.Vocab at 0x7fc4263744a8>,\n",
       " 'pain': <gensim.models.keyedvectors.Vocab at 0x7fc426374518>,\n",
       " 'happily': <gensim.models.keyedvectors.Vocab at 0x7fc426374f98>,\n",
       " 'forgotten': <gensim.models.keyedvectors.Vocab at 0x7fc426374748>,\n",
       " 'matter': <gensim.models.keyedvectors.Vocab at 0x7fc426374358>,\n",
       " 'considerable': <gensim.models.keyedvectors.Vocab at 0x7fc426374128>,\n",
       " 'four': <gensim.models.keyedvectors.Vocab at 0x7fc426374080>,\n",
       " 'proved': <gensim.models.keyedvectors.Vocab at 0x7fc426374400>,\n",
       " 'marry': <gensim.models.keyedvectors.Vocab at 0x7fc426374c18>,\n",
       " 'shook': <gensim.models.keyedvectors.Vocab at 0x7fc426374240>,\n",
       " 'fondly': <gensim.models.keyedvectors.Vocab at 0x7fc426374780>,\n",
       " 'replied': <gensim.models.keyedvectors.Vocab at 0x7fc426374390>,\n",
       " 'matches': <gensim.models.keyedvectors.Vocab at 0x7fc426374978>,\n",
       " 'foretell': <gensim.models.keyedvectors.Vocab at 0x7fc4263745c0>,\n",
       " 'whatever': <gensim.models.keyedvectors.Vocab at 0x7fc426374ef0>,\n",
       " 'Pray': <gensim.models.keyedvectors.Vocab at 0x7fc426374828>,\n",
       " 'none': <gensim.models.keyedvectors.Vocab at 0x7fc4263740b8>,\n",
       " 'greatest': <gensim.models.keyedvectors.Vocab at 0x7fc426374c88>,\n",
       " 'amusement': <gensim.models.keyedvectors.Vocab at 0x7fc4263747b8>,\n",
       " 'success': <gensim.models.keyedvectors.Vocab at 0x7fc4263743c8>,\n",
       " 'widower': <gensim.models.keyedvectors.Vocab at 0x7fc426429a90>,\n",
       " 'perfectly': <gensim.models.keyedvectors.Vocab at 0x7fc426429390>,\n",
       " 'constantly': <gensim.models.keyedvectors.Vocab at 0x7fc426429da0>,\n",
       " 'occupied': <gensim.models.keyedvectors.Vocab at 0x7fc4264298d0>,\n",
       " 'either': <gensim.models.keyedvectors.Vocab at 0x7fc426429b38>,\n",
       " 'friends': <gensim.models.keyedvectors.Vocab at 0x7fc426429518>,\n",
       " 'wherever': <gensim.models.keyedvectors.Vocab at 0x7fc4264292b0>,\n",
       " 'need': <gensim.models.keyedvectors.Vocab at 0x7fc426429c50>,\n",
       " 'spend': <gensim.models.keyedvectors.Vocab at 0x7fc426429550>,\n",
       " 'single': <gensim.models.keyedvectors.Vocab at 0x7fc426429668>,\n",
       " 'year': <gensim.models.keyedvectors.Vocab at 0x7fc426429eb8>,\n",
       " 'alone': <gensim.models.keyedvectors.Vocab at 0x7fc4264292e8>,\n",
       " 'Some': <gensim.models.keyedvectors.Vocab at 0x7fc4264290f0>,\n",
       " 'others': <gensim.models.keyedvectors.Vocab at 0x7fc4264293c8>,\n",
       " 'son': <gensim.models.keyedvectors.Vocab at 0x7fc426429f98>,\n",
       " 'uncle': <gensim.models.keyedvectors.Vocab at 0x7fc4264299b0>,\n",
       " 'letting': <gensim.models.keyedvectors.Vocab at 0x7fc426429dd8>,\n",
       " 'solemn': <gensim.models.keyedvectors.Vocab at 0x7fc426429860>,\n",
       " 'nonsense': <gensim.models.keyedvectors.Vocab at 0x7fc4263cea58>,\n",
       " 'subject': <gensim.models.keyedvectors.Vocab at 0x7fc4263ce470>,\n",
       " 'believed': <gensim.models.keyedvectors.Vocab at 0x7fc4263ceb38>,\n",
       " 'Ever': <gensim.models.keyedvectors.Vocab at 0x7fc4263ce8d0>,\n",
       " 'since': <gensim.models.keyedvectors.Vocab at 0x7fc4263ce940>,\n",
       " 'met': <gensim.models.keyedvectors.Vocab at 0x7fc4263cec50>,\n",
       " 'Broadway': <gensim.models.keyedvectors.Vocab at 0x7fc4263ce828>,\n",
       " 'Lane': <gensim.models.keyedvectors.Vocab at 0x7fc4263cec88>,\n",
       " 'began': <gensim.models.keyedvectors.Vocab at 0x7fc4263ce358>,\n",
       " 'darted': <gensim.models.keyedvectors.Vocab at 0x7fc4263ce668>,\n",
       " 'gallantry': <gensim.models.keyedvectors.Vocab at 0x7fc4263ceba8>,\n",
       " 'borrowed': <gensim.models.keyedvectors.Vocab at 0x7fc4263ceb00>,\n",
       " 'Farmer': <gensim.models.keyedvectors.Vocab at 0x7fc4263ce2b0>,\n",
       " 'planned': <gensim.models.keyedvectors.Vocab at 0x7fc4263ce5f8>,\n",
       " 'blessed': <gensim.models.keyedvectors.Vocab at 0x7fc4263ce438>,\n",
       " 'instance': <gensim.models.keyedvectors.Vocab at 0x7fc4263ce780>,\n",
       " 'leave': <gensim.models.keyedvectors.Vocab at 0x7fc4263ceac8>,\n",
       " 'making': <gensim.models.keyedvectors.Vocab at 0x7fc4263ce400>,\n",
       " 'understand': <gensim.models.keyedvectors.Vocab at 0x7fc4263ce2e8>,\n",
       " ',\\'\"': <gensim.models.keyedvectors.Vocab at 0x7fc4263ce4a8>,\n",
       " 'supposes': <gensim.models.keyedvectors.Vocab at 0x7fc4263cea20>,\n",
       " 'endeavour': <gensim.models.keyedvectors.Vocab at 0x7fc4263ce7b8>,\n",
       " 'Your': <gensim.models.keyedvectors.Vocab at 0x7fc4263ce128>,\n",
       " 'properly': <gensim.models.keyedvectors.Vocab at 0x7fc4263ce4e0>,\n",
       " 'delicately': <gensim.models.keyedvectors.Vocab at 0x7fc4263ce160>,\n",
       " 'endeavouring': <gensim.models.keyedvectors.Vocab at 0x7fc4263cef28>,\n",
       " 'bring': <gensim.models.keyedvectors.Vocab at 0x7fc4263ce320>,\n",
       " 'worthy': <gensim.models.keyedvectors.Vocab at 0x7fc4263ce0b8>,\n",
       " 'employment': <gensim.models.keyedvectors.Vocab at 0x7fc4263ce5c0>,\n",
       " 'young': <gensim.models.keyedvectors.Vocab at 0x7fc4263ce0f0>,\n",
       " 'lady': <gensim.models.keyedvectors.Vocab at 0x7fc4263ce630>,\n",
       " 'imagine': <gensim.models.keyedvectors.Vocab at 0x7fc4263cecc0>,\n",
       " 'planning': <gensim.models.keyedvectors.Vocab at 0x7fc4263ce278>,\n",
       " 'saying': <gensim.models.keyedvectors.Vocab at 0x7fc4263ce390>,\n",
       " 'yourself': <gensim.models.keyedvectors.Vocab at 0x7fc4263ce748>,\n",
       " 'idle': <gensim.models.keyedvectors.Vocab at 0x7fc4263ced30>,\n",
       " \",'\": <gensim.models.keyedvectors.Vocab at 0x7fc4263ce3c8>,\n",
       " 'why': <gensim.models.keyedvectors.Vocab at 0x7fc4263ce080>,\n",
       " 'talk': <gensim.models.keyedvectors.Vocab at 0x7fc4272a17f0>,\n",
       " 'Where': <gensim.models.keyedvectors.Vocab at 0x7fc4272a1048>,\n",
       " 'merit': <gensim.models.keyedvectors.Vocab at 0x7fc4272a16d8>,\n",
       " 'proud': <gensim.models.keyedvectors.Vocab at 0x7fc4272a13c8>,\n",
       " 'guess': <gensim.models.keyedvectors.Vocab at 0x7fc4272a1c88>,\n",
       " '_that_': <gensim.models.keyedvectors.Vocab at 0x7fc4272a1908>,\n",
       " 'can': <gensim.models.keyedvectors.Vocab at 0x7fc4272a1668>,\n",
       " 'known': <gensim.models.keyedvectors.Vocab at 0x7fc4272a1cf8>,\n",
       " 'triumph': <gensim.models.keyedvectors.Vocab at 0x7fc4272a1208>,\n",
       " 'cleverer': <gensim.models.keyedvectors.Vocab at 0x7fc4272a1eb8>,\n",
       " 'depend': <gensim.models.keyedvectors.Vocab at 0x7fc4272a1400>,\n",
       " 'merely': <gensim.models.keyedvectors.Vocab at 0x7fc4272a14a8>,\n",
       " 'luck': <gensim.models.keyedvectors.Vocab at 0x7fc4272a1358>,\n",
       " 'There': <gensim.models.keyedvectors.Vocab at 0x7fc4272a10b8>,\n",
       " 'talent': <gensim.models.keyedvectors.Vocab at 0x7fc4272a1f98>,\n",
       " 'word': <gensim.models.keyedvectors.Vocab at 0x7fc4272a1978>,\n",
       " 'quarrel': <gensim.models.keyedvectors.Vocab at 0x7fc4272a1b70>,\n",
       " 'claim': <gensim.models.keyedvectors.Vocab at 0x7fc4272a1da0>,\n",
       " 'drawn': <gensim.models.keyedvectors.Vocab at 0x7fc4272a1278>,\n",
       " 'pictures': <gensim.models.keyedvectors.Vocab at 0x7fc4272a1240>,\n",
       " 'something': <gensim.models.keyedvectors.Vocab at 0x7fc4272a1630>,\n",
       " 'nothing': <gensim.models.keyedvectors.Vocab at 0x7fc4272a1940>,\n",
       " 'If': <gensim.models.keyedvectors.Vocab at 0x7fc4272a15f8>,\n",
       " 'visits': <gensim.models.keyedvectors.Vocab at 0x7fc4272a1160>,\n",
       " 'given': <gensim.models.keyedvectors.Vocab at 0x7fc4272a17b8>,\n",
       " 'smoothed': <gensim.models.keyedvectors.Vocab at 0x7fc4272a1438>,\n",
       " 'matters': <gensim.models.keyedvectors.Vocab at 0x7fc4272a1ef0>,\n",
       " 'enough': <gensim.models.keyedvectors.Vocab at 0x7fc4272a1e80>,\n",
       " 'comprehend': <gensim.models.keyedvectors.Vocab at 0x7fc4272a1b00>,\n",
       " 'open': <gensim.models.keyedvectors.Vocab at 0x7fc4272a1860>,\n",
       " 'hearted': <gensim.models.keyedvectors.Vocab at 0x7fc4272a1080>,\n",
       " 'unaffected': <gensim.models.keyedvectors.Vocab at 0x7fc4272a12e8>,\n",
       " 'safely': <gensim.models.keyedvectors.Vocab at 0x7fc4272a16a0>,\n",
       " 'manage': <gensim.models.keyedvectors.Vocab at 0x7fc427854828>,\n",
       " 'likely': <gensim.models.keyedvectors.Vocab at 0x7fc427854b38>,\n",
       " 'harm': <gensim.models.keyedvectors.Vocab at 0x7fc427854470>,\n",
       " 'interference': <gensim.models.keyedvectors.Vocab at 0x7fc427854c88>,\n",
       " 'rejoined': <gensim.models.keyedvectors.Vocab at 0x7fc4278543c8>,\n",
       " 'understanding': <gensim.models.keyedvectors.Vocab at 0x7fc427854518>,\n",
       " 'pray': <gensim.models.keyedvectors.Vocab at 0x7fc427854c18>,\n",
       " 'silly': <gensim.models.keyedvectors.Vocab at 0x7fc427854cf8>,\n",
       " 'break': <gensim.models.keyedvectors.Vocab at 0x7fc427854a90>,\n",
       " 'circle': <gensim.models.keyedvectors.Vocab at 0x7fc427854978>,\n",
       " 'grievously': <gensim.models.keyedvectors.Vocab at 0x7fc427854e80>,\n",
       " 'Only': <gensim.models.keyedvectors.Vocab at 0x7fc4278542b0>,\n",
       " 'Elton': <gensim.models.keyedvectors.Vocab at 0x7fc427854d30>,\n",
       " ',--': <gensim.models.keyedvectors.Vocab at 0x7fc4278544a8>,\n",
       " 'look': <gensim.models.keyedvectors.Vocab at 0x7fc427751048>,\n",
       " 'whole': <gensim.models.keyedvectors.Vocab at 0x7fc427751208>,\n",
       " 'fitted': <gensim.models.keyedvectors.Vocab at 0x7fc427751940>,\n",
       " 'comfortably': <gensim.models.keyedvectors.Vocab at 0x7fc4277514a8>,\n",
       " 'shame': <gensim.models.keyedvectors.Vocab at 0x7fc4277514e0>,\n",
       " 'longer': <gensim.models.keyedvectors.Vocab at 0x7fc427751358>,\n",
       " 'joining': <gensim.models.keyedvectors.Vocab at 0x7fc427751390>,\n",
       " 'hands': <gensim.models.keyedvectors.Vocab at 0x7fc4277516a0>,\n",
       " 'same': <gensim.models.keyedvectors.Vocab at 0x7fc427751128>,\n",
       " 'service': <gensim.models.keyedvectors.Vocab at 0x7fc427751198>,\n",
       " 'shew': <gensim.models.keyedvectors.Vocab at 0x7fc427751a20>,\n",
       " 'attention': <gensim.models.keyedvectors.Vocab at 0x7fc427751240>,\n",
       " 'ask': <gensim.models.keyedvectors.Vocab at 0x7fc427751c18>,\n",
       " 'dare': <gensim.models.keyedvectors.Vocab at 0x7fc4277511d0>,\n",
       " 'With': <gensim.models.keyedvectors.Vocab at 0x7fc427751dd8>,\n",
       " 'laughing': <gensim.models.keyedvectors.Vocab at 0x7fc427751470>,\n",
       " 'fish': <gensim.models.keyedvectors.Vocab at 0x7fc427751be0>,\n",
       " 'chicken': <gensim.models.keyedvectors.Vocab at 0x7fc427751780>,\n",
       " 'chuse': <gensim.models.keyedvectors.Vocab at 0x7fc427751b38>,\n",
       " 'Depend': <gensim.models.keyedvectors.Vocab at 0x7fc427751160>,\n",
       " 'six': <gensim.models.keyedvectors.Vocab at 0x7fc427751550>,\n",
       " 'care': <gensim.models.keyedvectors.Vocab at 0x7fc4277510b8>,\n",
       " 'II': <gensim.models.keyedvectors.Vocab at 0x7fc427751f98>,\n",
       " 'native': <gensim.models.keyedvectors.Vocab at 0x7fc427751278>,\n",
       " 'born': <gensim.models.keyedvectors.Vocab at 0x7fc427751d68>,\n",
       " 'respectable': <gensim.models.keyedvectors.Vocab at 0x7fc4264ba940>,\n",
       " 'generations': <gensim.models.keyedvectors.Vocab at 0x7fc4264baf60>,\n",
       " 'rising': <gensim.models.keyedvectors.Vocab at 0x7fc4264ba470>,\n",
       " 'gentility': <gensim.models.keyedvectors.Vocab at 0x7fc4264bac18>,\n",
       " 'property': <gensim.models.keyedvectors.Vocab at 0x7fc4264ba2e8>,\n",
       " 'received': <gensim.models.keyedvectors.Vocab at 0x7fc4264bad68>,\n",
       " 'education': <gensim.models.keyedvectors.Vocab at 0x7fc4264ba668>,\n",
       " 'succeeding': <gensim.models.keyedvectors.Vocab at 0x7fc4264bafd0>,\n",
       " 'small': <gensim.models.keyedvectors.Vocab at 0x7fc4264baa90>,\n",
       " 'become': <gensim.models.keyedvectors.Vocab at 0x7fc4264baeb8>,\n",
       " 'indisposed': <gensim.models.keyedvectors.Vocab at 0x7fc4264ba208>,\n",
       " 'homely': <gensim.models.keyedvectors.Vocab at 0x7fc4264badd8>,\n",
       " 'pursuits': <gensim.models.keyedvectors.Vocab at 0x7fc4264ba0f0>,\n",
       " 'brothers': <gensim.models.keyedvectors.Vocab at 0x7fc4264ba080>,\n",
       " 'engaged': <gensim.models.keyedvectors.Vocab at 0x7fc4264bacf8>,\n",
       " 'satisfied': <gensim.models.keyedvectors.Vocab at 0x7fc4264baf98>,\n",
       " 'active': <gensim.models.keyedvectors.Vocab at 0x7fc4264ba358>,\n",
       " 'social': <gensim.models.keyedvectors.Vocab at 0x7fc4264baf28>,\n",
       " 'entering': <gensim.models.keyedvectors.Vocab at 0x7fc4264ba978>,\n",
       " 'militia': <gensim.models.keyedvectors.Vocab at 0x7fc4264ba828>,\n",
       " 'county': <gensim.models.keyedvectors.Vocab at 0x7fc4264bada0>,\n",
       " 'embodied': <gensim.models.keyedvectors.Vocab at 0x7fc4264ba240>,\n",
       " 'Captain': <gensim.models.keyedvectors.Vocab at 0x7fc4264ba898>,\n",
       " 'general': <gensim.models.keyedvectors.Vocab at 0x7fc4264bab00>,\n",
       " 'favourite': <gensim.models.keyedvectors.Vocab at 0x7fc4264bae10>,\n",
       " 'military': <gensim.models.keyedvectors.Vocab at 0x7fc4264ba5f8>,\n",
       " 'introduced': <gensim.models.keyedvectors.Vocab at 0x7fc4264ba3c8>,\n",
       " 'Churchill': <gensim.models.keyedvectors.Vocab at 0x7fc4264ba588>,\n",
       " 'Yorkshire': <gensim.models.keyedvectors.Vocab at 0x7fc4264ba4e0>,\n",
       " 'fell': <gensim.models.keyedvectors.Vocab at 0x7fc4264bae80>,\n",
       " 'love': <gensim.models.keyedvectors.Vocab at 0x7fc4264bac50>,\n",
       " 'surprized': <gensim.models.keyedvectors.Vocab at 0x7fc4264ba748>,\n",
       " 'except': <gensim.models.keyedvectors.Vocab at 0x7fc4264baba8>,\n",
       " 'full': <gensim.models.keyedvectors.Vocab at 0x7fc4264ba198>,\n",
       " 'pride': <gensim.models.keyedvectors.Vocab at 0x7fc4264ba5c0>,\n",
       " 'importance': <gensim.models.keyedvectors.Vocab at 0x7fc4264bac88>,\n",
       " 'connexion': <gensim.models.keyedvectors.Vocab at 0x7fc4264ba4a8>,\n",
       " 'offend': <gensim.models.keyedvectors.Vocab at 0x7fc4264bab38>,\n",
       " 'command': <gensim.models.keyedvectors.Vocab at 0x7fc4264ba8d0>,\n",
       " 'bore': <gensim.models.keyedvectors.Vocab at 0x7fc4264ba9e8>,\n",
       " 'proportion': <gensim.models.keyedvectors.Vocab at 0x7fc4264baac8>,\n",
       " 'estate': <gensim.models.keyedvectors.Vocab at 0x7fc4264ba438>,\n",
       " 'took': <gensim.models.keyedvectors.Vocab at 0x7fc4264bad30>,\n",
       " 'infinite': <gensim.models.keyedvectors.Vocab at 0x7fc4264ba048>,\n",
       " 'mortification': <gensim.models.keyedvectors.Vocab at 0x7fc4264ba6a0>,\n",
       " 'threw': <gensim.models.keyedvectors.Vocab at 0x7fc4264ba7f0>,\n",
       " 'due': <gensim.models.keyedvectors.Vocab at 0x7fc426237be0>,\n",
       " 'decorum': <gensim.models.keyedvectors.Vocab at 0x7fc426237080>,\n",
       " 'unsuitable': <gensim.models.keyedvectors.Vocab at 0x7fc426237128>,\n",
       " 'produce': <gensim.models.keyedvectors.Vocab at 0x7fc426237b38>,\n",
       " 'ought': <gensim.models.keyedvectors.Vocab at 0x7fc426237ba8>,\n",
       " 'whose': <gensim.models.keyedvectors.Vocab at 0x7fc426237588>,\n",
       " 'warm': <gensim.models.keyedvectors.Vocab at 0x7fc4262377b8>,\n",
       " 'sweet': <gensim.models.keyedvectors.Vocab at 0x7fc426237e80>,\n",
       " 'return': <gensim.models.keyedvectors.Vocab at 0x7fc426237c18>,\n",
       " 'goodness': <gensim.models.keyedvectors.Vocab at 0x7fc426237a20>,\n",
       " 'spirit': <gensim.models.keyedvectors.Vocab at 0x7fc426237ef0>,\n",
       " 'resolution': <gensim.models.keyedvectors.Vocab at 0x7fc4262370f0>,\n",
       " 'pursue': <gensim.models.keyedvectors.Vocab at 0x7fc426237780>,\n",
       " 'refrain': <gensim.models.keyedvectors.Vocab at 0x7fc426237c88>,\n",
       " 'unreasonable': <gensim.models.keyedvectors.Vocab at 0x7fc4262374e0>,\n",
       " 'anger': <gensim.models.keyedvectors.Vocab at 0x7fc426237a90>,\n",
       " 'missing': <gensim.models.keyedvectors.Vocab at 0x7fc426237fd0>,\n",
       " 'former': <gensim.models.keyedvectors.Vocab at 0x7fc426237898>,\n",
       " 'income': <gensim.models.keyedvectors.Vocab at 0x7fc426237b70>,\n",
       " 'still': <gensim.models.keyedvectors.Vocab at 0x7fc4262376d8>,\n",
       " 'comparison': <gensim.models.keyedvectors.Vocab at 0x7fc426237e10>,\n",
       " 'Enscombe': <gensim.models.keyedvectors.Vocab at 0x7fc426237f98>,\n",
       " 'cease': <gensim.models.keyedvectors.Vocab at 0x7fc4262370b8>,\n",
       " 'once': <gensim.models.keyedvectors.Vocab at 0x7fc426237208>,\n",
       " 'considered': <gensim.models.keyedvectors.Vocab at 0x7fc426237470>,\n",
       " 'especially': <gensim.models.keyedvectors.Vocab at 0x7fc426237d68>,\n",
       " 'Churchills': <gensim.models.keyedvectors.Vocab at 0x7fc42632ff28>,\n",
       " 'amazing': <gensim.models.keyedvectors.Vocab at 0x7fc42632fa20>,\n",
       " 'worst': <gensim.models.keyedvectors.Vocab at 0x7fc42632f828>,\n",
       " 'bargain': <gensim.models.keyedvectors.Vocab at 0x7fc42632fa58>,\n",
       " 'poorer': <gensim.models.keyedvectors.Vocab at 0x7fc42632f780>,\n",
       " 'child': <gensim.models.keyedvectors.Vocab at 0x7fc42632fba8>,\n",
       " 'From': <gensim.models.keyedvectors.Vocab at 0x7fc42632f1d0>,\n",
       " 'expense': <gensim.models.keyedvectors.Vocab at 0x7fc42632fbe0>,\n",
       " 'relieved': <gensim.models.keyedvectors.Vocab at 0x7fc42632ff98>,\n",
       " 'boy': <gensim.models.keyedvectors.Vocab at 0x7fc42632f5c0>,\n",
       " 'additional': <gensim.models.keyedvectors.Vocab at 0x7fc42632f080>,\n",
       " 'softening': <gensim.models.keyedvectors.Vocab at 0x7fc42632f8d0>,\n",
       " 'lingering': <gensim.models.keyedvectors.Vocab at 0x7fc42632f5f8>,\n",
       " 'illness': <gensim.models.keyedvectors.Vocab at 0x7fc42632f438>,\n",
       " 'reconciliation': <gensim.models.keyedvectors.Vocab at 0x7fc42632fcc0>,\n",
       " 'kindred': <gensim.models.keyedvectors.Vocab at 0x7fc42632fa90>,\n",
       " 'offered': <gensim.models.keyedvectors.Vocab at 0x7fc42632f710>,\n",
       " 'charge': <gensim.models.keyedvectors.Vocab at 0x7fc42632f9b0>,\n",
       " 'Frank': <gensim.models.keyedvectors.Vocab at 0x7fc42632f7f0>,\n",
       " 'decease': <gensim.models.keyedvectors.Vocab at 0x7fc42632fcf8>,\n",
       " 'scruples': <gensim.models.keyedvectors.Vocab at 0x7fc42632f128>,\n",
       " 'reluctance': <gensim.models.keyedvectors.Vocab at 0x7fc42632f240>,\n",
       " 'supposed': <gensim.models.keyedvectors.Vocab at 0x7fc42632f390>,\n",
       " 'overcome': <gensim.models.keyedvectors.Vocab at 0x7fc42632fb00>,\n",
       " 'considerations': <gensim.models.keyedvectors.Vocab at 0x7fc42632fc18>,\n",
       " 'wealth': <gensim.models.keyedvectors.Vocab at 0x7fc42632f0b8>,\n",
       " 'seek': <gensim.models.keyedvectors.Vocab at 0x7fc42632fef0>,\n",
       " 'improve': <gensim.models.keyedvectors.Vocab at 0x7fc42632f630>,\n",
       " 'complete': <gensim.models.keyedvectors.Vocab at 0x7fc42632f358>,\n",
       " 'became': <gensim.models.keyedvectors.Vocab at 0x7fc42632fda0>,\n",
       " 'desirable': <gensim.models.keyedvectors.Vocab at 0x7fc42632f4a8>,\n",
       " 'quitted': <gensim.models.keyedvectors.Vocab at 0x7fc42632feb8>,\n",
       " 'trade': <gensim.models.keyedvectors.Vocab at 0x7fc42632f898>,\n",
       " 'established': <gensim.models.keyedvectors.Vocab at 0x7fc42632f198>,\n",
       " 'favourable': <gensim.models.keyedvectors.Vocab at 0x7fc42632fe80>,\n",
       " ...}"
      ]
     },
     "execution_count": 39,
     "metadata": {},
     "output_type": "execute_result"
    }
   ],
   "source": [
    "model.wv.vocab"
   ]
  },
  {
   "cell_type": "code",
   "execution_count": 40,
   "metadata": {},
   "outputs": [
    {
     "data": {
      "text/plain": [
       "17011"
      ]
     },
     "execution_count": 40,
     "metadata": {},
     "output_type": "execute_result"
    }
   ],
   "source": [
    "len(model.wv.vocab)"
   ]
  },
  {
   "cell_type": "code",
   "execution_count": 41,
   "metadata": {},
   "outputs": [
    {
     "name": "stderr",
     "output_type": "stream",
     "text": [
      "/srv/venv/lib/python3.6/site-packages/ipykernel_launcher.py:1: DeprecationWarning: Call to deprecated `__getitem__` (Method will be removed in 4.0.0, use self.wv.__getitem__() instead).\n",
      "  \"\"\"Entry point for launching an IPython kernel.\n"
     ]
    }
   ],
   "source": [
    "X = model[model.wv.vocab]"
   ]
  },
  {
   "cell_type": "code",
   "execution_count": 42,
   "metadata": {},
   "outputs": [],
   "source": [
    "tsne = TSNE(n_components=2, n_iter=1000) # 200 is minimum iter; default is 1000"
   ]
  },
  {
   "cell_type": "code",
   "execution_count": null,
   "metadata": {},
   "outputs": [],
   "source": [
    "X_2d = tsne.fit_transform(X)"
   ]
  },
  {
   "cell_type": "code",
   "execution_count": null,
   "metadata": {},
   "outputs": [],
   "source": [
    "X_2d[0:5]"
   ]
  },
  {
   "cell_type": "code",
   "execution_count": null,
   "metadata": {},
   "outputs": [],
   "source": [
    "# create DataFrame for storing results and plotting\n",
    "coords_df = pd.DataFrame(X_2d, columns=['x','y'])\n",
    "coords_df['token'] = model.wv.vocab.keys()"
   ]
  },
  {
   "cell_type": "code",
   "execution_count": null,
   "metadata": {},
   "outputs": [],
   "source": [
    "coords_df.head()"
   ]
  },
  {
   "cell_type": "code",
   "execution_count": null,
   "metadata": {},
   "outputs": [],
   "source": [
    "# coords_df.to_csv('raw_gutenberg_tsne.csv', index=False)"
   ]
  },
  {
   "cell_type": "markdown",
   "metadata": {},
   "source": [
    "#### Visualize 2D representation of word vectors"
   ]
  },
  {
   "cell_type": "code",
   "execution_count": null,
   "metadata": {},
   "outputs": [],
   "source": [
    "coords_df = pd.read_csv('raw_gutenberg_tsne.csv')"
   ]
  },
  {
   "cell_type": "code",
   "execution_count": null,
   "metadata": {},
   "outputs": [],
   "source": [
    "_ = coords_df.plot.scatter('x', 'y', figsize=(12,12), marker='.', s=10, alpha=0.2)"
   ]
  },
  {
   "cell_type": "code",
   "execution_count": null,
   "metadata": {},
   "outputs": [],
   "source": [
    "output_notebook() # output bokeh plots inline in notebook"
   ]
  },
  {
   "cell_type": "code",
   "execution_count": null,
   "metadata": {},
   "outputs": [],
   "source": [
    "subset_df = coords_df.sample(n=5000)"
   ]
  },
  {
   "cell_type": "code",
   "execution_count": null,
   "metadata": {},
   "outputs": [],
   "source": [
    "p = figure(plot_width=800, plot_height=800)\n",
    "_ = p.text(x=subset_df.x, y=subset_df.y, text=subset_df.token)"
   ]
  },
  {
   "cell_type": "code",
   "execution_count": null,
   "metadata": {},
   "outputs": [],
   "source": [
    "show(p)"
   ]
  },
  {
   "cell_type": "code",
   "execution_count": null,
   "metadata": {},
   "outputs": [],
   "source": []
  },
  {
   "cell_type": "code",
   "execution_count": null,
   "metadata": {},
   "outputs": [],
   "source": []
  },
  {
   "cell_type": "code",
   "execution_count": null,
   "metadata": {},
   "outputs": [],
   "source": [
    "test complete"
   ]
  }
 ],
 "metadata": {
  "kernelspec": {
   "display_name": "Python 3",
   "language": "python",
   "name": "python3"
  },
  "language_info": {
   "codemirror_mode": {
    "name": "ipython",
    "version": 3
   },
   "file_extension": ".py",
   "mimetype": "text/x-python",
   "name": "python",
   "nbconvert_exporter": "python",
   "pygments_lexer": "ipython3",
   "version": "3.6.3"
  }
 },
 "nbformat": 4,
 "nbformat_minor": 2
}
