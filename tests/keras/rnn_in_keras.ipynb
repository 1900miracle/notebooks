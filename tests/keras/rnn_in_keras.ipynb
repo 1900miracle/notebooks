{
 "cells": [
  {
   "cell_type": "markdown",
   "metadata": {},
   "source": [
    "# Recurrent Neural Network in Keras"
   ]
  },
  {
   "cell_type": "markdown",
   "metadata": {},
   "source": [
    "In this notebook, we use an RNN to classify IMDB movie reviews by their sentiment."
   ]
  },
  {
   "cell_type": "code",
   "execution_count": 1,
   "metadata": {},
   "outputs": [
    {
     "name": "stdout",
     "output_type": "stream",
     "text": [
      "Collecting watermark\n",
      "  Downloading watermark-1.6.0-py3-none-any.whl\n",
      "Requirement already satisfied: ipython in /srv/venv/lib/python3.6/site-packages (from watermark)\n",
      "Requirement already satisfied: prompt-toolkit<2.0.0,>=1.0.4 in /srv/venv/lib/python3.6/site-packages (from ipython->watermark)\n",
      "Requirement already satisfied: decorator in /srv/venv/lib/python3.6/site-packages (from ipython->watermark)\n",
      "Requirement already satisfied: pickleshare in /srv/venv/lib/python3.6/site-packages (from ipython->watermark)\n",
      "Requirement already satisfied: pexpect; sys_platform != \"win32\" in /srv/venv/lib/python3.6/site-packages (from ipython->watermark)\n",
      "Requirement already satisfied: jedi>=0.10 in /srv/venv/lib/python3.6/site-packages (from ipython->watermark)\n",
      "Requirement already satisfied: setuptools>=18.5 in /srv/venv/lib/python3.6/site-packages (from ipython->watermark)\n",
      "Requirement already satisfied: traitlets>=4.2 in /srv/venv/lib/python3.6/site-packages (from ipython->watermark)\n",
      "Requirement already satisfied: simplegeneric>0.8 in /srv/venv/lib/python3.6/site-packages (from ipython->watermark)\n",
      "Requirement already satisfied: pygments in /srv/venv/lib/python3.6/site-packages (from ipython->watermark)\n",
      "Requirement already satisfied: six>=1.9.0 in /srv/venv/lib/python3.6/site-packages (from prompt-toolkit<2.0.0,>=1.0.4->ipython->watermark)\n",
      "Requirement already satisfied: wcwidth in /srv/venv/lib/python3.6/site-packages (from prompt-toolkit<2.0.0,>=1.0.4->ipython->watermark)\n",
      "Requirement already satisfied: ptyprocess>=0.5 in /srv/venv/lib/python3.6/site-packages (from pexpect; sys_platform != \"win32\"->ipython->watermark)\n",
      "Requirement already satisfied: parso==0.1.1 in /srv/venv/lib/python3.6/site-packages (from jedi>=0.10->ipython->watermark)\n",
      "Requirement already satisfied: ipython-genutils in /srv/venv/lib/python3.6/site-packages (from traitlets>=4.2->ipython->watermark)\n",
      "Installing collected packages: watermark\n",
      "Successfully installed watermark-1.6.0\n",
      "Collecting nltk\n",
      "  Downloading nltk-3.2.5.tar.gz (1.2MB)\n",
      "\u001b[K    100% |████████████████████████████████| 1.2MB 1.1MB/s ta 0:00:01\n",
      "\u001b[?25hRequirement already satisfied: six in /srv/venv/lib/python3.6/site-packages (from nltk)\n",
      "Building wheels for collected packages: nltk\n",
      "  Running setup.py bdist_wheel for nltk ... \u001b[?25ldone\n",
      "\u001b[?25h  Stored in directory: /home/jovyan/.cache/pip/wheels/18/9c/1f/276bc3f421614062468cb1c9d695e6086d0c73d67ea363c501\n",
      "Successfully built nltk\n",
      "Installing collected packages: nltk\n",
      "Successfully installed nltk-3.2.5\n",
      "Collecting theano\n",
      "  Downloading Theano-1.0.1.tar.gz (2.8MB)\n",
      "\u001b[K    100% |████████████████████████████████| 2.8MB 473kB/s eta 0:00:01\n",
      "\u001b[?25hRequirement already satisfied: numpy>=1.9.1 in /srv/venv/lib/python3.6/site-packages (from theano)\n",
      "Requirement already satisfied: scipy>=0.14 in /srv/venv/lib/python3.6/site-packages (from theano)\n",
      "Requirement already satisfied: six>=1.9.0 in /srv/venv/lib/python3.6/site-packages (from theano)\n",
      "Building wheels for collected packages: theano\n",
      "  Running setup.py bdist_wheel for theano ... \u001b[?25ldone\n",
      "\u001b[?25h  Stored in directory: /home/jovyan/.cache/pip/wheels/46/a2/7d/b4cac381d5151daa9f9e0b3e4e4b65edaea6355ae296c97cf2\n",
      "Successfully built theano\n",
      "Installing collected packages: theano\n",
      "Successfully installed theano-1.0.1\n",
      "Collecting mxnet\n",
      "  Downloading mxnet-1.0.0.post4-py2.py3-none-manylinux1_x86_64.whl (27.4MB)\n",
      "\u001b[K    100% |████████████████████████████████| 27.5MB 48kB/s  eta 0:00:01 1% |▍                               | 327kB 5.7MB/s eta 0:00:05\n",
      "\u001b[?25hRequirement already satisfied: numpy<=1.13.3 in /srv/venv/lib/python3.6/site-packages (from mxnet)\n",
      "Collecting requests==2.18.4 (from mxnet)\n",
      "  Downloading requests-2.18.4-py2.py3-none-any.whl (88kB)\n",
      "\u001b[K    100% |████████████████████████████████| 92kB 9.8MB/s eta 0:00:01\n",
      "\u001b[?25hCollecting graphviz==0.8.1 (from mxnet)\n",
      "  Downloading graphviz-0.8.1-py2.py3-none-any.whl\n",
      "Collecting certifi>=2017.4.17 (from requests==2.18.4->mxnet)\n",
      "  Downloading certifi-2018.1.18-py2.py3-none-any.whl (151kB)\n",
      "\u001b[K    100% |████████████████████████████████| 153kB 7.6MB/s eta 0:00:01\n",
      "\u001b[?25hCollecting urllib3<1.23,>=1.21.1 (from requests==2.18.4->mxnet)\n",
      "  Downloading urllib3-1.22-py2.py3-none-any.whl (132kB)\n",
      "\u001b[K    100% |████████████████████████████████| 133kB 8.6MB/s eta 0:00:01\n",
      "\u001b[?25hCollecting chardet<3.1.0,>=3.0.2 (from requests==2.18.4->mxnet)\n",
      "  Downloading chardet-3.0.4-py2.py3-none-any.whl (133kB)\n",
      "\u001b[K    100% |████████████████████████████████| 143kB 8.6MB/s eta 0:00:01\n",
      "\u001b[?25hCollecting idna<2.7,>=2.5 (from requests==2.18.4->mxnet)\n",
      "  Downloading idna-2.6-py2.py3-none-any.whl (56kB)\n",
      "\u001b[K    100% |████████████████████████████████| 61kB 10.2MB/s ta 0:00:01\n",
      "\u001b[?25hInstalling collected packages: certifi, urllib3, chardet, idna, requests, graphviz, mxnet\n",
      "Successfully installed certifi-2018.1.18 chardet-3.0.4 graphviz-0.8.1 idna-2.6 mxnet-1.0.0.post4 requests-2.18.4 urllib3-1.22\n",
      "Collecting chainer\n",
      "  Downloading chainer-3.3.0.tar.gz (349kB)\n",
      "\u001b[K    100% |████████████████████████████████| 358kB 2.4MB/s ta 0:00:01\n",
      "\u001b[?25hCollecting filelock (from chainer)\n",
      "  Downloading filelock-3.0.4.tar.gz\n",
      "Requirement already satisfied: numpy>=1.9.0 in /srv/venv/lib/python3.6/site-packages (from chainer)\n",
      "Requirement already satisfied: protobuf>=3.0.0 in /srv/venv/lib/python3.6/site-packages (from chainer)\n",
      "Requirement already satisfied: six>=1.9.0 in /srv/venv/lib/python3.6/site-packages (from chainer)\n",
      "Requirement already satisfied: setuptools in /srv/venv/lib/python3.6/site-packages (from protobuf>=3.0.0->chainer)\n",
      "Building wheels for collected packages: chainer, filelock\n",
      "  Running setup.py bdist_wheel for chainer ... \u001b[?25ldone\n",
      "\u001b[?25h  Stored in directory: /home/jovyan/.cache/pip/wheels/0e/a8/da/5dab1d9722577de0d77f1f562961264ee89f47ddfe6f52188c\n",
      "  Running setup.py bdist_wheel for filelock ... \u001b[?25ldone\n",
      "\u001b[?25h  Stored in directory: /home/jovyan/.cache/pip/wheels/5f/5e/8a/9f1eb481ffbfff95d5f550570c1dbeff3c1785c8383c12c62b\n",
      "Successfully built chainer filelock\n",
      "Installing collected packages: filelock, chainer\n",
      "Successfully installed chainer-3.3.0 filelock-3.0.4\n",
      "Collecting seaborn\n",
      "  Downloading seaborn-0.8.1.tar.gz (178kB)\n",
      "\u001b[K    100% |████████████████████████████████| 184kB 3.5MB/s ta 0:00:01\n",
      "\u001b[?25hBuilding wheels for collected packages: seaborn\n",
      "  Running setup.py bdist_wheel for seaborn ... \u001b[?25ldone\n",
      "\u001b[?25h  Stored in directory: /home/jovyan/.cache/pip/wheels/29/af/4b/ac6b04ec3e2da1a450e74c6a0e86ade83807b4aaf40466ecda\n",
      "Successfully built seaborn\n",
      "Installing collected packages: seaborn\n",
      "Successfully installed seaborn-0.8.1\n",
      "Collecting keras\n",
      "  Downloading Keras-2.1.3-py2.py3-none-any.whl (319kB)\n",
      "\u001b[K    100% |████████████████████████████████| 327kB 2.5MB/s ta 0:00:01\n",
      "\u001b[?25hRequirement already satisfied: six>=1.9.0 in /srv/venv/lib/python3.6/site-packages (from keras)\n",
      "Requirement already satisfied: scipy>=0.14 in /srv/venv/lib/python3.6/site-packages (from keras)\n",
      "Requirement already satisfied: numpy>=1.9.1 in /srv/venv/lib/python3.6/site-packages (from keras)\n",
      "Requirement already satisfied: pyyaml in /srv/venv/lib/python3.6/site-packages (from keras)\n",
      "Installing collected packages: keras\n",
      "Successfully installed keras-2.1.3\n",
      "Collecting scikit-image\n",
      "  Downloading scikit_image-0.13.1-cp36-cp36m-manylinux1_x86_64.whl (35.8MB)\n",
      "\u001b[K    100% |████████████████████████████████| 35.8MB 37kB/s  eta 0:00:01   11% |███▉                            | 4.2MB 19.9MB/s eta 0:00:02    20% |██████▌                         | 7.3MB 32.0MB/s eta 0:00:01\n",
      "\u001b[?25hRequirement already satisfied: pillow>=2.1.0 in /srv/venv/lib/python3.6/site-packages (from scikit-image)\n",
      "Requirement already satisfied: scipy>=0.17.0 in /srv/venv/lib/python3.6/site-packages (from scikit-image)\n",
      "Requirement already satisfied: matplotlib>=1.3.1 in /srv/venv/lib/python3.6/site-packages (from scikit-image)\n",
      "Collecting networkx>=1.8 (from scikit-image)\n",
      "  Downloading networkx-2.1.zip (1.6MB)\n",
      "\u001b[K    100% |████████████████████████████████| 1.6MB 882kB/s eta 0:00:01\n",
      "\u001b[?25hRequirement already satisfied: six>=1.7.3 in /srv/venv/lib/python3.6/site-packages (from scikit-image)\n",
      "Collecting PyWavelets>=0.4.0 (from scikit-image)\n",
      "  Downloading PyWavelets-0.5.2-cp36-cp36m-manylinux1_x86_64.whl (5.7MB)\n"
     ]
    },
    {
     "name": "stdout",
     "output_type": "stream",
     "text": [
      "\u001b[K    23% |███████▍                        | 1.3MB 35.9MB/s eta 0:00:01\r",
      "\u001b[K    23% |███████▍                        | 1.3MB 34.7MB/s eta 0:00:01\r",
      "\u001b[K    23% |███████▌                        | 1.3MB 34.8MB/s eta 0:00:01\r",
      "\u001b[K    23% |███████▌                        | 1.4MB 33.3MB/s eta 0:00:01\r",
      "\u001b[K    23% |███████▋                        | 1.4MB 33.2MB/s eta 0:00:01\r",
      "\u001b[K    23% |███████▋                        | 1.4MB 33.6MB/s eta 0:00:01\r",
      "\u001b[K    24% |███████▊                        | 1.4MB 33.9MB/s eta 0:00:01\r",
      "\u001b[K    24% |███████▊                        | 1.4MB 35.3MB/s eta 0:00:01\r",
      "\u001b[K    24% |███████▉                        | 1.4MB 35.3MB/s eta 0:00:01\r",
      "\u001b[K    24% |████████                        | 1.4MB 36.3MB/s eta 0:00:01\r",
      "\u001b[K    24% |████████                        | 1.4MB 34.7MB/s eta 0:00:01\r",
      "\u001b[K    25% |████████                        | 1.4MB 34.2MB/s eta 0:00:01\r",
      "\u001b[K    25% |████████                        | 1.4MB 34.3MB/s eta 0:00:01\r",
      "\u001b[K    25% |████████▏                       | 1.5MB 34.6MB/s eta 0:00:01\r",
      "\u001b[K    25% |████████▏                       | 1.5MB 35.1MB/s eta 0:00:01\r",
      "\u001b[K    25% |████████▎                       | 1.5MB 34.9MB/s eta 0:00:01\r",
      "\u001b[K    25% |████████▎                       | 1.5MB 34.7MB/s eta 0:00:01\r",
      "\u001b[K    26% |████████▍                       | 1.5MB 34.2MB/s eta 0:00:01\r",
      "\u001b[K    26% |████████▍                       | 1.5MB 34.7MB/s eta 0:00:01\r",
      "\u001b[K    26% |████████▌                       | 1.5MB 34.7MB/s eta 0:00:01\r",
      "\u001b[K    26% |████████▌                       | 1.5MB 36.6MB/s eta 0:00:01\r",
      "\u001b[K    26% |████████▋                       | 1.5MB 38.2MB/s eta 0:00:01\r",
      "\u001b[K    26% |████████▋                       | 1.5MB 38.5MB/s eta 0:00:01\r",
      "\u001b[K    27% |████████▊                       | 1.6MB 39.8MB/s eta 0:00:01\r",
      "\u001b[K    27% |████████▊                       | 1.6MB 38.9MB/s eta 0:00:01\r",
      "\u001b[K    27% |████████▉                       | 1.6MB 37.8MB/s eta 0:00:01\r",
      "\u001b[K    27% |████████▉                       | 1.6MB 37.9MB/s eta 0:00:01\r",
      "\u001b[K    27% |█████████                       | 1.6MB 37.1MB/s eta 0:00:01\r",
      "\u001b[K    28% |█████████                       | 1.6MB 36.9MB/s eta 0:00:01\r",
      "\u001b[K    28% |█████████                       | 1.6MB 36.1MB/s eta 0:00:01\r",
      "\u001b[K    28% |█████████                       | 1.6MB 35.4MB/s eta 0:00:01\r",
      "\u001b[K    28% |█████████▏                      | 1.6MB 35.0MB/s eta 0:00:01\r",
      "\u001b[K    28% |█████████▏                      | 1.6MB 34.5MB/s eta 0:00:01\r",
      "\u001b[K    28% |█████████▎                      | 1.7MB 34.3MB/s eta 0:00:01\r",
      "\u001b[K    29% |█████████▎                      | 1.7MB 29.0MB/s eta 0:00:01\r",
      "\u001b[K    29% |█████████▍                      | 1.7MB 29.8MB/s eta 0:00:01\r",
      "\u001b[K    29% |█████████▍                      | 1.7MB 28.3MB/s eta 0:00:01\r",
      "\u001b[K    29% |█████████▌                      | 1.7MB 28.5MB/s eta 0:00:01\r",
      "\u001b[K    29% |█████████▌                      | 1.7MB 28.2MB/s eta 0:00:01\r",
      "\u001b[K    30% |█████████▋                      | 1.7MB 28.2MB/s eta 0:00:01\r",
      "\u001b[K    30% |█████████▋                      | 1.7MB 18.1MB/s eta 0:00:01\r",
      "\u001b[K    30% |█████████▊                      | 1.7MB 17.7MB/s eta 0:00:01\r",
      "\u001b[K    30% |█████████▊                      | 1.8MB 17.5MB/s eta 0:00:01\r",
      "\u001b[K    30% |█████████▉                      | 1.8MB 15.2MB/s eta 0:00:01\r",
      "\u001b[K    30% |██████████                      | 1.8MB 16.4MB/s eta 0:00:01\r",
      "\u001b[K    31% |██████████                      | 1.8MB 16.2MB/s eta 0:00:01\r",
      "\u001b[K    31% |██████████                      | 1.8MB 14.2MB/s eta 0:00:01\r",
      "\u001b[K    31% |██████████                      | 1.8MB 14.3MB/s eta 0:00:01\r",
      "\u001b[K    31% |██████████▏                     | 1.8MB 14.2MB/s eta 0:00:01\r",
      "\u001b[K    31% |██████████▏                     | 1.8MB 14.0MB/s eta 0:00:01\r",
      "\u001b[K    31% |██████████▎                     | 1.8MB 19.0MB/s eta 0:00:01\r",
      "\u001b[K    32% |██████████▎                     | 1.8MB 18.0MB/s eta 0:00:01\r",
      "\u001b[K    32% |██████████▍                     | 1.9MB 13.8MB/s eta 0:00:01\r",
      "\u001b[K    32% |██████████▍                     | 1.9MB 15.4MB/s eta 0:00:01\r",
      "\u001b[K    32% |██████████▌                     | 1.9MB 15.2MB/s eta 0:00:01\r",
      "\u001b[K    32% |██████████▌                     | 1.9MB 15.5MB/s eta 0:00:01\r",
      "\u001b[K    33% |██████████▋                     | 1.9MB 16.2MB/s eta 0:00:01\r",
      "\u001b[K    33% |██████████▋                     | 1.9MB 15.9MB/s eta 0:00:01\r",
      "\u001b[K    33% |██████████▊                     | 1.9MB 14.9MB/s eta 0:00:01\r",
      "\u001b[K    33% |██████████▊                     | 1.9MB 15.5MB/s eta 0:00:01\r",
      "\u001b[K    33% |██████████▉                     | 1.9MB 15.7MB/s eta 0:00:01\r",
      "\u001b[K    33% |██████████▉                     | 1.9MB 15.8MB/s eta 0:00:01\r",
      "\u001b[K    34% |███████████                     | 2.0MB 21.6MB/s eta 0:00:01\r",
      "\u001b[K    34% |███████████                     | 2.0MB 22.2MB/s eta 0:00:01\r",
      "\u001b[K    34% |███████████                     | 2.0MB 20.5MB/s eta 0:00:01\r",
      "\u001b[K    34% |███████████                     | 2.0MB 20.6MB/s eta 0:00:01\r",
      "\u001b[K    34% |███████████▏                    | 2.0MB 24.2MB/s eta 0:00:01\r",
      "\u001b[K    35% |███████████▏                    | 2.0MB 23.6MB/s eta 0:00:01\r",
      "\u001b[K    35% |███████████▎                    | 2.0MB 26.2MB/s eta 0:00:01\r",
      "\u001b[K    35% |███████████▎                    | 2.0MB 25.1MB/s eta 0:00:01\r",
      "\u001b[K    35% |███████████▍                    | 2.0MB 24.9MB/s eta 0:00:01\r",
      "\u001b[K    35% |███████████▍                    | 2.0MB 24.7MB/s eta 0:00:01\r",
      "\u001b[K    35% |███████████▌                    | 2.1MB 25.0MB/s eta 0:00:01\r",
      "\u001b[K    36% |███████████▌                    | 2.1MB 25.0MB/s eta 0:00:01\r",
      "\u001b[K    36% |███████████▋                    | 2.1MB 27.5MB/s eta 0:00:01\r",
      "\u001b[K    36% |███████████▋                    | 2.1MB 27.3MB/s eta 0:00:01\r",
      "\u001b[K    36% |███████████▊                    | 2.1MB 26.7MB/s eta 0:00:01\r",
      "\u001b[K    36% |███████████▉                    | 2.1MB 26.8MB/s eta 0:00:01\r",
      "\u001b[K    36% |███████████▉                    | 2.1MB 26.6MB/s eta 0:00:01\r",
      "\u001b[K    37% |████████████                    | 2.1MB 27.2MB/s eta 0:00:01\r",
      "\u001b[K    37% |████████████                    | 2.1MB 23.1MB/s eta 0:00:01\r",
      "\u001b[K    37% |████████████                    | 2.2MB 25.5MB/s eta 0:00:01\r",
      "\u001b[K    37% |████████████                    | 2.2MB 25.4MB/s eta 0:00:01\r",
      "\u001b[K    37% |████████████▏                   | 2.2MB 25.1MB/s eta 0:00:01\r",
      "\u001b[K    38% |████████████▏                   | 2.2MB 25.0MB/s eta 0:00:01\r",
      "\u001b[K    38% |████████████▎                   | 2.2MB 25.3MB/s eta 0:00:01\r",
      "\u001b[K    38% |████████████▎                   | 2.2MB 23.0MB/s eta 0:00:01\r",
      "\u001b[K    38% |████████████▍                   | 2.2MB 24.4MB/s eta 0:00:01\r",
      "\u001b[K    38% |████████████▍                   | 2.2MB 22.7MB/s eta 0:00:01\r",
      "\u001b[K    38% |████████████▌                   | 2.2MB 22.8MB/s eta 0:00:01\r",
      "\u001b[K    39% |████████████▌                   | 2.2MB 24.7MB/s eta 0:00:01\r",
      "\u001b[K    39% |████████████▋                   | 2.3MB 24.9MB/s eta 0:00:01\r",
      "\u001b[K    39% |████████████▋                   | 2.3MB 23.2MB/s eta 0:00:01\r",
      "\u001b[K    39% |████████████▊                   | 2.3MB 23.4MB/s eta 0:00:01\r",
      "\u001b[K    39% |████████████▊                   | 2.3MB 23.0MB/s eta 0:00:01\r",
      "\u001b[K    40% |████████████▉                   | 2.3MB 22.2MB/s eta 0:00:01\r",
      "\u001b[K    40% |████████████▉                   | 2.3MB 24.9MB/s eta 0:00:01\r",
      "\u001b[K    40% |█████████████                   | 2.3MB 24.4MB/s eta 0:00:01\r",
      "\u001b[K    40% |█████████████                   | 2.3MB 26.2MB/s eta 0:00:01\r",
      "\u001b[K    40% |█████████████                   | 2.3MB 26.1MB/s eta 0:00:01\r",
      "\u001b[K    40% |█████████████                   | 2.3MB 28.3MB/s eta 0:00:01\r",
      "\u001b[K    41% |█████████████▏                  | 2.4MB 27.1MB/s eta 0:00:01\r",
      "\u001b[K    41% |█████████████▏                  | 2.4MB 27.4MB/s eta 0:00:01\r",
      "\u001b[K    41% |█████████████▎                  | 2.4MB 27.1MB/s eta 0:00:01\r",
      "\u001b[K    41% |█████████████▎                  | 2.4MB 28.7MB/s eta 0:00:01\r",
      "\u001b[K    41% |█████████████▍                  | 2.4MB 29.0MB/s eta 0:00:01\r",
      "\u001b[K    41% |█████████████▍                  | 2.4MB 28.9MB/s eta 0:00:01\r",
      "\u001b[K    42% |█████████████▌                  | 2.4MB 29.7MB/s eta 0:00:01\r",
      "\u001b[K    42% |█████████████▌                  | 2.4MB 29.7MB/s eta 0:00:01\r",
      "\u001b[K    42% |█████████████▋                  | 2.4MB 29.6MB/s eta 0:00:01\r",
      "\u001b[K    42% |█████████████▋                  | 2.4MB 30.1MB/s eta 0:00:01\r",
      "\u001b[K    42% |█████████████▊                  | 2.5MB 31.6MB/s eta 0:00:01\r",
      "\u001b[K    43% |█████████████▉                  | 2.5MB 34.0MB/s eta 0:00:01\r",
      "\u001b[K    43% |█████████████▉                  | 2.5MB 34.0MB/s eta 0:00:01\r",
      "\u001b[K    43% |██████████████                  | 2.5MB 34.0MB/s eta 0:00:01\r",
      "\u001b[K    43% |██████████████                  | 2.5MB 34.5MB/s eta 0:00:01\r",
      "\u001b[K    43% |██████████████                  | 2.5MB 34.5MB/s eta 0:00:01\r",
      "\u001b[K    43% |██████████████                  | 2.5MB 34.2MB/s eta 0:00:01\r",
      "\u001b[K    44% |██████████████▏                 | 2.5MB 33.6MB/s eta 0:00:01\r",
      "\u001b[K    44% |██████████████▏                 | 2.5MB 34.0MB/s eta 0:00:01\r",
      "\u001b[K    44% |██████████████▎                 | 2.5MB 33.1MB/s eta 0:00:01\r",
      "\u001b[K    44% |██████████████▎                 | 2.6MB 33.9MB/s eta 0:00:01\r",
      "\u001b[K    44% |██████████████▍                 | 2.6MB 34.8MB/s eta 0:00:01\r",
      "\u001b[K    45% |██████████████▍                 | 2.6MB 35.4MB/s eta 0:00:01\r",
      "\u001b[K    45% |██████████████▌                 | 2.6MB 34.9MB/s eta 0:00:01\r",
      "\u001b[K    45% |██████████████▌                 | 2.6MB 35.2MB/s eta 0:00:01\r",
      "\u001b[K    45% |██████████████▋                 | 2.6MB 34.7MB/s eta 0:00:01\r",
      "\u001b[K    45% |██████████████▋                 | 2.6MB 34.1MB/s eta 0:00:01\r",
      "\u001b[K    45% |██████████████▊                 | 2.6MB 35.6MB/s eta 0:00:01\r",
      "\u001b[K    46% |██████████████▊                 | 2.6MB 35.5MB/s eta 0:00:01\r",
      "\u001b[K    46% |██████████████▉                 | 2.7MB 36.1MB/s eta 0:00:01\r",
      "\u001b[K    46% |██████████████▉                 | 2.7MB 34.4MB/s eta 0:00:01"
     ]
    },
    {
     "name": "stdout",
     "output_type": "stream",
     "text": [
      "\r",
      "\u001b[K    46% |███████████████                 | 2.7MB 34.1MB/s eta 0:00:01\r",
      "\u001b[K    46% |███████████████                 | 2.7MB 34.1MB/s eta 0:00:01\r",
      "\u001b[K    46% |███████████████                 | 2.7MB 32.1MB/s eta 0:00:01\r",
      "\u001b[K    47% |███████████████                 | 2.7MB 32.4MB/s eta 0:00:01\r",
      "\u001b[K    47% |███████████████▏                | 2.7MB 33.6MB/s eta 0:00:01\r",
      "\u001b[K    47% |███████████████▏                | 2.7MB 34.0MB/s eta 0:00:01\r",
      "\u001b[K    47% |███████████████▎                | 2.7MB 33.7MB/s eta 0:00:01\r",
      "\u001b[K    47% |███████████████▎                | 2.7MB 34.0MB/s eta 0:00:01\r",
      "\u001b[K    48% |███████████████▍                | 2.8MB 34.6MB/s eta 0:00:01\r",
      "\u001b[K    48% |███████████████▍                | 2.8MB 35.5MB/s eta 0:00:01\r",
      "\u001b[K    48% |███████████████▌                | 2.8MB 36.4MB/s eta 0:00:01\r",
      "\u001b[K    48% |███████████████▌                | 2.8MB 36.9MB/s eta 0:00:01\r",
      "\u001b[K    48% |███████████████▋                | 2.8MB 39.5MB/s eta 0:00:01\r",
      "\u001b[K    48% |███████████████▋                | 2.8MB 39.4MB/s eta 0:00:01\r",
      "\u001b[K    49% |███████████████▊                | 2.8MB 38.7MB/s eta 0:00:01\r",
      "\u001b[K    49% |███████████████▉                | 2.8MB 39.5MB/s eta 0:00:01\r",
      "\u001b[K    49% |███████████████▉                | 2.8MB 39.5MB/s eta 0:00:01\r",
      "\u001b[K    49% |████████████████                | 2.8MB 40.2MB/s eta 0:00:01\r",
      "\u001b[K    49% |████████████████                | 2.9MB 38.6MB/s eta 0:00:01\r",
      "\u001b[K    50% |████████████████                | 2.9MB 37.6MB/s eta 0:00:01\r",
      "\u001b[K    50% |████████████████                | 2.9MB 37.1MB/s eta 0:00:01\r",
      "\u001b[K    50% |████████████████▏               | 2.9MB 36.2MB/s eta 0:00:01\r",
      "\u001b[K    50% |████████████████▏               | 2.9MB 36.8MB/s eta 0:00:01\r",
      "\u001b[K    50% |████████████████▎               | 2.9MB 35.7MB/s eta 0:00:01\r",
      "\u001b[K    50% |████████████████▎               | 2.9MB 36.0MB/s eta 0:00:01\r",
      "\u001b[K    51% |████████████████▍               | 2.9MB 35.1MB/s eta 0:00:01\r",
      "\u001b[K    51% |████████████████▍               | 2.9MB 34.3MB/s eta 0:00:01\r",
      "\u001b[K    51% |████████████████▌               | 2.9MB 33.6MB/s eta 0:00:01\r",
      "\u001b[K    51% |████████████████▌               | 3.0MB 34.1MB/s eta 0:00:01\r",
      "\u001b[K    51% |████████████████▋               | 3.0MB 34.4MB/s eta 0:00:01\r",
      "\u001b[K    51% |████████████████▋               | 3.0MB 33.9MB/s eta 0:00:01\r",
      "\u001b[K    52% |████████████████▊               | 3.0MB 33.5MB/s eta 0:00:01\r",
      "\u001b[K    52% |████████████████▊               | 3.0MB 33.3MB/s eta 0:00:01\r",
      "\u001b[K    52% |████████████████▉               | 3.0MB 33.9MB/s eta 0:00:01\r",
      "\u001b[K    52% |████████████████▉               | 3.0MB 34.1MB/s eta 0:00:01\r",
      "\u001b[K    52% |█████████████████               | 3.0MB 34.3MB/s eta 0:00:01\r",
      "\u001b[K    53% |█████████████████               | 3.0MB 34.8MB/s eta 0:00:01\r",
      "\u001b[K    53% |█████████████████               | 3.1MB 35.4MB/s eta 0:00:01\r",
      "\u001b[K    53% |█████████████████               | 3.1MB 36.4MB/s eta 0:00:01\r",
      "\u001b[K    53% |█████████████████▏              | 3.1MB 38.3MB/s eta 0:00:01\r",
      "\u001b[K    53% |█████████████████▏              | 3.1MB 38.4MB/s eta 0:00:01\r",
      "\u001b[K    53% |█████████████████▎              | 3.1MB 39.5MB/s eta 0:00:01\r",
      "\u001b[K    54% |█████████████████▎              | 3.1MB 40.2MB/s eta 0:00:01\r",
      "\u001b[K    54% |█████████████████▍              | 3.1MB 40.9MB/s eta 0:00:01\r",
      "\u001b[K    54% |█████████████████▍              | 3.1MB 39.3MB/s eta 0:00:01\r",
      "\u001b[K    54% |█████████████████▌              | 3.1MB 39.0MB/s eta 0:00:01\r",
      "\u001b[K    54% |█████████████████▌              | 3.1MB 40.2MB/s eta 0:00:01\r",
      "\u001b[K    55% |█████████████████▋              | 3.2MB 39.3MB/s eta 0:00:01\r",
      "\u001b[K    55% |█████████████████▊              | 3.2MB 37.6MB/s eta 0:00:01\r",
      "\u001b[K    55% |█████████████████▊              | 3.2MB 36.0MB/s eta 0:00:01\r",
      "\u001b[K    55% |█████████████████▉              | 3.2MB 36.6MB/s eta 0:00:01\r",
      "\u001b[K    55% |█████████████████▉              | 3.2MB 35.9MB/s eta 0:00:01\r",
      "\u001b[K    55% |██████████████████              | 3.2MB 34.2MB/s eta 0:00:01\r",
      "\u001b[K    56% |██████████████████              | 3.2MB 33.7MB/s eta 0:00:01\r",
      "\u001b[K    56% |██████████████████              | 3.2MB 33.9MB/s eta 0:00:01\r",
      "\u001b[K    56% |██████████████████              | 3.2MB 34.3MB/s eta 0:00:01\r",
      "\u001b[K    56% |██████████████████▏             | 3.2MB 32.6MB/s eta 0:00:01\r",
      "\u001b[K    56% |██████████████████▏             | 3.3MB 33.2MB/s eta 0:00:01\r",
      "\u001b[K    56% |██████████████████▎             | 3.3MB 34.0MB/s eta 0:00:01\r",
      "\u001b[K    57% |██████████████████▎             | 3.3MB 34.5MB/s eta 0:00:01\r",
      "\u001b[K    57% |██████████████████▍             | 3.3MB 33.4MB/s eta 0:00:01\r",
      "\u001b[K    57% |██████████████████▍             | 3.3MB 33.3MB/s eta 0:00:01\r",
      "\u001b[K    57% |██████████████████▌             | 3.3MB 35.1MB/s eta 0:00:01\r",
      "\u001b[K    57% |██████████████████▌             | 3.3MB 34.4MB/s eta 0:00:01\r",
      "\u001b[K    58% |██████████████████▋             | 3.3MB 34.7MB/s eta 0:00:01\r",
      "\u001b[K    58% |██████████████████▋             | 3.3MB 34.4MB/s eta 0:00:01\r",
      "\u001b[K    58% |██████████████████▊             | 3.3MB 36.0MB/s eta 0:00:01\r",
      "\u001b[K    58% |██████████████████▊             | 3.4MB 34.5MB/s eta 0:00:01\r",
      "\u001b[K    58% |██████████████████▉             | 3.4MB 34.1MB/s eta 0:00:01\r",
      "\u001b[K    58% |██████████████████▉             | 3.4MB 34.4MB/s eta 0:00:01\r",
      "\u001b[K    59% |███████████████████             | 3.4MB 33.7MB/s eta 0:00:01\r",
      "\u001b[K    59% |███████████████████             | 3.4MB 34.4MB/s eta 0:00:01\r",
      "\u001b[K    59% |███████████████████             | 3.4MB 34.0MB/s eta 0:00:01\r",
      "\u001b[K    59% |███████████████████             | 3.4MB 35.4MB/s eta 0:00:01\r",
      "\u001b[K    59% |███████████████████▏            | 3.4MB 34.7MB/s eta 0:00:01\r",
      "\u001b[K    60% |███████████████████▏            | 3.4MB 35.4MB/s eta 0:00:01\r",
      "\u001b[K    60% |███████████████████▎            | 3.5MB 34.9MB/s eta 0:00:01\r",
      "\u001b[K    60% |███████████████████▎            | 3.5MB 36.0MB/s eta 0:00:01\r",
      "\u001b[K    60% |███████████████████▍            | 3.5MB 35.4MB/s eta 0:00:01\r",
      "\u001b[K    60% |███████████████████▍            | 3.5MB 36.1MB/s eta 0:00:01\r",
      "\u001b[K    60% |███████████████████▌            | 3.5MB 38.1MB/s eta 0:00:01\r",
      "\u001b[K    61% |███████████████████▌            | 3.5MB 38.7MB/s eta 0:00:01\r",
      "\u001b[K    61% |███████████████████▋            | 3.5MB 38.5MB/s eta 0:00:01\r",
      "\u001b[K    61% |███████████████████▊            | 3.5MB 38.9MB/s eta 0:00:01\r",
      "\u001b[K    61% |███████████████████▊            | 3.5MB 41.0MB/s eta 0:00:01\r",
      "\u001b[K    61% |███████████████████▉            | 3.5MB 40.6MB/s eta 0:00:01\r",
      "\u001b[K    62% |███████████████████▉            | 3.6MB 40.3MB/s eta 0:00:01\r",
      "\u001b[K    62% |████████████████████            | 3.6MB 41.6MB/s eta 0:00:01\r",
      "\u001b[K    62% |████████████████████            | 3.6MB 43.3MB/s eta 0:00:01\r",
      "\u001b[K    62% |████████████████████            | 3.6MB 43.1MB/s eta 0:00:01\r",
      "\u001b[K    62% |████████████████████            | 3.6MB 42.8MB/s eta 0:00:01\r",
      "\u001b[K    62% |████████████████████▏           | 3.6MB 41.4MB/s eta 0:00:01\r",
      "\u001b[K    63% |████████████████████▏           | 3.6MB 43.1MB/s eta 0:00:01\r",
      "\u001b[K    63% |████████████████████▎           | 3.6MB 42.7MB/s eta 0:00:01\r",
      "\u001b[K    63% |████████████████████▎           | 3.6MB 42.0MB/s eta 0:00:01\r",
      "\u001b[K    63% |████████████████████▍           | 3.6MB 41.7MB/s eta 0:00:01\r",
      "\u001b[K    63% |████████████████████▍           | 3.7MB 42.5MB/s eta 0:00:01\r",
      "\u001b[K    63% |████████████████████▌           | 3.7MB 41.6MB/s eta 0:00:01\r",
      "\u001b[K    64% |████████████████████▌           | 3.7MB 40.9MB/s eta 0:00:01\r",
      "\u001b[K    64% |████████████████████▋           | 3.7MB 39.4MB/s eta 0:00:01\r",
      "\u001b[K    64% |████████████████████▋           | 3.7MB 40.7MB/s eta 0:00:01\r",
      "\u001b[K    64% |████████████████████▊           | 3.7MB 41.2MB/s eta 0:00:01\r",
      "\u001b[K    64% |████████████████████▊           | 3.7MB 39.9MB/s eta 0:00:01\r",
      "\u001b[K    65% |████████████████████▉           | 3.7MB 40.1MB/s eta 0:00:01\r",
      "\u001b[K    65% |████████████████████▉           | 3.7MB 40.8MB/s eta 0:00:01\r",
      "\u001b[K    65% |█████████████████████           | 3.7MB 41.9MB/s eta 0:00:01\r",
      "\u001b[K    65% |█████████████████████           | 3.8MB 41.7MB/s eta 0:00:01\r",
      "\u001b[K    65% |█████████████████████           | 3.8MB 42.3MB/s eta 0:00:01\r",
      "\u001b[K    65% |█████████████████████           | 3.8MB 42.7MB/s eta 0:00:01\r",
      "\u001b[K    66% |█████████████████████▏          | 3.8MB 43.8MB/s eta 0:00:01\r",
      "\u001b[K    66% |█████████████████████▏          | 3.8MB 41.4MB/s eta 0:00:01\r",
      "\u001b[K    66% |█████████████████████▎          | 3.8MB 42.5MB/s eta 0:00:01\r",
      "\u001b[K    66% |█████████████████████▎          | 3.8MB 42.8MB/s eta 0:00:01\r",
      "\u001b[K    66% |█████████████████████▍          | 3.8MB 43.5MB/s eta 0:00:01\r",
      "\u001b[K    67% |█████████████████████▍          | 3.8MB 42.4MB/s eta 0:00:01\r",
      "\u001b[K    67% |█████████████████████▌          | 3.9MB 41.0MB/s eta 0:00:01\r",
      "\u001b[K    67% |█████████████████████▌          | 3.9MB 41.8MB/s eta 0:00:01\r",
      "\u001b[K    67% |█████████████████████▋          | 3.9MB 41.0MB/s eta 0:00:01\r",
      "\u001b[K    67% |█████████████████████▊          | 3.9MB 40.3MB/s eta 0:00:01\r",
      "\u001b[K    67% |█████████████████████▊          | 3.9MB 41.0MB/s eta 0:00:01\r",
      "\u001b[K    68% |█████████████████████▉          | 3.9MB 42.6MB/s eta 0:00:01\r",
      "\u001b[K    68% |█████████████████████▉          | 3.9MB 42.1MB/s eta 0:00:01\r",
      "\u001b[K    68% |██████████████████████          | 3.9MB 41.6MB/s eta 0:00:01\r",
      "\u001b[K    68% |██████████████████████          | 3.9MB 40.3MB/s eta 0:00:01\r",
      "\u001b[K    68% |██████████████████████          | 3.9MB 41.7MB/s eta 0:00:01\r",
      "\u001b[K    68% |██████████████████████          | 4.0MB 41.4MB/s eta 0:00:01\r",
      "\u001b[K    69% |██████████████████████▏         | 4.0MB 41.5MB/s eta 0:00:01\r",
      "\u001b[K    69% |██████████████████████▏         | 4.0MB 41.7MB/s eta 0:00:01\r",
      "\u001b[K    69% |██████████████████████▎         | 4.0MB 43.3MB/s eta 0:00:01\r",
      "\u001b[K    69% |██████████████████████▎         | 4.0MB 42.7MB/s eta 0:00:01\r",
      "\u001b[K    69% |██████████████████████▍         | 4.0MB 42.1MB/s eta 0:00:01\r",
      "\u001b[K    70% |██████████████████████▍         | 4.0MB 41.4MB/s eta 0:00:01\r",
      "\u001b[K    70% |██████████████████████▌         | 4.0MB 42.9MB/s eta 0:00:01\r",
      "\u001b[K    70% |██████████████████████▌         | 4.0MB 42.9MB/s eta 0:00:01\r",
      "\u001b[K    70% |██████████████████████▋         | 4.0MB 41.6MB/s eta 0:00:01\r",
      "\u001b[K    70% |██████████████████████▋         | 4.1MB 42.8MB/s eta 0:00:01\r",
      "\u001b[K    70% |██████████████████████▊         | 4.1MB 41.5MB/s eta 0:00:01\r",
      "\u001b[K    71% |██████████████████████▊         | 4.1MB 42.6MB/s eta 0:00:01\r",
      "\u001b[K    71% |██████████████████████▉         | 4.1MB 41.9MB/s eta 0:00:01\r",
      "\u001b[K    71% |██████████████████████▉         | 4.1MB 41.5MB/s eta 0:00:01\r",
      "\u001b[K    71% |███████████████████████         | 4.1MB 41.7MB/s eta 0:00:01\r",
      "\u001b[K    71% |███████████████████████         | 4.1MB 42.0MB/s eta 0:00:01\r",
      "\u001b[K    72% |███████████████████████         | 4.1MB 40.8MB/s eta 0:00:01\r",
      "\u001b[K    72% |███████████████████████         | 4.1MB 41.3MB/s eta 0:00:01\r",
      "\u001b[K    72% |███████████████████████▏        | 4.1MB 41.1MB/s eta 0:00:01\r",
      "\u001b[K    72% |███████████████████████▏        | 4.2MB 41.4MB/s eta 0:00:01\r",
      "\u001b[K    72% |███████████████████████▎        | 4.2MB 43.0MB/s eta 0:00:01\r",
      "\u001b[K    72% |███████████████████████▎        | 4.2MB 41.5MB/s eta 0:00:01\r",
      "\u001b[K    73% |███████████████████████▍        | 4.2MB 41.9MB/s eta 0:00:01\r",
      "\u001b[K    73% |███████████████████████▍        | 4.2MB 41.7MB/s eta 0:00:01\r",
      "\u001b[K    73% |███████████████████████▌        | 4.2MB 41.3MB/s eta 0:00:01\r",
      "\u001b[K    73% |███████████████████████▋        | 4.2MB 40.8MB/s eta 0:00:01\r",
      "\u001b[K    73% |███████████████████████▋        | 4.2MB 41.5MB/s eta 0:00:01\r",
      "\u001b[K    73% |███████████████████████▊        | 4.2MB 41.8MB/s eta 0:00:01\r",
      "\u001b[K    74% |███████████████████████▊        | 4.2MB 41.7MB/s eta 0:00:01\r",
      "\u001b[K    74% |███████████████████████▉        | 4.3MB 40.5MB/s eta 0:00:01\r",
      "\u001b[K    74% |███████████████████████▉        | 4.3MB 40.7MB/s eta 0:00:01\r",
      "\u001b[K    74% |████████████████████████        | 4.3MB 41.1MB/s eta 0:00:01\r",
      "\u001b[K    74% |████████████████████████        | 4.3MB 41.1MB/s eta 0:00:01\r",
      "\u001b[K    75% |████████████████████████        | 4.3MB 41.5MB/s eta 0:00:01\r",
      "\u001b[K    75% |████████████████████████        | 4.3MB 42.4MB/s eta 0:00:01\r",
      "\u001b[K    75% |████████████████████████▏       | 4.3MB 44.2MB/s eta 0:00:01\r",
      "\u001b[K    75% |████████████████████████▏       | 4.3MB 43.2MB/s eta 0:00:01\r",
      "\u001b[K    75% |████████████████████████▎       | 4.3MB 43.3MB/s eta 0:00:01\r",
      "\u001b[K    75% |████████████████████████▎       | 4.4MB 44.0MB/s eta 0:00:01\r",
      "\u001b[K    76% |████████████████████████▍       | 4.4MB 44.1MB/s eta 0:00:01\r",
      "\u001b[K    76% |████████████████████████▍       | 4.4MB 43.5MB/s eta 0:00:01\r",
      "\u001b[K    76% |████████████████████████▌       | 4.4MB 44.8MB/s eta 0:00:01\r",
      "\u001b[K    76% |████████████████████████▌       | 4.4MB 44.7MB/s eta 0:00:01\r",
      "\u001b[K    76% |████████████████████████▋       | 4.4MB 44.3MB/s eta 0:00:01\r",
      "\u001b[K    77% |████████████████████████▋       | 4.4MB 44.2MB/s eta 0:00:01\r",
      "\u001b[K    77% |████████████████████████▊       | 4.4MB 42.3MB/s eta 0:00:01\r",
      "\u001b[K    77% |████████████████████████▊       | 4.4MB 43.4MB/s eta 0:00:01\r",
      "\u001b[K    77% |████████████████████████▉       | 4.4MB 43.0MB/s eta 0:00:01\r",
      "\u001b[K    77% |████████████████████████▉       | 4.5MB 43.6MB/s eta 0:00:01\r",
      "\u001b[K    77% |█████████████████████████       | 4.5MB 44.6MB/s eta 0:00:01\r",
      "\u001b[K    78% |█████████████████████████       | 4.5MB 43.7MB/s eta 0:00:01\r",
      "\u001b[K    78% |█████████████████████████       | 4.5MB 43.3MB/s eta 0:00:01\r",
      "\u001b[K    78% |█████████████████████████       | 4.5MB 42.4MB/s eta 0:00:01\r",
      "\u001b[K    78% |█████████████████████████▏      | 4.5MB 42.9MB/s eta 0:00:01\r",
      "\u001b[K    78% |█████████████████████████▏      | 4.5MB 43.2MB/s eta 0:00:01\r",
      "\u001b[K    78% |█████████████████████████▎      | 4.5MB 43.7MB/s eta 0:00:01\r",
      "\u001b[K    79% |█████████████████████████▎      | 4.5MB 43.3MB/s eta 0:00:01\r",
      "\u001b[K    79% |█████████████████████████▍      | 4.5MB 43.6MB/s eta 0:00:01\r",
      "\u001b[K    79% |█████████████████████████▍      | 4.6MB 44.2MB/s eta 0:00:01\r",
      "\u001b[K    79% |█████████████████████████▌      | 4.6MB 43.5MB/s eta 0:00:01\r",
      "\u001b[K    79% |█████████████████████████▋      | 4.6MB 44.5MB/s eta 0:00:01\r",
      "\u001b[K    80% |█████████████████████████▋      | 4.6MB 45.1MB/s eta 0:00:01\r",
      "\u001b[K    80% |█████████████████████████▊      | 4.6MB 46.8MB/s eta 0:00:01\r",
      "\u001b[K    80% |█████████████████████████▊      | 4.6MB 47.7MB/s eta 0:00:01\r",
      "\u001b[K    80% |█████████████████████████▉      | 4.6MB 47.4MB/s eta 0:00:01\r",
      "\u001b[K    80% |█████████████████████████▉      | 4.6MB 48.2MB/s eta 0:00:01\r",
      "\u001b[K    80% |██████████████████████████      | 4.6MB 49.6MB/s eta 0:00:01\r",
      "\u001b[K    81% |██████████████████████████      | 4.6MB 50.0MB/s eta 0:00:01\r",
      "\u001b[K    81% |██████████████████████████      | 4.7MB 49.3MB/s eta 0:00:01\r",
      "\u001b[K    81% |██████████████████████████      | 4.7MB 49.1MB/s eta 0:00:01\r",
      "\u001b[K    81% |██████████████████████████▏     | 4.7MB 49.2MB/s eta 0:00:01\r",
      "\u001b[K    81% |██████████████████████████▏     | 4.7MB 49.3MB/s eta 0:00:01\r",
      "\u001b[K    82% |██████████████████████████▎     | 4.7MB 49.2MB/s eta 0:00:01\r",
      "\u001b[K    82% |██████████████████████████▎     | 4.7MB 48.1MB/s eta 0:00:01\r",
      "\u001b[K    82% |██████████████████████████▍     | 4.7MB 49.1MB/s eta 0:00:01\r",
      "\u001b[K    82% |██████████████████████████▍     | 4.7MB 49.6MB/s eta 0:00:01\r",
      "\u001b[K    82% |██████████████████████████▌     | 4.7MB 49.1MB/s eta 0:00:01\r",
      "\u001b[K    82% |██████████████████████████▌     | 4.8MB 49.7MB/s eta 0:00:01\r",
      "\u001b[K    83% |██████████████████████████▋     | 4.8MB 49.3MB/s eta 0:00:01\r",
      "\u001b[K    83% |██████████████████████████▋     | 4.8MB 50.9MB/s eta 0:00:01\r",
      "\u001b[K    83% |██████████████████████████▊     | 4.8MB 51.0MB/s eta 0:00:01\r",
      "\u001b[K    83% |██████████████████████████▊     | 4.8MB 50.3MB/s eta 0:00:01\r",
      "\u001b[K    83% |██████████████████████████▉     | 4.8MB 50.1MB/s eta 0:00:01\r",
      "\u001b[K    83% |██████████████████████████▉     | 4.8MB 50.0MB/s eta 0:00:01\r",
      "\u001b[K    84% |███████████████████████████     | 4.8MB 49.4MB/s eta 0:00:01"
     ]
    },
    {
     "name": "stdout",
     "output_type": "stream",
     "text": [
      "\u001b[K    100% |████████████████████████████████| 5.7MB 244kB/s eta 0:00:01\n",
      "\u001b[?25hRequirement already satisfied: olefile in /srv/venv/lib/python3.6/site-packages (from pillow>=2.1.0->scikit-image)\n",
      "Requirement already satisfied: numpy>=1.8.2 in /srv/venv/lib/python3.6/site-packages (from scipy>=0.17.0->scikit-image)\n",
      "Requirement already satisfied: python-dateutil in /srv/venv/lib/python3.6/site-packages (from matplotlib>=1.3.1->scikit-image)\n",
      "Requirement already satisfied: pytz in /srv/venv/lib/python3.6/site-packages (from matplotlib>=1.3.1->scikit-image)\n",
      "Requirement already satisfied: pyparsing!=2.0.0,!=2.0.4,!=2.1.2,!=2.1.6,>=1.5.6 in /srv/venv/lib/python3.6/site-packages (from matplotlib>=1.3.1->scikit-image)\n",
      "Requirement already satisfied: cycler>=0.10 in /srv/venv/lib/python3.6/site-packages (from matplotlib>=1.3.1->scikit-image)\n",
      "Requirement already satisfied: decorator>=4.1.0 in /srv/venv/lib/python3.6/site-packages (from networkx>=1.8->scikit-image)\n",
      "Building wheels for collected packages: networkx\n",
      "  Running setup.py bdist_wheel for networkx ... \u001b[?25ldone\n",
      "\u001b[?25h  Stored in directory: /home/jovyan/.cache/pip/wheels/a0/33/4e/7c9228ea77f8090e895d8d2b76f3b5a76997a5b3edeb4e2c6f\n",
      "Successfully built networkx\n",
      "Installing collected packages: networkx, PyWavelets, scikit-image\n",
      "Successfully installed PyWavelets-0.5.2 networkx-2.1 scikit-image-0.13.1\n",
      "Collecting tqdm\n",
      "  Downloading tqdm-4.19.5-py2.py3-none-any.whl (51kB)\n",
      "\u001b[K    100% |████████████████████████████████| 61kB 3.4MB/s ta 0:00:011\n",
      "\u001b[?25hInstalling collected packages: tqdm\n",
      "Successfully installed tqdm-4.19.5\n",
      "Collecting tflearn\n",
      "  Downloading tflearn-0.3.2.tar.gz (98kB)\n",
      "\u001b[K    100% |████████████████████████████████| 102kB 2.7MB/s a 0:00:011\n",
      "\u001b[?25hRequirement already satisfied: numpy in /srv/venv/lib/python3.6/site-packages (from tflearn)\n",
      "Requirement already satisfied: six in /srv/venv/lib/python3.6/site-packages (from tflearn)\n",
      "Requirement already satisfied: Pillow in /srv/venv/lib/python3.6/site-packages (from tflearn)\n",
      "Requirement already satisfied: olefile in /srv/venv/lib/python3.6/site-packages (from Pillow->tflearn)\n",
      "Building wheels for collected packages: tflearn\n",
      "  Running setup.py bdist_wheel for tflearn ... \u001b[?25ldone\n",
      "\u001b[?25h  Stored in directory: /home/jovyan/.cache/pip/wheels/fb/06/72/0478c938ca315c6fddcce8233b80ec91a115ce4496a27e8c90\n",
      "Successfully built tflearn\n",
      "Installing collected packages: tflearn\n",
      "Successfully installed tflearn-0.3.2\n",
      "Collecting h5py\n",
      "  Downloading h5py-2.7.1-cp36-cp36m-manylinux1_x86_64.whl (5.4MB)\n",
      "\u001b[K    100% |████████████████████████████████| 5.4MB 246kB/s eta 0:00:01    26% |████████▌                       | 1.4MB 10.8MB/s eta 0:00:01\n",
      "\u001b[?25hRequirement already satisfied: numpy>=1.7 in /srv/venv/lib/python3.6/site-packages (from h5py)\n",
      "Requirement already satisfied: six in /srv/venv/lib/python3.6/site-packages (from h5py)\n",
      "Installing collected packages: h5py\n",
      "Successfully installed h5py-2.7.1\n"
     ]
    }
   ],
   "source": [
    "!pip install watermark\n",
    "!pip install nltk\n",
    "!pip install theano\n",
    "!pip install mxnet\n",
    "!pip install chainer\n",
    "!pip install seaborn\n",
    "!pip install keras\n",
    "!pip install scikit-image\n",
    "!pip install tqdm\n",
    "!pip install tflearn\n",
    "!pip install h5py "
   ]
  },
  {
   "cell_type": "markdown",
   "metadata": {},
   "source": [
    "#### Load dependencies"
   ]
  },
  {
   "cell_type": "code",
   "execution_count": 2,
   "metadata": {},
   "outputs": [
    {
     "name": "stderr",
     "output_type": "stream",
     "text": [
      "WARNING (theano.tensor.blas): Using NumPy C-API based implementation for BLAS functions.\n",
      "Using TensorFlow backend.\n",
      "/srv/venv/lib/python3.6/site-packages/tensorflow/python/util/tf_inspect.py:45: DeprecationWarning: inspect.getargspec() is deprecated, use inspect.signature() or inspect.getfullargspec()\n",
      "  if d.decorator_argspec is not None), _inspect.getargspec(target))\n"
     ]
    },
    {
     "name": "stdout",
     "output_type": "stream",
     "text": [
      "Gopala KR \n",
      "last updated: 2018-02-03 \n",
      "\n",
      "CPython 3.6.3\n",
      "IPython 6.2.1\n",
      "\n",
      "watermark 1.6.0\n",
      "numpy 1.13.1\n",
      "pandas 0.20.3\n",
      "matplotlib 2.0.2\n",
      "nltk 3.2.5\n",
      "sklearn 0.19.0\n",
      "tensorflow 1.3.0\n",
      "theano 1.0.1\n",
      "mxnet 1.0.0\n",
      "chainer 3.3.0\n",
      "seaborn 0.8.1\n",
      "keras 2.1.3\n",
      "tflearn n\u0007\n"
     ]
    }
   ],
   "source": [
    "#load watermark\n",
    "%load_ext watermark\n",
    "%watermark -a 'Gopala KR' -u -d -v -p watermark,numpy,pandas,matplotlib,nltk,sklearn,tensorflow,theano,mxnet,chainer,seaborn,keras,tflearn"
   ]
  },
  {
   "cell_type": "code",
   "execution_count": 3,
   "metadata": {},
   "outputs": [],
   "source": [
    "import keras\n",
    "from keras.datasets import imdb\n",
    "from keras.preprocessing.sequence import pad_sequences\n",
    "from keras.models import Sequential\n",
    "from keras.layers import Dense, Dropout, Embedding, SpatialDropout1D\n",
    "from keras.layers import SimpleRNN # new! \n",
    "from keras.callbacks import ModelCheckpoint\n",
    "import os\n",
    "from sklearn.metrics import roc_auc_score \n",
    "import matplotlib.pyplot as plt \n",
    "%matplotlib inline"
   ]
  },
  {
   "cell_type": "markdown",
   "metadata": {},
   "source": [
    "#### Set hyperparameters"
   ]
  },
  {
   "cell_type": "code",
   "execution_count": 4,
   "metadata": {},
   "outputs": [],
   "source": [
    "# output directory name:\n",
    "output_dir = 'model_output/rnn'\n",
    "\n",
    "# training:\n",
    "epochs = 16 # way more!\n",
    "batch_size = 128\n",
    "\n",
    "# vector-space embedding: \n",
    "n_dim = 64 \n",
    "n_unique_words = 10000 \n",
    "max_review_length = 100 # lowered due to vanishing gradient over time\n",
    "pad_type = trunc_type = 'pre'\n",
    "drop_embed = 0.2 \n",
    "\n",
    "# RNN layer architecture:\n",
    "n_rnn = 256 \n",
    "drop_rnn = 0.2\n",
    "\n",
    "# dense layer architecture: \n",
    "# n_dense = 256\n",
    "# dropout = 0.2"
   ]
  },
  {
   "cell_type": "markdown",
   "metadata": {},
   "source": [
    "#### Load data"
   ]
  },
  {
   "cell_type": "code",
   "execution_count": 5,
   "metadata": {},
   "outputs": [
    {
     "name": "stdout",
     "output_type": "stream",
     "text": [
      "Downloading data from https://s3.amazonaws.com/text-datasets/imdb.npz\n",
      "17465344/17464789 [==============================] - 2s 0us/step\n"
     ]
    }
   ],
   "source": [
    "(x_train, y_train), (x_valid, y_valid) = imdb.load_data(num_words=n_unique_words) # removed n_words_to_skip"
   ]
  },
  {
   "cell_type": "markdown",
   "metadata": {},
   "source": [
    "#### Preprocess data"
   ]
  },
  {
   "cell_type": "code",
   "execution_count": 6,
   "metadata": {},
   "outputs": [],
   "source": [
    "x_train = pad_sequences(x_train, maxlen=max_review_length, padding=pad_type, truncating=trunc_type, value=0)\n",
    "x_valid = pad_sequences(x_valid, maxlen=max_review_length, padding=pad_type, truncating=trunc_type, value=0)"
   ]
  },
  {
   "cell_type": "markdown",
   "metadata": {
    "collapsed": true
   },
   "source": [
    "#### Design neural network architecture"
   ]
  },
  {
   "cell_type": "code",
   "execution_count": 7,
   "metadata": {},
   "outputs": [
    {
     "name": "stderr",
     "output_type": "stream",
     "text": [
      "/srv/venv/lib/python3.6/site-packages/tensorflow/python/util/tf_inspect.py:45: DeprecationWarning: inspect.getargspec() is deprecated, use inspect.signature() or inspect.getfullargspec()\n",
      "  if d.decorator_argspec is not None), _inspect.getargspec(target))\n"
     ]
    }
   ],
   "source": [
    "model = Sequential()\n",
    "model.add(Embedding(n_unique_words, n_dim, input_length=max_review_length)) \n",
    "model.add(SpatialDropout1D(drop_embed))\n",
    "model.add(SimpleRNN(n_rnn, dropout=drop_rnn))\n",
    "# model.add(Dense(n_dense, activation='relu')) # typically don't see top dense layer in NLP like in \n",
    "# model.add(Dropout(dropout))\n",
    "model.add(Dense(1, activation='sigmoid'))"
   ]
  },
  {
   "cell_type": "code",
   "execution_count": 8,
   "metadata": {},
   "outputs": [
    {
     "name": "stdout",
     "output_type": "stream",
     "text": [
      "_________________________________________________________________\n",
      "Layer (type)                 Output Shape              Param #   \n",
      "=================================================================\n",
      "embedding_1 (Embedding)      (None, 100, 64)           640000    \n",
      "_________________________________________________________________\n",
      "spatial_dropout1d_1 (Spatial (None, 100, 64)           0         \n",
      "_________________________________________________________________\n",
      "simple_rnn_1 (SimpleRNN)     (None, 256)               82176     \n",
      "_________________________________________________________________\n",
      "dense_1 (Dense)              (None, 1)                 257       \n",
      "=================================================================\n",
      "Total params: 722,433\n",
      "Trainable params: 722,433\n",
      "Non-trainable params: 0\n",
      "_________________________________________________________________\n"
     ]
    }
   ],
   "source": [
    "model.summary() "
   ]
  },
  {
   "cell_type": "markdown",
   "metadata": {},
   "source": [
    "#### Configure model"
   ]
  },
  {
   "cell_type": "code",
   "execution_count": 9,
   "metadata": {},
   "outputs": [],
   "source": [
    "model.compile(loss='binary_crossentropy', optimizer='adam', metrics=['accuracy'])"
   ]
  },
  {
   "cell_type": "code",
   "execution_count": 10,
   "metadata": {},
   "outputs": [],
   "source": [
    "modelcheckpoint = ModelCheckpoint(filepath=output_dir+\"/weights.{epoch:02d}.hdf5\")\n",
    "if not os.path.exists(output_dir):\n",
    "    os.makedirs(output_dir)"
   ]
  },
  {
   "cell_type": "markdown",
   "metadata": {},
   "source": [
    "#### Train!"
   ]
  },
  {
   "cell_type": "code",
   "execution_count": 11,
   "metadata": {},
   "outputs": [
    {
     "name": "stdout",
     "output_type": "stream",
     "text": [
      "Train on 25000 samples, validate on 25000 samples\n",
      "Epoch 1/16\n",
      "25000/25000 [==============================] - 56s 2ms/step - loss: 0.6999 - acc: 0.5173 - val_loss: 0.6920 - val_acc: 0.5230\n",
      "Epoch 2/16\n",
      "25000/25000 [==============================] - 60s 2ms/step - loss: 0.6928 - acc: 0.5290 - val_loss: 0.6821 - val_acc: 0.5558\n",
      "Epoch 3/16\n",
      "25000/25000 [==============================] - 55s 2ms/step - loss: 0.6628 - acc: 0.5933 - val_loss: 0.6642 - val_acc: 0.5754\n",
      "Epoch 4/16\n",
      "25000/25000 [==============================] - 57s 2ms/step - loss: 0.5377 - acc: 0.7295 - val_loss: 0.5721 - val_acc: 0.7005\n",
      "Epoch 5/16\n",
      "25000/25000 [==============================] - 60s 2ms/step - loss: 0.4192 - acc: 0.8158 - val_loss: 0.5206 - val_acc: 0.7461\n",
      "Epoch 6/16\n",
      "25000/25000 [==============================] - 55s 2ms/step - loss: 0.3935 - acc: 0.8310 - val_loss: 0.4553 - val_acc: 0.8154\n",
      "Epoch 7/16\n",
      "25000/25000 [==============================] - 60s 2ms/step - loss: 0.4051 - acc: 0.8194 - val_loss: 0.4691 - val_acc: 0.7858\n",
      "Epoch 8/16\n",
      "25000/25000 [==============================] - 56s 2ms/step - loss: 0.3443 - acc: 0.8612 - val_loss: 0.4900 - val_acc: 0.7880\n",
      "Epoch 9/16\n",
      "25000/25000 [==============================] - 56s 2ms/step - loss: 0.3393 - acc: 0.8637 - val_loss: 0.4625 - val_acc: 0.7946\n",
      "Epoch 10/16\n",
      "25000/25000 [==============================] - 61s 2ms/step - loss: 0.3133 - acc: 0.8782 - val_loss: 0.4730 - val_acc: 0.8034\n",
      "Epoch 11/16\n",
      "25000/25000 [==============================] - 56s 2ms/step - loss: 0.3041 - acc: 0.8784 - val_loss: 0.5378 - val_acc: 0.7970\n",
      "Epoch 12/16\n",
      "25000/25000 [==============================] - 56s 2ms/step - loss: 0.5194 - acc: 0.7259 - val_loss: 0.6488 - val_acc: 0.6063\n",
      "Epoch 13/16\n",
      "25000/25000 [==============================] - 60s 2ms/step - loss: 0.5333 - acc: 0.7276 - val_loss: 0.6261 - val_acc: 0.6363\n",
      "Epoch 14/16\n",
      "25000/25000 [==============================] - 56s 2ms/step - loss: 0.4273 - acc: 0.8064 - val_loss: 0.5242 - val_acc: 0.7890\n",
      "Epoch 15/16\n",
      "25000/25000 [==============================] - 58s 2ms/step - loss: 0.3760 - acc: 0.8392 - val_loss: 0.5559 - val_acc: 0.7827\n",
      "Epoch 16/16\n",
      "25000/25000 [==============================] - 62s 2ms/step - loss: 0.3873 - acc: 0.8296 - val_loss: 0.5056 - val_acc: 0.7837\n"
     ]
    },
    {
     "data": {
      "text/plain": [
       "<keras.callbacks.History at 0x7f54e4a73908>"
      ]
     },
     "execution_count": 11,
     "metadata": {},
     "output_type": "execute_result"
    }
   ],
   "source": [
    "# 80.6% validation accuracy in epoch 4\n",
    "model.fit(x_train, y_train, batch_size=batch_size, epochs=epochs, verbose=1, validation_data=(x_valid, y_valid), callbacks=[modelcheckpoint])"
   ]
  },
  {
   "cell_type": "markdown",
   "metadata": {
    "collapsed": true
   },
   "source": [
    "#### Evaluate"
   ]
  },
  {
   "cell_type": "code",
   "execution_count": 12,
   "metadata": {},
   "outputs": [],
   "source": [
    "model.load_weights(output_dir+\"/weights.03.hdf5\") # zero-indexed"
   ]
  },
  {
   "cell_type": "code",
   "execution_count": 13,
   "metadata": {},
   "outputs": [],
   "source": [
    "y_hat = model.predict_proba(x_valid)"
   ]
  },
  {
   "cell_type": "code",
   "execution_count": 14,
   "metadata": {},
   "outputs": [
    {
     "data": {
      "image/png": "[encoded data removed]",
      "text/plain": [
       "<matplotlib.figure.Figure at 0x7f54e4a73780>"
      ]
     },
     "metadata": {},
     "output_type": "display_data"
    }
   ],
   "source": [
    "plt.hist(y_hat)\n",
    "_ = plt.axvline(x=0.5, color='orange')"
   ]
  },
  {
   "cell_type": "code",
   "execution_count": 15,
   "metadata": {},
   "outputs": [
    {
     "data": {
      "text/plain": [
       "'66.71'"
      ]
     },
     "execution_count": 15,
     "metadata": {},
     "output_type": "execute_result"
    }
   ],
   "source": [
    "\"{:0.2f}\".format(roc_auc_score(y_valid, y_hat)*100.0)"
   ]
  },
  {
   "cell_type": "code",
   "execution_count": null,
   "metadata": {},
   "outputs": [],
   "source": []
  },
  {
   "cell_type": "code",
   "execution_count": null,
   "metadata": {},
   "outputs": [],
   "source": []
  },
  {
   "cell_type": "code",
   "execution_count": null,
   "metadata": {},
   "outputs": [],
   "source": [
    "test complete; Gopal"
   ]
  }
 ],
 "metadata": {
  "kernelspec": {
   "display_name": "Python 3",
   "language": "python",
   "name": "python3"
  },
  "language_info": {
   "codemirror_mode": {
    "name": "ipython",
    "version": 3
   },
   "file_extension": ".py",
   "mimetype": "text/x-python",
   "name": "python",
   "nbconvert_exporter": "python",
   "pygments_lexer": "ipython3",
   "version": "3.6.3"
  }
 },
 "nbformat": 4,
 "nbformat_minor": 2
}
