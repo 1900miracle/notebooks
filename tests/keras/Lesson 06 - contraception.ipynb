{
 "cells": [
  {
   "cell_type": "markdown",
   "metadata": {},
   "source": [
    "# Embeddings\n",
    "\n",
    "https://www.youtube.com/watch?v=wSXGlvTR9UM"
   ]
  },
  {
   "cell_type": "code",
   "execution_count": 1,
   "metadata": {},
   "outputs": [
    {
     "name": "stderr",
     "output_type": "stream",
     "text": [
      "Using TensorFlow backend.\n"
     ]
    }
   ],
   "source": [
    "import pandas as pd\n",
    "import numpy as np\n",
    "\n",
    "from keras.models import Sequential\n",
    "from keras.layers import Dense, Activation, Embedding, Merge, Flatten\n",
    "\n",
    "from sklearn.model_selection import train_test_split\n",
    "from sklearn.preprocessing import StandardScaler\n",
    "\n",
    "import matplotlib.pyplot as plt\n",
    "%matplotlib inline"
   ]
  },
  {
   "cell_type": "code",
   "execution_count": 2,
   "metadata": {},
   "outputs": [
    {
     "data": {
      "text/html": [
       "<div>\n",
       "<style>\n",
       "    .dataframe thead tr:only-child th {\n",
       "        text-align: right;\n",
       "    }\n",
       "\n",
       "    .dataframe thead th {\n",
       "        text-align: left;\n",
       "    }\n",
       "\n",
       "    .dataframe tbody tr th {\n",
       "        vertical-align: top;\n",
       "    }\n",
       "</style>\n",
       "<table border=\"1\" class=\"dataframe\">\n",
       "  <thead>\n",
       "    <tr style=\"text-align: right;\">\n",
       "      <th></th>\n",
       "      <th>Age</th>\n",
       "      <th>Education</th>\n",
       "      <th>H_education</th>\n",
       "      <th>num_child</th>\n",
       "      <th>Religion</th>\n",
       "      <th>Employ</th>\n",
       "      <th>H_occupation</th>\n",
       "      <th>living_standard</th>\n",
       "      <th>Media_exposure</th>\n",
       "      <th>contraceptive</th>\n",
       "    </tr>\n",
       "  </thead>\n",
       "  <tbody>\n",
       "    <tr>\n",
       "      <th>0</th>\n",
       "      <td>24</td>\n",
       "      <td>2</td>\n",
       "      <td>3</td>\n",
       "      <td>3</td>\n",
       "      <td>1</td>\n",
       "      <td>1</td>\n",
       "      <td>2</td>\n",
       "      <td>3</td>\n",
       "      <td>0</td>\n",
       "      <td>1</td>\n",
       "    </tr>\n",
       "    <tr>\n",
       "      <th>1</th>\n",
       "      <td>45</td>\n",
       "      <td>1</td>\n",
       "      <td>3</td>\n",
       "      <td>10</td>\n",
       "      <td>1</td>\n",
       "      <td>1</td>\n",
       "      <td>3</td>\n",
       "      <td>4</td>\n",
       "      <td>0</td>\n",
       "      <td>1</td>\n",
       "    </tr>\n",
       "    <tr>\n",
       "      <th>2</th>\n",
       "      <td>43</td>\n",
       "      <td>2</td>\n",
       "      <td>3</td>\n",
       "      <td>7</td>\n",
       "      <td>1</td>\n",
       "      <td>1</td>\n",
       "      <td>3</td>\n",
       "      <td>4</td>\n",
       "      <td>0</td>\n",
       "      <td>1</td>\n",
       "    </tr>\n",
       "    <tr>\n",
       "      <th>3</th>\n",
       "      <td>42</td>\n",
       "      <td>3</td>\n",
       "      <td>2</td>\n",
       "      <td>9</td>\n",
       "      <td>1</td>\n",
       "      <td>1</td>\n",
       "      <td>3</td>\n",
       "      <td>3</td>\n",
       "      <td>0</td>\n",
       "      <td>1</td>\n",
       "    </tr>\n",
       "    <tr>\n",
       "      <th>4</th>\n",
       "      <td>36</td>\n",
       "      <td>3</td>\n",
       "      <td>3</td>\n",
       "      <td>8</td>\n",
       "      <td>1</td>\n",
       "      <td>1</td>\n",
       "      <td>3</td>\n",
       "      <td>2</td>\n",
       "      <td>0</td>\n",
       "      <td>1</td>\n",
       "    </tr>\n",
       "  </tbody>\n",
       "</table>\n",
       "</div>"
      ],
      "text/plain": [
       "   Age  Education  H_education  num_child  Religion  Employ  H_occupation  \\\n",
       "0   24          2            3          3         1       1             2   \n",
       "1   45          1            3         10         1       1             3   \n",
       "2   43          2            3          7         1       1             3   \n",
       "3   42          3            2          9         1       1             3   \n",
       "4   36          3            3          8         1       1             3   \n",
       "\n",
       "   living_standard  Media_exposure  contraceptive  \n",
       "0                3               0              1  \n",
       "1                4               0              1  \n",
       "2                4               0              1  \n",
       "3                3               0              1  \n",
       "4                2               0              1  "
      ]
     },
     "execution_count": 2,
     "metadata": {},
     "output_type": "execute_result"
    }
   ],
   "source": [
    "df = pd.read_csv('data/cmc.data',header=None,names=['Age','Education','H_education',\n",
    "                                                     'num_child','Religion', 'Employ',\n",
    "                                                     'H_occupation','living_standard',\n",
    "                                                     'Media_exposure','contraceptive'])\n",
    "df.head()"
   ]
  },
  {
   "cell_type": "code",
   "execution_count": 3,
   "metadata": {},
   "outputs": [
    {
     "data": {
      "text/plain": [
       "Age                False\n",
       "Education          False\n",
       "H_education        False\n",
       "num_child          False\n",
       "Religion           False\n",
       "Employ             False\n",
       "H_occupation       False\n",
       "living_standard    False\n",
       "Media_exposure     False\n",
       "contraceptive      False\n",
       "dtype: bool"
      ]
     },
     "execution_count": 3,
     "metadata": {},
     "output_type": "execute_result"
    }
   ],
   "source": [
    "df.isnull().any()"
   ]
  },
  {
   "cell_type": "code",
   "execution_count": 4,
   "metadata": {},
   "outputs": [
    {
     "data": {
      "text/plain": [
       "<matplotlib.axes._subplots.AxesSubplot at 0x7f9da96c9a58>"
      ]
     },
     "execution_count": 4,
     "metadata": {},
     "output_type": "execute_result"
    },
    {
     "data": {
      "image/png": "[encoded data removed]",
      "text/plain": [
       "<matplotlib.figure.Figure at 0x7f9da9980a20>"
      ]
     },
     "metadata": {},
     "output_type": "display_data"
    }
   ],
   "source": [
    "df.Education.hist()"
   ]
  },
  {
   "cell_type": "code",
   "execution_count": 5,
   "metadata": {},
   "outputs": [
    {
     "data": {
      "text/plain": [
       "(1473, 10)"
      ]
     },
     "execution_count": 5,
     "metadata": {},
     "output_type": "execute_result"
    }
   ],
   "source": [
    "df.shape"
   ]
  },
  {
   "cell_type": "code",
   "execution_count": 6,
   "metadata": {},
   "outputs": [
    {
     "data": {
      "text/plain": [
       "<matplotlib.axes._subplots.AxesSubplot at 0x7f9da3d768d0>"
      ]
     },
     "execution_count": 6,
     "metadata": {},
     "output_type": "execute_result"
    },
    {
     "data": {
      "image/png": "[encoded data removed]",
      "text/plain": [
       "<matplotlib.figure.Figure at 0x7f9da96a7978>"
      ]
     },
     "metadata": {},
     "output_type": "display_data"
    }
   ],
   "source": [
    "df.contraceptive.hist()"
   ]
  },
  {
   "cell_type": "code",
   "execution_count": 7,
   "metadata": {},
   "outputs": [
    {
     "data": {
      "text/plain": [
       "Age                int64\n",
       "Education          int64\n",
       "H_education        int64\n",
       "num_child          int64\n",
       "Religion           int64\n",
       "Employ             int64\n",
       "H_occupation       int64\n",
       "living_standard    int64\n",
       "Media_exposure     int64\n",
       "contraceptive      int64\n",
       "dtype: object"
      ]
     },
     "execution_count": 7,
     "metadata": {},
     "output_type": "execute_result"
    }
   ],
   "source": [
    "df.dtypes"
   ]
  },
  {
   "cell_type": "code",
   "execution_count": 8,
   "metadata": {},
   "outputs": [],
   "source": [
    "def one_hot_encoding(idx):\n",
    "    y = np.zeros((len(idx),max(idx)+1))\n",
    "    y[np.arange(len(idx)), idx] = 1\n",
    "    return y"
   ]
  },
  {
   "cell_type": "code",
   "execution_count": 9,
   "metadata": {},
   "outputs": [],
   "source": [
    "scaler = StandardScaler()\n",
    "df[['Age','num_child']] = scaler.fit_transform(df[['Age','num_child']]) "
   ]
  },
  {
   "cell_type": "code",
   "execution_count": 10,
   "metadata": {},
   "outputs": [],
   "source": [
    "x = df[['Age','num_child','Employ','Media_exposure']].values\n",
    "y = one_hot_encoding(df.contraceptive.values-1)\n",
    "\n",
    "liv_cats = df.living_standard.max()\n",
    "edu_cats = df.Education.max()\n",
    "\n",
    "liv = df.living_standard.values - 1\n",
    "liv_one_hot = one_hot_encoding(liv)\n",
    "edu = df.Education.values - 1\n",
    "edu_one_hot = one_hot_encoding(edu)\n",
    "\n",
    "train_x, test_x, train_liv, \\\n",
    "test_liv, train_edu, test_edu, train_y, test_y = train_test_split(x,liv_one_hot,edu_one_hot,y,test_size=0.1, random_state=1)"
   ]
  },
  {
   "cell_type": "code",
   "execution_count": 11,
   "metadata": {},
   "outputs": [],
   "source": [
    "train_x = np.hstack([train_x, train_edu, train_liv])\n",
    "test_x = np.hstack([test_x, test_edu, test_liv])"
   ]
  },
  {
   "cell_type": "code",
   "execution_count": 12,
   "metadata": {},
   "outputs": [
    {
     "data": {
      "text/plain": [
       "(1325, 12)"
      ]
     },
     "execution_count": 12,
     "metadata": {},
     "output_type": "execute_result"
    }
   ],
   "source": [
    "train_x.shape"
   ]
  },
  {
   "cell_type": "code",
   "execution_count": 13,
   "metadata": {},
   "outputs": [
    {
     "data": {
      "text/plain": [
       "(1325, 4)"
      ]
     },
     "execution_count": 13,
     "metadata": {},
     "output_type": "execute_result"
    }
   ],
   "source": [
    "train_edu.shape"
   ]
  },
  {
   "cell_type": "code",
   "execution_count": 14,
   "metadata": {},
   "outputs": [
    {
     "data": {
      "text/plain": [
       "(1325, 4)"
      ]
     },
     "execution_count": 14,
     "metadata": {},
     "output_type": "execute_result"
    }
   ],
   "source": [
    "train_liv.shape"
   ]
  },
  {
   "cell_type": "code",
   "execution_count": 15,
   "metadata": {},
   "outputs": [
    {
     "data": {
      "text/plain": [
       "(1325, 12)"
      ]
     },
     "execution_count": 15,
     "metadata": {},
     "output_type": "execute_result"
    }
   ],
   "source": [
    "train_x.shape"
   ]
  },
  {
   "cell_type": "code",
   "execution_count": 16,
   "metadata": {},
   "outputs": [
    {
     "name": "stderr",
     "output_type": "stream",
     "text": [
      "/srv/venv/lib/python3.6/site-packages/ipykernel_launcher.py:2: UserWarning: Update your `Dense` call to the Keras 2 API: `Dense(input_dim=12, units=12)`\n",
      "  \n",
      "/srv/venv/lib/python3.6/site-packages/ipykernel_launcher.py:4: UserWarning: Update your `Dense` call to the Keras 2 API: `Dense(units=3)`\n",
      "  after removing the cwd from sys.path.\n",
      "/srv/venv/lib/python3.6/site-packages/keras/models.py:944: UserWarning: The `nb_epoch` argument in `fit` has been renamed `epochs`.\n",
      "  warnings.warn('The `nb_epoch` argument in `fit` '\n"
     ]
    },
    {
     "name": "stdout",
     "output_type": "stream",
     "text": [
      "Epoch 1/100\n",
      " - 0s - loss: 1.1035 - acc: 0.3570\n",
      "Epoch 2/100\n",
      " - 0s - loss: 1.0356 - acc: 0.4189\n",
      "Epoch 3/100\n",
      " - 0s - loss: 1.0105 - acc: 0.4558\n",
      "Epoch 4/100\n",
      " - 0s - loss: 0.9943 - acc: 0.4777\n",
      "Epoch 5/100\n",
      " - 0s - loss: 0.9826 - acc: 0.4921\n",
      "Epoch 6/100\n",
      " - 0s - loss: 0.9734 - acc: 0.5170\n",
      "Epoch 7/100\n",
      " - 0s - loss: 0.9660 - acc: 0.5238\n",
      "Epoch 8/100\n",
      " - 0s - loss: 0.9601 - acc: 0.5253\n",
      "Epoch 9/100\n",
      " - 0s - loss: 0.9553 - acc: 0.5313\n",
      "Epoch 10/100\n",
      " - 0s - loss: 0.9510 - acc: 0.5366\n",
      "Epoch 11/100\n",
      " - 0s - loss: 0.9472 - acc: 0.5411\n",
      "Epoch 12/100\n",
      " - 0s - loss: 0.9442 - acc: 0.5426\n",
      "Epoch 13/100\n",
      " - 0s - loss: 0.9416 - acc: 0.5411\n",
      "Epoch 14/100\n",
      " - 0s - loss: 0.9390 - acc: 0.5457\n",
      "Epoch 15/100\n",
      " - 0s - loss: 0.9368 - acc: 0.5494\n",
      "Epoch 16/100\n",
      " - 0s - loss: 0.9350 - acc: 0.5502\n",
      "Epoch 17/100\n",
      " - 0s - loss: 0.9333 - acc: 0.5487\n",
      "Epoch 18/100\n",
      " - 0s - loss: 0.9316 - acc: 0.5487\n",
      "Epoch 19/100\n",
      " - 0s - loss: 0.9302 - acc: 0.5532\n",
      "Epoch 20/100\n",
      " - 0s - loss: 0.9287 - acc: 0.5502\n",
      "Epoch 21/100\n",
      " - 0s - loss: 0.9275 - acc: 0.5547\n",
      "Epoch 22/100\n",
      " - 0s - loss: 0.9263 - acc: 0.5577\n",
      "Epoch 23/100\n",
      " - 0s - loss: 0.9252 - acc: 0.5600\n",
      "Epoch 24/100\n",
      " - 0s - loss: 0.9241 - acc: 0.5592\n",
      "Epoch 25/100\n",
      " - 0s - loss: 0.9230 - acc: 0.5600\n",
      "Epoch 26/100\n",
      " - 0s - loss: 0.9221 - acc: 0.5615\n",
      "Epoch 27/100\n",
      " - 0s - loss: 0.9211 - acc: 0.5660\n",
      "Epoch 28/100\n",
      " - 0s - loss: 0.9203 - acc: 0.5600\n",
      "Epoch 29/100\n",
      " - 0s - loss: 0.9195 - acc: 0.5630\n",
      "Epoch 30/100\n",
      " - 0s - loss: 0.9187 - acc: 0.5600\n",
      "Epoch 31/100\n",
      " - 0s - loss: 0.9180 - acc: 0.5615\n",
      "Epoch 32/100\n",
      " - 0s - loss: 0.9173 - acc: 0.5638\n",
      "Epoch 33/100\n",
      " - 0s - loss: 0.9167 - acc: 0.5630\n",
      "Epoch 34/100\n",
      " - 0s - loss: 0.9160 - acc: 0.5615\n",
      "Epoch 35/100\n",
      " - 0s - loss: 0.9153 - acc: 0.5638\n",
      "Epoch 36/100\n",
      " - 0s - loss: 0.9148 - acc: 0.5630\n",
      "Epoch 37/100\n",
      " - 0s - loss: 0.9141 - acc: 0.5608\n",
      "Epoch 38/100\n",
      " - 0s - loss: 0.9136 - acc: 0.5608\n",
      "Epoch 39/100\n",
      " - 0s - loss: 0.9130 - acc: 0.5600\n",
      "Epoch 40/100\n",
      " - 0s - loss: 0.9124 - acc: 0.5585\n",
      "Epoch 41/100\n",
      " - 0s - loss: 0.9118 - acc: 0.5592\n",
      "Epoch 42/100\n",
      " - 0s - loss: 0.9114 - acc: 0.5615\n",
      "Epoch 43/100\n",
      " - 0s - loss: 0.9108 - acc: 0.5608\n",
      "Epoch 44/100\n",
      " - 0s - loss: 0.9103 - acc: 0.5638\n",
      "Epoch 45/100\n",
      " - 0s - loss: 0.9099 - acc: 0.5623\n",
      "Epoch 46/100\n",
      " - 0s - loss: 0.9094 - acc: 0.5653\n",
      "Epoch 47/100\n",
      " - 0s - loss: 0.9089 - acc: 0.5623\n",
      "Epoch 48/100\n",
      " - 0s - loss: 0.9086 - acc: 0.5623\n",
      "Epoch 49/100\n",
      " - 0s - loss: 0.9081 - acc: 0.5608\n",
      "Epoch 50/100\n",
      " - 0s - loss: 0.9078 - acc: 0.5653\n",
      "Epoch 51/100\n",
      " - 0s - loss: 0.9074 - acc: 0.5660\n",
      "Epoch 52/100\n",
      " - 0s - loss: 0.9070 - acc: 0.5653\n",
      "Epoch 53/100\n",
      " - 0s - loss: 0.9067 - acc: 0.5675\n",
      "Epoch 54/100\n",
      " - 0s - loss: 0.9063 - acc: 0.5668\n",
      "Epoch 55/100\n",
      " - 0s - loss: 0.9060 - acc: 0.5653\n",
      "Epoch 56/100\n",
      " - 0s - loss: 0.9057 - acc: 0.5668\n",
      "Epoch 57/100\n",
      " - 0s - loss: 0.9053 - acc: 0.5691\n",
      "Epoch 58/100\n",
      " - 0s - loss: 0.9051 - acc: 0.5691\n",
      "Epoch 59/100\n",
      " - 0s - loss: 0.9047 - acc: 0.5653\n",
      "Epoch 60/100\n",
      " - 0s - loss: 0.9044 - acc: 0.5691\n",
      "Epoch 61/100\n",
      " - 0s - loss: 0.9041 - acc: 0.5698\n",
      "Epoch 62/100\n",
      " - 0s - loss: 0.9039 - acc: 0.5645\n",
      "Epoch 63/100\n",
      " - 0s - loss: 0.9037 - acc: 0.5706\n",
      "Epoch 64/100\n",
      " - 0s - loss: 0.9034 - acc: 0.5691\n",
      "Epoch 65/100\n",
      " - 0s - loss: 0.9031 - acc: 0.5698\n",
      "Epoch 66/100\n",
      " - 0s - loss: 0.9030 - acc: 0.5691\n",
      "Epoch 67/100\n",
      " - 0s - loss: 0.9027 - acc: 0.5713\n",
      "Epoch 68/100\n",
      " - 0s - loss: 0.9025 - acc: 0.5683\n",
      "Epoch 69/100\n",
      " - 0s - loss: 0.9023 - acc: 0.5706\n",
      "Epoch 70/100\n",
      " - 0s - loss: 0.9021 - acc: 0.5698\n",
      "Epoch 71/100\n",
      " - 0s - loss: 0.9019 - acc: 0.5675\n",
      "Epoch 72/100\n",
      " - 0s - loss: 0.9017 - acc: 0.5683\n",
      "Epoch 73/100\n",
      " - 0s - loss: 0.9014 - acc: 0.5675\n",
      "Epoch 74/100\n",
      " - 0s - loss: 0.9012 - acc: 0.5683\n",
      "Epoch 75/100\n",
      " - 0s - loss: 0.9011 - acc: 0.5668\n",
      "Epoch 76/100\n",
      " - 0s - loss: 0.9008 - acc: 0.5683\n",
      "Epoch 77/100\n",
      " - 0s - loss: 0.9007 - acc: 0.5683\n",
      "Epoch 78/100\n",
      " - 0s - loss: 0.9006 - acc: 0.5660\n",
      "Epoch 79/100\n",
      " - 0s - loss: 0.9003 - acc: 0.5683\n",
      "Epoch 80/100\n",
      " - 0s - loss: 0.9002 - acc: 0.5668\n",
      "Epoch 81/100\n",
      " - 0s - loss: 0.9000 - acc: 0.5660\n",
      "Epoch 82/100\n",
      " - 0s - loss: 0.8999 - acc: 0.5638\n",
      "Epoch 83/100\n",
      " - 0s - loss: 0.8997 - acc: 0.5653\n",
      "Epoch 84/100\n",
      " - 0s - loss: 0.8996 - acc: 0.5668\n",
      "Epoch 85/100\n",
      " - 0s - loss: 0.8993 - acc: 0.5668\n",
      "Epoch 86/100\n",
      " - 0s - loss: 0.8992 - acc: 0.5683\n",
      "Epoch 87/100\n",
      " - 0s - loss: 0.8991 - acc: 0.5683\n",
      "Epoch 88/100\n",
      " - 0s - loss: 0.8989 - acc: 0.5653\n",
      "Epoch 89/100\n",
      " - 0s - loss: 0.8987 - acc: 0.5683\n",
      "Epoch 90/100\n",
      " - 0s - loss: 0.8986 - acc: 0.5691\n",
      "Epoch 91/100\n",
      " - 0s - loss: 0.8984 - acc: 0.5660\n",
      "Epoch 92/100\n",
      " - 0s - loss: 0.8983 - acc: 0.5683\n",
      "Epoch 93/100\n",
      " - 0s - loss: 0.8981 - acc: 0.5691\n",
      "Epoch 94/100\n",
      " - 0s - loss: 0.8980 - acc: 0.5683\n",
      "Epoch 95/100\n",
      " - 0s - loss: 0.8978 - acc: 0.5653\n",
      "Epoch 96/100\n",
      " - 0s - loss: 0.8976 - acc: 0.5691\n",
      "Epoch 97/100\n",
      " - 0s - loss: 0.8975 - acc: 0.5698\n",
      "Epoch 98/100\n",
      " - 0s - loss: 0.8973 - acc: 0.5675\n",
      "Epoch 99/100\n",
      " - 0s - loss: 0.8972 - acc: 0.5698\n",
      "Epoch 100/100\n",
      " - 0s - loss: 0.8970 - acc: 0.5691\n"
     ]
    },
    {
     "data": {
      "text/plain": [
       "<keras.callbacks.History at 0x7f9da3c4b6d8>"
      ]
     },
     "execution_count": 16,
     "metadata": {},
     "output_type": "execute_result"
    }
   ],
   "source": [
    "model = Sequential()\n",
    "model.add(Dense(input_dim=train_x.shape[1],output_dim=12))\n",
    "model.add(Activation('relu'))\n",
    "model.add(Dense(output_dim=3))\n",
    "model.add(Activation('softmax'))\n",
    "\n",
    "model.compile(optimizer='adagrad', loss='categorical_crossentropy', metrics=['accuracy'])\n",
    "model.fit(train_x, train_y, nb_epoch=100, verbose=2)"
   ]
  },
  {
   "cell_type": "code",
   "execution_count": 17,
   "metadata": {},
   "outputs": [
    {
     "name": "stdout",
     "output_type": "stream",
     "text": [
      "_________________________________________________________________\n",
      "Layer (type)                 Output Shape              Param #   \n",
      "=================================================================\n",
      "dense_1 (Dense)              (None, 12)                156       \n",
      "_________________________________________________________________\n",
      "activation_1 (Activation)    (None, 12)                0         \n",
      "_________________________________________________________________\n",
      "dense_2 (Dense)              (None, 3)                 39        \n",
      "_________________________________________________________________\n",
      "activation_2 (Activation)    (None, 3)                 0         \n",
      "=================================================================\n",
      "Total params: 195\n",
      "Trainable params: 195\n",
      "Non-trainable params: 0\n",
      "_________________________________________________________________\n"
     ]
    }
   ],
   "source": [
    "model.summary()"
   ]
  },
  {
   "cell_type": "code",
   "execution_count": 18,
   "metadata": {},
   "outputs": [
    {
     "name": "stdout",
     "output_type": "stream",
     "text": [
      "(12, 12)\n",
      "(12,)\n",
      "(12, 3)\n",
      "(3,)\n"
     ]
    }
   ],
   "source": [
    "for w in model.get_weights():\n",
    "    print(w.shape)"
   ]
  },
  {
   "cell_type": "code",
   "execution_count": 19,
   "metadata": {},
   "outputs": [
    {
     "name": "stdout",
     "output_type": "stream",
     "text": [
      "\r",
      "148/148 [==============================] - 0s 106us/step\n"
     ]
    },
    {
     "data": {
      "text/plain": [
       "[0.857330322265625, 0.62162160873413086]"
      ]
     },
     "execution_count": 19,
     "metadata": {},
     "output_type": "execute_result"
    }
   ],
   "source": [
    "model.evaluate(test_x, test_y, batch_size=256)"
   ]
  },
  {
   "cell_type": "code",
   "execution_count": 20,
   "metadata": {},
   "outputs": [
    {
     "data": {
      "text/plain": [
       "array([[ 0.22435404,  0.25911319,  0.51653278],\n",
       "       [ 0.78002536,  0.10350878,  0.11646585],\n",
       "       [ 0.20055015,  0.20492277,  0.59452707],\n",
       "       [ 0.41666317,  0.29395291,  0.28938392],\n",
       "       [ 0.74099553,  0.11176234,  0.14724216],\n",
       "       [ 0.15620874,  0.55819649,  0.28559476],\n",
       "       [ 0.08360577,  0.47027186,  0.44612232],\n",
       "       [ 0.86324924,  0.06630629,  0.07044449],\n",
       "       [ 0.76971763,  0.02090011,  0.20938225],\n",
       "       [ 0.62090158,  0.13734818,  0.2417502 ]], dtype=float32)"
      ]
     },
     "execution_count": 20,
     "metadata": {},
     "output_type": "execute_result"
    }
   ],
   "source": [
    "model.predict(test_x[:10])"
   ]
  },
  {
   "cell_type": "code",
   "execution_count": 21,
   "metadata": {},
   "outputs": [
    {
     "data": {
      "text/plain": [
       "array([2, 3, 3, ..., 3, 1, 3])"
      ]
     },
     "execution_count": 21,
     "metadata": {},
     "output_type": "execute_result"
    }
   ],
   "source": [
    "liv"
   ]
  },
  {
   "cell_type": "code",
   "execution_count": 22,
   "metadata": {},
   "outputs": [],
   "source": [
    "train_x, test_x, train_liv, \\\n",
    "test_liv, train_edu, test_edu, train_y, test_y = train_test_split(x,liv,edu,y,test_size=0.1, random_state=1)"
   ]
  },
  {
   "cell_type": "code",
   "execution_count": 23,
   "metadata": {},
   "outputs": [
    {
     "name": "stderr",
     "output_type": "stream",
     "text": [
      "/srv/venv/lib/python3.6/site-packages/ipykernel_launcher.py:16: UserWarning: The `Merge` layer is deprecated and will be removed after 08/2017. Use instead layers from `keras.layers.merge`, e.g. `add`, `concatenate`, etc.\n",
      "  app.launch_new_instance()\n",
      "/srv/venv/lib/python3.6/site-packages/ipykernel_launcher.py:18: UserWarning: Update your `Dense` call to the Keras 2 API: `Dense(units=12)`\n",
      "/srv/venv/lib/python3.6/site-packages/ipykernel_launcher.py:20: UserWarning: Update your `Dense` call to the Keras 2 API: `Dense(units=3)`\n"
     ]
    }
   ],
   "source": [
    "# Input layer for religion\n",
    "encoder_liv = Sequential()\n",
    "encoder_liv.add(Embedding(liv_cats,4,input_length=1))\n",
    "encoder_liv.add(Flatten())\n",
    "\n",
    "# Input layer for religion\n",
    "encoder_edu = Sequential()\n",
    "encoder_edu.add(Embedding(edu_cats,4,input_length=1))\n",
    "encoder_edu.add(Flatten())\n",
    "\n",
    "# Input layer for triggers(x_b)\n",
    "dense_x = Sequential()\n",
    "dense_x.add(Dense(4, input_dim=x.shape[1]))\n",
    "\n",
    "model = Sequential()\n",
    "model.add(Merge([encoder_liv, encoder_edu, dense_x], mode='concat'))\n",
    "# model.add(Activation('relu'))\n",
    "model.add(Dense(output_dim=12))\n",
    "model.add(Activation('relu'))\n",
    "model.add(Dense(output_dim=3))\n",
    "model.add(Activation('softmax'))\n",
    "\n",
    "model.compile(optimizer='adagrad', loss='categorical_crossentropy', metrics=['accuracy'])"
   ]
  },
  {
   "cell_type": "code",
   "execution_count": 24,
   "metadata": {},
   "outputs": [
    {
     "name": "stderr",
     "output_type": "stream",
     "text": [
      "/srv/venv/lib/python3.6/site-packages/keras/models.py:944: UserWarning: The `nb_epoch` argument in `fit` has been renamed `epochs`.\n",
      "  warnings.warn('The `nb_epoch` argument in `fit` '\n"
     ]
    },
    {
     "name": "stdout",
     "output_type": "stream",
     "text": [
      "Epoch 1/100\n",
      " - 0s - loss: 1.0591 - acc: 0.3819\n",
      "Epoch 2/100\n",
      " - 0s - loss: 1.0136 - acc: 0.4611\n",
      "Epoch 3/100\n",
      " - 0s - loss: 0.9911 - acc: 0.5079\n",
      "Epoch 4/100\n",
      " - 0s - loss: 0.9757 - acc: 0.5147\n",
      "Epoch 5/100\n",
      " - 0s - loss: 0.9646 - acc: 0.5275\n",
      "Epoch 6/100\n",
      " - 0s - loss: 0.9558 - acc: 0.5449\n",
      "Epoch 7/100\n",
      " - 0s - loss: 0.9496 - acc: 0.5502\n",
      "Epoch 8/100\n",
      " - 0s - loss: 0.9447 - acc: 0.5487\n",
      "Epoch 9/100\n",
      " - 0s - loss: 0.9404 - acc: 0.5509\n",
      "Epoch 10/100\n",
      " - 0s - loss: 0.9371 - acc: 0.5547\n",
      "Epoch 11/100\n",
      " - 0s - loss: 0.9342 - acc: 0.5555\n",
      "Epoch 12/100\n",
      " - 0s - loss: 0.9319 - acc: 0.5585\n",
      "Epoch 13/100\n",
      " - 0s - loss: 0.9298 - acc: 0.5585\n",
      "Epoch 14/100\n",
      " - 0s - loss: 0.9278 - acc: 0.5600\n",
      "Epoch 15/100\n",
      " - 0s - loss: 0.9262 - acc: 0.5577\n",
      "Epoch 16/100\n",
      " - 0s - loss: 0.9249 - acc: 0.5585\n",
      "Epoch 17/100\n",
      " - 0s - loss: 0.9234 - acc: 0.5585\n",
      "Epoch 18/100\n",
      " - 0s - loss: 0.9221 - acc: 0.5585\n",
      "Epoch 19/100\n",
      " - 0s - loss: 0.9212 - acc: 0.5585\n",
      "Epoch 20/100\n",
      " - 0s - loss: 0.9201 - acc: 0.5608\n",
      "Epoch 21/100\n",
      " - 0s - loss: 0.9192 - acc: 0.5608\n",
      "Epoch 22/100\n",
      " - 0s - loss: 0.9183 - acc: 0.5600\n",
      "Epoch 23/100\n",
      " - 0s - loss: 0.9175 - acc: 0.5592\n",
      "Epoch 24/100\n",
      " - 0s - loss: 0.9167 - acc: 0.5562\n",
      "Epoch 25/100\n",
      " - 0s - loss: 0.9161 - acc: 0.5585\n",
      "Epoch 26/100\n",
      " - 0s - loss: 0.9153 - acc: 0.5600\n",
      "Epoch 27/100\n",
      " - 0s - loss: 0.9145 - acc: 0.5615\n",
      "Epoch 28/100\n",
      " - 0s - loss: 0.9142 - acc: 0.5577\n",
      "Epoch 29/100\n",
      " - 0s - loss: 0.9133 - acc: 0.5608\n",
      "Epoch 30/100\n",
      " - 0s - loss: 0.9128 - acc: 0.5630\n",
      "Epoch 31/100\n",
      " - 0s - loss: 0.9123 - acc: 0.5623\n",
      "Epoch 32/100\n",
      " - 0s - loss: 0.9117 - acc: 0.5608\n",
      "Epoch 33/100\n",
      " - 0s - loss: 0.9113 - acc: 0.5638\n",
      "Epoch 34/100\n",
      " - 0s - loss: 0.9107 - acc: 0.5653\n",
      "Epoch 35/100\n",
      " - 0s - loss: 0.9102 - acc: 0.5608\n",
      "Epoch 36/100\n",
      " - 0s - loss: 0.9098 - acc: 0.5630\n",
      "Epoch 37/100\n",
      " - 0s - loss: 0.9092 - acc: 0.5645\n",
      "Epoch 38/100\n",
      " - 0s - loss: 0.9089 - acc: 0.5608\n",
      "Epoch 39/100\n",
      " - 0s - loss: 0.9084 - acc: 0.5615\n",
      "Epoch 40/100\n",
      " - 0s - loss: 0.9079 - acc: 0.5615\n",
      "Epoch 41/100\n",
      " - 0s - loss: 0.9076 - acc: 0.5630\n",
      "Epoch 42/100\n",
      " - 0s - loss: 0.9071 - acc: 0.5623\n",
      "Epoch 43/100\n",
      " - 0s - loss: 0.9067 - acc: 0.5638\n",
      "Epoch 44/100\n",
      " - 0s - loss: 0.9063 - acc: 0.5653\n",
      "Epoch 45/100\n",
      " - 0s - loss: 0.9059 - acc: 0.5668\n",
      "Epoch 46/100\n",
      " - 0s - loss: 0.9056 - acc: 0.5668\n",
      "Epoch 47/100\n",
      " - 0s - loss: 0.9052 - acc: 0.5653\n",
      "Epoch 48/100\n",
      " - 0s - loss: 0.9049 - acc: 0.5668\n",
      "Epoch 49/100\n",
      " - 0s - loss: 0.9045 - acc: 0.5675\n",
      "Epoch 50/100\n",
      " - 0s - loss: 0.9043 - acc: 0.5683\n",
      "Epoch 51/100\n",
      " - 0s - loss: 0.9041 - acc: 0.5691\n",
      "Epoch 52/100\n",
      " - 0s - loss: 0.9037 - acc: 0.5713\n",
      "Epoch 53/100\n",
      " - 0s - loss: 0.9035 - acc: 0.5691\n",
      "Epoch 54/100\n",
      " - 0s - loss: 0.9032 - acc: 0.5698\n",
      "Epoch 55/100\n",
      " - 0s - loss: 0.9029 - acc: 0.5721\n",
      "Epoch 56/100\n",
      " - 0s - loss: 0.9027 - acc: 0.5736\n",
      "Epoch 57/100\n",
      " - 0s - loss: 0.9024 - acc: 0.5736\n",
      "Epoch 58/100\n",
      " - 0s - loss: 0.9021 - acc: 0.5736\n",
      "Epoch 59/100\n",
      " - 0s - loss: 0.9018 - acc: 0.5758\n",
      "Epoch 60/100\n",
      " - 0s - loss: 0.9016 - acc: 0.5751\n",
      "Epoch 61/100\n",
      " - 0s - loss: 0.9013 - acc: 0.5721\n",
      "Epoch 62/100\n",
      " - 0s - loss: 0.9010 - acc: 0.5751\n",
      "Epoch 63/100\n",
      " - 0s - loss: 0.9008 - acc: 0.5728\n",
      "Epoch 64/100\n",
      " - 0s - loss: 0.9005 - acc: 0.5758\n",
      "Epoch 65/100\n",
      " - 0s - loss: 0.9003 - acc: 0.5743\n",
      "Epoch 66/100\n",
      " - 0s - loss: 0.9001 - acc: 0.5758\n",
      "Epoch 67/100\n",
      " - 0s - loss: 0.8999 - acc: 0.5751\n",
      "Epoch 68/100\n",
      " - 0s - loss: 0.8997 - acc: 0.5774\n",
      "Epoch 69/100\n",
      " - 0s - loss: 0.8995 - acc: 0.5789\n",
      "Epoch 70/100\n",
      " - 0s - loss: 0.8992 - acc: 0.5766\n",
      "Epoch 71/100\n",
      " - 0s - loss: 0.8990 - acc: 0.5766\n",
      "Epoch 72/100\n",
      " - 0s - loss: 0.8989 - acc: 0.5743\n",
      "Epoch 73/100\n",
      " - 0s - loss: 0.8987 - acc: 0.5758\n",
      "Epoch 74/100\n",
      " - 0s - loss: 0.8985 - acc: 0.5774\n",
      "Epoch 75/100\n",
      " - 0s - loss: 0.8983 - acc: 0.5743\n",
      "Epoch 76/100\n",
      " - 0s - loss: 0.8982 - acc: 0.5743\n",
      "Epoch 77/100\n",
      " - 0s - loss: 0.8980 - acc: 0.5758\n",
      "Epoch 78/100\n",
      " - 0s - loss: 0.8978 - acc: 0.5743\n",
      "Epoch 79/100\n",
      " - 0s - loss: 0.8978 - acc: 0.5728\n",
      "Epoch 80/100\n",
      " - 0s - loss: 0.8975 - acc: 0.5758\n",
      "Epoch 81/100\n",
      " - 0s - loss: 0.8974 - acc: 0.5766\n",
      "Epoch 82/100\n",
      " - 0s - loss: 0.8973 - acc: 0.5751\n",
      "Epoch 83/100\n",
      " - 0s - loss: 0.8970 - acc: 0.5751\n",
      "Epoch 84/100\n",
      " - 0s - loss: 0.8969 - acc: 0.5766\n",
      "Epoch 85/100\n",
      " - 0s - loss: 0.8967 - acc: 0.5751\n",
      "Epoch 86/100\n",
      " - 0s - loss: 0.8966 - acc: 0.5743\n",
      "Epoch 87/100\n",
      " - 0s - loss: 0.8964 - acc: 0.5751\n",
      "Epoch 88/100\n",
      " - 0s - loss: 0.8963 - acc: 0.5751\n",
      "Epoch 89/100\n",
      " - 0s - loss: 0.8962 - acc: 0.5721\n",
      "Epoch 90/100\n",
      " - 0s - loss: 0.8960 - acc: 0.5743\n",
      "Epoch 91/100\n",
      " - 0s - loss: 0.8959 - acc: 0.5736\n",
      "Epoch 92/100\n",
      " - 0s - loss: 0.8958 - acc: 0.5751\n",
      "Epoch 93/100\n",
      " - 0s - loss: 0.8956 - acc: 0.5736\n",
      "Epoch 94/100\n",
      " - 0s - loss: 0.8955 - acc: 0.5736\n",
      "Epoch 95/100\n",
      " - 0s - loss: 0.8953 - acc: 0.5743\n",
      "Epoch 96/100\n",
      " - 0s - loss: 0.8953 - acc: 0.5721\n",
      "Epoch 97/100\n",
      " - 0s - loss: 0.8951 - acc: 0.5728\n",
      "Epoch 98/100\n",
      " - 0s - loss: 0.8950 - acc: 0.5706\n",
      "Epoch 99/100\n",
      " - 0s - loss: 0.8949 - acc: 0.5728\n",
      "Epoch 100/100\n",
      " - 0s - loss: 0.8949 - acc: 0.5736\n"
     ]
    },
    {
     "data": {
      "text/plain": [
       "<keras.callbacks.History at 0x7f9dbaa44be0>"
      ]
     },
     "execution_count": 24,
     "metadata": {},
     "output_type": "execute_result"
    }
   ],
   "source": [
    "model.fit([train_liv[:,None], train_edu[:,None], train_x], train_y, nb_epoch=100, verbose=2)"
   ]
  },
  {
   "cell_type": "code",
   "execution_count": 25,
   "metadata": {},
   "outputs": [
    {
     "name": "stdout",
     "output_type": "stream",
     "text": [
      "_________________________________________________________________\n",
      "Layer (type)                 Output Shape              Param #   \n",
      "=================================================================\n",
      "dense_3 (Dense)              (None, 4)                 20        \n",
      "=================================================================\n",
      "Total params: 20\n",
      "Trainable params: 20\n",
      "Non-trainable params: 0\n",
      "_________________________________________________________________\n"
     ]
    }
   ],
   "source": [
    "dense_x.summary()"
   ]
  },
  {
   "cell_type": "code",
   "execution_count": 26,
   "metadata": {},
   "outputs": [
    {
     "name": "stdout",
     "output_type": "stream",
     "text": [
      "_________________________________________________________________\n",
      "Layer (type)                 Output Shape              Param #   \n",
      "=================================================================\n",
      "embedding_1 (Embedding)      (None, 1, 4)              16        \n",
      "_________________________________________________________________\n",
      "flatten_1 (Flatten)          (None, 4)                 0         \n",
      "=================================================================\n",
      "Total params: 16\n",
      "Trainable params: 16\n",
      "Non-trainable params: 0\n",
      "_________________________________________________________________\n"
     ]
    }
   ],
   "source": [
    "encoder_liv.summary()"
   ]
  },
  {
   "cell_type": "code",
   "execution_count": 27,
   "metadata": {},
   "outputs": [
    {
     "name": "stdout",
     "output_type": "stream",
     "text": [
      "_________________________________________________________________\n",
      "Layer (type)                 Output Shape              Param #   \n",
      "=================================================================\n",
      "merge_1 (Merge)              (None, 12)                0         \n",
      "_________________________________________________________________\n",
      "dense_4 (Dense)              (None, 12)                156       \n",
      "_________________________________________________________________\n",
      "activation_3 (Activation)    (None, 12)                0         \n",
      "_________________________________________________________________\n",
      "dense_5 (Dense)              (None, 3)                 39        \n",
      "_________________________________________________________________\n",
      "activation_4 (Activation)    (None, 3)                 0         \n",
      "=================================================================\n",
      "Total params: 247\n",
      "Trainable params: 247\n",
      "Non-trainable params: 0\n",
      "_________________________________________________________________\n"
     ]
    }
   ],
   "source": [
    "model.summary()"
   ]
  },
  {
   "cell_type": "code",
   "execution_count": 29,
   "metadata": {},
   "outputs": [
    {
     "data": {
      "text/plain": [
       "array([-0.03459764, -0.0414084 ,  0.08308488], dtype=float32)"
      ]
     },
     "execution_count": 29,
     "metadata": {},
     "output_type": "execute_result"
    }
   ],
   "source": [
    "w"
   ]
  },
  {
   "cell_type": "code",
   "execution_count": 30,
   "metadata": {},
   "outputs": [
    {
     "data": {
      "text/plain": [
       "[[array([[-0.24218529,  0.02131504,  0.18017061, -0.31837648],\n",
       "         [-0.08772275,  0.05833552, -0.02912114, -0.02456018],\n",
       "         [ 0.01278354, -0.14527349, -0.04106711, -0.04103126],\n",
       "         [ 0.10906993, -0.11211494, -0.15981759,  0.1070981 ]], dtype=float32)],\n",
       " [],\n",
       " [array([[ 0.18042257, -0.25124502,  0.12817037,  0.33393061],\n",
       "         [-0.09384611,  0.06969731, -0.20515049,  0.20368673],\n",
       "         [ 0.18778136,  0.12759644, -0.05201294,  0.06126536],\n",
       "         [ 0.26510286,  0.3008981 ,  0.05010751, -0.2635963 ]], dtype=float32)],\n",
       " [],\n",
       " [array([[-0.72550207,  0.94954085, -0.11295334,  0.37485689],\n",
       "         [ 0.89734524,  0.35077366, -0.78273892, -0.34648567],\n",
       "         [ 0.2271363 , -0.46460667,  0.08805165,  0.21304809],\n",
       "         [ 0.29424098, -0.26945329,  0.8246845 ,  0.44144556]], dtype=float32),\n",
       "  array([ 0.0849677 ,  0.00836967, -0.08397176,  0.09402502], dtype=float32)],\n",
       " [array([[-0.33728456, -0.461869  , -0.06529257,  0.01786307, -0.63016003,\n",
       "          -0.49922279, -0.24360658,  0.40670881, -0.4493221 ,  0.33826491,\n",
       "          -0.45898458,  0.40970683],\n",
       "         [ 0.02107199,  0.40894163, -0.28962353, -0.28631076, -0.02131977,\n",
       "          -0.02604043, -0.11093652, -0.12817135,  0.22153135,  0.49797213,\n",
       "           0.20025623, -0.79923832],\n",
       "         [ 0.16579226, -0.37020656,  0.54313546,  0.01314103,  0.13509442,\n",
       "           0.24450374, -0.63112825,  0.0821981 ,  0.31345487,  0.42466038,\n",
       "           0.43923017, -0.20929399],\n",
       "         [-0.03327641,  0.31498393, -0.08018135, -0.51989001,  0.05805327,\n",
       "          -0.53800988,  0.2915934 ,  0.16399454,  0.12967703, -0.2874102 ,\n",
       "          -0.55091649, -0.21393014],\n",
       "         [ 0.27875888, -0.6206001 , -0.15303785,  0.41481191,  0.18636397,\n",
       "           0.0607675 ,  0.16373074, -0.27585489, -0.19441666, -0.5134033 ,\n",
       "          -0.4414489 ,  0.49337301],\n",
       "         [-0.0582847 , -0.39680788, -0.38842911,  0.31531841, -0.73109281,\n",
       "          -0.42172858,  0.59296685, -0.12126277, -0.37976667,  0.49894193,\n",
       "          -0.03378488,  0.55127758],\n",
       "         [-0.22237323, -0.31115511, -0.06328066,  0.36617723,  0.14618814,\n",
       "           0.16810681, -0.5673086 , -0.40182608, -0.51465195, -0.67443269,\n",
       "           0.06471764,  0.00104519],\n",
       "         [ 0.67840397, -0.11767903, -0.11495431,  0.10648739,  0.98808706,\n",
       "           0.5859378 , -0.07980861, -0.11669345,  0.24298213,  0.26950881,\n",
       "           0.66975558, -0.39124441],\n",
       "         [-0.18299003,  0.33785766, -0.10596581,  0.27608201,  0.4019573 ,\n",
       "          -0.57021356,  0.52358294, -0.65742522,  0.11366758, -0.28449303,\n",
       "           0.18495816,  0.06344545],\n",
       "         [ 0.25752771, -0.364409  , -0.12335937,  0.52105206,  0.29943654,\n",
       "          -0.15793534, -0.0398675 , -0.1141848 , -0.15802309, -0.33842611,\n",
       "          -0.37649909, -0.25896937],\n",
       "         [ 0.66531861, -0.29840851, -0.00429946, -0.37581503, -0.30048051,\n",
       "           0.18111974, -0.21508738,  0.58753926,  0.06297513, -0.1412954 ,\n",
       "           0.08106142, -0.50060737],\n",
       "         [ 0.05193866, -0.23833275,  0.00265019,  0.2603915 ,  0.46911311,\n",
       "          -0.04687991,  0.09841028, -0.24846667, -0.04467971,  0.49604195,\n",
       "          -0.40051499,  0.08592009]], dtype=float32),\n",
       "  array([ 0.07666106, -0.16340296, -0.15389049, -0.00271382,  0.06949697,\n",
       "          0.09040541,  0.20610738, -0.10535871,  0.02532719, -0.01507889,\n",
       "          0.04734746,  0.20125875], dtype=float32)],\n",
       " [],\n",
       " [array([[ 0.89682871, -0.1215714 , -0.05015965],\n",
       "         [ 0.51296842, -0.32017624,  0.01673754],\n",
       "         [-0.0112896 ,  0.10053643,  0.52071309],\n",
       "         [ 0.04215372,  0.39046097, -0.70687252],\n",
       "         [ 0.53272367, -0.69043392,  0.08085109],\n",
       "         [ 0.8546409 , -0.85747737,  0.10751212],\n",
       "         [-0.49586612, -0.48737994,  0.32554898],\n",
       "         [ 0.14567879, -0.5718233 , -0.79803252],\n",
       "         [ 0.19563186,  0.47742662,  0.52263099],\n",
       "         [ 0.56560659, -0.52908224, -0.35505775],\n",
       "         [ 0.30723438, -0.34719983,  0.62007606],\n",
       "         [-0.62773979,  0.27535218, -0.15195149]], dtype=float32),\n",
       "  array([-0.04998922,  0.05089937,  0.02012919], dtype=float32)],\n",
       " []]"
      ]
     },
     "execution_count": 30,
     "metadata": {},
     "output_type": "execute_result"
    }
   ],
   "source": [
    "a = model.get_weights()\n",
    "a"
   ]
  },
  {
   "cell_type": "code",
   "execution_count": 31,
   "metadata": {},
   "outputs": [
    {
     "name": "stdout",
     "output_type": "stream",
     "text": [
      "\r",
      "148/148 [==============================] - 0s 244us/step\n"
     ]
    },
    {
     "data": {
      "text/plain": [
       "[0.841450035572052, 0.57432430982589722]"
      ]
     },
     "execution_count": 31,
     "metadata": {},
     "output_type": "execute_result"
    }
   ],
   "source": [
    "model.evaluate([test_liv[:,None], test_edu[:,None], test_x],test_y, batch_size=256)"
   ]
  },
  {
   "cell_type": "code",
   "execution_count": 32,
   "metadata": {},
   "outputs": [
    {
     "data": {
      "text/plain": [
       "array([[ 0.30880749,  0.30944815,  0.38174433],\n",
       "       [ 0.87711394,  0.04827987,  0.07460617],\n",
       "       [ 0.25350222,  0.14875318,  0.59774458],\n",
       "       [ 0.39716119,  0.34088394,  0.26195484],\n",
       "       [ 0.81546819,  0.08372078,  0.10081098]], dtype=float32)"
      ]
     },
     "execution_count": 32,
     "metadata": {},
     "output_type": "execute_result"
    }
   ],
   "source": [
    "p = model.predict([test_liv[:,None], test_edu[:,None], test_x], batch_size=256)\n",
    "p[:5]"
   ]
  },
  {
   "cell_type": "code",
   "execution_count": 33,
   "metadata": {},
   "outputs": [
    {
     "name": "stdout",
     "output_type": "stream",
     "text": [
      "_________________________________________________________________\n",
      "Layer (type)                 Output Shape              Param #   \n",
      "=================================================================\n",
      "merge_1 (Merge)              (None, 12)                0         \n",
      "_________________________________________________________________\n",
      "dense_4 (Dense)              (None, 12)                156       \n",
      "_________________________________________________________________\n",
      "activation_3 (Activation)    (None, 12)                0         \n",
      "_________________________________________________________________\n",
      "dense_5 (Dense)              (None, 3)                 39        \n",
      "_________________________________________________________________\n",
      "activation_4 (Activation)    (None, 3)                 0         \n",
      "=================================================================\n",
      "Total params: 247\n",
      "Trainable params: 247\n",
      "Non-trainable params: 0\n",
      "_________________________________________________________________\n"
     ]
    }
   ],
   "source": [
    "model.summary()"
   ]
  },
  {
   "cell_type": "code",
   "execution_count": 34,
   "metadata": {},
   "outputs": [
    {
     "name": "stderr",
     "output_type": "stream",
     "text": [
      "/srv/venv/lib/python3.6/site-packages/ipykernel_launcher.py:4: UserWarning: Update your `Dense` call to the Keras 2 API: `Dense(units=3)`\n",
      "  after removing the cwd from sys.path.\n",
      "/srv/venv/lib/python3.6/site-packages/keras/models.py:944: UserWarning: The `nb_epoch` argument in `fit` has been renamed `epochs`.\n",
      "  warnings.warn('The `nb_epoch` argument in `fit` '\n"
     ]
    },
    {
     "name": "stdout",
     "output_type": "stream",
     "text": [
      "Epoch 1/100\n",
      "1325/1325 [==============================] - 0s 195us/step - loss: 0.6718 - acc: 0.6584\n",
      "Epoch 2/100\n",
      "1325/1325 [==============================] - 0s 93us/step - loss: 0.6497 - acc: 0.6611\n",
      "Epoch 3/100\n",
      "1325/1325 [==============================] - 0s 104us/step - loss: 0.6374 - acc: 0.6621\n",
      "Epoch 4/100\n",
      "1325/1325 [==============================] - 0s 125us/step - loss: 0.6286 - acc: 0.6654\n",
      "Epoch 5/100\n",
      "1325/1325 [==============================] - 0s 68us/step - loss: 0.6219 - acc: 0.6679\n",
      "Epoch 6/100\n",
      "1325/1325 [==============================] - 0s 64us/step - loss: 0.6166 - acc: 0.6712\n",
      "Epoch 7/100\n",
      "1325/1325 [==============================] - 0s 67us/step - loss: 0.6123 - acc: 0.6717\n",
      "Epoch 8/100\n",
      "1325/1325 [==============================] - 0s 88us/step - loss: 0.6087 - acc: 0.6745\n",
      "Epoch 9/100\n",
      "1325/1325 [==============================] - 0s 86us/step - loss: 0.6058 - acc: 0.6780\n",
      "Epoch 10/100\n",
      "1325/1325 [==============================] - 0s 82us/step - loss: 0.6034 - acc: 0.6775\n",
      "Epoch 11/100\n",
      "1325/1325 [==============================] - 0s 73us/step - loss: 0.6013 - acc: 0.6792\n",
      "Epoch 12/100\n",
      "1325/1325 [==============================] - 0s 70us/step - loss: 0.5998 - acc: 0.6825\n",
      "Epoch 13/100\n",
      "1325/1325 [==============================] - 0s 77us/step - loss: 0.5984 - acc: 0.6840\n",
      "Epoch 14/100\n",
      "1325/1325 [==============================] - 0s 67us/step - loss: 0.5974 - acc: 0.6840\n",
      "Epoch 15/100\n",
      "1325/1325 [==============================] - 0s 101us/step - loss: 0.5963 - acc: 0.6865\n",
      "Epoch 16/100\n",
      "1325/1325 [==============================] - 0s 87us/step - loss: 0.5955 - acc: 0.6875\n",
      "Epoch 17/100\n",
      "1325/1325 [==============================] - 0s 72us/step - loss: 0.5947 - acc: 0.6875\n",
      "Epoch 18/100\n",
      "1325/1325 [==============================] - 0s 79us/step - loss: 0.5941 - acc: 0.6868\n",
      "Epoch 19/100\n",
      "1325/1325 [==============================] - 0s 73us/step - loss: 0.5935 - acc: 0.6891\n",
      "Epoch 20/100\n",
      "1325/1325 [==============================] - 0s 51us/step - loss: 0.5929 - acc: 0.6903\n",
      "Epoch 21/100\n",
      "1325/1325 [==============================] - 0s 46us/step - loss: 0.5925 - acc: 0.6896\n",
      "Epoch 22/100\n",
      "1325/1325 [==============================] - 0s 58us/step - loss: 0.5920 - acc: 0.6898\n",
      "Epoch 23/100\n",
      "1325/1325 [==============================] - 0s 79us/step - loss: 0.5916 - acc: 0.6888\n",
      "Epoch 24/100\n",
      "1325/1325 [==============================] - 0s 61us/step - loss: 0.5912 - acc: 0.6891\n",
      "Epoch 25/100\n",
      "1325/1325 [==============================] - 0s 50us/step - loss: 0.5908 - acc: 0.6883\n",
      "Epoch 26/100\n",
      "1325/1325 [==============================] - 0s 64us/step - loss: 0.5905 - acc: 0.6886\n",
      "Epoch 27/100\n",
      "1325/1325 [==============================] - 0s 72us/step - loss: 0.5902 - acc: 0.6896\n",
      "Epoch 28/100\n",
      "1325/1325 [==============================] - 0s 69us/step - loss: 0.5899 - acc: 0.6893\n",
      "Epoch 29/100\n",
      "1325/1325 [==============================] - 0s 86us/step - loss: 0.5896 - acc: 0.6893\n",
      "Epoch 30/100\n",
      "1325/1325 [==============================] - 0s 79us/step - loss: 0.5894 - acc: 0.6903\n",
      "Epoch 31/100\n",
      "1325/1325 [==============================] - 0s 59us/step - loss: 0.5891 - acc: 0.6898\n",
      "Epoch 32/100\n",
      "1325/1325 [==============================] - 0s 59us/step - loss: 0.5889 - acc: 0.6898\n",
      "Epoch 33/100\n",
      "1325/1325 [==============================] - 0s 52us/step - loss: 0.5886 - acc: 0.6901\n",
      "Epoch 34/100\n",
      "1325/1325 [==============================] - 0s 62us/step - loss: 0.5884 - acc: 0.6898\n",
      "Epoch 35/100\n",
      "1325/1325 [==============================] - 0s 75us/step - loss: 0.5882 - acc: 0.6903\n",
      "Epoch 36/100\n",
      "1325/1325 [==============================] - 0s 59us/step - loss: 0.5880 - acc: 0.6908\n",
      "Epoch 37/100\n",
      "1325/1325 [==============================] - 0s 58us/step - loss: 0.5878 - acc: 0.6913\n",
      "Epoch 38/100\n",
      "1325/1325 [==============================] - 0s 55us/step - loss: 0.5876 - acc: 0.6916\n",
      "Epoch 39/100\n",
      "1325/1325 [==============================] - 0s 51us/step - loss: 0.5874 - acc: 0.6911\n",
      "Epoch 40/100\n",
      "1325/1325 [==============================] - 0s 54us/step - loss: 0.5872 - acc: 0.6911\n",
      "Epoch 41/100\n",
      "1325/1325 [==============================] - 0s 49us/step - loss: 0.5870 - acc: 0.6908\n",
      "Epoch 42/100\n",
      "1325/1325 [==============================] - 0s 49us/step - loss: 0.5869 - acc: 0.6913\n",
      "Epoch 43/100\n",
      "1325/1325 [==============================] - 0s 61us/step - loss: 0.5867 - acc: 0.6898\n",
      "Epoch 44/100\n",
      "1325/1325 [==============================] - 0s 55us/step - loss: 0.5865 - acc: 0.6906\n",
      "Epoch 45/100\n",
      "1325/1325 [==============================] - 0s 50us/step - loss: 0.5863 - acc: 0.6906\n",
      "Epoch 46/100\n",
      "1325/1325 [==============================] - 0s 63us/step - loss: 0.5862 - acc: 0.6901\n",
      "Epoch 47/100\n",
      "1325/1325 [==============================] - 0s 78us/step - loss: 0.5860 - acc: 0.6906\n",
      "Epoch 48/100\n",
      "1325/1325 [==============================] - 0s 60us/step - loss: 0.5859 - acc: 0.6908\n",
      "Epoch 49/100\n",
      "1325/1325 [==============================] - 0s 91us/step - loss: 0.5857 - acc: 0.6906\n",
      "Epoch 50/100\n",
      "1325/1325 [==============================] - 0s 73us/step - loss: 0.5856 - acc: 0.6918\n",
      "Epoch 51/100\n",
      "1325/1325 [==============================] - 0s 55us/step - loss: 0.5854 - acc: 0.6921\n",
      "Epoch 52/100\n",
      "1325/1325 [==============================] - 0s 57us/step - loss: 0.5853 - acc: 0.6916\n",
      "Epoch 53/100\n",
      "1325/1325 [==============================] - 0s 68us/step - loss: 0.5851 - acc: 0.6903\n",
      "Epoch 54/100\n",
      "1325/1325 [==============================] - 0s 64us/step - loss: 0.5850 - acc: 0.6926\n",
      "Epoch 55/100\n",
      "1325/1325 [==============================] - 0s 49us/step - loss: 0.5849 - acc: 0.6933\n",
      "Epoch 56/100\n",
      "1325/1325 [==============================] - 0s 49us/step - loss: 0.5847 - acc: 0.6931\n",
      "Epoch 57/100\n",
      "1325/1325 [==============================] - 0s 48us/step - loss: 0.5846 - acc: 0.6943\n",
      "Epoch 58/100\n",
      "1325/1325 [==============================] - 0s 49us/step - loss: 0.5845 - acc: 0.6936\n",
      "Epoch 59/100\n",
      "1325/1325 [==============================] - 0s 49us/step - loss: 0.5844 - acc: 0.6941\n",
      "Epoch 60/100\n",
      "1325/1325 [==============================] - 0s 47us/step - loss: 0.5842 - acc: 0.6936\n",
      "Epoch 61/100\n",
      "1325/1325 [==============================] - 0s 46us/step - loss: 0.5841 - acc: 0.6936\n",
      "Epoch 62/100\n",
      "1325/1325 [==============================] - 0s 47us/step - loss: 0.5840 - acc: 0.6951\n",
      "Epoch 63/100\n",
      "1325/1325 [==============================] - 0s 47us/step - loss: 0.5839 - acc: 0.6948\n",
      "Epoch 64/100\n",
      "1325/1325 [==============================] - 0s 47us/step - loss: 0.5837 - acc: 0.6946\n",
      "Epoch 65/100\n",
      "1325/1325 [==============================] - 0s 66us/step - loss: 0.5836 - acc: 0.6948\n",
      "Epoch 66/100\n",
      "1325/1325 [==============================] - 0s 90us/step - loss: 0.5835 - acc: 0.6953\n",
      "Epoch 67/100\n",
      "1325/1325 [==============================] - 0s 54us/step - loss: 0.5833 - acc: 0.6953\n",
      "Epoch 68/100\n",
      "1325/1325 [==============================] - 0s 58us/step - loss: 0.5832 - acc: 0.6951\n",
      "Epoch 69/100\n",
      "1325/1325 [==============================] - 0s 52us/step - loss: 0.5831 - acc: 0.6948\n",
      "Epoch 70/100\n",
      "1325/1325 [==============================] - 0s 56us/step - loss: 0.5830 - acc: 0.6948\n",
      "Epoch 71/100\n",
      "1325/1325 [==============================] - 0s 69us/step - loss: 0.5828 - acc: 0.6948\n",
      "Epoch 72/100\n",
      "1325/1325 [==============================] - 0s 52us/step - loss: 0.5827 - acc: 0.6948\n",
      "Epoch 73/100\n",
      "1325/1325 [==============================] - 0s 55us/step - loss: 0.5826 - acc: 0.6946\n",
      "Epoch 74/100\n",
      "1325/1325 [==============================] - 0s 62us/step - loss: 0.5825 - acc: 0.6946\n",
      "Epoch 75/100\n",
      "1325/1325 [==============================] - 0s 55us/step - loss: 0.5824 - acc: 0.6946\n",
      "Epoch 76/100\n",
      "1325/1325 [==============================] - 0s 55us/step - loss: 0.5823 - acc: 0.6964\n",
      "Epoch 77/100\n",
      "1325/1325 [==============================] - 0s 56us/step - loss: 0.5821 - acc: 0.6964\n",
      "Epoch 78/100\n",
      "1325/1325 [==============================] - 0s 66us/step - loss: 0.5820 - acc: 0.6956\n",
      "Epoch 79/100\n",
      "1325/1325 [==============================] - 0s 69us/step - loss: 0.5819 - acc: 0.6956\n",
      "Epoch 80/100\n",
      "1325/1325 [==============================] - 0s 55us/step - loss: 0.5818 - acc: 0.6953\n",
      "Epoch 81/100\n",
      "1325/1325 [==============================] - 0s 77us/step - loss: 0.5817 - acc: 0.6958\n",
      "Epoch 82/100\n",
      "1325/1325 [==============================] - 0s 66us/step - loss: 0.5817 - acc: 0.6966\n"
     ]
    },
    {
     "name": "stdout",
     "output_type": "stream",
     "text": [
      "Epoch 83/100\n",
      "1325/1325 [==============================] - 0s 60us/step - loss: 0.5816 - acc: 0.6964\n",
      "Epoch 84/100\n",
      "1325/1325 [==============================] - 0s 59us/step - loss: 0.5815 - acc: 0.6966\n",
      "Epoch 85/100\n",
      "1325/1325 [==============================] - 0s 52us/step - loss: 0.5814 - acc: 0.6971\n",
      "Epoch 86/100\n",
      "1325/1325 [==============================] - 0s 62us/step - loss: 0.5813 - acc: 0.6966\n",
      "Epoch 87/100\n",
      "1325/1325 [==============================] - 0s 60us/step - loss: 0.5812 - acc: 0.6964\n",
      "Epoch 88/100\n",
      "1325/1325 [==============================] - 0s 61us/step - loss: 0.5811 - acc: 0.6964\n",
      "Epoch 89/100\n",
      "1325/1325 [==============================] - 0s 51us/step - loss: 0.5810 - acc: 0.6961\n",
      "Epoch 90/100\n",
      "1325/1325 [==============================] - 0s 53us/step - loss: 0.5810 - acc: 0.6958\n",
      "Epoch 91/100\n",
      "1325/1325 [==============================] - 0s 52us/step - loss: 0.5809 - acc: 0.6961\n",
      "Epoch 92/100\n",
      "1325/1325 [==============================] - 0s 65us/step - loss: 0.5808 - acc: 0.6961\n",
      "Epoch 93/100\n",
      "1325/1325 [==============================] - 0s 58us/step - loss: 0.5807 - acc: 0.6961\n",
      "Epoch 94/100\n",
      "1325/1325 [==============================] - 0s 96us/step - loss: 0.5806 - acc: 0.6961\n",
      "Epoch 95/100\n",
      "1325/1325 [==============================] - 0s 64us/step - loss: 0.5806 - acc: 0.6961\n",
      "Epoch 96/100\n",
      "1325/1325 [==============================] - 0s 62us/step - loss: 0.5805 - acc: 0.6961\n",
      "Epoch 97/100\n",
      "1325/1325 [==============================] - 0s 66us/step - loss: 0.5804 - acc: 0.6961\n",
      "Epoch 98/100\n",
      "1325/1325 [==============================] - 0s 69us/step - loss: 0.5804 - acc: 0.6961\n",
      "Epoch 99/100\n",
      "1325/1325 [==============================] - 0s 74us/step - loss: 0.5803 - acc: 0.6964\n",
      "Epoch 100/100\n",
      "1325/1325 [==============================] - 0s 65us/step - loss: 0.5802 - acc: 0.6961\n"
     ]
    },
    {
     "data": {
      "text/plain": [
       "<keras.callbacks.History at 0x7f9d6a134550>"
      ]
     },
     "execution_count": 34,
     "metadata": {},
     "output_type": "execute_result"
    }
   ],
   "source": [
    "model = Sequential()\n",
    "model.add(Dense(4, input_dim=train_x.shape[1]))\n",
    "model.add(Activation('relu'))\n",
    "model.add(Dense(output_dim=3))\n",
    "model.add(Activation('softmax'))\n",
    "\n",
    "model.compile(optimizer='adagrad', loss='binary_crossentropy', metrics=['accuracy'])\n",
    "model.fit(train_x, train_y, nb_epoch=100)"
   ]
  },
  {
   "cell_type": "code",
   "execution_count": 35,
   "metadata": {},
   "outputs": [
    {
     "name": "stdout",
     "output_type": "stream",
     "text": [
      "\r",
      "148/148 [==============================] - 0s 227us/step\n"
     ]
    },
    {
     "data": {
      "text/plain": [
       "[0.55446743965148926, 0.71846842765808105]"
      ]
     },
     "execution_count": 35,
     "metadata": {},
     "output_type": "execute_result"
    }
   ],
   "source": [
    "model.evaluate(test_x,test_y,batch_size=256)"
   ]
  },
  {
   "cell_type": "code",
   "execution_count": 36,
   "metadata": {},
   "outputs": [],
   "source": [
    "model.fit?"
   ]
  },
  {
   "cell_type": "code",
   "execution_count": null,
   "metadata": {},
   "outputs": [],
   "source": []
  },
  {
   "cell_type": "code",
   "execution_count": null,
   "metadata": {},
   "outputs": [],
   "source": [
    "test complete; Gopal"
   ]
  }
 ],
 "metadata": {
  "anaconda-cloud": {},
  "kernelspec": {
   "display_name": "Python 3",
   "language": "python",
   "name": "python3"
  },
  "language_info": {
   "codemirror_mode": {
    "name": "ipython",
    "version": 3
   },
   "file_extension": ".py",
   "mimetype": "text/x-python",
   "name": "python",
   "nbconvert_exporter": "python",
   "pygments_lexer": "ipython3",
   "version": "3.6.3"
  },
  "latex_envs": {
   "bibliofile": "biblio.bib",
   "cite_by": "apalike",
   "current_citInitial": 1,
   "eqLabelWithNumbers": true,
   "eqNumInitial": 0
  }
 },
 "nbformat": 4,
 "nbformat_minor": 1
}
