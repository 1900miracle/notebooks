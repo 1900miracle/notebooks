{
 "cells": [
  {
   "cell_type": "markdown",
   "metadata": {},
   "source": [
    "# Low-rank Tensor Regression"
   ]
  },
  {
   "cell_type": "markdown",
   "metadata": {},
   "source": [
    "Tensor regression is available in the module `tensorly.regression`.\n",
    "\n",
    "Given a series of $N$ tensor samples/observations, $\\tilde X_i, i={1, \\cdots, N}$, and corresponding labels $y_i, i={1, \\cdots, N}$, we want to find the weight tensor $\\tilde W$ such that, for each $i={1, \\cdots, N}$:\n",
    "\n",
    "$$\n",
    "   y_i = \\langle \\tilde X_i, \\tilde W \\rangle\n",
    "$$\n",
    "\n",
    "We additionally impose that $\\tilde W$ be a rank-r CP decomposition (Kruskal regression) or a rank $(r_1, \\cdots, r_N)$-Tucker decomposition (Tucker regression).\n",
    "\n",
    "TensorLy implements both types of tensor regression as scikit-learn-like estimators.\n",
    "\n",
    "For instance, Krusal regression is available through the $tensorly.regression.KruskalRegression$ object. This implements a fit method that takes as parameters $X$, the data tensor which first dimension is the number of samples, and $y$, the corresponding vector of labels.\n",
    "\n",
    "Given a set of testing samples, you can use the predict method to obtain the corresponding predictions from the model.\n",
    "\n"
   ]
  },
  {
   "cell_type": "code",
   "execution_count": 1,
   "metadata": {},
   "outputs": [
    {
     "name": "stderr",
     "output_type": "stream",
     "text": [
      "Using mxnet backend.\n"
     ]
    }
   ],
   "source": [
    "import matplotlib.pyplot as plt\n",
    "from tensorly.base import tensor_to_vec, partial_tensor_to_vec\n",
    "from tensorly.datasets.synthetic import gen_image\n",
    "from tensorly.random import check_random_state\n",
    "from tensorly.regression.kruskal_regression import KruskalRegressor\n",
    "import tensorly.backend as T\n",
    "\n",
    "#show figures in the notebook\n",
    "%matplotlib inline"
   ]
  },
  {
   "cell_type": "code",
   "execution_count": 2,
   "metadata": {},
   "outputs": [],
   "source": [
    "# Parameter of the experiment\n",
    "image_height = 25\n",
    "image_width = 25\n",
    "\n",
    "# fix the random seed for reproducibility\n",
    "rng = check_random_state(1) \n",
    "\n",
    "# Generate a random tensor\n",
    "X = T.tensor(rng.normal(size=(1000, image_height, image_width), loc=0, scale=1))"
   ]
  },
  {
   "cell_type": "markdown",
   "metadata": {},
   "source": [
    "Generate the original image"
   ]
  },
  {
   "cell_type": "code",
   "execution_count": 3,
   "metadata": {},
   "outputs": [],
   "source": [
    "weight_img = gen_image(region='swiss', image_height=image_height, image_width=image_width)\n",
    "weight_img = T.tensor(weight_img)"
   ]
  },
  {
   "cell_type": "markdown",
   "metadata": {},
   "source": [
    "The true labels is obtained by taking the product between the true regression weights and the input tensors"
   ]
  },
  {
   "cell_type": "code",
   "execution_count": 4,
   "metadata": {},
   "outputs": [],
   "source": [
    "y = T.dot(partial_tensor_to_vec(X, skip_begin=1), tensor_to_vec(weight_img))"
   ]
  },
  {
   "cell_type": "markdown",
   "metadata": {},
   "source": [
    "## Let's view the true regression weight "
   ]
  },
  {
   "cell_type": "code",
   "execution_count": 5,
   "metadata": {},
   "outputs": [
    {
     "data": {
      "text/plain": [
       "<matplotlib.text.Text at 0x7f665d4414e0>"
      ]
     },
     "execution_count": 5,
     "metadata": {},
     "output_type": "execute_result"
    },
    {
     "data": {
      "image/png": "[encoded data removed]",
      "text/plain": [
       "<matplotlib.figure.Figure at 0x7f665d4db6d8>"
      ]
     },
     "metadata": {},
     "output_type": "display_data"
    }
   ],
   "source": [
    "fig = plt.figure()\n",
    "ax = fig.add_subplot(1, 1, 1)\n",
    "ax.imshow(T.to_numpy(weight_img), cmap=plt.cm.OrRd, interpolation='nearest')\n",
    "ax.set_axis_off()\n",
    "ax.set_title('True regression weights')"
   ]
  },
  {
   "cell_type": "markdown",
   "metadata": {},
   "source": [
    "## Tensor regression "
   ]
  },
  {
   "cell_type": "markdown",
   "metadata": {},
   "source": [
    "### Create a tensor Regressor estimator"
   ]
  },
  {
   "cell_type": "code",
   "execution_count": 6,
   "metadata": {},
   "outputs": [],
   "source": [
    "estimator = KruskalRegressor(weight_rank=2, tol=10e-7, n_iter_max=100, reg_W=1, verbose=0)"
   ]
  },
  {
   "cell_type": "markdown",
   "metadata": {},
   "source": [
    "### Fit the estimator to the data"
   ]
  },
  {
   "cell_type": "code",
   "execution_count": 7,
   "metadata": {},
   "outputs": [
    {
     "data": {
      "text/plain": [
       "<tensorly.regression.kruskal_regression.KruskalRegressor at 0x7f665d43b438>"
      ]
     },
     "execution_count": 7,
     "metadata": {},
     "output_type": "execute_result"
    }
   ],
   "source": [
    "estimator.fit(X, y)"
   ]
  },
  {
   "cell_type": "markdown",
   "metadata": {},
   "source": [
    "### Predict the labels given input tensors"
   ]
  },
  {
   "cell_type": "code",
   "execution_count": 8,
   "metadata": {},
   "outputs": [
    {
     "data": {
      "text/plain": [
       "\n",
       "[  1.25570188e+00  -2.82671954e+00  -2.06992982e+01  -4.52704516e+00\n",
       "  -1.65407613e+01  -2.85678581e+01   1.06882361e+01   3.31635922e+01\n",
       "  -3.90815396e+00  -2.81869175e+01   1.32213366e+01  -4.01927819e+00\n",
       "  -2.96513290e+00   3.22744948e+01   6.50606424e+00  -5.59698874e+00\n",
       "   3.90693857e+00   2.80357517e+01   1.25567805e+01   8.21318905e+00\n",
       "  -2.29543159e+01   1.14978835e+01   1.32499652e+01   1.09941158e+01\n",
       "  -1.79668591e+01  -1.13237995e-02   2.47624743e+01  -2.01702253e+01\n",
       "   3.13498376e-02  -1.50904193e+01   9.08073047e+00  -2.37043216e+01\n",
       "  -6.78554538e+00  -1.25327338e+01  -5.02323859e+00  -7.85479406e+00\n",
       "  -2.24706484e+01  -1.91849823e+01   2.30214643e+01  -2.01308435e+01\n",
       "  -1.98954988e+01   3.66422117e+00   7.83512836e+00   5.59039390e+00\n",
       "  -5.21111218e+00  -6.79111160e+00  -1.54110271e+01  -1.79143465e+01\n",
       "   7.00218567e+00  -1.02130652e+01   2.07272153e+01  -4.23733282e+00\n",
       "   1.28800726e+01  -2.26324371e-01   5.52660933e+00   2.39266655e+01\n",
       "   6.52461820e+00   2.07724177e+01   3.42491647e+01   1.09034624e+01\n",
       "  -2.33645657e+01  -1.83647865e+00   1.04424812e+01  -2.00230015e+01\n",
       "  -3.03844638e+00   5.08820669e-01  -1.95603191e+01   3.22384806e+00\n",
       "   2.29475388e+01  -1.57846537e+01   2.44205046e+01   2.94743631e+01\n",
       "  -1.56352438e+00  -1.05621251e+01  -1.25846863e+00   1.36120830e+01\n",
       "   9.17858520e+00   1.17314463e+01   2.97454753e+00  -2.72112154e+01\n",
       "  -8.19528895e-01   1.78725382e+01   2.13420637e+01  -1.24264021e+01\n",
       "  -1.64225927e+01   1.12986963e+01   2.12339656e+01  -2.37041895e+01\n",
       "  -1.03292382e+00   1.71490250e+01  -1.47865067e+01  -1.63530369e+01\n",
       "   1.23745326e+01  -1.37320068e+01  -4.25820977e+00  -4.70096370e+00\n",
       "  -2.18425187e+01  -1.26864929e+01   6.75832482e+00  -6.73739394e+00\n",
       "   8.36004394e+00  -4.94464390e+00  -8.90089227e+00  -1.35528746e+01\n",
       "  -1.18582835e+01   2.95423806e+00  -8.13062707e+00  -3.51568290e+00\n",
       "   2.03792630e+00   6.30196062e+00   2.13463701e+01   1.41717488e+00\n",
       "   1.26259460e+01   1.99749458e+01   1.05621878e+01   1.90312591e+01\n",
       "   2.91048588e+00  -1.51529409e+01  -1.26891109e+01   2.06662974e+00\n",
       "   6.51959713e+00   2.35227527e+01  -5.46074648e+00   1.13794170e+01\n",
       "  -4.28403271e+00   1.08263972e+01  -5.28415811e+00  -1.67855341e+00\n",
       "  -1.95119844e+01   1.87460880e+01   1.71847656e+00   7.95387222e+00\n",
       "   1.45626566e+01   2.25522631e+01   1.27899649e+01  -3.63429929e+00\n",
       "  -2.08865266e+01   4.13120957e+01   8.96199648e+00  -6.67137309e+00\n",
       "   1.90125397e+01  -2.20201889e+01   4.18911432e+00  -3.08612197e+01\n",
       "   1.96731738e+01   1.39266701e+00  -6.02658927e+00   5.22815622e+00\n",
       "   2.63542219e+01   2.51926941e+01  -1.75061183e+01   3.12659197e-01\n",
       "   1.11762147e+01  -4.24025195e+00  -5.36191023e+00   3.49232929e+01\n",
       "   1.32582333e+01   2.07897233e+01   3.52340744e+00   1.12450275e+01\n",
       "   2.66448014e+00   6.78571524e+00   1.20389870e-01  -8.70260807e+00\n",
       "  -1.74269204e+01  -5.01921186e+00  -1.72715050e+01  -1.61278803e+00\n",
       "   2.15402703e+01   1.92187667e+01  -1.13900185e+01  -5.16456508e+00\n",
       "  -2.26988663e+01   1.36420777e+01   1.70463708e+00  -6.06737114e+00\n",
       "   7.56967401e+00  -3.10043702e+01  -3.36155097e+00  -1.39303960e+01\n",
       "  -6.12942257e+00   1.19268549e+00  -7.50291309e+00   5.81319664e+00\n",
       "  -2.34623535e+00  -1.87680992e+01  -1.79763588e+01   8.55083569e+00\n",
       "  -2.01065548e+01   5.88774469e-01   2.13508509e+01   2.53316454e+01\n",
       "   2.24251092e+00   5.74058212e+00  -1.20044180e+01   9.71958588e+00\n",
       "   6.02926976e-01   7.08913683e-02  -1.72067048e+01   1.91849379e+01\n",
       "  -1.34057986e+01   1.00296583e+01  -1.93834273e+01   1.55239080e+01\n",
       "   1.65002492e+01  -1.58779026e+01   1.26892896e+01  -2.18426386e+00\n",
       "  -1.45899044e+01  -8.57449970e+00  -1.74446170e+01  -7.80875519e+00\n",
       "  -1.70104628e+00  -1.26233829e+00   5.85992581e+00  -3.43863659e+00\n",
       "   7.62493706e+00   6.00527250e+00   5.22115850e+00   2.82347557e+00\n",
       "  -2.68782388e+01  -5.22347576e+00  -2.00899984e+01  -5.56729394e+00\n",
       "  -1.70507546e+01  -1.35192046e+01  -1.15706908e+01  -8.74139868e+00\n",
       "   6.87335987e+00  -7.53628492e+00   2.14529016e+01   3.27411144e+00\n",
       "   7.20400060e+00   1.43091471e+01   7.33236143e+00  -2.30787979e+01\n",
       "  -4.36286191e+00  -3.04985755e+01   2.71677539e+00   1.07697328e+01\n",
       "   1.96960660e+00  -5.44162999e+00  -1.74036540e+01   1.63190474e+01\n",
       "  -1.15429770e+01  -3.38831448e-02  -8.26015387e+00  -2.41786273e+00\n",
       "  -9.85568530e+00  -1.87105286e+01   3.67352715e+01   1.39467446e+01\n",
       "  -2.87401097e+00   2.87064730e+01  -1.15895626e+00  -2.31803977e+01\n",
       "   5.03929873e+00  -1.16853897e+00  -2.79914907e+01   8.77461656e+00\n",
       "  -2.31788123e+01   9.33668750e-01  -2.51702267e+01   2.04604990e+01\n",
       "   2.13112354e+01   1.13185211e+01   6.02894205e+00  -9.44214614e+00\n",
       "   1.00639004e+01   1.95471881e+01   6.83525734e+00   8.94542911e+00\n",
       "  -7.71088241e+00  -6.62819395e+00   7.46625591e+00   9.45062884e+00\n",
       "  -4.66795469e+00  -2.15831070e+01   1.35625232e+01   2.20676286e+01\n",
       "   1.84688196e+00   1.20452294e+01   4.21252138e+01  -2.52277898e+01\n",
       "  -2.73107307e+01   6.01655614e+00   1.88636105e+01   7.17821526e+00\n",
       "   3.69730737e+01   5.59788288e+00   1.37174732e+01   1.05310542e+01\n",
       "   1.02647817e+01  -4.44241251e+00  -3.08789547e+01   2.77712726e+01\n",
       "   1.39966303e+01   1.60528130e+01  -2.28918078e+01  -1.84105504e+01\n",
       "  -2.22995532e+01   1.68758172e+01   4.88636188e+00   1.75494389e+00\n",
       "   1.40491605e+01   2.05580610e+01  -1.70245779e+01   2.14506992e+01\n",
       "  -4.96194113e+00  -1.18598039e+01   5.70639133e-01   8.31965935e+00\n",
       "   1.15230933e+01  -7.53592039e+00   1.32591079e+01   1.25127416e+01\n",
       "   1.06361209e+00   2.56064170e+01   2.48994476e+00  -8.42134899e+00\n",
       "  -1.38480179e+01   2.83849398e+01  -2.46002620e+01   1.79539791e+01\n",
       "  -4.08133006e+00   3.00306928e-01   1.15353060e+01   5.42213623e+00\n",
       "  -3.41016737e+00  -6.75141914e+00   4.41080210e+00  -6.09657972e+00\n",
       "  -7.81565274e+00  -1.58887062e+01  -8.47958740e+00  -5.91892961e+00\n",
       "  -1.17639920e+01  -6.84549684e+00   3.80697068e+00   2.29501844e+01\n",
       "   1.28345164e+01  -1.77745146e+01  -4.26418649e+00   1.91933415e+01\n",
       "   2.81310326e+00  -7.41528341e+00   1.09173119e+01  -2.73569071e+00\n",
       "  -2.20899119e+01   1.33749281e+01  -9.23034740e+00  -2.29630536e+01\n",
       "   7.53094581e+00   1.28704613e+01  -1.15274043e+01  -3.45580087e+00\n",
       "   7.39387215e+00  -1.40857516e+01   6.67457454e+00  -1.77503522e+01\n",
       "   1.53229183e+00   1.22992569e+01  -7.30149175e+00  -3.13367626e+00\n",
       "   2.91804621e+00  -5.73019822e+00   1.65321708e+01  -2.64758907e+01\n",
       "  -7.18005782e+00  -1.17048093e+00   2.20378822e+01  -3.01783748e+01\n",
       "   1.71048920e+01   6.52839081e+00   1.44817201e+00  -1.78215704e+00\n",
       "   4.96845257e-01  -3.33972281e+00   3.01562148e+01   3.02079285e+01\n",
       "  -1.76776188e+01  -1.18460882e+01  -2.27328247e+01  -1.16103793e+01\n",
       "   8.39345338e+00   4.72736755e+00  -1.39929093e+01  -1.99512936e+01\n",
       "   4.34772299e+00  -7.61668337e+00  -8.58846727e+00  -6.42749975e+00\n",
       "   1.66756549e+01   7.69085309e+00  -1.78570304e+01  -4.63621761e+00\n",
       "   2.10924039e+00  -1.35829849e+00   1.42844129e+01  -2.30683836e+01\n",
       "  -9.88169059e+00   7.85702392e+00  -2.44986787e+00   6.27863417e+00\n",
       "  -1.93856689e+00  -3.59273469e+01  -1.34760212e+01  -2.57372267e+00\n",
       "   1.69117174e+01   6.44636109e+00  -1.15528987e+00   9.01547016e+00\n",
       "   1.66095729e+01  -1.49972386e+01   5.13945968e+00   4.26077874e-01\n",
       "  -6.82962861e+00   2.86389678e+00   4.73660455e+00  -6.57650050e+00\n",
       "   3.67385697e+00  -3.01186780e+01   1.28026521e+01   1.53127277e+01\n",
       "   3.73479802e+00  -7.05848440e+00   2.40771428e+00  -6.74057241e+00\n",
       "  -3.10219574e+00  -1.10484754e+01   3.29221234e+01   6.28860259e+00\n",
       "   1.14833516e+01   7.22222753e+00  -1.06965400e+01  -5.85144210e+00\n",
       "   1.18351224e+01  -8.05931204e+00   2.13609990e+01  -1.40896442e+00\n",
       "  -1.01611998e+01  -1.51927316e+01   6.10723878e-01   1.14407881e+00\n",
       "  -5.18865297e+00   1.97979386e+00   1.33528184e+01   2.76212335e+01\n",
       "   1.37308247e+01  -3.35819366e+01   5.83985455e+00   9.67417905e+00\n",
       "  -2.49103434e+01  -4.17283795e-01   3.93152126e+01   3.03561683e+00\n",
       "  -7.65258931e+00   2.22620267e+01  -4.90570507e+00   5.45396088e+00\n",
       "  -2.78811594e-01   8.81510728e+00  -2.03787392e+01  -6.42316857e+00\n",
       "  -2.56488987e+01   6.09976671e+00  -7.17899887e+00   6.38671302e+00\n",
       "   2.18629898e+01   1.90727062e+01  -6.04570708e+00  -2.75630721e+01\n",
       "  -1.18189966e+01   2.80208214e+01   1.15008784e+01   1.33508141e+01\n",
       "   2.89608879e+01  -3.29412257e+00  -2.50265742e+01   6.73810974e+00\n",
       "   9.53132074e+00  -1.10244304e+00  -1.60792670e+01  -6.33179047e+00\n",
       "  -2.42874852e+01   3.42500364e+01   2.60945456e+01   1.80389868e+01\n",
       "   4.66603598e+00  -8.58693864e+00   1.30525608e+01  -9.97089514e+00\n",
       "  -4.13521886e+00  -3.54514241e+01  -5.15628424e+00   1.69542919e+00\n",
       "  -1.60828523e+01   1.54520537e+01  -2.73419542e+00  -8.50121792e+00\n",
       "  -1.31278166e+01  -7.53380739e+00  -6.05654398e+00   3.43922209e+00\n",
       "  -6.32052587e+00  -6.00636195e+00  -2.90987109e+01   1.44750014e+01\n",
       "  -7.15402183e+00  -2.90820412e+01   1.24700425e+01  -2.43564329e+01\n",
       "   3.90178648e+00   4.15606734e-01  -3.77650673e+01   5.70256213e+00\n",
       "  -3.67919729e+00   1.66642708e+01   2.76327030e+01   2.86378197e+01\n",
       "  -8.59840541e+00   2.69214108e+00   5.01972418e+00  -1.45997975e+01\n",
       "   1.87887176e+01  -2.36580420e+01   2.68442008e+00   2.52103175e+01\n",
       "   3.50427260e+01  -7.32693139e+00   1.26212760e+01   2.38524038e+01\n",
       "   1.43330677e+01   6.00784177e+00  -8.66632752e+00   1.07902018e+01\n",
       "   7.18468969e+00   1.78466424e+01  -1.13122795e+01   9.52999467e+00\n",
       "   1.48685482e+01  -1.43865051e+01   1.92362628e+01  -1.59246833e+01\n",
       "  -1.66136622e+01  -9.62002987e+00   1.59351708e+01   1.75038726e+00\n",
       "  -1.15106046e+01  -2.67106700e+01  -9.29438073e+00   8.19082264e+00\n",
       "   5.80324505e+00   6.50985010e+00   1.94140058e+00   1.67004165e+01\n",
       "  -3.10228517e+01   4.54539780e+00  -2.34374786e+01   1.68398671e+01\n",
       "   1.55942061e+01  -3.43515595e+01  -7.38492533e+00   2.34000067e+00\n",
       "  -2.33650352e+01   1.22678596e+00  -2.11229105e+01  -2.51032716e+01\n",
       "   8.24197041e+00  -1.27068159e+01  -2.05854542e+01  -2.67273325e+01\n",
       "   1.21424384e+01  -1.74971124e+01   8.86572604e+00  -1.28269505e+01\n",
       "  -1.09566186e+00  -9.50885714e+00   2.14964786e-01  -1.12265974e+01\n",
       "  -8.94380577e+00   5.14316065e+00  -3.39262404e+00   5.62174249e+01\n",
       "   1.31298349e+01   1.36049545e+01   1.82683479e+01   4.08021996e+01\n",
       "  -3.03551410e+00  -1.48583286e+01   3.74170553e-01  -2.44177064e+01\n",
       "   1.17510183e+00  -1.26632242e+01  -6.36108825e+00   1.23655453e+01\n",
       "  -1.24663702e+01   2.77944293e+01  -1.96669173e+00   8.38832677e+00\n",
       "   6.53117075e+00   1.90633660e+01  -2.90153928e+01   3.42948531e+00\n",
       "   1.98415096e+01  -5.40860920e+00   1.56825667e+01   2.61023870e+01\n",
       "   8.08776186e+00  -2.98782599e+00  -2.58263560e+01  -2.38499760e+01\n",
       "   4.90001317e+00   2.23483144e+01  -4.82385756e+00  -2.49927127e+01\n",
       "   7.76298877e+00  -5.62890070e+00   2.22457563e+01  -2.29493123e+01\n",
       "   1.49099749e+01   3.99830424e+00  -1.27498064e+01   3.59018134e+01\n",
       "   1.37274160e+01   1.78600460e+01   2.49069494e+01  -5.68470615e+00\n",
       "  -2.64702288e+01  -1.09421364e+01  -7.49218637e+00  -2.19430235e+00\n",
       "  -5.36127803e+00  -1.43061276e+01  -2.03346928e+01  -1.09555099e+01\n",
       "   3.69109616e+01  -7.05242588e+00  -2.46698049e+01  -1.14474496e+00\n",
       "  -6.51194074e+00  -3.79368947e+01   1.67009458e+01  -1.12780570e+00\n",
       "  -1.34911364e+01   6.05041718e+00   1.22578035e+01   6.08783340e+00\n",
       "  -1.74626028e-01  -5.20263270e-01  -2.36367085e+01  -3.57234353e+01\n",
       "   6.32330182e+00  -1.50382386e+00  -2.32122079e-01   1.15025328e+01\n",
       "   1.77782809e+00  -9.64439800e+00  -2.15820909e+00   2.11704398e+01\n",
       "  -1.63072726e+00   1.48441614e+01   3.66033781e+00  -2.52966477e+01\n",
       "   5.60277644e+00  -7.68266503e+00   1.55671801e+01  -4.48442223e+01\n",
       "   1.60553367e+01   3.28401502e+01  -2.71663654e+01  -1.30665574e+01\n",
       "  -1.32909004e+01   2.02800328e+01  -3.08761916e+00  -7.84981401e+00\n",
       "   9.72580545e+00   1.29059321e+01   2.66442863e+00   3.50048124e+00\n",
       "  -6.57358699e+00   8.84843280e+00   1.55479116e+01  -9.31308105e+00\n",
       "   8.54301483e+00   1.22844903e+01   5.59041841e+00  -1.57096054e+01\n",
       "  -1.76929654e+01  -1.34701910e+01  -1.47675935e+01  -1.01228538e+01\n",
       "  -5.90514462e+00  -3.79263873e+00   1.62058634e+01   1.73731078e+00\n",
       "   2.60520712e+00  -1.82578975e+01  -1.56594024e+01   1.14926117e+01\n",
       "   5.64156626e+00   1.14384450e+01  -1.43785793e+01   5.61261440e+00\n",
       "   7.89852401e+00   6.94246710e+00  -2.84095947e+01  -6.17551151e+00\n",
       "   1.13802111e+01  -4.70084575e+00   2.09419027e+01  -1.50793627e+01\n",
       "   5.90048328e-01  -3.33003929e-01  -1.52770082e+01   4.07997791e+00\n",
       "   1.49606831e+01   1.11192010e+01  -1.19054913e+01   3.23670530e+01\n",
       "  -3.88031382e+00  -1.12811994e+01   2.43011851e+00   1.00905631e+01\n",
       "  -1.47004716e+00  -9.08655044e+00   1.36627256e+01  -7.14023751e+00\n",
       "   9.60216945e-01  -9.92252050e+00   1.13555020e+01   1.62388093e+01\n",
       "   2.48940681e+00  -8.67242693e+00   2.65403899e+01  -9.19552355e+00\n",
       "  -7.33053453e+00   2.05470975e+01  -1.79083824e+01   1.85127738e+01\n",
       "   1.22751736e+01  -8.15453847e+00   4.73670148e+00  -7.26633633e+00\n",
       "   1.55961530e+01   8.92549672e+00  -2.53666294e+01   2.20245819e+00\n",
       "  -3.90858566e+01  -1.78237858e+00  -7.50337884e+00  -3.94239030e+01\n",
       "   1.74633244e+00   1.04591480e+01  -7.58358878e+00  -2.32128953e+01\n",
       "  -6.98650570e+00  -1.42189642e+01  -2.82835166e+01  -5.04310510e+00\n",
       "   1.68691933e+01  -1.19822739e+01  -3.68658729e+00   1.04199360e+01\n",
       "   2.70606275e+00   2.69505880e+00   3.31756465e+00   5.26405615e+00\n",
       "  -1.28103343e+01  -1.29456224e+01   1.44298475e+01  -1.11579225e+01\n",
       "  -1.21057997e+01   1.95580701e+01  -1.95571166e+00   1.00267064e+01\n",
       "   2.57981424e+01   2.59832598e+00   1.10370358e+01  -7.75744929e+00\n",
       "  -2.05586037e+01   9.72806691e-01   4.01142195e+00   2.32227639e+01\n",
       "   3.77912145e+00   6.97479010e+00  -1.71308770e+01  -1.73527789e+01\n",
       "  -8.32328463e+00  -1.40244360e+01   2.93726190e+00   1.02344087e+01\n",
       "  -2.74297345e+00  -3.92033672e+00   3.66158679e-01   3.07076907e+01\n",
       "  -2.66593323e+01   7.09939899e+00   2.76846621e+01  -1.63388331e+00\n",
       "   1.89609864e+01  -1.44475102e+01   1.32607753e+01  -6.44414769e+00\n",
       "  -7.95586353e+00  -8.89572926e+00  -3.64284447e+00  -1.93803494e+01\n",
       "   2.70169763e+00   3.17330272e+01   1.56825953e+01  -5.50717801e-02\n",
       "   1.85702903e+01   2.70244970e+00   1.14748683e+01  -1.36334754e+01\n",
       "   2.85002845e+01  -2.46517607e+01   2.96907810e+00  -9.23466725e+00\n",
       "  -3.77424787e+00  -1.94116899e+01   8.41510153e+00  -1.01797425e+01\n",
       "   3.92745650e+00  -1.52975277e+01  -1.52426798e+01  -2.39419760e+00\n",
       "   1.17292405e+01  -2.62864392e+01   3.06654301e+00  -1.05641932e+01\n",
       "   2.52175033e+00  -1.30343471e+01  -4.03924884e+00   1.75102622e+01\n",
       "  -2.51888356e+01  -6.07432076e+00  -9.26076074e+00  -2.49644180e+01\n",
       "   3.49799813e+00  -6.97857124e+00   2.63803953e+00   1.30735213e+01\n",
       "  -3.45303347e+00   1.22331389e+01   8.95237516e+00   7.55958497e+00\n",
       "  -3.00822528e-02   4.33303365e-01   1.17982692e+01   1.27586856e+01\n",
       "   9.22008892e+00  -1.57982133e+01   1.11972731e+01  -2.33526600e+00\n",
       "  -8.21644424e+00   4.69067653e+00  -3.11789345e+00   1.60794446e+01\n",
       "  -4.98632315e+00   1.71632203e+01   1.38934706e+01   3.41670272e+01\n",
       "   3.84414160e+00   3.55520603e+00  -1.80165700e+00  -1.06915767e+01\n",
       "   8.05754220e+00   6.70247417e+00   2.06730336e+00   9.53775255e+00\n",
       "  -8.22315629e+00  -3.96812717e+00   2.59701231e+01  -1.29964582e+01\n",
       "  -1.70320218e+01   7.16248390e-01  -4.24454334e+00   9.69433442e+00\n",
       "   3.45575164e+00  -1.07485270e+01  -1.12548315e+01   7.37161052e+00\n",
       "   1.46820338e+01   1.96659409e+00   7.52749521e+00   5.39128524e+00\n",
       "   4.79717034e+00  -9.84700421e+00  -1.61325851e+01  -1.72600345e+00\n",
       "  -2.31649746e+01  -2.47843229e+01   9.43116166e+00  -9.94806817e-01\n",
       "  -6.35986879e+00  -1.31249435e+00   3.00476315e+01  -1.55952597e+01\n",
       "   6.74954602e+00   1.76424326e+01   2.27499217e+01   9.82779372e+00\n",
       "   1.71812693e+01   2.10265669e+00  -1.91239699e+01  -1.46635930e+01\n",
       "  -1.35260154e+01   2.75907244e+01   7.50955871e+00  -3.51063013e+00\n",
       "  -1.34173536e+00   2.04684186e+01   1.04431161e+01   1.24582871e+01\n",
       "   3.01318236e+00  -2.22509091e+01   5.06793844e-01  -1.64671879e+01\n",
       "   1.34078453e+01   5.75425186e+00  -1.66719704e+01   1.10779489e+01\n",
       "   3.72922994e+01  -7.76981814e+00  -3.10249078e+01   1.14362734e+01\n",
       "  -2.85660996e+00   4.61617520e+00  -7.51170816e-01  -3.96252760e+00\n",
       "   4.40976076e+00   1.95396874e+01   1.20909400e+01   3.47555690e+00\n",
       "  -9.36890621e+00   1.11173750e+01  -2.18426158e+01   3.03477859e+01\n",
       "   1.60266769e+01   1.13899968e+01   7.80882644e+00  -7.34399094e-01\n",
       "  -5.96427022e+00   2.70636393e+00   1.76999018e-01  -2.47039659e+01\n",
       "   3.42739225e+01  -1.50537412e+01   1.45066722e+01  -7.23298849e+00\n",
       "  -2.27426790e+01   1.27755659e+00   1.23842595e+01   1.05154469e+01\n",
       "   1.79284726e+01  -4.72449421e-01  -1.49283612e+01   6.21728943e+00\n",
       "  -4.47410469e+00  -2.07408733e+00   8.36138480e+00  -2.17025787e+00\n",
       "   1.37426017e+01  -6.79442590e+00  -1.10281037e+01  -3.61339718e+00\n",
       "   1.52988190e+01  -2.59798840e+01  -1.18831075e+00  -2.37246168e+01\n",
       "  -1.71106823e+01  -1.60701028e+01   7.87777872e-01  -1.12055350e+01\n",
       "   1.44790374e+01   5.21670039e+00   6.86328847e+00   2.69892503e+01\n",
       "  -3.98513890e+00  -7.41311308e+00   2.28638562e-01   9.06890123e+00\n",
       "   2.16328326e+01  -3.47768570e+00   1.32980922e+00  -2.99527851e+01\n",
       "   2.99199743e+01   1.45613395e+01   5.51017420e+00  -1.01881411e+01\n",
       "   9.69036626e+00  -1.84184479e+01   6.23118265e+00   1.16941937e+01\n",
       "   3.76897777e+00   6.58353753e+00  -3.66564059e+00   3.83410242e+00]\n",
       "<NDArray 1000 @cpu(0)>"
      ]
     },
     "execution_count": 8,
     "metadata": {},
     "output_type": "execute_result"
    }
   ],
   "source": [
    "estimator.predict(X)"
   ]
  },
  {
   "cell_type": "markdown",
   "metadata": {},
   "source": [
    "### Visualise the learned weights"
   ]
  },
  {
   "cell_type": "code",
   "execution_count": 9,
   "metadata": {},
   "outputs": [
    {
     "data": {
      "text/plain": [
       "<matplotlib.text.Text at 0x7f665d384ef0>"
      ]
     },
     "execution_count": 9,
     "metadata": {},
     "output_type": "execute_result"
    },
    {
     "data": {
      "image/png": "[encoded data removed]",
      "text/plain": [
       "<matplotlib.figure.Figure at 0x7f665d47bda0>"
      ]
     },
     "metadata": {},
     "output_type": "display_data"
    }
   ],
   "source": [
    "fig = plt.figure()\n",
    "ax = fig.add_subplot(1, 1, 1)\n",
    "ax.imshow(T.to_numpy(estimator.weight_tensor_), cmap=plt.cm.OrRd, interpolation='nearest')\n",
    "ax.set_axis_off()\n",
    "ax.set_title('Learned regression weights')"
   ]
  },
  {
   "cell_type": "markdown",
   "metadata": {},
   "source": [
    "Wait! Weren't the learned weights supposed to be a low rank tensor in the Krusakl form!?\n",
    "\n",
    "They are! We simply plot the full tensor corresponding to the learned decomposition. You can access the decomposed form as follows:"
   ]
  },
  {
   "cell_type": "code",
   "execution_count": 10,
   "metadata": {},
   "outputs": [],
   "source": [
    "factors = estimator.kruskal_weight_"
   ]
  },
  {
   "cell_type": "code",
   "execution_count": null,
   "metadata": {},
   "outputs": [],
   "source": []
  },
  {
   "cell_type": "code",
   "execution_count": null,
   "metadata": {},
   "outputs": [],
   "source": []
  },
  {
   "cell_type": "code",
   "execution_count": null,
   "metadata": {},
   "outputs": [],
   "source": [
    "test Complete; Gopal"
   ]
  }
 ],
 "metadata": {
  "kernelspec": {
   "display_name": "Python 3",
   "language": "python",
   "name": "python3"
  },
  "language_info": {
   "codemirror_mode": {
    "name": "ipython",
    "version": 3
   },
   "file_extension": ".py",
   "mimetype": "text/x-python",
   "name": "python",
   "nbconvert_exporter": "python",
   "pygments_lexer": "ipython3",
   "version": "3.6.3"
  }
 },
 "nbformat": 4,
 "nbformat_minor": 2
}
