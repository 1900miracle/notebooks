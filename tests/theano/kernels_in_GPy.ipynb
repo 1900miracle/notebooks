{
 "cells": [
  {
   "cell_type": "markdown",
   "metadata": {},
   "source": [
    "# 08/05/15  Theano day!  "
   ]
  },
  {
   "cell_type": "markdown",
   "metadata": {},
   "source": [
    "## Notes on the theano day organized in the group by James, Zhenwen and Andreas."
   ]
  },
  {
   "cell_type": "markdown",
   "metadata": {},
   "source": [
    "## Written by Alessandra Tosi, Fariba Yusefi and Javier Gonzalez"
   ]
  },
  {
   "cell_type": "code",
   "execution_count": 35,
   "metadata": {},
   "outputs": [],
   "source": [
    "# Import Theano to start! \n",
    "import theano\n",
    "import GPy\n",
    "from theano import tensor as T\n",
    "import numpy as np"
   ]
  },
  {
   "cell_type": "markdown",
   "metadata": {},
   "source": [
    "## 1. Getting started"
   ]
  },
  {
   "cell_type": "code",
   "execution_count": 36,
   "metadata": {},
   "outputs": [],
   "source": [
    "# Create a two dimensioanal array\n",
    "X = T.matrix()"
   ]
  },
  {
   "cell_type": "code",
   "execution_count": 37,
   "metadata": {},
   "outputs": [
    {
     "data": {
      "text/plain": [
       "Sum{acc_dtype=float64}.0"
      ]
     },
     "execution_count": 37,
     "metadata": {},
     "output_type": "execute_result"
    }
   ],
   "source": [
    "# Sum of the elements (even when is empty)\n",
    "f = T.sum(T.square(X))\n",
    "f"
   ]
  },
  {
   "cell_type": "code",
   "execution_count": 38,
   "metadata": {},
   "outputs": [],
   "source": [
    "# Define theano function using f and X\n",
    "my_func = theano.function([X], f) "
   ]
  },
  {
   "cell_type": "code",
   "execution_count": 39,
   "metadata": {},
   "outputs": [
    {
     "data": {
      "text/plain": [
       "array(22.902874531669156)"
      ]
     },
     "execution_count": 39,
     "metadata": {},
     "output_type": "execute_result"
    }
   ],
   "source": [
    "# Generate some values for X and evaluate\n",
    "X_values = np.random.randn(3,4)\n",
    "my_func(X_values) "
   ]
  },
  {
   "cell_type": "code",
   "execution_count": 40,
   "metadata": {},
   "outputs": [],
   "source": [
    "# Define gradients\n",
    "g = theano.grad(f,X)"
   ]
  },
  {
   "cell_type": "code",
   "execution_count": 41,
   "metadata": {},
   "outputs": [],
   "source": [
    "# Compute the derivarives\n",
    "mu_new_func = theano.function([X], [f,g]) "
   ]
  },
  {
   "cell_type": "code",
   "execution_count": 42,
   "metadata": {},
   "outputs": [
    {
     "data": {
      "text/plain": [
       "[array(22.902874531669156),\n",
       " array([[ 2.81705389, -2.96814854, -1.07796816, -3.39275857],\n",
       "        [ 0.83419848,  2.35849711, -3.15123663, -0.99206628],\n",
       "        [-4.00459278,  2.67967031, -3.10533729,  3.48705811]])]"
      ]
     },
     "execution_count": 42,
     "metadata": {},
     "output_type": "execute_result"
    }
   ],
   "source": [
    "# Theano derivatives\n",
    "mu_new_func(X_values)"
   ]
  },
  {
   "cell_type": "code",
   "execution_count": 43,
   "metadata": {},
   "outputs": [
    {
     "data": {
      "text/plain": [
       "array([[ 2.81705389, -2.96814854, -1.07796816, -3.39275857],\n",
       "       [ 0.83419848,  2.35849711, -3.15123663, -0.99206628],\n",
       "       [-4.00459278,  2.67967031, -3.10533729,  3.48705811]])"
      ]
     },
     "execution_count": 43,
     "metadata": {},
     "output_type": "execute_result"
    }
   ],
   "source": [
    "# Exact derivatives\n",
    "X_values*2 "
   ]
  },
  {
   "cell_type": "markdown",
   "metadata": {},
   "source": [
    "## 2. Linear regression"
   ]
  },
  {
   "cell_type": "code",
   "execution_count": 44,
   "metadata": {},
   "outputs": [],
   "source": [
    "# Define the elements of the regression\n",
    "w = T.dvector()\n",
    "Xw = T.dot(X,w)\n",
    "y = T.dvector()\n",
    "error = T.sum(T.square(y-Xw))\n",
    "sigma = T.dscalar()\n",
    "neg_log_lik = 0.5*y.size*np.log(2*np.pi) + 0.5*y.size*T.log(sigma**2) + 0.5*error/sigma**2 "
   ]
  },
  {
   "cell_type": "code",
   "execution_count": 45,
   "metadata": {},
   "outputs": [],
   "source": [
    "# Create objective\n",
    "my_func = theano.function([X, y, sigma, w], [neg_log_lik, theano.grad(neg_log_lik, w), theano.grad(neg_log_lik, sigma)]) "
   ]
  },
  {
   "cell_type": "code",
   "execution_count": 46,
   "metadata": {},
   "outputs": [],
   "source": [
    "# test with data\n",
    "w_true = np.random.randn(2)\n",
    "X_values = np.random.randn(200,2)   \n",
    "y = np.dot(X_values, w_true) + np.random.randn(200)*0.01\n",
    "y_values = np.dot(X_values, w_true) + np.random.randn(200)*0.01"
   ]
  },
  {
   "cell_type": "code",
   "execution_count": 47,
   "metadata": {},
   "outputs": [
    {
     "data": {
      "text/plain": [
       "[array(721107.426408039),\n",
       " array([-578313.94337389,  726818.37581094]),\n",
       " array(-72160604.33024837)]"
      ]
     },
     "execution_count": 47,
     "metadata": {},
     "output_type": "execute_result"
    }
   ],
   "source": [
    "# evaluate likelihood, gradiends with respect to w and gradients with respect to sigma\n",
    "my_func(X_values, y_values , 0.02, np.array([1,1])) "
   ]
  },
  {
   "cell_type": "markdown",
   "metadata": {},
   "source": [
    "## 3. Team work (Alessandra, Fariba and Javier): implementing an RBF kernel in GPy using theano"
   ]
  },
  {
   "cell_type": "code",
   "execution_count": 48,
   "metadata": {},
   "outputs": [],
   "source": [
    "# elements of the kernel\n",
    "X   = T.matrix()\n",
    "Z   = T.matrix()\n",
    "len_scale  = T.dscalar()\n",
    "sigma2  = T.dscalar()"
   ]
  },
  {
   "cell_type": "code",
   "execution_count": 49,
   "metadata": {},
   "outputs": [],
   "source": [
    "# create the RBF kernel\n",
    "r2 = ((X[:,None,:]/len_scale - Z[None,:,:]/len_scale)**2).sum(2)\n",
    "rbf_kernel = sigma2*T.exp(-0.5*r2)"
   ]
  },
  {
   "cell_type": "code",
   "execution_count": 50,
   "metadata": {},
   "outputs": [],
   "source": [
    "# Create the theano functions for r2 and the kernel\n",
    "r2_eval   = theano.function([X,Z,len_scale],[r2])\n",
    "kern_eval = theano.function([X,Z,len_scale,sigma2],[rbf_kernel])"
   ]
  },
  {
   "cell_type": "code",
   "execution_count": 51,
   "metadata": {},
   "outputs": [],
   "source": [
    "# Generate some data to evaluate r2 and the kernel\n",
    "X_val = np.random.randn(4,2)\n",
    "Z_val = np.random.randn(6,2)\n",
    "sigma2_val  = 1\n",
    "len_scale_val = 2"
   ]
  },
  {
   "cell_type": "code",
   "execution_count": 52,
   "metadata": {},
   "outputs": [
    {
     "data": {
      "text/plain": [
       "[array([[ 0.26607691,  1.400719  ,  0.40145121,  1.07639693,  0.78777527,\n",
       "          0.03459216],\n",
       "        [ 2.2029816 ,  4.24934574,  2.49326402,  1.27425374,  3.50697369,\n",
       "          1.41716478],\n",
       "        [ 0.62534619,  0.09477583,  0.74934099,  1.51697373,  0.6041346 ,\n",
       "          0.52550111],\n",
       "        [ 1.95494282,  0.28702501,  2.2415506 ,  0.96016477,  2.11878424,\n",
       "          1.39233886]])]"
      ]
     },
     "execution_count": 52,
     "metadata": {},
     "output_type": "execute_result"
    }
   ],
   "source": [
    "# Distances evaluation!!! Order of the arguments should match\n",
    "r2_eval(X_val,Z_val,len_scale_val)"
   ]
  },
  {
   "cell_type": "code",
   "execution_count": 53,
   "metadata": {},
   "outputs": [
    {
     "data": {
      "text/plain": [
       "[array([[ 0.87543143,  0.49640681,  0.81813689,  0.58379904,  0.67442983,\n",
       "          0.98285264],\n",
       "        [ 0.33237521,  0.11947204,  0.28747137,  0.52880958,  0.17316908,\n",
       "          0.49234165],\n",
       "        [ 0.731489  ,  0.95371737,  0.68751578,  0.46837461,  0.73928831,\n",
       "          0.76893368],\n",
       "        [ 0.37626131,  0.86630997,  0.32602693,  0.61873242,  0.34666648,\n",
       "          0.49849116]])]"
      ]
     },
     "execution_count": 53,
     "metadata": {},
     "output_type": "execute_result"
    }
   ],
   "source": [
    "# Kernel evaluation\n",
    "kern_eval(X_val,Z_val,len_scale_val,sigma2_val)"
   ]
  },
  {
   "cell_type": "code",
   "execution_count": 54,
   "metadata": {},
   "outputs": [],
   "source": [
    "# We check that it matches with the same GPy kernel"
   ]
  },
  {
   "cell_type": "code",
   "execution_count": 55,
   "metadata": {},
   "outputs": [],
   "source": [
    "kernelGPy = GPy.kern.RBF(2, variance = sigma2_val, lengthscale=len_scale_val)"
   ]
  },
  {
   "cell_type": "code",
   "execution_count": 56,
   "metadata": {},
   "outputs": [
    {
     "data": {
      "text/plain": [
       "array([[ 0.87543143,  0.49640681,  0.81813689,  0.58379904,  0.67442983,\n",
       "         0.98285264],\n",
       "       [ 0.33237521,  0.11947204,  0.28747137,  0.52880958,  0.17316908,\n",
       "         0.49234165],\n",
       "       [ 0.731489  ,  0.95371737,  0.68751578,  0.46837461,  0.73928831,\n",
       "         0.76893368],\n",
       "       [ 0.37626131,  0.86630997,  0.32602693,  0.61873242,  0.34666648,\n",
       "         0.49849116]])"
      ]
     },
     "execution_count": 56,
     "metadata": {},
     "output_type": "execute_result"
    }
   ],
   "source": [
    "kernelGPy.K(X_val,Z_val)"
   ]
  },
  {
   "cell_type": "markdown",
   "metadata": {},
   "source": [
    "So, it works!"
   ]
  },
  {
   "cell_type": "code",
   "execution_count": 57,
   "metadata": {},
   "outputs": [],
   "source": [
    "# We calculate the derivatives of our kernel with respect to sigma2\n",
    "dL_dK = T.matrix()\n",
    "h =  T.sum(dL_dK * rbf_kernel) "
   ]
  },
  {
   "cell_type": "code",
   "execution_count": 58,
   "metadata": {},
   "outputs": [],
   "source": [
    "# Define gradients with respect to sigma2\n",
    "grads_wrt_sigma2 = theano.grad(h,sigma2)\n",
    "grads_wrt_sigma2_eval = theano.function([X,Z,len_scale,sigma2,dL_dK],grads_wrt_sigma2)"
   ]
  },
  {
   "cell_type": "code",
   "execution_count": 59,
   "metadata": {},
   "outputs": [],
   "source": [
    "# Define gradients with respect to the lengthscale\n",
    "grads_wrt_lengthscale = theano.grad(h,len_scale)\n",
    "grads_wrt_lengthscale_eval = theano.function([X,Z,len_scale,sigma2,dL_dK],grads_wrt_lengthscale)"
   ]
  },
  {
   "cell_type": "code",
   "execution_count": 60,
   "metadata": {},
   "outputs": [],
   "source": [
    "# Define gradients with respect to X\n",
    "grads_wrt_X= theano.grad(h,X)\n",
    "grads_wrt_X_eval = theano.function([X,Z,len_scale,sigma2,dL_dK],grads_wrt_X)"
   ]
  },
  {
   "cell_type": "code",
   "execution_count": 61,
   "metadata": {},
   "outputs": [],
   "source": [
    "# All gradients together\n",
    "grads_all_eval = theano.function([X,Z,len_scale,sigma2,dL_dK], [grads_wrt_sigma2, grads_wrt_lengthscale, grads_wrt_X])"
   ]
  },
  {
   "cell_type": "code",
   "execution_count": 62,
   "metadata": {},
   "outputs": [],
   "source": [
    "# We test the result in a simple GPy model\n",
    "import GPy\n",
    "from matplotlib import pyplot as plt"
   ]
  },
  {
   "cell_type": "code",
   "execution_count": 63,
   "metadata": {},
   "outputs": [],
   "source": [
    "# Some data\n",
    "x = np.linspace(-np.pi, np.pi, 201)[:,None]\n",
    "y = np.sin(x) + np.random.rand(201)[:,None]"
   ]
  },
  {
   "cell_type": "code",
   "execution_count": 64,
   "metadata": {},
   "outputs": [
    {
     "name": "stdout",
     "output_type": "stream",
     "text": [
      "Populating the interactive namespace from numpy and matplotlib\n"
     ]
    },
    {
     "data": {
      "text/plain": [
       "<matplotlib.axes._subplots.AxesSubplot at 0x7f811330b190>"
      ]
     },
     "execution_count": 64,
     "metadata": {},
     "output_type": "execute_result"
    },
    {
     "data": {
      "image/png": "[encoded data removed]",
      "text/plain": [
       "<matplotlib.figure.Figure at 0x7f8113bcc190>"
      ]
     },
     "metadata": {},
     "output_type": "display_data"
    }
   ],
   "source": [
    "# plot the model\n",
    "%pylab inline\n",
    "model = GPy.models.GPRegression(x,y)\n",
    "model.optimize()\n",
    "model.plot()"
   ]
  },
  {
   "cell_type": "code",
   "execution_count": 65,
   "metadata": {},
   "outputs": [],
   "source": [
    "## Class of kernels for GPy using theano (that uses our grads_all_eval)\n",
    "\n",
    "class TheanoKern(GPy.kern.Kern):\n",
    "    def __init__(self, input_dim, variance=1., lengthscale=1.):\n",
    "        GPy.kern.Kern.__init__(self, input_dim, active_dims=None, name='theanokern')\n",
    "        self.var = GPy.core.Param('variance', variance)\n",
    "        self.ls = GPy.core.Param('lengthscale', lengthscale)\n",
    "        self.link_parameters(self.var, self.ls)\n",
    "        # Add here a function which initializes all the theano symbolic functions\n",
    "        \n",
    "    def K(self, X, X2=None):\n",
    "        if X2 is None:\n",
    "            X2 = X\n",
    "        return kern_eval(X, X2, self.ls[0], self.var[0])[0]\n",
    "    \n",
    "    def Kdiag(self, X):\n",
    "        return np.diag(self.K(X))\n",
    "    \n",
    "    def update_gradients_full(self, dL_dK, X, X2=None):\n",
    "        if X2 is None:\n",
    "            X2 = X\n",
    "        dvar, dl, dX = grads_all_eval(X, X2, self.ls[0], self.var[0], dL_dK)\n",
    "        self.var.gradient = dvar\n",
    "        self.ls.gradient = dl \n",
    "    \n",
    "    def gradients_X(self, dL_dK, X, X2=None):\n",
    "        if X2 is None:\n",
    "            X2 = X\n",
    "        return grads_wrt_X_eval(X, X2, self.ls[0], self.var[0], dL_dK)\n",
    "    \n",
    "    def update_gradients_diag(self, dL_dKdiag, X):\n",
    "        pass"
   ]
  },
  {
   "cell_type": "code",
   "execution_count": 66,
   "metadata": {},
   "outputs": [
    {
     "data": {
      "text/plain": [
       "array([[  1.00000000e+00,   1.31316871e-01,   2.03090398e-01,\n",
       "          3.73345538e-02],\n",
       "       [  1.31316871e-01,   1.00000000e+00,   1.35581648e-03,\n",
       "          5.27182798e-04],\n",
       "       [  2.03090398e-01,   1.35581648e-03,   1.00000000e+00,\n",
       "          3.94633570e-01],\n",
       "       [  3.73345538e-02,   5.27182798e-04,   3.94633570e-01,\n",
       "          1.00000000e+00]])"
      ]
     },
     "execution_count": 66,
     "metadata": {},
     "output_type": "execute_result"
    }
   ],
   "source": [
    "# Create our theano kernel\n",
    "k = TheanoKern(2)\n",
    "k.K(X_val)"
   ]
  },
  {
   "cell_type": "code",
   "execution_count": 67,
   "metadata": {},
   "outputs": [],
   "source": [
    "# model\n",
    "m = GPy.models.GPRegression(x, y, kernel=TheanoKern(1))"
   ]
  },
  {
   "cell_type": "code",
   "execution_count": 68,
   "metadata": {},
   "outputs": [
    {
     "name": "stdout",
     "output_type": "stream",
     "text": [
      "                   Name                   |     Ratio     |  Difference   |  Analytical   |   Numerical   |   dF_ratio    \n",
      "--------------------------------------------------------------------------------------------------------------------------\n",
      "\u001b[92m GP_regression.theanokern.variance \u001b[0m       |   1.000000    |   0.000000    |   1.896706    |   1.896706    |     2e-08     \n",
      "\u001b[92m GP_regression.theanokern.lengthscale \u001b[0m    |   1.000000    |   0.000000    |   -5.834963   |   -5.834963   |     6e-08     \n",
      "\u001b[92m GP_regression.Gaussian_noise.variance \u001b[0m   |   1.000000    |   0.000000    |   56.521148   |   56.521148   |     6e-07     \n"
     ]
    },
    {
     "data": {
      "text/plain": [
       "True"
      ]
     },
     "execution_count": 68,
     "metadata": {},
     "output_type": "execute_result"
    }
   ],
   "source": [
    "# Ckeck with the gradients\n",
    "m.checkgrad(1)"
   ]
  },
  {
   "cell_type": "markdown",
   "metadata": {},
   "source": [
    "Done! :)"
   ]
  },
  {
   "cell_type": "code",
   "execution_count": null,
   "metadata": {},
   "outputs": [],
   "source": []
  },
  {
   "cell_type": "code",
   "execution_count": null,
   "metadata": {},
   "outputs": [],
   "source": []
  },
  {
   "cell_type": "code",
   "execution_count": null,
   "metadata": {},
   "outputs": [],
   "source": []
  }
 ],
 "metadata": {
  "kernelspec": {
   "display_name": "Python 2",
   "language": "python",
   "name": "python2"
  },
  "language_info": {
   "codemirror_mode": {
    "name": "ipython",
    "version": 2
   },
   "file_extension": ".py",
   "mimetype": "text/x-python",
   "name": "python",
   "nbconvert_exporter": "python",
   "pygments_lexer": "ipython2",
   "version": "2.7.14"
  }
 },
 "nbformat": 4,
 "nbformat_minor": 2
}
